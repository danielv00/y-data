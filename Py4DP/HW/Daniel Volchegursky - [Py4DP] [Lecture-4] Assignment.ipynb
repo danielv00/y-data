{
 "cells": [
  {
   "cell_type": "markdown",
   "metadata": {},
   "source": [
    "# Notes\n",
    "\n",
    "This assignment is devoted to `pandas`. It covers indexing and filtering, and some `groupby` and `join` operations. The assignment roughly corresponds to Week 4 and the beginning of Week 5 of the course.\n",
    "\n",
    "The main dataset you'll be using is [Titanic](https://www.kaggle.com/c/titanic). Please, note, that you must not rely on any specific location for the dataset, hence, any code like\n",
    "\n",
    "```python\n",
    "titanic_train = pd.read_csv(\"<location>/train.csv\")\n",
    "```\n",
    "\n",
    "will fail and your notebook won't be validated and graded. Inputs to the functions are described explicitly in each case, and that's the only thing you can rely on."
   ]
  },
  {
   "cell_type": "code",
   "execution_count": 1,
   "metadata": {
    "ExecuteTime": {
     "end_time": "2019-12-12T07:42:25.600794Z",
     "start_time": "2019-12-12T07:42:25.049149Z"
    },
    "scrolled": true
   },
   "outputs": [
    {
     "name": "stdout",
     "output_type": "stream",
     "text": [
      "Populating the interactive namespace from numpy and matplotlib\n"
     ]
    }
   ],
   "source": [
    "%pylab inline\n",
    "plt.style.use(\"bmh\")"
   ]
  },
  {
   "cell_type": "code",
   "execution_count": 2,
   "metadata": {
    "ExecuteTime": {
     "end_time": "2019-12-12T07:42:25.610011Z",
     "start_time": "2019-12-12T07:42:25.605263Z"
    }
   },
   "outputs": [],
   "source": [
    "plt.rcParams[\"figure.figsize\"] = (6,6)"
   ]
  },
  {
   "cell_type": "code",
   "execution_count": 3,
   "metadata": {
    "ExecuteTime": {
     "end_time": "2019-12-12T07:42:26.294404Z",
     "start_time": "2019-12-12T07:42:25.864539Z"
    },
    "scrolled": true
   },
   "outputs": [],
   "source": [
    "import numpy as np\n",
    "import pandas as pd"
   ]
  },
  {
   "cell_type": "code",
   "execution_count": 4,
   "metadata": {
    "ExecuteTime": {
     "end_time": "2019-12-12T07:42:27.329433Z",
     "start_time": "2019-12-12T07:42:27.323905Z"
    },
    "tags": [
     "parameters"
    ]
   },
   "outputs": [],
   "source": [
    "STUDENT = \"Daniel Voclhegursky\"\n",
    "ASSIGNMENT = 4\n",
    "TEST = False"
   ]
  },
  {
   "cell_type": "code",
   "execution_count": 5,
   "metadata": {
    "ExecuteTime": {
     "end_time": "2019-12-12T07:42:27.767876Z",
     "start_time": "2019-12-12T07:42:27.757195Z"
    }
   },
   "outputs": [],
   "source": [
    "if TEST:\n",
    "    import solutions\n",
    "    total_grade = 0\n",
    "    MAX_POINTS = 16"
   ]
  },
  {
   "cell_type": "markdown",
   "metadata": {},
   "source": [
    "# Indexing and filtering"
   ]
  },
  {
   "cell_type": "markdown",
   "metadata": {},
   "source": [
    "### 1. Fixing age (1 point).\n",
    "\n",
    "There are several known mistakes in the Titanic dataset.\n",
    "\n",
    "Namely, [Julia Florence Siegel](https://www.encyclopedia-titanica.org/titanic-survivor/julia-florence-cavendish.html) (Mrs. Tyrell William Cavendish) is mistakenly marked as being 76 years old (the age she actually died, but many years after Titanic).\n",
    "\n",
    "You must **replace the corresponding age value in the dataframe with her actual age at the time** (25) and return the dataset. Input is **indexed** with `PassengerId` and is a **concatenation of train and test sets**. You must return a copy of the input dataframe, and not perform replacement in the original dataframe. Structure and indexing must be the same as in input."
   ]
  },
  {
   "cell_type": "code",
   "execution_count": 67,
   "metadata": {
    "ExecuteTime": {
     "end_time": "2019-12-12T07:45:36.685351Z",
     "start_time": "2019-12-12T07:45:36.675825Z"
    }
   },
   "outputs": [],
   "source": [
    "def fix_age(df):\n",
    "    \"\"\"Fix age for Julia Florence Siegel.\"\"\"\n",
    "    result = df.copy()\n",
    "    result.loc[result['Name'].str.contains('Julia Florence Siegel', na = False), 'Age'] = 25\n",
    "    return result"
   ]
  },
  {
   "cell_type": "code",
   "execution_count": 71,
   "metadata": {},
   "outputs": [
    {
     "name": "stdout",
     "output_type": "stream",
     "text": [
      "Age= PassengerId\n",
      "988    76.0\n",
      "Name: Age, dtype: float64\n",
      "Fixed Age= PassengerId\n",
      "988    25.0\n",
      "Name: Age, dtype: float64\n"
     ]
    }
   ],
   "source": [
    "if not TEST:\n",
    "    url_test='https://raw.githubusercontent.com/dsindy/kaggle-titanic/master/data/test.csv'\n",
    "    url_train='https://raw.githubusercontent.com/dsindy/kaggle-titanic/master/data/train.csv'\n",
    "    titanic_train = pd.read_csv(url_train, index_col=\"PassengerId\")\n",
    "    titanic_test = pd.read_csv(url_test, index_col=\"PassengerId\")\n",
    "#     titanic_train = pd.read_csv(\"train.csv\", index_col=\"PassengerId\")\n",
    "#     titanic_test = pd.read_csv(\"test.csv\", index_col=\"PassengerId\")\n",
    "    titanic = pd.concat([titanic_train, titanic_test], sort=False)\n",
    "    result=fix_age(titanic)\n",
    "    print(\"Age=\", titanic[titanic['Name'].str.contains('Julia Florence Siegel', na = False)][\"Age\"])\n",
    "    print(\"Fixed Age=\", result[result['Name'].str.contains('Julia Florence Siegel', na = False)][\"Age\"])"
   ]
  },
  {
   "cell_type": "code",
   "execution_count": 70,
   "metadata": {},
   "outputs": [],
   "source": [
    "# titanic.head(1)\n",
    "# result\n",
    "# titanic['Name']\n",
    "# titanic[titanic['Name'].str.contains('Julia Florence Siegel', na = False)]\n"
   ]
  },
  {
   "cell_type": "code",
   "execution_count": 9,
   "metadata": {},
   "outputs": [],
   "source": [
    "PROBLEM_ID = 1\n",
    "\n",
    "if TEST:\n",
    "    total_grade += solutions.check(STUDENT, PROBLEM_ID, fix_age)"
   ]
  },
  {
   "cell_type": "markdown",
   "metadata": {},
   "source": [
    "### 2. Embarkment port distribution (1 point).\n",
    "\n",
    "You must find the value counts for embarkment port (`Embarked` column) for the passengers, who travelled in 3-d class, were male and between 20 and 30 years old (both inclusive). No need to treat missing values separately.\n",
    "\n",
    "Input is **indexed** with `PassengerId` and is a **concatenation of train and test sets**. You must return **series**, indexed with values from `Embarked`, according to `.value_counts()` method semantics:\n",
    "\n",
    "```\n",
    "S    <number of passengers in 3-d class, embarked at S, 20<=Age<=30>\n",
    "C    <...>\n",
    "Q    <...>\n",
    "Name: Embarked, dtype: int64\n",
    "```"
   ]
  },
  {
   "cell_type": "code",
   "execution_count": 74,
   "metadata": {
    "ExecuteTime": {
     "end_time": "2019-12-12T08:09:19.622389Z",
     "start_time": "2019-12-12T08:09:19.617595Z"
    }
   },
   "outputs": [],
   "source": [
    "def embarked_stats(df):\n",
    "    \"\"\"Calculate embarkment port statistics.\"\"\"\n",
    "    result = df.copy()\n",
    "    result = result[(result['Pclass']==3) & (result['Age']>=20) & (result['Age']<=30) & (result['Sex']=='male')]\n",
    "    result = result['Embarked'].value_counts()\n",
    "    return result"
   ]
  },
  {
   "cell_type": "code",
   "execution_count": 75,
   "metadata": {},
   "outputs": [
    {
     "name": "stdout",
     "output_type": "stream",
     "text": [
      "result= S    132\n",
      "C     21\n",
      "Q      7\n",
      "Name: Embarked, dtype: int64\n"
     ]
    }
   ],
   "source": [
    "if not TEST:\n",
    "    url_test='https://raw.githubusercontent.com/dsindy/kaggle-titanic/master/data/test.csv'\n",
    "    url_train='https://raw.githubusercontent.com/dsindy/kaggle-titanic/master/data/train.csv'\n",
    "    titanic_train = pd.read_csv(url_train, index_col=\"PassengerId\")\n",
    "    titanic_test = pd.read_csv(url_test, index_col=\"PassengerId\")\n",
    "#     titanic_train = pd.read_csv(\"train.csv\", index_col=\"PassengerId\")\n",
    "#     titanic_test = pd.read_csv(\"test.csv\", index_col=\"PassengerId\")\n",
    "    titanic = pd.concat([titanic_train, titanic_test], sort=False)\n",
    "    result=embarked_stats(titanic)\n",
    "    print(\"result=\", result)"
   ]
  },
  {
   "cell_type": "code",
   "execution_count": 12,
   "metadata": {
    "ExecuteTime": {
     "end_time": "2019-11-13T23:25:50.106449Z",
     "start_time": "2019-11-13T23:25:50.095086Z"
    }
   },
   "outputs": [],
   "source": [
    "PROBLEM_ID = 2\n",
    "\n",
    "if TEST:\n",
    "    total_grade += solutions.check(STUDENT, PROBLEM_ID, embarked_stats)"
   ]
  },
  {
   "cell_type": "markdown",
   "metadata": {},
   "source": [
    "### 3. Fill missing age values (1 point).\n",
    "\n",
    "Some age values are missing in the Titanic dataset. You need to calculate average age over all passengers, and fill missing age values in `Age` column.\n",
    "\n",
    "Input is **indexed** with `PassengerId` and is a **concatenation of train and test sets**. Output must be a **new** dataframe with the same structure, but without missing values in `Age` column."
   ]
  },
  {
   "cell_type": "code",
   "execution_count": 76,
   "metadata": {
    "ExecuteTime": {
     "end_time": "2019-11-25T08:26:56.688466Z",
     "start_time": "2019-11-25T08:26:56.684610Z"
    }
   },
   "outputs": [],
   "source": [
    "def fix_age(df):\n",
    "    \"\"\"Fix missing age values.\"\"\"\n",
    "    result = df.copy()\n",
    "    mean_age = result[\"Age\"].mean()\n",
    "    result.loc[result['Age'].isnull(), 'Age'] = mean_age\n",
    "    return result"
   ]
  },
  {
   "cell_type": "code",
   "execution_count": 77,
   "metadata": {},
   "outputs": [
    {
     "name": "stdout",
     "output_type": "stream",
     "text": [
      "numOfRowsBeforeFixWithNan= 263\n",
      "mean AGE = 29.881137667304014\n",
      "numOfRowsAfterFixWithNan= 0\n",
      "mean AGE after fix = 29.881137667304014\n"
     ]
    }
   ],
   "source": [
    "if not TEST:\n",
    "    url_test='https://raw.githubusercontent.com/dsindy/kaggle-titanic/master/data/test.csv'\n",
    "    url_train='https://raw.githubusercontent.com/dsindy/kaggle-titanic/master/data/train.csv'\n",
    "    titanic_train = pd.read_csv(url_train, index_col=\"PassengerId\")\n",
    "    titanic_test = pd.read_csv(url_test, index_col=\"PassengerId\")\n",
    "#     titanic_train = pd.read_csv(\"train.csv\", index_col=\"PassengerId\")\n",
    "#     titanic_test = pd.read_csv(\"test.csv\", index_col=\"PassengerId\")\n",
    "    titanic = pd.concat([titanic_train, titanic_test], sort=False)\n",
    "    print('numOfRowsBeforeFixWithNan=',len(titanic[titanic['Age'].isnull()].index))\n",
    "    print('mean AGE =', titanic[\"Age\"].mean())\n",
    "    result = fix_age(titanic)\n",
    "    print('numOfRowsAfterFixWithNan=',len(result[result['Age'].isnull()].index))\n",
    "    print('mean AGE after fix =', result[\"Age\"].mean())"
   ]
  },
  {
   "cell_type": "code",
   "execution_count": 15,
   "metadata": {
    "ExecuteTime": {
     "end_time": "2019-11-25T10:03:45.213116Z",
     "start_time": "2019-11-25T10:03:45.199909Z"
    }
   },
   "outputs": [],
   "source": [
    "PROBLEM_ID = 3\n",
    "\n",
    "if TEST:\n",
    "    total_grade += solutions.check(STUDENT, PROBLEM_ID, fix_age)"
   ]
  },
  {
   "cell_type": "markdown",
   "metadata": {},
   "source": [
    "### 4. Child travelling alone (1 point).\n",
    "\n",
    "You must find a child (`Age<10`) on-board, who was travelling without siblings or parents and find a name of her nursemaid.\n",
    "\n",
    "Input is **indexed** with `PassengerId` and is a **concatenation of train and test sets**. Output must be a **tuple** of two strings, collected from `Name` column, with one being child's name and second being nursemaid's name. It's known, that there's **only one child** like this."
   ]
  },
  {
   "cell_type": "code",
   "execution_count": 78,
   "metadata": {
    "ExecuteTime": {
     "end_time": "2019-11-13T23:15:11.348224Z",
     "start_time": "2019-11-13T23:15:11.334569Z"
    }
   },
   "outputs": [],
   "source": [
    "def get_nursemaid(df):\n",
    "    child = df[(df['Age']<10) & (df['Parch'] == 0) & (df['SibSp'] == 0)]\n",
    "    ticket = child.iloc[0].Ticket\n",
    "    pair=df[(df.Ticket== ticket)].sort_values(by=['Age'])\n",
    "    names = pair.Name\n",
    "    result = (names.values[0],names.values[1])\n",
    "    return result"
   ]
  },
  {
   "cell_type": "code",
   "execution_count": 79,
   "metadata": {},
   "outputs": [
    {
     "name": "stdout",
     "output_type": "stream",
     "text": [
      "type(result)= <class 'tuple'>\n",
      "result = ('Emanuel, Miss. Virginia Ethel', 'Dowdell, Miss. Elizabeth')\n"
     ]
    }
   ],
   "source": [
    "if not TEST:\n",
    "    url_test='https://raw.githubusercontent.com/dsindy/kaggle-titanic/master/data/test.csv'\n",
    "    url_train='https://raw.githubusercontent.com/dsindy/kaggle-titanic/master/data/train.csv'\n",
    "    titanic_train = pd.read_csv(url_train, index_col=\"PassengerId\")\n",
    "    titanic_test = pd.read_csv(url_test, index_col=\"PassengerId\")\n",
    "#     titanic_train = pd.read_csv(\"train.csv\", index_col=\"PassengerId\")\n",
    "#     titanic_test = pd.read_csv(\"test.csv\", index_col=\"PassengerId\")\n",
    "    titanic = pd.concat([titanic_train, titanic_test], sort=False)\n",
    "    result = get_nursemaid(titanic)\n",
    "    print('type(result)=',type(result))\n",
    "    print('result =', result)"
   ]
  },
  {
   "cell_type": "code",
   "execution_count": 18,
   "metadata": {
    "ExecuteTime": {
     "end_time": "2019-11-13T23:25:50.106449Z",
     "start_time": "2019-11-13T23:25:50.095086Z"
    }
   },
   "outputs": [],
   "source": [
    "PROBLEM_ID = 4\n",
    "\n",
    "if TEST:\n",
    "    total_grade += solutions.check(STUDENT, PROBLEM_ID, get_nursemaid)"
   ]
  },
  {
   "cell_type": "markdown",
   "metadata": {},
   "source": [
    "### 5. Port with the most children embarked (1 point).\n",
    "\n",
    "You must find, which port had the largest percentage of children (`Age<10`) embarked, i.e. number of children divided by total number of passengers embarked.\n",
    "\n",
    "Input is **indexed** with `PassengerId` and is a **concatenation of train and test sets**. Output must be a **single string** with port letter."
   ]
  },
  {
   "cell_type": "code",
   "execution_count": 80,
   "metadata": {
    "ExecuteTime": {
     "end_time": "2019-11-25T08:26:56.688466Z",
     "start_time": "2019-11-25T08:26:56.684610Z"
    }
   },
   "outputs": [],
   "source": [
    "def get_port(df):\n",
    "    \"\"\"Get port with the most children embarked.\"\"\"\n",
    "#     port = (df[(df['Age']<10)]['Embarked'].value_counts()/(df['Embarked'].value_counts())).sort_values(ascending=False).index.tolist()[0]\n",
    "    port = (df[(df['Age']<10)]['Embarked'].value_counts()/(df['Embarked'].value_counts())).idxmax()\n",
    "    return port"
   ]
  },
  {
   "cell_type": "code",
   "execution_count": 81,
   "metadata": {},
   "outputs": [
    {
     "name": "stdout",
     "output_type": "stream",
     "text": [
      "port = S\n"
     ]
    }
   ],
   "source": [
    "if not TEST:\n",
    "    url_test='https://raw.githubusercontent.com/dsindy/kaggle-titanic/master/data/test.csv'\n",
    "    url_train='https://raw.githubusercontent.com/dsindy/kaggle-titanic/master/data/train.csv'\n",
    "    titanic_train = pd.read_csv(url_train, index_col=\"PassengerId\")\n",
    "    titanic_test = pd.read_csv(url_test, index_col=\"PassengerId\")\n",
    "#     titanic_train = pd.read_csv(\"train.csv\", index_col=\"PassengerId\")\n",
    "#     titanic_test = pd.read_csv(\"test.csv\", index_col=\"PassengerId\")\n",
    "    titanic = pd.concat([titanic_train, titanic_test], sort=False)\n",
    "    result = get_port(titanic)\n",
    "    print('port =', result)"
   ]
  },
  {
   "cell_type": "code",
   "execution_count": 25,
   "metadata": {
    "ExecuteTime": {
     "end_time": "2019-11-25T08:27:11.838257Z",
     "start_time": "2019-11-25T08:27:11.720830Z"
    }
   },
   "outputs": [],
   "source": [
    "PROBLEM_ID = 5\n",
    "\n",
    "if TEST:\n",
    "    total_grade += solutions.check(STUDENT, PROBLEM_ID, get_port)"
   ]
  },
  {
   "cell_type": "markdown",
   "metadata": {},
   "source": [
    "### 6. Passengers per ticket (2 points).\n",
    "\n",
    "Calculate average and maximum number of passengers per ticket.\n",
    "\n",
    "Input is **indexed** with `PassengerId` and is a **concatenation of train and test sets**. Output must be a **tuple** of two values - average and maximum number of passengers per ticket."
   ]
  },
  {
   "cell_type": "code",
   "execution_count": 82,
   "metadata": {},
   "outputs": [],
   "source": [
    "def get_ticket_stats(df):\n",
    "    \"\"\"Calculate passenger per ticket statistics.\"\"\"\n",
    "    result = tuple(df['Ticket'].value_counts().describe()[['mean','max']])\n",
    "    return result"
   ]
  },
  {
   "cell_type": "code",
   "execution_count": 83,
   "metadata": {},
   "outputs": [
    {
     "name": "stdout",
     "output_type": "stream",
     "text": [
      "data:= mean     1.409042\n",
      "max     11.000000\n",
      "Name: Ticket, dtype: float64\n",
      "result= (1.4090419806243273, 11.0)\n"
     ]
    }
   ],
   "source": [
    "if not TEST:\n",
    "    url_test='https://raw.githubusercontent.com/dsindy/kaggle-titanic/master/data/test.csv'\n",
    "    url_train='https://raw.githubusercontent.com/dsindy/kaggle-titanic/master/data/train.csv'\n",
    "    titanic_train = pd.read_csv(url_train, index_col=\"PassengerId\")\n",
    "    titanic_test = pd.read_csv(url_test, index_col=\"PassengerId\")\n",
    "#     titanic_train = pd.read_csv(\"train.csv\", index_col=\"PassengerId\")\n",
    "#     titanic_test = pd.read_csv(\"test.csv\", index_col=\"PassengerId\")\n",
    "    titanic = pd.concat([titanic_train, titanic_test], sort=False)\n",
    "    print('data:=',titanic['Ticket'].value_counts().describe()[['mean','max']])\n",
    "    result = get_ticket_stats(titanic)\n",
    "    print('result=', result)"
   ]
  },
  {
   "cell_type": "code",
   "execution_count": null,
   "metadata": {
    "ExecuteTime": {
     "end_time": "2019-11-25T08:27:11.838257Z",
     "start_time": "2019-11-25T08:27:11.720830Z"
    }
   },
   "outputs": [],
   "source": [
    "PROBLEM_ID = 6\n",
    "\n",
    "if TEST:\n",
    "    total_grade += solutions.check(STUDENT, PROBLEM_ID, get_ticket_stats)"
   ]
  },
  {
   "cell_type": "markdown",
   "metadata": {},
   "source": [
    "### 7. Fare per passenger (3 points).\n",
    "\n",
    "For each individual ticket, you must calculate **fare per person for that ticket**, and then calculate averages for each class. Note, that you will need to apply `groupby` and you may consider using `.first()` of resulting `DataFrameGroupBy`. Also, caferully consider, in which order calculations are performed.\n",
    "\n",
    "Input is **indexed** with `PassengerId` and is a **concatenation of train and test sets**. Output must be `pd.Series` with three elements, indexed by class:\n",
    "\n",
    "```\n",
    "1    <average per person fare in class 1>\n",
    "2    <...>\n",
    "3    <...>\n",
    "Name: Pclass, dtype: float64\n",
    "```"
   ]
  },
  {
   "cell_type": "code",
   "execution_count": 84,
   "metadata": {
    "ExecuteTime": {
     "end_time": "2019-11-25T08:26:56.688466Z",
     "start_time": "2019-11-25T08:26:56.684610Z"
    }
   },
   "outputs": [],
   "source": [
    "def get_fare_per_pass(df):\n",
    "    \"\"\"Calculate fare per passenger for different classes.\"\"\"\n",
    "    ticket_price_per_person=df.groupby(\"Ticket\")[\"Fare\"].mean() / df.groupby(\"Ticket\").size()\n",
    "    prices=titanic[[\"Pclass\",\"Ticket\"]].merge(ticket_price_per_person.to_frame(\"Price\"), on=\"Ticket\")\n",
    "    result = prices.groupby(['Pclass']).Price.mean()\n",
    "    return result\n",
    "#     df_ = df.copy()\n",
    "#     per_ticket = df[\"Ticket\"].value_counts().to_dict()\n",
    "#     df_[\"n_pass_per_ticket\"] = df[\"Ticket\"].map(per_ticket)\n",
    "#     df_[\"Fare\"] = df[\"Fare\"] / df_[\"n_pass_per_ticket\"]\n",
    "#     return df_.groupby(\"Pclass\").mean()[\"Fare\"]"
   ]
  },
  {
   "cell_type": "code",
   "execution_count": 85,
   "metadata": {},
   "outputs": [
    {
     "name": "stdout",
     "output_type": "stream",
     "text": [
      "get_fare_per_pass(titanic)= Pclass\n",
      "1    33.910500\n",
      "2    11.411010\n",
      "3     7.329146\n",
      "Name: Price, dtype: float64\n"
     ]
    }
   ],
   "source": [
    "if not TEST:\n",
    "    url_test='https://raw.githubusercontent.com/dsindy/kaggle-titanic/master/data/test.csv'\n",
    "    url_train='https://raw.githubusercontent.com/dsindy/kaggle-titanic/master/data/train.csv'\n",
    "    titanic_train = pd.read_csv(url_train, index_col=\"PassengerId\")\n",
    "    titanic_test = pd.read_csv(url_test, index_col=\"PassengerId\")\n",
    "    titanic = pd.concat([titanic_train, titanic_test], sort=False)\n",
    "    # ticket_price_per_person=titanic.groupby(\"Ticket\")[\"Fare\"].mean() / titanic.groupby(\"Ticket\").size()\n",
    "#     ticket_price_per_person\n",
    "#     tickets=titanic[[\"Pclass\",\"Ticket\",\"Fare\"]]\n",
    "#     prices=tickets.merge(ticket_price_per_person.to_frame(\"Price\"), on=\"Ticket\")\n",
    "#     type(prices.groupby(['Pclass']).Price.mean())\n",
    "#     classes=prices.groupby(['Pclass']).Price.mean()\n",
    "    result = get_fare_per_pass(titanic)\n",
    "    print('get_fare_per_pass(titanic)=', result)"
   ]
  },
  {
   "cell_type": "code",
   "execution_count": null,
   "metadata": {
    "ExecuteTime": {
     "end_time": "2019-11-25T08:27:11.838257Z",
     "start_time": "2019-11-25T08:27:11.720830Z"
    }
   },
   "outputs": [],
   "source": [
    "PROBLEM_ID = 7\n",
    "\n",
    "if TEST:\n",
    "    total_grade += solutions.check(STUDENT, PROBLEM_ID, get_fare_per_pass)"
   ]
  },
  {
   "cell_type": "markdown",
   "metadata": {},
   "source": [
    "### 8. Fill missing age values (3 points).\n",
    "\n",
    "In problem 3 you filled missing age values with global average over all passengers. Now, you need to fill them **according to class and sex**. For example, for a female passenger from 2d class, missing age value must be filled with average age of females in 2d class.\n",
    "\n",
    "In this problem, you may need joins and `.apply()`, although there are several ways to get the same result.\n",
    "\n",
    "Input is **indexed** with `PassengerId` and is a **concatenation of train and test sets**. Output must be a **new** dataframe with the same structure as input, but without missing values in `Age` column."
   ]
  },
  {
   "cell_type": "code",
   "execution_count": 90,
   "metadata": {
    "ExecuteTime": {
     "end_time": "2019-11-25T08:26:56.688466Z",
     "start_time": "2019-11-25T08:26:56.684610Z"
    }
   },
   "outputs": [],
   "source": [
    "def fix_age_groupped(df):\n",
    "    \"\"\"Fill missing age values.\"\"\"\n",
    "    result = df.copy()\n",
    "    stat = titanic.groupby(['Pclass', 'Sex']).Age.mean().to_frame()\n",
    "    result.loc[:,'Age'] = df.apply(lambda x: stat.loc[x.loc['Pclass'], x.loc['Sex']].Age if pd.isnull(x['Age']) else x['Age'], axis=1,result_type=\"expand\")\n",
    "    return result"
   ]
  },
  {
   "cell_type": "code",
   "execution_count": 91,
   "metadata": {},
   "outputs": [
    {
     "name": "stdout",
     "output_type": "stream",
     "text": [
      "numOfRowsBeforeFixWithNan= 263\n",
      "mean AGE = 29.881137667304014\n",
      "\n",
      "titanic.count()=\n",
      " Survived     891\n",
      "Pclass      1309\n",
      "Name        1309\n",
      "Sex         1309\n",
      "Age         1046\n",
      "SibSp       1309\n",
      "Parch       1309\n",
      "Ticket      1309\n",
      "Fare        1308\n",
      "Cabin        295\n",
      "Embarked    1307\n",
      "dtype: int64\n",
      "numOfRowsAfterFixWithNan= 0\n",
      "mean AGE after fix = 29.37618621513547\n",
      "\n",
      "result.count()=\n",
      " Survived     891\n",
      "Pclass      1309\n",
      "Name        1309\n",
      "Sex         1309\n",
      "Age         1309\n",
      "SibSp       1309\n",
      "Parch       1309\n",
      "Ticket      1309\n",
      "Fare        1308\n",
      "Cabin        295\n",
      "Embarked    1307\n",
      "dtype: int64\n",
      "passengerWithMissingAge:\n",
      " Survived                   NaN\n",
      "Pclass                       3\n",
      "Name        Spector, Mr. Woolf\n",
      "Sex                       male\n",
      "Age                        NaN\n",
      "SibSp                        0\n",
      "Parch                        0\n",
      "Ticket               A.5. 3236\n",
      "Fare                      8.05\n",
      "Cabin                      NaN\n",
      "Embarked                     S\n",
      "Name: 1305, dtype: object\n",
      "passengerWithFixedAge:\n",
      " Survived                   NaN\n",
      "Pclass                       3\n",
      "Name        Spector, Mr. Woolf\n",
      "Sex                       male\n",
      "Age                  25.962264\n",
      "SibSp                        0\n",
      "Parch                        0\n",
      "Ticket               A.5. 3236\n",
      "Fare                      8.05\n",
      "Cabin                      NaN\n",
      "Embarked                     S\n",
      "Name: 1305, dtype: object\n"
     ]
    }
   ],
   "source": [
    "if not TEST:\n",
    "    url_test='https://raw.githubusercontent.com/dsindy/kaggle-titanic/master/data/test.csv'\n",
    "    url_train='https://raw.githubusercontent.com/dsindy/kaggle-titanic/master/data/train.csv'\n",
    "    titanic_train = pd.read_csv(url_train, index_col=\"PassengerId\")\n",
    "    titanic_test = pd.read_csv(url_test, index_col=\"PassengerId\")\n",
    "    titanic = pd.concat([titanic_train, titanic_test], sort=False)\n",
    "    print('numOfRowsBeforeFixWithNan=',len(titanic[titanic['Age'].isnull()].index))\n",
    "    print('mean AGE =', titanic[\"Age\"].mean())\n",
    "    print('\\ntitanic.count()=\\n', titanic.count())\n",
    "    result = fix_age_groupped(titanic)\n",
    "    print('numOfRowsAfterFixWithNan=',len(result[result['Age'].isnull()].index))\n",
    "    print('mean AGE after fix =', result[\"Age\"].mean())\n",
    "    print('\\nresult.count()=\\n', result.count())\n",
    "    print('passengerWithMissingAge:\\n', titanic.loc[1305])\n",
    "    print('passengerWithFixedAge:\\n', result.loc[1305])"
   ]
  },
  {
   "cell_type": "code",
   "execution_count": 64,
   "metadata": {},
   "outputs": [],
   "source": [
    "# x=titanic.groupby(['Pclass', 'Sex']).Age.mean().to_frame()\n",
    "# x.loc[3,'female']\n",
    "# # titanic.groupby(['Pclass', 'Sex']).Age.mean().to_frame()\n",
    "# result\n",
    "# # titanic.loc[titanic['Passengerid'] == 1305]\n",
    "# titanic.loc[1305]\n",
    "# result.loc[1305]\n",
    "# titanic.groupby(['Pclass', 'Sex']).Age.mean().to_frame().loc[3,'female'].Age"
   ]
  },
  {
   "cell_type": "code",
   "execution_count": null,
   "metadata": {
    "ExecuteTime": {
     "end_time": "2019-11-25T08:27:11.838257Z",
     "start_time": "2019-11-25T08:27:11.720830Z"
    }
   },
   "outputs": [],
   "source": [
    "PROBLEM_ID = 8\n",
    "\n",
    "if TEST:\n",
    "    total_grade += solutions.check(STUDENT, PROBLEM_ID, fix_age_groupped)"
   ]
  },
  {
   "cell_type": "markdown",
   "metadata": {},
   "source": [
    "### 9. Finding couples (3 points).\n",
    "\n",
    "Based on the code from Lecture 5, build a dataframe of couples. Filter it by survival status: select those couples, in which only one of spouses survived or none of two. Built survival statistics by class, i.e. ratio of the number couples with partial survival or couples which died together, divided by total number of couples in class. If the survival status of one or both of spouses is not known, it must be considered as `0`.\n",
    "\n",
    "Input is **indexed** with `PassengerId` and is a **concatenation of train and test sets**. Output must be `Series` with three elements indexed by values from `Pclass` column (see P7 as a reference)."
   ]
  },
  {
   "cell_type": "code",
   "execution_count": 88,
   "metadata": {
    "ExecuteTime": {
     "end_time": "2019-11-25T08:26:56.688466Z",
     "start_time": "2019-11-25T08:26:56.684610Z"
    }
   },
   "outputs": [],
   "source": [
    "def find_couples(df):\n",
    "    \"\"\"Fill missing age values.\"\"\"\n",
    "    family_names = (df\n",
    "                .replace(re.compile(r'\\s+\\(.*\\)'), '')\n",
    "                .replace(re.compile(\"Mrs.\"), \"Mr.\"))[[\"Name\", \"Sex\"]]\n",
    "    family_names\n",
    "    family_names = family_names[(family_names.Sex==\"female\") & family_names.Name.str.contains(\"Mr.\")]\n",
    "    family_names\n",
    "    family_names.reset_index().set_index(\"Name\")[\"PassengerId\"]\n",
    "    couples = (df.join(family_names\n",
    "                            .reset_index()\n",
    "                            .set_index(\"Name\")[\"PassengerId\"],\n",
    "                            on=\"Name\", how=\"inner\", rsuffix=\"_Spouse\"))\n",
    "\n",
    "    couples.rename({\"PassengerId\":\"PassengerId_Spouse\"},\n",
    "                   axis=1, inplace=True)\n",
    "    couples = couples.join(df[[\"Name\", \"Age\",\"Survived\"]],\n",
    "                           on=\"PassengerId_Spouse\", rsuffix=\"_Spouse\")\n",
    "    filtered=couples[couples.Survived + couples.Survived_Spouse!=2]\n",
    "    result = filtered.groupby('Pclass').size()/couples.groupby('Pclass').size()\n",
    "    return result"
   ]
  },
  {
   "cell_type": "code",
   "execution_count": 89,
   "metadata": {},
   "outputs": [
    {
     "name": "stdout",
     "output_type": "stream",
     "text": [
      "result= Pclass\n",
      "1    0.780488\n",
      "2    0.956522\n",
      "3    1.000000\n",
      "dtype: float64\n"
     ]
    }
   ],
   "source": [
    "if not TEST:\n",
    "    url_test='https://raw.githubusercontent.com/dsindy/kaggle-titanic/master/data/test.csv'\n",
    "    url_train='https://raw.githubusercontent.com/dsindy/kaggle-titanic/master/data/train.csv'\n",
    "    titanic_train = pd.read_csv(url_train, index_col=\"PassengerId\")\n",
    "    titanic_test = pd.read_csv(url_test, index_col=\"PassengerId\")\n",
    "    titanic = pd.concat([titanic_train, titanic_test], sort=False)\n",
    "    result = find_couples(titanic)\n",
    "    print('result=', result)"
   ]
  },
  {
   "cell_type": "code",
   "execution_count": null,
   "metadata": {
    "ExecuteTime": {
     "end_time": "2019-11-25T08:27:11.838257Z",
     "start_time": "2019-11-25T08:27:11.720830Z"
    }
   },
   "outputs": [],
   "source": [
    "PROBLEM_ID = 9\n",
    "\n",
    "if TEST:\n",
    "    total_grade += solutions.check(STUDENT, PROBLEM_ID, find_couples)"
   ]
  },
  {
   "cell_type": "code",
   "execution_count": null,
   "metadata": {},
   "outputs": [],
   "source": [
    "# family_names = (titanic\n",
    "#                 .replace(re.compile(r'\\s+\\(.*\\)'), '')\n",
    "#                 .replace(re.compile(\"Mrs.\"), \"Mr.\"))[[\"Name\", \"Sex\"]]\n",
    "# family_names\n",
    "# family_names = family_names[(family_names.Sex==\"female\") & family_names.Name.str.contains(\"Mr.\")]\n",
    "# family_names\n",
    "# family_names.reset_index().set_index(\"Name\")[\"PassengerId\"]\n",
    "# couples = (titanic.join(family_names\n",
    "#                         .reset_index()\n",
    "#                         .set_index(\"Name\")[\"PassengerId\"],\n",
    "#                         on=\"Name\", how=\"inner\", rsuffix=\"_Spouse\"))\n",
    "\n",
    "# couples.rename({\"PassengerId\":\"PassengerId_Spouse\"},\n",
    "#                axis=1, inplace=True)\n",
    "# couples = couples.join(titanic[[\"Name\", \"Age\",\"Survived\"]],\n",
    "#                        on=\"PassengerId_Spouse\", rsuffix=\"_Spouse\")\n",
    "# couples\n",
    "# filtered=couples[couples.Survived+couples.Survived_Spouse!=2]\n",
    "# filtered\n",
    "# filtered.groupby('Pclass').size()\n",
    "# couples.groupby('Pclass').size()\n",
    "# filtered.groupby('Pclass').size()/couples.groupby('Pclass').size()\n",
    "# (filtered.groupby('Pclass').size()/couples.groupby('Pclass').size()).index"
   ]
  },
  {
   "cell_type": "code",
   "execution_count": null,
   "metadata": {},
   "outputs": [],
   "source": [
    "if TEST:\n",
    "    print(f\"{STUDENT}: {int(100 * total_grade / MAX_POINTS)}\")"
   ]
  }
 ],
 "metadata": {
  "@webio": {
   "lastCommId": null,
   "lastKernelId": null
  },
  "celltoolbar": "Tags",
  "kernelspec": {
   "display_name": "Python 3 (ipykernel)",
   "language": "python",
   "name": "python3"
  },
  "language_info": {
   "codemirror_mode": {
    "name": "ipython",
    "version": 3
   },
   "file_extension": ".py",
   "mimetype": "text/x-python",
   "name": "python",
   "nbconvert_exporter": "python",
   "pygments_lexer": "ipython3",
   "version": "3.7.10"
  }
 },
 "nbformat": 4,
 "nbformat_minor": 4
}
