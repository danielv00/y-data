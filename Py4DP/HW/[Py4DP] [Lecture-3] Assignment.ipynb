{
 "cells": [
  {
   "cell_type": "markdown",
   "metadata": {},
   "source": [
    "# Notes\n",
    "\n",
    "Different problems give different number of points: 2, 3 or 4.\n",
    "\n",
    "Please, fill `STUDENT` variable with your name, so that we call collect the results automatically. Each problem contains specific validation details. We will do our best to review your assignments, but please keep in mind, that for this assignment automatic grade (between $0$ an $1$) is the primary source of ground truth."
   ]
  },
  {
   "cell_type": "code",
   "execution_count": 1,
   "metadata": {
    "ExecuteTime": {
     "end_time": "2019-11-13T22:00:31.331179Z",
     "start_time": "2019-11-13T22:00:30.492519Z"
    },
    "scrolled": true
   },
   "outputs": [
    {
     "name": "stdout",
     "output_type": "stream",
     "text": [
      "Populating the interactive namespace from numpy and matplotlib\n"
     ]
    }
   ],
   "source": [
    "%pylab inline\n",
    "plt.style.use(\"bmh\")"
   ]
  },
  {
   "cell_type": "code",
   "execution_count": 2,
   "metadata": {
    "ExecuteTime": {
     "end_time": "2019-11-13T22:00:32.020415Z",
     "start_time": "2019-11-13T22:00:32.015416Z"
    }
   },
   "outputs": [],
   "source": [
    "plt.rcParams[\"figure.figsize\"] = (6,6)"
   ]
  },
  {
   "cell_type": "code",
   "execution_count": 3,
   "metadata": {
    "ExecuteTime": {
     "end_time": "2019-11-13T22:00:34.357252Z",
     "start_time": "2019-11-13T22:00:32.305471Z"
    },
    "scrolled": true
   },
   "outputs": [],
   "source": [
    "import numpy as np\n",
    "import torch"
   ]
  },
  {
   "cell_type": "code",
   "execution_count": 4,
   "metadata": {
    "ExecuteTime": {
     "end_time": "2019-11-13T22:11:54.201123Z",
     "start_time": "2019-11-13T22:11:54.196430Z"
    }
   },
   "outputs": [],
   "source": [
    "STUDENT = \"Daniel Volchegursky\"\n",
    "ASSIGNMENT = 3\n",
    "TEST = False"
   ]
  },
  {
   "cell_type": "code",
   "execution_count": 5,
   "metadata": {},
   "outputs": [],
   "source": [
    "if TEST:\n",
    "    import solutions\n",
    "    total_grade = 0\n",
    "    MAX_POINTS = 11"
   ]
  },
  {
   "cell_type": "markdown",
   "metadata": {},
   "source": [
    "# Basic PyTorch"
   ]
  },
  {
   "cell_type": "markdown",
   "metadata": {
    "tags": [
     "problem"
    ]
   },
   "source": [
    "### 1. ReLU activation (2 points).\n",
    "\n",
    "ReLU is the most commonly used activation function in many deep learning application. It's defined as\n",
    "\n",
    "$$\n",
    "ReLU(x) = \\max(0, x).\n",
    "$$\n",
    "\n",
    "Outpu must be of the same shape as input, and **will be tested against three random combinations of input array dimensions ($100 \\leq n < 1000 $)**, while values of the input are drawn from standard normal distribution. Number of dimensions of the input will also be selected randomly and is either 1, 2 or 3."
   ]
  },
  {
   "cell_type": "code",
   "execution_count": 35,
   "metadata": {
    "tags": [
     "solution"
    ]
   },
   "outputs": [],
   "source": [
    "def relu(arr):\n",
    "    return(torch.where(arr > 0, arr, 0))"
   ]
  },
  {
   "cell_type": "code",
   "execution_count": 38,
   "metadata": {},
   "outputs": [
    {
     "name": "stdout",
     "output_type": "stream",
     "text": [
      "tensor([0, 1, 2, 3, 0, 5, 6, 0, 8, 9])\n",
      "tensor([0, 1, 2, 3, 0, 5, 6, 0, 8, 9])\n"
     ]
    }
   ],
   "source": [
    "if not TEST:\n",
    "#     t1=torch.tensor([0, -1.5, 2, 3, -4, 5, 6, -8, 8, 9])\n",
    "    t1=torch.tensor([0, 1, 2, 3, -4, 5, 6, -8, 8, 9])\n",
    "    print(t1.relu())\n",
    "    print(relu(t1))"
   ]
  },
  {
   "cell_type": "code",
   "execution_count": 8,
   "metadata": {
    "tags": [
     "validation"
    ]
   },
   "outputs": [],
   "source": [
    "PROBLEM_ID = 1\n",
    "\n",
    "if TEST:\n",
    "    total_grade += solutions.check(STUDENT, PROBLEM_ID, relu)"
   ]
  },
  {
   "cell_type": "markdown",
   "metadata": {
    "tags": [
     "problem"
    ]
   },
   "source": [
    "### 2. Mean squared error (2 points).\n",
    "\n",
    "In this problem you need to calculate MSE for a pair of tensors `y_true` and `y_pred`. MSE is defined as usual:\n",
    "\n",
    "$$\n",
    "L_{MSE} = \\frac{1}{N} \\sum_i \\left(y_i - \\hat y_i\\right)^2\n",
    "$$\n",
    "\n",
    "Note, however, that `y_true` and `y_pred`may be of **different shape**. While `y_true` is always $(N,)$, `y_pred` may be $(N,1)$, $(1, N)$ or $(N,)$. Input values are drawn from standard normal distribution and **shape is selected randomly ($100 \\leq n < 1000 $)**."
   ]
  },
  {
   "cell_type": "code",
   "execution_count": 9,
   "metadata": {
    "tags": [
     "solution"
    ]
   },
   "outputs": [],
   "source": [
    "def mse(y_true, y_pred):\n",
    "#     y_pred=y_pred.reshape(torch.numel(y_pred))\n",
    "#     abs = torch.abs(y_true-y_pred)\n",
    "#     sqr = torch.pow(abs,2)\n",
    "#     size=torch.numel(y_true)\n",
    "#     return torch.sum(sqr)/size\n",
    "    err = (y_true - y_pred).to(torch.float32)\n",
    "    err = err * err\n",
    "    return (err.mean())"
   ]
  },
  {
   "cell_type": "code",
   "execution_count": 10,
   "metadata": {},
   "outputs": [
    {
     "name": "stdout",
     "output_type": "stream",
     "text": [
      "t2= tensor([0, 0, 0, 0, 0, 0, 0, 0, 0])\n",
      "t2.size()= torch.Size([9])\n",
      "t3.size()= torch.Size([1, 9])\n",
      "t4.size()= torch.Size([9, 1])\n",
      "tensor([[ 0, -1,  2,  3, -4,  5,  6, -8,  9],\n",
      "        [ 0, -1,  2,  3, -4,  5,  6, -8,  9],\n",
      "        [ 0, -1,  2,  3, -4,  5,  6, -8,  9],\n",
      "        [ 0, -1,  2,  3, -4,  5,  6, -8,  9],\n",
      "        [ 0, -1,  2,  3, -4,  5,  6, -8,  9],\n",
      "        [ 0, -1,  2,  3, -4,  5,  6, -8,  9],\n",
      "        [ 0, -1,  2,  3, -4,  5,  6, -8,  9],\n",
      "        [ 0, -1,  2,  3, -4,  5,  6, -8,  9],\n",
      "        [ 0, -1,  2,  3, -4,  5,  6, -8,  9]])\n",
      "mse(t1,t2)= tensor(26.2222)\n",
      "mse(t1,t3)= tensor(26.2222)\n",
      "mse(t1,t4)= tensor(26.2222)\n"
     ]
    }
   ],
   "source": [
    "if not TEST:\n",
    "    t1=torch.tensor([0, -1, 2, 3, -4, 5, 6, -8, 9])\n",
    "#     t1=torch.tensor([0.0, -1.0, 2.0, 3.0, -4.0, 5.0, 6.0, -8.0, 9.0])\n",
    "#     t2=torch.tensor([0, -1, 2, 3, -4, 5, 6, -8, 9])\n",
    "    t2=torch.zeros_like(t1)\n",
    "    t3=t2.reshape(1,list(t2.size())[0])\n",
    "    t4=t2.reshape(list(t2.size())[0],1)\n",
    "    print('t2=',t2)\n",
    "    print('t2.size()=',t2.size())\n",
    "    print('t3.size()=',t3.size())\n",
    "    print('t4.size()=',t4.size())\n",
    "#     print(torch.sum(t1+t2))\n",
    "#     print(list(t1.size())[0])\n",
    "    print(t1+t4)\n",
    "    print('mse(t1,t2)=',mse(t1,t2))\n",
    "    print('mse(t1,t3)=',mse(t1,t3))\n",
    "    print('mse(t1,t4)=',mse(t1,t4))"
   ]
  },
  {
   "cell_type": "code",
   "execution_count": 11,
   "metadata": {
    "tags": [
     "validation"
    ]
   },
   "outputs": [],
   "source": [
    "PROBLEM_ID = 2\n",
    "\n",
    "if TEST:\n",
    "    total_grade += solutions.check(STUDENT, PROBLEM_ID, mse)"
   ]
  },
  {
   "cell_type": "markdown",
   "metadata": {
    "tags": [
     "problem"
    ]
   },
   "source": [
    "### 3. Character-level encoding (4 points).\n",
    "\n",
    "In computations in general and in machine learning specifically letters cannot be used directly, as computers only know aboun numbers. Text data may be encoded in many different ways in natural language processing tasks.\n",
    "\n",
    "One of the simplest ways to encode letters is to use one-hot encoded representation, with letters being \"class labels\". A letter is represented by a tensor of shape $(26,)$.\n",
    "\n",
    "Then, for example, word \"python\" would be transformed into a tensor of shape $(6, 26)$ with all elements being $0$, except $(0, 15)\\sim p,\\,(1, 24)\\sim y,\\,(2, 19)\\sim t,...$ being $1$. A phrase would be represented with 3-dimensional tensor.\n",
    "\n",
    "In this problem you need to create a tensor, which represents a list of words `words` of length $N$. The only characters used are those from `string.ascii_lowercase`, and words are of different length $L_i$. Output must be of shape $(N, \\max(L_i), 26)$.\n",
    "\n",
    "Dimension 0 corresponds to words themselves, with `tensor[0]` being a represetation of `words[0]`. Note, that you need to use padding: although trivial in this case, you must remember, that tensor must accomodate for a longest word, thus dimension 1 is $\\max(L_i)$.\n",
    "\n",
    "Note also, that the only loop you need here is a loop over `words`, there's no need to loop over the resulting tensor.\n",
    "\n",
    "The result will be tested against three predefined lists of word, with all words being lowercase and containing only ASCII characters."
   ]
  },
  {
   "cell_type": "code",
   "execution_count": 12,
   "metadata": {
    "tags": [
     "solution"
    ]
   },
   "outputs": [],
   "source": [
    "def encode(words):\n",
    "    num_of_words=len(words)\n",
    "    len_of_longest_word=len(max(words, key=len))\n",
    "    result=torch.zeros(num_of_words,len_of_longest_word,26)\n",
    "    for index_word, word in enumerate(words):\n",
    "        values=torch.tensor(list(word.encode()))-ord('a')\n",
    "        rows=torch.arange(0,torch.numel(values))\n",
    "        result[index_word,rows, values]=1\n",
    "    return result"
   ]
  },
  {
   "cell_type": "code",
   "execution_count": 13,
   "metadata": {
    "tags": [
     "validation"
    ]
   },
   "outputs": [],
   "source": [
    "PROBLEM_ID = 3\n",
    "\n",
    "if TEST:\n",
    "    total_grade += solutions.check(STUDENT, PROBLEM_ID, encode)"
   ]
  },
  {
   "cell_type": "code",
   "execution_count": 14,
   "metadata": {},
   "outputs": [
    {
     "name": "stdout",
     "output_type": "stream",
     "text": [
      "numOfWords= 3\n",
      "lenOfLongestWord= 3\n",
      "encode= tensor([[[1., 0., 0., 0., 0., 0., 0., 0., 0., 0., 0., 0., 0., 0., 0., 0., 0.,\n",
      "          0., 0., 0., 0., 0., 0., 0., 0., 0.],\n",
      "         [0., 0., 0., 0., 0., 0., 0., 0., 0., 0., 0., 0., 0., 0., 0., 0., 0.,\n",
      "          0., 0., 0., 0., 0., 0., 0., 0., 0.],\n",
      "         [0., 0., 0., 0., 0., 0., 0., 0., 0., 0., 0., 0., 0., 0., 0., 0., 0.,\n",
      "          0., 0., 0., 0., 0., 0., 0., 0., 0.]],\n",
      "\n",
      "        [[0., 1., 0., 0., 0., 0., 0., 0., 0., 0., 0., 0., 0., 0., 0., 0., 0.,\n",
      "          0., 0., 0., 0., 0., 0., 0., 0., 0.],\n",
      "         [0., 0., 1., 0., 0., 0., 0., 0., 0., 0., 0., 0., 0., 0., 0., 0., 0.,\n",
      "          0., 0., 0., 0., 0., 0., 0., 0., 0.],\n",
      "         [0., 0., 0., 0., 0., 0., 0., 0., 0., 0., 0., 0., 0., 0., 0., 0., 0.,\n",
      "          0., 0., 0., 0., 0., 0., 0., 0., 0.]],\n",
      "\n",
      "        [[0., 0., 0., 1., 0., 0., 0., 0., 0., 0., 0., 0., 0., 0., 0., 0., 0.,\n",
      "          0., 0., 0., 0., 0., 0., 0., 0., 0.],\n",
      "         [0., 0., 0., 0., 1., 0., 0., 0., 0., 0., 0., 0., 0., 0., 0., 0., 0.,\n",
      "          0., 0., 0., 0., 0., 0., 0., 0., 0.],\n",
      "         [1., 0., 0., 0., 0., 0., 0., 0., 0., 0., 0., 0., 0., 0., 0., 0., 0.,\n",
      "          0., 0., 0., 0., 0., 0., 0., 0., 0.]]])\n"
     ]
    }
   ],
   "source": [
    "if not TEST:\n",
    "#     print(string.ascii_lowercase)\n",
    "    list1 = (['a','bc','dea'])\n",
    "#     list1 = (['bc','d'])\n",
    "    print('numOfWords=',len(list1))\n",
    "    print('lenOfLongestWord=',len(max(list1, key=len)))\n",
    "    print('encode=',encode(list1))\n",
    "#     print(list('ab'.encode()))"
   ]
  },
  {
   "cell_type": "markdown",
   "metadata": {},
   "source": [
    "# Gradients"
   ]
  },
  {
   "cell_type": "markdown",
   "metadata": {},
   "source": [
    "### 4. Generate gradient (1 point).\n",
    "\n",
    "For 2-dimensional tensor `tr`, calculate a gradient of $\\sum\\log tr_{ij}$. Note, that you're provided with dimensions and interval, and not the `tr` inself:\n",
    "\n",
    "- `dims` is a tuple, so that `tr.size()` equals `dims`,\n",
    "- `lims` is an interval, so that elements of `tr` are integeres, uniformly sampled from `[lims[0], lims[1])` interval (note, that lims[1] is **not** included).\n",
    "\n",
    "Result must be a tensor of the same shape as `tr` (namely, `dims`), containing gradients of the following function:\n",
    "\n",
    "$$\\sum_{ij}\\log tr_{ij}.$$\n",
    "\n",
    "and generated `tr` itself.\n",
    "\n",
    "Result **will be tested against multiple random combinations of input tensor dimensions ($10 \\leq n < 100 $) and sampling interval (`lims[0]=1`, `10 <= lims[1] < 100`)**.\n",
    "\n",
    "**Hint**: think on how you can validate the solution yourself, given that gradient can be computed manually on paper."
   ]
  },
  {
   "cell_type": "code",
   "execution_count": 15,
   "metadata": {
    "tags": [
     "solution"
    ]
   },
   "outputs": [],
   "source": [
    "def generate_grad(dims, lims):\n",
    "    \"\"\"Generate gradient of `log(x)`.\"\"\"\n",
    "    # generate tr first\n",
    "    # tr = your code goes here\n",
    "#     tr=torch.empty((dims[0],dims[1]), requires_grad=True)\n",
    "#     torch.nn.init.uniform_(tr,lims[0],lims[1])\n",
    "    tr=torch.randint(lims[0],lims[1],(dims[0],dims[1]), dtype=float, requires_grad=True)\n",
    "    # gradient calculation\n",
    "    c = (torch.log(tr)).sum()\n",
    "    c.backward()\n",
    "    return tr.grad, tr"
   ]
  },
  {
   "cell_type": "code",
   "execution_count": 16,
   "metadata": {},
   "outputs": [
    {
     "name": "stdout",
     "output_type": "stream",
     "text": [
      "t2.size()= torch.Size([2, 5])\n",
      "grad= tensor([[0.3333, 0.3333, 0.1111, 0.5000, 0.5000],\n",
      "        [0.5000, 0.1429, 0.1429, 0.3333, 0.3333]], dtype=torch.float64)\n",
      "tr= tensor([[3., 3., 9., 2., 2.],\n",
      "        [2., 7., 7., 3., 3.]], dtype=torch.float64, requires_grad=True)\n"
     ]
    }
   ],
   "source": [
    "if not TEST:\n",
    "    t2=torch.zeros(2,5)\n",
    "    tr = torch.ones(t2.size()[0],t2.size()[1], requires_grad=True)\n",
    "    range1=[1,10]\n",
    "    print('t2.size()=',t2.size())\n",
    "    grad, tr =generate_grad(t2.size(), range1)\n",
    "    print('grad=',grad)\n",
    "    print('tr=',tr)"
   ]
  },
  {
   "cell_type": "code",
   "execution_count": 17,
   "metadata": {
    "tags": [
     "validation"
    ]
   },
   "outputs": [],
   "source": [
    "PROBLEM_ID = 4\n",
    "\n",
    "if TEST:\n",
    "    total_grade += solutions.check(STUDENT, PROBLEM_ID, generate_grad)"
   ]
  },
  {
   "cell_type": "markdown",
   "metadata": {
    "tags": [
     "problem"
    ]
   },
   "source": [
    "### 5. Find a minimum (2 points, manually graded).\n",
    "\n",
    "Consider the following scalar function:\n",
    "\n",
    "$$\n",
    "f(x) = ax^2 + bx + c\n",
    "$$\n",
    "\n",
    "Given the $a,b,c$, find $x$, which minimizes $f(x)$. Note this:\n",
    "\n",
    "- $a,b,c$ are fixed, and generated in such a way, that minimum always exists ($f(x)$ is convex),\n",
    "- $x$ is a scalar value, i.e. 0-dimensional tensor.\n",
    "\n",
    "**Hint:** stop for a second to think about which tensor must contain `requires_grad` and on which scalar should `.backward()` be called."
   ]
  },
  {
   "cell_type": "code",
   "execution_count": 18,
   "metadata": {
    "ExecuteTime": {
     "end_time": "2019-11-13T23:15:11.348224Z",
     "start_time": "2019-11-13T23:15:11.334569Z"
    },
    "tags": [
     "solution"
    ]
   },
   "outputs": [],
   "source": [
    "def generate_coeffs():\n",
    "    a = torch.rand(size=()) * 10\n",
    "    b = -10 + torch.rand(size=()) * 10\n",
    "    c = -10 + torch.rand(size=()) * 10\n",
    "    return a, b, c\n",
    "\n",
    "def func(x, a, b, c):\n",
    "    return x.pow(2) * a + x * b + c"
   ]
  },
  {
   "cell_type": "code",
   "execution_count": 19,
   "metadata": {},
   "outputs": [
    {
     "name": "stdout",
     "output_type": "stream",
     "text": [
      "a= tensor(6.0163)\n",
      "b= tensor(-2.4077)\n",
      "c= tensor(-6.7556)\n",
      "tensor(-3.1469, dtype=torch.float64, grad_fn=<AddBackward0>)\n"
     ]
    }
   ],
   "source": [
    "if not TEST:\n",
    "    a, b, c = generate_coeffs()\n",
    "    print(\"a=\",a)\n",
    "    print(\"b=\",b)\n",
    "    print(\"c=\",c)\n",
    "#     print('f_vals=',f_vals)\n",
    "    x = torch.tensor(1, dtype=float, requires_grad=True)\n",
    "    f=func(x,a, b, c)\n",
    "#     print(torch.tensor([1, 2]).pow(2))\n",
    "    print(f)"
   ]
  },
  {
   "cell_type": "code",
   "execution_count": 20,
   "metadata": {
    "ExecuteTime": {
     "end_time": "2019-11-13T23:25:50.106449Z",
     "start_time": "2019-11-13T23:25:50.095086Z"
    },
    "tags": [
     "solution"
    ]
   },
   "outputs": [
    {
     "name": "stdout",
     "output_type": "stream",
     "text": [
      "STARTING_VAL= 6.386971473693848\n",
      "f_pred.item()= 206.12424950251946\n",
      "f_pred.item()= 2.568346147788349\n",
      "f_pred.item()= -0.9656146432940871\n",
      "f_pred.item()= -1.026968201049393\n",
      "f_pred.item()= -1.028033368229157\n",
      "f_pred.item()= -1.0280518607365576\n",
      "f_pred.item()= -1.0280521817874089\n",
      "f_pred.item()= -1.028052187361215\n",
      "f_pred.item()= -1.0280521874579824\n",
      "f_pred.item()= -1.0280521874596626\n",
      "f_pred.item()= -1.0280521874596917\n",
      "f_pred.item()= -1.0280521874596924\n",
      "f_pred.item()= -1.0280521874596924\n",
      "f_pred.item()= -1.0280521874596924\n",
      "f_pred.item()= -1.0280521874596924\n",
      "f_pred.item()= -1.0280521874596924\n",
      "f_pred.item()= -1.0280521874596922\n",
      "f_pred.item()= -1.0280521874596924\n",
      "f_pred.item()= -1.0280521874596924\n",
      "f_pred.item()= -1.0280521874596922\n"
     ]
    }
   ],
   "source": [
    "EPOCHS = 20\n",
    "LR = 1e-1\n",
    "# Consider choosing different starting values for x to speed-up the optimization\n",
    "STARTING_VAL = (torch.rand(size=()) * 100).item()\n",
    "if not TEST:\n",
    "    print('STARTING_VAL=',STARTING_VAL)\n",
    "# Initialize x, a, b, c\n",
    "x = torch.tensor(STARTING_VAL, dtype=float, requires_grad=True)\n",
    "a, b, c = generate_coeffs()\n",
    "\n",
    "# Collect f(x) values during training for visuzalition later on\n",
    "f_vals = []\n",
    "\n",
    "for i in range(EPOCHS):\n",
    "    # Your code goes here\n",
    "    f_pred = func(x, a, b, c)\n",
    "    \n",
    "    if not TEST:\n",
    "        print('f_pred.item()=',f_pred.item())\n",
    "        \n",
    "    f_vals.append(f_pred.item())\n",
    "    f_pred.backward()\n",
    "    \n",
    "    with torch.no_grad():\n",
    "        x.sub_(LR * x.grad)\n",
    "        \n",
    "    x.grad.zero_()"
   ]
  },
  {
   "cell_type": "code",
   "execution_count": 21,
   "metadata": {
    "ExecuteTime": {
     "end_time": "2019-11-13T23:26:15.085855Z",
     "start_time": "2019-11-13T23:26:15.078760Z"
    },
    "tags": [
     "solution"
    ]
   },
   "outputs": [
    {
     "data": {
      "image/png": "[encoded data removed]",
      "text/plain": [
       "<Figure size 432x432 with 1 Axes>"
      ]
     },
     "metadata": {
      "needs_background": "light"
     },
     "output_type": "display_data"
    }
   ],
   "source": [
    "if f_vals:\n",
    "    grid = np.linspace(-5, 5, 100)\n",
    "    plt.plot(grid, np.square(grid) * a.item() + grid * b.item() + c.item())\n",
    "    plt.hlines(f_vals[-1], -5, 5, \"firebrick\", \"--\", linewidth=1)"
   ]
  },
  {
   "cell_type": "code",
   "execution_count": 22,
   "metadata": {},
   "outputs": [
    {
     "name": "stdout",
     "output_type": "stream",
     "text": [
      "f_vals= [206.12424950251946, 2.568346147788349, -0.9656146432940871, -1.026968201049393, -1.028033368229157, -1.0280518607365576, -1.0280521817874089, -1.028052187361215, -1.0280521874579824, -1.0280521874596626, -1.0280521874596917, -1.0280521874596924, -1.0280521874596924, -1.0280521874596924, -1.0280521874596924, -1.0280521874596924, -1.0280521874596922, -1.0280521874596924, -1.0280521874596924, -1.0280521874596922]\n",
      "f_vals[-1]= -1.0280521874596922\n"
     ]
    }
   ],
   "source": [
    "if not TEST:\n",
    "    print('f_vals=',f_vals)\n",
    "    print('f_vals[-1]=',f_vals[-1])"
   ]
  },
  {
   "cell_type": "code",
   "execution_count": 23,
   "metadata": {
    "tags": [
     "validation"
    ]
   },
   "outputs": [],
   "source": [
    "PROBLEM_ID = 5\n",
    "GRADE = 0\n",
    "\n",
    "if TEST:\n",
    "    total_grade += GRADE"
   ]
  },
  {
   "cell_type": "code",
   "execution_count": 24,
   "metadata": {
    "ExecuteTime": {
     "end_time": "2019-11-13T23:48:26.479012Z",
     "start_time": "2019-11-13T23:48:26.459417Z"
    },
    "tags": [
     "validation"
    ]
   },
   "outputs": [],
   "source": [
    "if TEST:\n",
    "    print(f\"{STUDENT}: {int(100 * total_grade / MAX_POINTS)}\")"
   ]
  }
 ],
 "metadata": {
  "@webio": {
   "lastCommId": null,
   "lastKernelId": null
  },
  "celltoolbar": "Tags",
  "kernelspec": {
   "display_name": "Python 3 (ipykernel)",
   "language": "python",
   "name": "python3"
  },
  "language_info": {
   "codemirror_mode": {
    "name": "ipython",
    "version": 3
   },
   "file_extension": ".py",
   "mimetype": "text/x-python",
   "name": "python",
   "nbconvert_exporter": "python",
   "pygments_lexer": "ipython3",
   "version": "3.7.10"
  }
 },
 "nbformat": 4,
 "nbformat_minor": 4
}
