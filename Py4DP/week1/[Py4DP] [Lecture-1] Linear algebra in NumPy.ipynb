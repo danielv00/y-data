{
 "cells": [
  {
   "cell_type": "markdown",
   "metadata": {},
   "source": [
    "# Linear algebra"
   ]
  },
  {
   "cell_type": "code",
   "execution_count": 2,
   "metadata": {},
   "outputs": [],
   "source": [
    "import numpy as np"
   ]
  },
  {
   "cell_type": "code",
   "execution_count": 3,
   "metadata": {
    "ExecuteTime": {
     "end_time": "2019-11-08T09:30:38.481728Z",
     "start_time": "2019-11-08T09:30:38.477839Z"
    }
   },
   "outputs": [],
   "source": [
    "v = np.random.randint(10, size=(3,))\n",
    "m = np.random.randint(10, size=(5, 3))"
   ]
  },
  {
   "cell_type": "code",
   "execution_count": 4,
   "metadata": {
    "ExecuteTime": {
     "end_time": "2019-11-08T09:31:10.791146Z",
     "start_time": "2019-11-08T09:31:10.783018Z"
    }
   },
   "outputs": [
    {
     "data": {
      "text/plain": [
       "array([[6, 5, 0],\n",
       "       [4, 6, 5],\n",
       "       [1, 6, 1],\n",
       "       [0, 5, 1],\n",
       "       [7, 5, 8]])"
      ]
     },
     "execution_count": 4,
     "metadata": {},
     "output_type": "execute_result"
    }
   ],
   "source": [
    "m"
   ]
  },
  {
   "cell_type": "code",
   "execution_count": 5,
   "metadata": {
    "ExecuteTime": {
     "end_time": "2019-11-08T09:31:19.482501Z",
     "start_time": "2019-11-08T09:31:19.474663Z"
    }
   },
   "outputs": [
    {
     "data": {
      "text/plain": [
       "array([8, 8, 6])"
      ]
     },
     "execution_count": 5,
     "metadata": {},
     "output_type": "execute_result"
    }
   ],
   "source": [
    "v"
   ]
  },
  {
   "cell_type": "markdown",
   "metadata": {},
   "source": [
    "## Dot products, determinants, traces"
   ]
  },
  {
   "cell_type": "markdown",
   "metadata": {},
   "source": [
    "Dot product is available through `np` itself (as it's very common). Note the ordering and dimensions:"
   ]
  },
  {
   "cell_type": "code",
   "execution_count": 6,
   "metadata": {
    "ExecuteTime": {
     "end_time": "2019-11-08T09:31:27.498296Z",
     "start_time": "2019-11-08T09:31:27.489976Z"
    }
   },
   "outputs": [
    {
     "data": {
      "text/plain": [
       "array([ 88, 110,  62,  46, 144])"
      ]
     },
     "execution_count": 6,
     "metadata": {},
     "output_type": "execute_result"
    }
   ],
   "source": [
    "np.dot(m, v)"
   ]
  },
  {
   "cell_type": "code",
   "execution_count": 14,
   "metadata": {
    "ExecuteTime": {
     "end_time": "2019-11-08T09:33:37.293416Z",
     "start_time": "2019-11-08T09:33:37.286136Z"
    }
   },
   "outputs": [
    {
     "data": {
      "text/plain": [
       "array([[ 88],\n",
       "       [110],\n",
       "       [ 62],\n",
       "       [ 46],\n",
       "       [144]])"
      ]
     },
     "execution_count": 14,
     "metadata": {},
     "output_type": "execute_result"
    }
   ],
   "source": [
    "np.dot(m, v[:, np.newaxis])"
   ]
  },
  {
   "cell_type": "code",
   "execution_count": 8,
   "metadata": {
    "ExecuteTime": {
     "end_time": "2019-11-08T09:34:29.088679Z",
     "start_time": "2019-11-08T09:34:29.082827Z"
    }
   },
   "outputs": [
    {
     "data": {
      "text/plain": [
       "array([ 88, 110,  62,  46, 144])"
      ]
     },
     "execution_count": 8,
     "metadata": {},
     "output_type": "execute_result"
    }
   ],
   "source": [
    "np.dot(v, m.T)"
   ]
  },
  {
   "cell_type": "markdown",
   "metadata": {},
   "source": [
    "Inverse matrix is straighforward (as almost any other LA operation):"
   ]
  },
  {
   "cell_type": "code",
   "execution_count": 9,
   "metadata": {
    "ExecuteTime": {
     "end_time": "2019-11-08T09:35:35.378006Z",
     "start_time": "2019-11-08T09:35:35.367976Z"
    }
   },
   "outputs": [],
   "source": [
    "s = np.random.randint(10, size=(3,3))\n",
    "s_inv = np.linalg.inv(s)"
   ]
  },
  {
   "cell_type": "code",
   "execution_count": 10,
   "metadata": {
    "ExecuteTime": {
     "end_time": "2019-11-08T09:35:37.546657Z",
     "start_time": "2019-11-08T09:35:37.540287Z"
    }
   },
   "outputs": [
    {
     "data": {
      "text/plain": [
       "array([[2, 1, 1],\n",
       "       [5, 2, 4],\n",
       "       [2, 2, 8]])"
      ]
     },
     "execution_count": 10,
     "metadata": {},
     "output_type": "execute_result"
    }
   ],
   "source": [
    "s"
   ]
  },
  {
   "cell_type": "code",
   "execution_count": 11,
   "metadata": {
    "ExecuteTime": {
     "end_time": "2019-11-08T09:35:37.712933Z",
     "start_time": "2019-11-08T09:35:37.708002Z"
    }
   },
   "outputs": [
    {
     "data": {
      "text/plain": [
       "array([[-0.8,  0.6, -0.2],\n",
       "       [ 3.2, -1.4,  0.3],\n",
       "       [-0.6,  0.2,  0.1]])"
      ]
     },
     "execution_count": 11,
     "metadata": {},
     "output_type": "execute_result"
    }
   ],
   "source": [
    "s_inv"
   ]
  },
  {
   "cell_type": "code",
   "execution_count": null,
   "metadata": {
    "ExecuteTime": {
     "end_time": "2019-11-08T09:35:41.488632Z",
     "start_time": "2019-11-08T09:35:41.483335Z"
    }
   },
   "outputs": [],
   "source": [
    "s_inv.dtype"
   ]
  },
  {
   "cell_type": "code",
   "execution_count": 12,
   "metadata": {
    "ExecuteTime": {
     "end_time": "2019-11-08T09:35:42.532821Z",
     "start_time": "2019-11-08T09:35:42.526481Z"
    }
   },
   "outputs": [
    {
     "data": {
      "text/plain": [
       "array([[ 1.00000000e+00,  0.00000000e+00,  0.00000000e+00],\n",
       "       [-4.44089210e-16,  1.00000000e+00, -4.44089210e-16],\n",
       "       [ 2.77555756e-17, -2.77555756e-17,  1.00000000e+00]])"
      ]
     },
     "execution_count": 12,
     "metadata": {},
     "output_type": "execute_result"
    }
   ],
   "source": [
    "np.dot(s_inv, s)"
   ]
  },
  {
   "cell_type": "markdown",
   "metadata": {},
   "source": [
    "Determinants and traces are available as well:"
   ]
  },
  {
   "cell_type": "code",
   "execution_count": null,
   "metadata": {
    "ExecuteTime": {
     "end_time": "2019-11-08T09:38:26.817489Z",
     "start_time": "2019-11-08T09:38:26.811282Z"
    }
   },
   "outputs": [],
   "source": [
    "np.linalg.det(s), np.linalg.det(s_inv)  # det(s) == 1 / det(s_inv), btw"
   ]
  },
  {
   "cell_type": "code",
   "execution_count": 13,
   "metadata": {
    "ExecuteTime": {
     "end_time": "2019-11-08T09:39:02.819638Z",
     "start_time": "2019-11-08T09:39:02.814251Z"
    }
   },
   "outputs": [
    {
     "data": {
      "text/plain": [
       "(12, -2.1000000000000005)"
      ]
     },
     "execution_count": 13,
     "metadata": {},
     "output_type": "execute_result"
    }
   ],
   "source": [
    "np.trace(s), np.trace(s_inv)"
   ]
  },
  {
   "cell_type": "markdown",
   "metadata": {},
   "source": [
    "## Eigenvalues, eigenvectors"
   ]
  },
  {
   "cell_type": "markdown",
   "metadata": {},
   "source": [
    "Eigenvalue decomposition (and other decompositions as well) are available via `eig` and `eigh` functions:"
   ]
  },
  {
   "cell_type": "code",
   "execution_count": null,
   "metadata": {
    "ExecuteTime": {
     "end_time": "2019-11-08T09:39:36.424580Z",
     "start_time": "2019-11-08T09:39:36.407446Z"
    }
   },
   "outputs": [],
   "source": [
    "evals, evectors = np.linalg.eig(s)"
   ]
  },
  {
   "cell_type": "code",
   "execution_count": null,
   "metadata": {},
   "outputs": [],
   "source": [
    "evals"
   ]
  },
  {
   "cell_type": "code",
   "execution_count": null,
   "metadata": {},
   "outputs": [],
   "source": [
    "evectors"
   ]
  },
  {
   "cell_type": "code",
   "execution_count": null,
   "metadata": {
    "ExecuteTime": {
     "end_time": "2019-11-08T09:40:24.079866Z",
     "start_time": "2019-11-08T09:40:24.075326Z"
    }
   },
   "outputs": [],
   "source": [
    "np.allclose(evals.sum(), np.trace(s))  # some simple LA and correct way of comparing floating point numbers"
   ]
  },
  {
   "cell_type": "markdown",
   "metadata": {},
   "source": [
    "Creating a diagonal matrix from a `1D` array:"
   ]
  },
  {
   "cell_type": "code",
   "execution_count": null,
   "metadata": {
    "ExecuteTime": {
     "end_time": "2019-11-08T09:41:07.864680Z",
     "start_time": "2019-11-08T09:41:07.860625Z"
    }
   },
   "outputs": [],
   "source": [
    "s_diagonal = np.diag(evals)"
   ]
  },
  {
   "cell_type": "code",
   "execution_count": null,
   "metadata": {
    "ExecuteTime": {
     "end_time": "2019-11-08T09:41:13.424758Z",
     "start_time": "2019-11-08T09:41:13.418283Z"
    }
   },
   "outputs": [],
   "source": [
    "s_diagonal"
   ]
  },
  {
   "cell_type": "markdown",
   "metadata": {},
   "source": [
    "And now our matrix can be decomposed as:\n",
    "    \n",
    "$$\n",
    "s = VEV^{-1}\n",
    "$$\n",
    "\n",
    "where $E$ is a diagonal matrix (with eigenvalues on main diagonal), and $V$ is a matrix where columns are eigenvectors."
   ]
  },
  {
   "cell_type": "code",
   "execution_count": null,
   "metadata": {
    "ExecuteTime": {
     "end_time": "2019-11-08T09:42:02.889611Z",
     "start_time": "2019-11-08T09:42:02.881841Z"
    }
   },
   "outputs": [],
   "source": [
    "np.dot(evectors, np.dot(s_diagonal, np.linalg.inv(evectors)))"
   ]
  },
  {
   "cell_type": "code",
   "execution_count": null,
   "metadata": {
    "ExecuteTime": {
     "end_time": "2019-11-08T09:42:05.052208Z",
     "start_time": "2019-11-08T09:42:05.046922Z"
    }
   },
   "outputs": [],
   "source": [
    "s"
   ]
  },
  {
   "cell_type": "code",
   "execution_count": null,
   "metadata": {},
   "outputs": [],
   "source": [
    "np.allclose(np.dot(evectors, np.dot(s_diagonal, np.linalg.inv(evectors))), s)"
   ]
  },
  {
   "cell_type": "code",
   "execution_count": null,
   "metadata": {},
   "outputs": [],
   "source": []
  }
 ],
 "metadata": {
  "@webio": {
   "lastCommId": null,
   "lastKernelId": null
  },
  "kernelspec": {
   "display_name": "Python 3",
   "language": "python",
   "name": "python3"
  },
  "language_info": {
   "codemirror_mode": {
    "name": "ipython",
    "version": 3
   },
   "file_extension": ".py",
   "mimetype": "text/x-python",
   "name": "python",
   "nbconvert_exporter": "python",
   "pygments_lexer": "ipython3",
   "version": "3.8.8"
  }
 },
 "nbformat": 4,
 "nbformat_minor": 4
}
