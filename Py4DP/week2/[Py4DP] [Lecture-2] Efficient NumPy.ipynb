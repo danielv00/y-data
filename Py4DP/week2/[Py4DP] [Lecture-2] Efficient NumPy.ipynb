{
 "cells": [
  {
   "cell_type": "markdown",
   "metadata": {},
   "source": [
    "# Efficient NumPy"
   ]
  },
  {
   "cell_type": "code",
   "execution_count": 2,
   "metadata": {},
   "outputs": [],
   "source": [
    "import numpy as np"
   ]
  },
  {
   "cell_type": "markdown",
   "metadata": {},
   "source": [
    "## Best practices"
   ]
  },
  {
   "cell_type": "markdown",
   "metadata": {},
   "source": [
    "### Avoid loops\n",
    "\n",
    "Python loops are costly:"
   ]
  },
  {
   "cell_type": "code",
   "execution_count": 4,
   "metadata": {
    "ExecuteTime": {
     "end_time": "2019-11-08T09:14:38.253302Z",
     "start_time": "2019-11-08T09:14:38.246094Z"
    }
   },
   "outputs": [],
   "source": [
    "def square_loop(a):\n",
    "    \"\"\"Calculate square of an array in loop. We assume 1D array here.\"\"\"\n",
    "\n",
    "    result = np.zeros_like(a)\n",
    "    for i in range(a.shape[0]):\n",
    "        result[i] = a[i]*a[i]\n",
    "    return result"
   ]
  },
  {
   "cell_type": "code",
   "execution_count": 5,
   "metadata": {
    "ExecuteTime": {
     "end_time": "2019-11-08T09:14:46.244993Z",
     "start_time": "2019-11-08T09:14:46.238688Z"
    }
   },
   "outputs": [],
   "source": [
    "large_arr = np.random.randint(100, size=(100000,))"
   ]
  },
  {
   "cell_type": "code",
   "execution_count": 6,
   "metadata": {
    "ExecuteTime": {
     "end_time": "2019-11-08T09:14:49.702244Z",
     "start_time": "2019-11-08T09:14:48.573051Z"
    }
   },
   "outputs": [
    {
     "name": "stdout",
     "output_type": "stream",
     "text": [
      "33.9 ms ± 481 µs per loop (mean ± std. dev. of 3 runs, 10 loops each)\n"
     ]
    }
   ],
   "source": [
    "%timeit -n 10 -r 3 square_loop(large_arr)"
   ]
  },
  {
   "cell_type": "code",
   "execution_count": 7,
   "metadata": {
    "ExecuteTime": {
     "end_time": "2019-11-08T09:15:07.042691Z",
     "start_time": "2019-11-08T09:15:07.031728Z"
    }
   },
   "outputs": [
    {
     "name": "stdout",
     "output_type": "stream",
     "text": [
      "118 µs ± 42.7 µs per loop (mean ± std. dev. of 3 runs, 10 loops each)\n"
     ]
    }
   ],
   "source": [
    "%timeit -n 10 -r 3 np.square(large_arr)"
   ]
  },
  {
   "cell_type": "markdown",
   "metadata": {},
   "source": [
    "### Use broadcasting"
   ]
  },
  {
   "cell_type": "markdown",
   "metadata": {},
   "source": [
    "Broadcasting mechanism provides an extremely efficient way of handling operations on arrays of different dimensionality. And it's always way more readable and concise. For example, to add `1D` array `b` to `2D` array `a` row-wise with a loop:"
   ]
  },
  {
   "cell_type": "code",
   "execution_count": null,
   "metadata": {
    "ExecuteTime": {
     "end_time": "2019-11-08T09:17:21.664217Z",
     "start_time": "2019-11-08T09:17:21.657957Z"
    }
   },
   "outputs": [],
   "source": [
    "def row_loop(a, b):\n",
    "    \"\"\"Add a vector to a matrix directly.\"\"\"\n",
    "\n",
    "    result = np.zeros_like(a)\n",
    "    for i in range(a.shape[0]):\n",
    "        result[i] = a[i] + b\n",
    "    return result"
   ]
  },
  {
   "cell_type": "code",
   "execution_count": null,
   "metadata": {
    "ExecuteTime": {
     "end_time": "2019-11-08T09:17:23.209849Z",
     "start_time": "2019-11-08T09:17:23.192733Z"
    }
   },
   "outputs": [],
   "source": [
    "large_arr = np.random.randint(100, size=(1000,1000))\n",
    "large_b = np.random.randint(100, size=(1000,))"
   ]
  },
  {
   "cell_type": "code",
   "execution_count": null,
   "metadata": {
    "ExecuteTime": {
     "end_time": "2019-11-08T09:18:23.440760Z",
     "start_time": "2019-11-08T09:18:23.304858Z"
    }
   },
   "outputs": [],
   "source": [
    "%timeit -n 10 -r 3 row_loop(large_arr, large_b)"
   ]
  },
  {
   "cell_type": "markdown",
   "metadata": {},
   "source": [
    "Broadcasting is about `2X` faster:"
   ]
  },
  {
   "cell_type": "code",
   "execution_count": null,
   "metadata": {
    "ExecuteTime": {
     "end_time": "2019-11-08T09:18:23.628230Z",
     "start_time": "2019-11-08T09:18:23.544894Z"
    }
   },
   "outputs": [],
   "source": [
    "%timeit -n 10 -r 3 large_arr + large_b"
   ]
  },
  {
   "cell_type": "markdown",
   "metadata": {},
   "source": [
    "In-place addition with broadcasting is even faster:"
   ]
  },
  {
   "cell_type": "code",
   "execution_count": null,
   "metadata": {
    "ExecuteTime": {
     "end_time": "2019-11-08T09:18:23.772859Z",
     "start_time": "2019-11-08T09:18:23.718269Z"
    }
   },
   "outputs": [],
   "source": [
    "%timeit -n 10 -r 3 np.add(large_arr, large_b, out=large_arr)"
   ]
  },
  {
   "cell_type": "markdown",
   "metadata": {},
   "source": [
    "Btw, broadcasting allows for creating fancy structures in just a single line (you may leverage this in one of the problems in Homework #2):"
   ]
  },
  {
   "cell_type": "code",
   "execution_count": null,
   "metadata": {
    "ExecuteTime": {
     "end_time": "2019-11-08T09:20:01.310076Z",
     "start_time": "2019-11-08T09:20:01.303690Z"
    }
   },
   "outputs": [],
   "source": [
    "np.arange(10) + np.expand_dims(np.arange(10), axis=-1)"
   ]
  },
  {
   "cell_type": "markdown",
   "metadata": {},
   "source": [
    "### Beware!"
   ]
  },
  {
   "cell_type": "markdown",
   "metadata": {},
   "source": [
    "In-place operations are prone to bugs due to incorrect shape of the result container:"
   ]
  },
  {
   "cell_type": "code",
   "execution_count": 8,
   "metadata": {
    "ExecuteTime": {
     "end_time": "2019-11-08T09:20:44.256572Z",
     "start_time": "2019-11-08T09:20:44.251295Z"
    }
   },
   "outputs": [],
   "source": [
    "A = np.random.randint(10, size=(10,10))\n",
    "B = np.random.randint(10, size=(10,))"
   ]
  },
  {
   "cell_type": "code",
   "execution_count": 9,
   "metadata": {
    "ExecuteTime": {
     "end_time": "2019-11-08T09:20:47.959609Z",
     "start_time": "2019-11-08T09:20:47.954308Z"
    }
   },
   "outputs": [
    {
     "data": {
      "text/plain": [
       "array([[7, 7, 5, 3, 4, 1, 0, 7, 7, 7],\n",
       "       [4, 4, 7, 7, 6, 4, 2, 4, 1, 7],\n",
       "       [1, 0, 8, 0, 9, 0, 9, 7, 4, 4],\n",
       "       [7, 5, 9, 4, 9, 8, 4, 0, 8, 0],\n",
       "       [4, 6, 8, 6, 1, 8, 0, 5, 7, 0],\n",
       "       [9, 5, 8, 7, 8, 7, 7, 7, 5, 7],\n",
       "       [4, 4, 2, 6, 1, 4, 7, 6, 0, 5],\n",
       "       [7, 8, 3, 3, 3, 7, 4, 8, 2, 0],\n",
       "       [9, 3, 9, 6, 4, 0, 4, 3, 1, 1],\n",
       "       [3, 3, 7, 6, 8, 8, 5, 1, 5, 1]])"
      ]
     },
     "execution_count": 9,
     "metadata": {},
     "output_type": "execute_result"
    }
   ],
   "source": [
    "A"
   ]
  },
  {
   "cell_type": "code",
   "execution_count": 10,
   "metadata": {
    "ExecuteTime": {
     "end_time": "2019-11-08T09:21:05.665770Z",
     "start_time": "2019-11-08T09:21:05.659564Z"
    }
   },
   "outputs": [
    {
     "data": {
      "text/plain": [
       "array([9, 1, 4, 1, 3, 8, 9, 8, 2, 9])"
      ]
     },
     "execution_count": 10,
     "metadata": {},
     "output_type": "execute_result"
    }
   ],
   "source": [
    "B"
   ]
  },
  {
   "cell_type": "code",
   "execution_count": 11,
   "metadata": {
    "ExecuteTime": {
     "end_time": "2019-11-08T09:21:07.225503Z",
     "start_time": "2019-11-08T09:21:07.219462Z"
    }
   },
   "outputs": [
    {
     "data": {
      "text/plain": [
       "array([[16,  8,  9,  4,  7,  9,  9, 15,  9, 16],\n",
       "       [13,  5, 11,  8,  9, 12, 11, 12,  3, 16],\n",
       "       [10,  1, 12,  1, 12,  8, 18, 15,  6, 13],\n",
       "       [16,  6, 13,  5, 12, 16, 13,  8, 10,  9],\n",
       "       [13,  7, 12,  7,  4, 16,  9, 13,  9,  9],\n",
       "       [18,  6, 12,  8, 11, 15, 16, 15,  7, 16],\n",
       "       [13,  5,  6,  7,  4, 12, 16, 14,  2, 14],\n",
       "       [16,  9,  7,  4,  6, 15, 13, 16,  4,  9],\n",
       "       [18,  4, 13,  7,  7,  8, 13, 11,  3, 10],\n",
       "       [12,  4, 11,  7, 11, 16, 14,  9,  7, 10]])"
      ]
     },
     "execution_count": 11,
     "metadata": {},
     "output_type": "execute_result"
    }
   ],
   "source": [
    "A+B"
   ]
  },
  {
   "cell_type": "code",
   "execution_count": 12,
   "metadata": {
    "ExecuteTime": {
     "end_time": "2019-11-08T09:21:10.362947Z",
     "start_time": "2019-11-08T09:21:10.355975Z"
    }
   },
   "outputs": [
    {
     "data": {
      "text/plain": [
       "array([[16,  8,  9,  4,  7,  9,  9, 15,  9, 16],\n",
       "       [13,  5, 11,  8,  9, 12, 11, 12,  3, 16],\n",
       "       [10,  1, 12,  1, 12,  8, 18, 15,  6, 13],\n",
       "       [16,  6, 13,  5, 12, 16, 13,  8, 10,  9],\n",
       "       [13,  7, 12,  7,  4, 16,  9, 13,  9,  9],\n",
       "       [18,  6, 12,  8, 11, 15, 16, 15,  7, 16],\n",
       "       [13,  5,  6,  7,  4, 12, 16, 14,  2, 14],\n",
       "       [16,  9,  7,  4,  6, 15, 13, 16,  4,  9],\n",
       "       [18,  4, 13,  7,  7,  8, 13, 11,  3, 10],\n",
       "       [12,  4, 11,  7, 11, 16, 14,  9,  7, 10]])"
      ]
     },
     "execution_count": 12,
     "metadata": {},
     "output_type": "execute_result"
    }
   ],
   "source": [
    "np.add(A, B)"
   ]
  },
  {
   "cell_type": "markdown",
   "metadata": {},
   "source": [
    "This one will work:"
   ]
  },
  {
   "cell_type": "code",
   "execution_count": 14,
   "metadata": {
    "ExecuteTime": {
     "end_time": "2019-11-08T09:21:12.721279Z",
     "start_time": "2019-11-08T09:21:12.713656Z"
    }
   },
   "outputs": [
    {
     "data": {
      "text/plain": [
       "array([[63,  7, 20,  3, 12,  8,  0, 56, 14, 63],\n",
       "       [36,  4, 28,  7, 18, 32, 18, 32,  2, 63],\n",
       "       [ 9,  0, 32,  0, 27,  0, 81, 56,  8, 36],\n",
       "       [63,  5, 36,  4, 27, 64, 36,  0, 16,  0],\n",
       "       [36,  6, 32,  6,  3, 64,  0, 40, 14,  0],\n",
       "       [81,  5, 32,  7, 24, 56, 63, 56, 10, 63],\n",
       "       [36,  4,  8,  6,  3, 32, 63, 48,  0, 45],\n",
       "       [63,  8, 12,  3,  9, 56, 36, 64,  4,  0],\n",
       "       [81,  3, 36,  6, 12,  0, 36, 24,  2,  9],\n",
       "       [27,  3, 28,  6, 24, 64, 45,  8, 10,  9]])"
      ]
     },
     "execution_count": 14,
     "metadata": {},
     "output_type": "execute_result"
    }
   ],
   "source": [
    "np.multiply(A, B, out=A)"
   ]
  },
  {
   "cell_type": "markdown",
   "metadata": {},
   "source": [
    "This one will note (although broadcasting mechanics is ok for addition):"
   ]
  },
  {
   "cell_type": "code",
   "execution_count": 13,
   "metadata": {
    "ExecuteTime": {
     "end_time": "2019-11-08T09:21:18.555541Z",
     "start_time": "2019-11-08T09:21:18.544047Z"
    }
   },
   "outputs": [
    {
     "ename": "ValueError",
     "evalue": "non-broadcastable output operand with shape (10,) doesn't match the broadcast shape (10,10)",
     "output_type": "error",
     "traceback": [
      "\u001b[1;31m---------------------------------------------------------------------------\u001b[0m",
      "\u001b[1;31mValueError\u001b[0m                                Traceback (most recent call last)",
      "\u001b[1;32m~\\AppData\\Local\\Temp/ipykernel_21036/3493117948.py\u001b[0m in \u001b[0;36m<module>\u001b[1;34m\u001b[0m\n\u001b[1;32m----> 1\u001b[1;33m \u001b[0mnp\u001b[0m\u001b[1;33m.\u001b[0m\u001b[0madd\u001b[0m\u001b[1;33m(\u001b[0m\u001b[0mA\u001b[0m\u001b[1;33m,\u001b[0m \u001b[0mB\u001b[0m\u001b[1;33m,\u001b[0m \u001b[0mout\u001b[0m\u001b[1;33m=\u001b[0m\u001b[0mB\u001b[0m\u001b[1;33m)\u001b[0m\u001b[1;33m\u001b[0m\u001b[1;33m\u001b[0m\u001b[0m\n\u001b[0m",
      "\u001b[1;31mValueError\u001b[0m: non-broadcastable output operand with shape (10,) doesn't match the broadcast shape (10,10)"
     ]
    }
   ],
   "source": [
    "np.add(A, B, out=B)"
   ]
  },
  {
   "cell_type": "code",
   "execution_count": null,
   "metadata": {},
   "outputs": [],
   "source": []
  }
 ],
 "metadata": {
  "@webio": {
   "lastCommId": null,
   "lastKernelId": null
  },
  "kernelspec": {
   "display_name": "Python 3",
   "language": "python",
   "name": "python3"
  },
  "language_info": {
   "codemirror_mode": {
    "name": "ipython",
    "version": 3
   },
   "file_extension": ".py",
   "mimetype": "text/x-python",
   "name": "python",
   "nbconvert_exporter": "python",
   "pygments_lexer": "ipython3",
   "version": "3.8.8"
  }
 },
 "nbformat": 4,
 "nbformat_minor": 4
}
