{
 "cells": [
  {
   "cell_type": "markdown",
   "metadata": {},
   "source": [
    "# Advanced NumPy"
   ]
  },
  {
   "cell_type": "markdown",
   "metadata": {},
   "source": [
    "## `numpy` internals"
   ]
  },
  {
   "cell_type": "code",
   "execution_count": 1,
   "metadata": {
    "ExecuteTime": {
     "end_time": "2019-11-08T07:43:21.269721Z",
     "start_time": "2019-11-08T07:43:21.150417Z"
    }
   },
   "outputs": [],
   "source": [
    "import numpy as np\n",
    "np.random.seed(2374)"
   ]
  },
  {
   "cell_type": "code",
   "execution_count": 2,
   "metadata": {
    "ExecuteTime": {
     "end_time": "2019-11-08T07:43:26.607556Z",
     "start_time": "2019-11-08T07:43:26.604206Z"
    }
   },
   "outputs": [],
   "source": [
    "arr = np.random.randint(10, size=(8,8))"
   ]
  },
  {
   "cell_type": "markdown",
   "metadata": {},
   "source": [
    "Information about array elements:"
   ]
  },
  {
   "cell_type": "code",
   "execution_count": 3,
   "metadata": {
    "ExecuteTime": {
     "end_time": "2019-11-08T07:43:27.589505Z",
     "start_time": "2019-11-08T07:43:27.577195Z"
    }
   },
   "outputs": [
    {
     "data": {
      "text/plain": [
       "(4, dtype('int32'))"
      ]
     },
     "execution_count": 3,
     "metadata": {},
     "output_type": "execute_result"
    }
   ],
   "source": [
    "arr.itemsize, arr.dtype"
   ]
  },
  {
   "cell_type": "code",
   "execution_count": 4,
   "metadata": {
    "ExecuteTime": {
     "end_time": "2019-11-08T07:44:26.262293Z",
     "start_time": "2019-11-08T07:44:26.256377Z"
    }
   },
   "outputs": [
    {
     "data": {
      "text/plain": [
       "array([[5, 7, 6, 8, 2, 9, 2, 0],\n",
       "       [3, 1, 5, 8, 7, 5, 3, 1],\n",
       "       [8, 6, 9, 3, 3, 5, 1, 2],\n",
       "       [0, 7, 5, 7, 1, 2, 8, 1],\n",
       "       [4, 3, 9, 5, 2, 4, 5, 2],\n",
       "       [8, 4, 8, 7, 8, 9, 2, 2],\n",
       "       [9, 8, 7, 4, 7, 3, 8, 2],\n",
       "       [0, 3, 6, 6, 4, 0, 9, 4]])"
      ]
     },
     "execution_count": 4,
     "metadata": {},
     "output_type": "execute_result"
    }
   ],
   "source": [
    "arr"
   ]
  },
  {
   "cell_type": "markdown",
   "metadata": {},
   "source": [
    "How to step through array memory? Using `strides` property:"
   ]
  },
  {
   "cell_type": "code",
   "execution_count": 5,
   "metadata": {
    "ExecuteTime": {
     "end_time": "2019-11-08T07:46:40.225501Z",
     "start_time": "2019-11-08T07:46:40.219526Z"
    }
   },
   "outputs": [
    {
     "data": {
      "text/plain": [
       "(32, 4)"
      ]
     },
     "execution_count": 5,
     "metadata": {},
     "output_type": "execute_result"
    }
   ],
   "source": [
    "arr.strides"
   ]
  },
  {
   "cell_type": "markdown",
   "metadata": {},
   "source": [
    "I. e. `arr[0, 1]` is 8 bytes away from `arr[0, 0]` (one step along axis `1`), while `arr[1, 0]` is 64 bytes away from `arr[0, 0]` (one step along axis `0`)."
   ]
  },
  {
   "cell_type": "code",
   "execution_count": 6,
   "metadata": {
    "ExecuteTime": {
     "end_time": "2019-11-08T07:47:44.624050Z",
     "start_time": "2019-11-08T07:47:44.615307Z"
    }
   },
   "outputs": [
    {
     "data": {
      "text/plain": [
       "True"
      ]
     },
     "execution_count": 6,
     "metadata": {},
     "output_type": "execute_result"
    }
   ],
   "source": [
    "arr.strides[0] == arr.shape[1] * arr.itemsize"
   ]
  },
  {
   "cell_type": "markdown",
   "metadata": {},
   "source": [
    "But what about views?"
   ]
  },
  {
   "cell_type": "code",
   "execution_count": 7,
   "metadata": {
    "ExecuteTime": {
     "end_time": "2019-11-08T07:47:58.827402Z",
     "start_time": "2019-11-08T07:47:58.823218Z"
    }
   },
   "outputs": [],
   "source": [
    "arr_view = arr[::2, 1:]"
   ]
  },
  {
   "cell_type": "code",
   "execution_count": 8,
   "metadata": {
    "ExecuteTime": {
     "end_time": "2019-11-08T07:48:33.438646Z",
     "start_time": "2019-11-08T07:48:33.433273Z"
    }
   },
   "outputs": [
    {
     "data": {
      "text/plain": [
       "array([[5, 7, 6, 8, 2, 9, 2, 0],\n",
       "       [3, 1, 5, 8, 7, 5, 3, 1],\n",
       "       [8, 6, 9, 3, 3, 5, 1, 2],\n",
       "       [0, 7, 5, 7, 1, 2, 8, 1],\n",
       "       [4, 3, 9, 5, 2, 4, 5, 2],\n",
       "       [8, 4, 8, 7, 8, 9, 2, 2],\n",
       "       [9, 8, 7, 4, 7, 3, 8, 2],\n",
       "       [0, 3, 6, 6, 4, 0, 9, 4]])"
      ]
     },
     "execution_count": 8,
     "metadata": {},
     "output_type": "execute_result"
    }
   ],
   "source": [
    "arr"
   ]
  },
  {
   "cell_type": "code",
   "execution_count": 9,
   "metadata": {
    "ExecuteTime": {
     "end_time": "2019-11-08T07:48:33.628354Z",
     "start_time": "2019-11-08T07:48:33.619586Z"
    }
   },
   "outputs": [
    {
     "data": {
      "text/plain": [
       "array([[7, 6, 8, 2, 9, 2, 0],\n",
       "       [6, 9, 3, 3, 5, 1, 2],\n",
       "       [3, 9, 5, 2, 4, 5, 2],\n",
       "       [8, 7, 4, 7, 3, 8, 2]])"
      ]
     },
     "execution_count": 9,
     "metadata": {},
     "output_type": "execute_result"
    }
   ],
   "source": [
    "arr_view"
   ]
  },
  {
   "cell_type": "markdown",
   "metadata": {},
   "source": [
    "Information about underlying array structure:"
   ]
  },
  {
   "cell_type": "code",
   "execution_count": 10,
   "metadata": {
    "ExecuteTime": {
     "end_time": "2019-11-08T07:49:17.792495Z",
     "start_time": "2019-11-08T07:49:17.785059Z"
    }
   },
   "outputs": [
    {
     "data": {
      "text/plain": [
       "  C_CONTIGUOUS : True\n",
       "  F_CONTIGUOUS : False\n",
       "  OWNDATA : True\n",
       "  WRITEABLE : True\n",
       "  ALIGNED : True\n",
       "  WRITEBACKIFCOPY : False\n",
       "  UPDATEIFCOPY : False"
      ]
     },
     "execution_count": 10,
     "metadata": {},
     "output_type": "execute_result"
    }
   ],
   "source": [
    "arr.flags"
   ]
  },
  {
   "cell_type": "code",
   "execution_count": 11,
   "metadata": {
    "ExecuteTime": {
     "end_time": "2019-11-08T07:49:17.948314Z",
     "start_time": "2019-11-08T07:49:17.937687Z"
    }
   },
   "outputs": [
    {
     "data": {
      "text/plain": [
       "  C_CONTIGUOUS : False\n",
       "  F_CONTIGUOUS : False\n",
       "  OWNDATA : False\n",
       "  WRITEABLE : True\n",
       "  ALIGNED : True\n",
       "  WRITEBACKIFCOPY : False\n",
       "  UPDATEIFCOPY : False"
      ]
     },
     "execution_count": 11,
     "metadata": {},
     "output_type": "execute_result"
    }
   ],
   "source": [
    "arr_view.flags"
   ]
  },
  {
   "cell_type": "markdown",
   "metadata": {},
   "source": [
    "Views always have base array:"
   ]
  },
  {
   "cell_type": "code",
   "execution_count": 12,
   "metadata": {},
   "outputs": [
    {
     "data": {
      "text/plain": [
       "array([[5, 7, 6, 8, 2, 9, 2, 0],\n",
       "       [3, 1, 5, 8, 7, 5, 3, 1],\n",
       "       [8, 6, 9, 3, 3, 5, 1, 2],\n",
       "       [0, 7, 5, 7, 1, 2, 8, 1],\n",
       "       [4, 3, 9, 5, 2, 4, 5, 2],\n",
       "       [8, 4, 8, 7, 8, 9, 2, 2],\n",
       "       [9, 8, 7, 4, 7, 3, 8, 2],\n",
       "       [0, 3, 6, 6, 4, 0, 9, 4]])"
      ]
     },
     "execution_count": 12,
     "metadata": {},
     "output_type": "execute_result"
    }
   ],
   "source": [
    "arr_view.base"
   ]
  },
  {
   "cell_type": "code",
   "execution_count": null,
   "metadata": {},
   "outputs": [],
   "source": [
    "arr.base"
   ]
  },
  {
   "cell_type": "code",
   "execution_count": null,
   "metadata": {
    "ExecuteTime": {
     "end_time": "2019-11-08T07:50:02.971162Z",
     "start_time": "2019-11-08T07:50:02.966256Z"
    }
   },
   "outputs": [],
   "source": [
    "arr_view.base is arr"
   ]
  },
  {
   "cell_type": "markdown",
   "metadata": {},
   "source": [
    "`strides` are provided with respect to the **underlying data** (which is the same between original array `arr` and view array `arr_view`!):"
   ]
  },
  {
   "cell_type": "code",
   "execution_count": null,
   "metadata": {
    "ExecuteTime": {
     "end_time": "2019-11-08T07:50:20.574935Z",
     "start_time": "2019-11-08T07:50:20.570039Z"
    }
   },
   "outputs": [],
   "source": [
    "arr_view.strides"
   ]
  },
  {
   "cell_type": "code",
   "execution_count": null,
   "metadata": {
    "ExecuteTime": {
     "end_time": "2019-11-08T07:53:03.479686Z",
     "start_time": "2019-11-08T07:53:03.474788Z"
    }
   },
   "outputs": [],
   "source": [
    "arr_view.shape"
   ]
  },
  {
   "cell_type": "markdown",
   "metadata": {},
   "source": [
    "Since view is not contiguous, this relation is not True anymore:"
   ]
  },
  {
   "cell_type": "code",
   "execution_count": null,
   "metadata": {
    "ExecuteTime": {
     "end_time": "2019-11-08T07:53:32.300109Z",
     "start_time": "2019-11-08T07:53:32.293872Z"
    }
   },
   "outputs": [],
   "source": [
    "arr_view.strides[0] == arr_view.shape[1] * arr_view.itemsize"
   ]
  },
  {
   "cell_type": "markdown",
   "metadata": {},
   "source": [
    "Also, view starts not from byte 0 of the data, but steps 8 bytes inside the data:"
   ]
  },
  {
   "cell_type": "code",
   "execution_count": null,
   "metadata": {
    "ExecuteTime": {
     "end_time": "2019-11-08T07:54:34.572823Z",
     "start_time": "2019-11-08T07:54:34.565486Z"
    }
   },
   "outputs": [],
   "source": [
    "np.byte_bounds(arr_view)[0] - np.byte_bounds(arr)[0]"
   ]
  },
  {
   "cell_type": "code",
   "execution_count": null,
   "metadata": {},
   "outputs": [],
   "source": [
    "np.byte_bounds(arr_view)"
   ]
  },
  {
   "cell_type": "code",
   "execution_count": null,
   "metadata": {
    "ExecuteTime": {
     "end_time": "2019-11-08T07:54:34.711810Z",
     "start_time": "2019-11-08T07:54:34.701086Z"
    }
   },
   "outputs": [],
   "source": [
    "np.byte_bounds(arr_view)[1] - np.byte_bounds(arr)[1]"
   ]
  },
  {
   "cell_type": "code",
   "execution_count": null,
   "metadata": {
    "ExecuteTime": {
     "end_time": "2019-11-08T07:55:45.304209Z",
     "start_time": "2019-11-08T07:55:45.298991Z"
    }
   },
   "outputs": [],
   "source": [
    "arr"
   ]
  },
  {
   "cell_type": "code",
   "execution_count": null,
   "metadata": {
    "ExecuteTime": {
     "end_time": "2019-11-08T07:55:45.712355Z",
     "start_time": "2019-11-08T07:55:45.703355Z"
    }
   },
   "outputs": [],
   "source": [
    "arr_view"
   ]
  },
  {
   "cell_type": "code",
   "execution_count": null,
   "metadata": {
    "ExecuteTime": {
     "end_time": "2019-11-08T07:55:57.390036Z",
     "start_time": "2019-11-08T07:55:57.385422Z"
    }
   },
   "outputs": [],
   "source": [
    "arr_view.strides"
   ]
  },
  {
   "cell_type": "code",
   "execution_count": null,
   "metadata": {},
   "outputs": [],
   "source": [
    "arr.T"
   ]
  },
  {
   "cell_type": "code",
   "execution_count": null,
   "metadata": {
    "ExecuteTime": {
     "end_time": "2019-11-08T07:55:59.729995Z",
     "start_time": "2019-11-08T07:55:59.723211Z"
    }
   },
   "outputs": [],
   "source": [
    "arr.T.strides"
   ]
  },
  {
   "cell_type": "markdown",
   "metadata": {},
   "source": [
    "Transpose reports similar strides, is it a view?"
   ]
  },
  {
   "cell_type": "code",
   "execution_count": null,
   "metadata": {
    "ExecuteTime": {
     "end_time": "2019-11-08T07:56:34.931024Z",
     "start_time": "2019-11-08T07:56:34.926308Z"
    }
   },
   "outputs": [],
   "source": [
    "arr_view.T.strides"
   ]
  },
  {
   "cell_type": "code",
   "execution_count": null,
   "metadata": {
    "ExecuteTime": {
     "end_time": "2019-11-08T08:05:58.619813Z",
     "start_time": "2019-11-08T08:05:58.613421Z"
    }
   },
   "outputs": [],
   "source": [
    "arr_view.T[::2, 1:].base is arr"
   ]
  },
  {
   "cell_type": "markdown",
   "metadata": {},
   "source": [
    "## Cache effects"
   ]
  },
  {
   "cell_type": "code",
   "execution_count": null,
   "metadata": {},
   "outputs": [],
   "source": [
    "large_arr = np.random.randint(100, size=(1000000,))"
   ]
  },
  {
   "cell_type": "code",
   "execution_count": null,
   "metadata": {},
   "outputs": [],
   "source": [
    "STEP = 4\n",
    "larger_arr = np.random.randint(100, size=(1000000*STEP,),\n",
    "                               dtype=np.int8)"
   ]
  },
  {
   "cell_type": "code",
   "execution_count": null,
   "metadata": {},
   "outputs": [],
   "source": [
    "larger_arr.shape, large_arr.shape"
   ]
  },
  {
   "cell_type": "code",
   "execution_count": null,
   "metadata": {},
   "outputs": [],
   "source": [
    "%timeit -n 100 -r 3 large_arr.sum()"
   ]
  },
  {
   "cell_type": "code",
   "execution_count": 32,
   "metadata": {},
   "outputs": [
    {
     "name": "stdout",
     "output_type": "stream",
     "text": [
      "782 µs ± 105 µs per loop (mean ± std. dev. of 3 runs, 100 loops each)\n"
     ]
    }
   ],
   "source": [
    "%timeit -n 100 -r 3 larger_arr[::STEP].sum()"
   ]
  },
  {
   "cell_type": "code",
   "execution_count": 33,
   "metadata": {},
   "outputs": [],
   "source": [
    "del large_arr, larger_arr"
   ]
  },
  {
   "cell_type": "code",
   "execution_count": 34,
   "metadata": {},
   "outputs": [],
   "source": [
    "large_arr = np.random.randint(100, size=(5, 10000000))"
   ]
  },
  {
   "cell_type": "code",
   "execution_count": 35,
   "metadata": {},
   "outputs": [
    {
     "data": {
      "text/plain": [
       "190"
      ]
     },
     "execution_count": 35,
     "metadata": {},
     "output_type": "execute_result"
    }
   ],
   "source": [
    "large_arr.nbytes // (1024*1024)"
   ]
  },
  {
   "cell_type": "code",
   "execution_count": 36,
   "metadata": {},
   "outputs": [
    {
     "data": {
      "text/plain": [
       "array([[63, 98, 45, ..., 88, 56, 12],\n",
       "       [90, 62,  5, ..., 37, 64, 20],\n",
       "       [21, 89, 26, ..., 40, 55, 11],\n",
       "       [55, 23, 76, ..., 73, 61,  7],\n",
       "       [20, 52, 51, ..., 91, 47, 35]])"
      ]
     },
     "execution_count": 36,
     "metadata": {},
     "output_type": "execute_result"
    }
   ],
   "source": [
    "large_arr"
   ]
  },
  {
   "cell_type": "code",
   "execution_count": 37,
   "metadata": {},
   "outputs": [
    {
     "data": {
      "text/plain": [
       "array([[63, 90, 21, 55, 20],\n",
       "       [98, 62, 89, 23, 52],\n",
       "       [45,  5, 26, 76, 51],\n",
       "       ...,\n",
       "       [88, 37, 40, 73, 91],\n",
       "       [56, 64, 55, 61, 47],\n",
       "       [12, 20, 11,  7, 35]])"
      ]
     },
     "execution_count": 37,
     "metadata": {},
     "output_type": "execute_result"
    }
   ],
   "source": [
    "large_arr.T"
   ]
  },
  {
   "cell_type": "code",
   "execution_count": 38,
   "metadata": {},
   "outputs": [
    {
     "data": {
      "text/plain": [
       "  C_CONTIGUOUS : False\n",
       "  F_CONTIGUOUS : True\n",
       "  OWNDATA : False\n",
       "  WRITEABLE : True\n",
       "  ALIGNED : True\n",
       "  WRITEBACKIFCOPY : False\n",
       "  UPDATEIFCOPY : False"
      ]
     },
     "execution_count": 38,
     "metadata": {},
     "output_type": "execute_result"
    }
   ],
   "source": [
    "large_arr.T.flags"
   ]
  },
  {
   "cell_type": "code",
   "execution_count": 39,
   "metadata": {},
   "outputs": [
    {
     "data": {
      "text/plain": [
       "  C_CONTIGUOUS : True\n",
       "  F_CONTIGUOUS : False\n",
       "  OWNDATA : True\n",
       "  WRITEABLE : True\n",
       "  ALIGNED : True\n",
       "  WRITEBACKIFCOPY : False\n",
       "  UPDATEIFCOPY : False"
      ]
     },
     "execution_count": 39,
     "metadata": {},
     "output_type": "execute_result"
    }
   ],
   "source": [
    "large_arr.flags"
   ]
  },
  {
   "cell_type": "code",
   "execution_count": 40,
   "metadata": {},
   "outputs": [
    {
     "name": "stdout",
     "output_type": "stream",
     "text": [
      "23.4 ms ± 642 µs per loop (mean ± std. dev. of 3 runs, 50 loops each)\n"
     ]
    }
   ],
   "source": [
    "%timeit -n 50 -r 3 large_arr.sum(axis=1).sum(axis=0)"
   ]
  },
  {
   "cell_type": "code",
   "execution_count": 41,
   "metadata": {},
   "outputs": [
    {
     "name": "stdout",
     "output_type": "stream",
     "text": [
      "62 ms ± 3.69 ms per loop (mean ± std. dev. of 3 runs, 50 loops each)\n"
     ]
    }
   ],
   "source": [
    "%timeit -n 50 -r 3 large_arr.sum(axis=0).sum()"
   ]
  },
  {
   "cell_type": "code",
   "execution_count": 42,
   "metadata": {},
   "outputs": [
    {
     "name": "stdout",
     "output_type": "stream",
     "text": [
      "23.6 ms ± 443 µs per loop (mean ± std. dev. of 3 runs, 50 loops each)\n"
     ]
    }
   ],
   "source": [
    "%timeit -n 50 -r 3 large_arr.T.sum(axis=0)"
   ]
  },
  {
   "cell_type": "code",
   "execution_count": 43,
   "metadata": {},
   "outputs": [
    {
     "data": {
      "text/plain": [
       "True"
      ]
     },
     "execution_count": 43,
     "metadata": {},
     "output_type": "execute_result"
    }
   ],
   "source": [
    "large_arr.T.base is large_arr"
   ]
  },
  {
   "cell_type": "markdown",
   "metadata": {},
   "source": [
    "## Mamory allocations in computations"
   ]
  },
  {
   "cell_type": "markdown",
   "metadata": {},
   "source": [
    "How long does it take to create a copy?"
   ]
  },
  {
   "cell_type": "code",
   "execution_count": 44,
   "metadata": {},
   "outputs": [
    {
     "name": "stdout",
     "output_type": "stream",
     "text": [
      "74.2 ms ± 434 µs per loop (mean ± std. dev. of 3 runs, 20 loops each)\n"
     ]
    }
   ],
   "source": [
    "%timeit -n 20 -r 3 large_arr.copy()"
   ]
  },
  {
   "cell_type": "markdown",
   "metadata": {},
   "source": [
    "Operations create new arrays as well:"
   ]
  },
  {
   "cell_type": "code",
   "execution_count": 45,
   "metadata": {},
   "outputs": [
    {
     "name": "stdout",
     "output_type": "stream",
     "text": [
      "83 ms ± 592 µs per loop (mean ± std. dev. of 3 runs, 20 loops each)\n"
     ]
    }
   ],
   "source": [
    "%timeit -n 20 -r 3 large_arr + 1"
   ]
  },
  {
   "cell_type": "markdown",
   "metadata": {},
   "source": [
    "`np.add` and `+` do more or less the same:"
   ]
  },
  {
   "cell_type": "code",
   "execution_count": 46,
   "metadata": {},
   "outputs": [
    {
     "name": "stdout",
     "output_type": "stream",
     "text": [
      "84 ms ± 1.98 ms per loop (mean ± std. dev. of 3 runs, 20 loops each)\n"
     ]
    }
   ],
   "source": [
    "%timeit -n 20 -r 3 np.add(large_arr, 1)"
   ]
  },
  {
   "cell_type": "markdown",
   "metadata": {},
   "source": [
    "But in-place operations are faster (no allocations):"
   ]
  },
  {
   "cell_type": "code",
   "execution_count": 47,
   "metadata": {},
   "outputs": [
    {
     "name": "stdout",
     "output_type": "stream",
     "text": [
      "27.4 ms ± 279 µs per loop (mean ± std. dev. of 3 runs, 100 loops each)\n"
     ]
    }
   ],
   "source": [
    "%timeit -n 100 -r 3 np.add(large_arr, 1, out=large_arr)"
   ]
  },
  {
   "cell_type": "code",
   "execution_count": 48,
   "metadata": {},
   "outputs": [
    {
     "data": {
      "text/plain": [
       "array([[363, 398, 345, ..., 388, 356, 312],\n",
       "       [390, 362, 305, ..., 337, 364, 320],\n",
       "       [321, 389, 326, ..., 340, 355, 311],\n",
       "       [355, 323, 376, ..., 373, 361, 307],\n",
       "       [320, 352, 351, ..., 391, 347, 335]])"
      ]
     },
     "execution_count": 48,
     "metadata": {},
     "output_type": "execute_result"
    }
   ],
   "source": [
    "large_arr"
   ]
  },
  {
   "cell_type": "code",
   "execution_count": 49,
   "metadata": {},
   "outputs": [
    {
     "data": {
      "text/plain": [
       "array([[364, 399, 346, ..., 389, 357, 313],\n",
       "       [391, 363, 306, ..., 338, 365, 321],\n",
       "       [322, 390, 327, ..., 341, 356, 312],\n",
       "       [356, 324, 377, ..., 374, 362, 308],\n",
       "       [321, 353, 352, ..., 392, 348, 336]])"
      ]
     },
     "execution_count": 49,
     "metadata": {},
     "output_type": "execute_result"
    }
   ],
   "source": [
    "np.add(large_arr, 1, out=large_arr)"
   ]
  },
  {
   "cell_type": "markdown",
   "metadata": {},
   "source": [
    "# Broadcasting"
   ]
  },
  {
   "cell_type": "markdown",
   "metadata": {},
   "source": [
    "How can we operate on arrays of different shapes? Should we reshape them first to a common shape?"
   ]
  },
  {
   "cell_type": "code",
   "execution_count": 50,
   "metadata": {
    "ExecuteTime": {
     "end_time": "2019-11-08T08:56:58.155069Z",
     "start_time": "2019-11-08T08:56:58.145936Z"
    }
   },
   "outputs": [],
   "source": [
    "arr_2d = np.random.randint(10, size=(10, 3))\n",
    "arr_1d_1 = np.random.randint(10, size=(3, ))\n",
    "arr_1d_2 = np.random.randint(10, size=(10, ))"
   ]
  },
  {
   "cell_type": "code",
   "execution_count": 51,
   "metadata": {
    "ExecuteTime": {
     "end_time": "2019-11-08T08:57:05.429483Z",
     "start_time": "2019-11-08T08:57:05.424157Z"
    }
   },
   "outputs": [
    {
     "data": {
      "text/plain": [
       "array([[4, 1, 7],\n",
       "       [0, 6, 0],\n",
       "       [3, 8, 0],\n",
       "       [3, 5, 0],\n",
       "       [3, 9, 4],\n",
       "       [7, 6, 3],\n",
       "       [2, 6, 7],\n",
       "       [8, 8, 0],\n",
       "       [4, 6, 4],\n",
       "       [1, 3, 6]])"
      ]
     },
     "execution_count": 51,
     "metadata": {},
     "output_type": "execute_result"
    }
   ],
   "source": [
    "arr_2d"
   ]
  },
  {
   "cell_type": "code",
   "execution_count": 52,
   "metadata": {
    "ExecuteTime": {
     "end_time": "2019-11-08T08:57:05.720153Z",
     "start_time": "2019-11-08T08:57:05.713397Z"
    }
   },
   "outputs": [
    {
     "data": {
      "text/plain": [
       "array([1, 3, 0])"
      ]
     },
     "execution_count": 52,
     "metadata": {},
     "output_type": "execute_result"
    }
   ],
   "source": [
    "arr_1d_1"
   ]
  },
  {
   "cell_type": "code",
   "execution_count": 53,
   "metadata": {
    "ExecuteTime": {
     "end_time": "2019-11-08T08:57:05.885997Z",
     "start_time": "2019-11-08T08:57:05.879191Z"
    }
   },
   "outputs": [
    {
     "data": {
      "text/plain": [
       "array([8, 5, 0, 5, 2, 6, 9, 8, 5, 8])"
      ]
     },
     "execution_count": 53,
     "metadata": {},
     "output_type": "execute_result"
    }
   ],
   "source": [
    "arr_1d_2"
   ]
  },
  {
   "cell_type": "code",
   "execution_count": 54,
   "metadata": {
    "ExecuteTime": {
     "end_time": "2019-11-08T08:57:15.524114Z",
     "start_time": "2019-11-08T08:57:15.516679Z"
    }
   },
   "outputs": [
    {
     "data": {
      "text/plain": [
       "(array([[4, 1, 7],\n",
       "        [0, 6, 0],\n",
       "        [3, 8, 0],\n",
       "        [3, 5, 0],\n",
       "        [3, 9, 4],\n",
       "        [7, 6, 3],\n",
       "        [2, 6, 7],\n",
       "        [8, 8, 0],\n",
       "        [4, 6, 4],\n",
       "        [1, 3, 6]]),\n",
       " array([1, 3, 0]))"
      ]
     },
     "execution_count": 54,
     "metadata": {},
     "output_type": "execute_result"
    }
   ],
   "source": [
    "arr_2d, arr_1d_1"
   ]
  },
  {
   "cell_type": "markdown",
   "metadata": {},
   "source": [
    "Can we add the two?"
   ]
  },
  {
   "cell_type": "code",
   "execution_count": 55,
   "metadata": {
    "ExecuteTime": {
     "end_time": "2019-11-08T08:57:27.247400Z",
     "start_time": "2019-11-08T08:57:27.241377Z"
    }
   },
   "outputs": [
    {
     "data": {
      "text/plain": [
       "array([[ 5,  4,  7],\n",
       "       [ 1,  9,  0],\n",
       "       [ 4, 11,  0],\n",
       "       [ 4,  8,  0],\n",
       "       [ 4, 12,  4],\n",
       "       [ 8,  9,  3],\n",
       "       [ 3,  9,  7],\n",
       "       [ 9, 11,  0],\n",
       "       [ 5,  9,  4],\n",
       "       [ 2,  6,  6]])"
      ]
     },
     "execution_count": 55,
     "metadata": {},
     "output_type": "execute_result"
    }
   ],
   "source": [
    "arr_2d + arr_1d_1"
   ]
  },
  {
   "cell_type": "markdown",
   "metadata": {},
   "source": [
    "But what was really added to `arr_2d`?"
   ]
  },
  {
   "cell_type": "code",
   "execution_count": 58,
   "metadata": {
    "ExecuteTime": {
     "end_time": "2019-11-08T08:58:12.410031Z",
     "start_time": "2019-11-08T08:58:12.396605Z"
    }
   },
   "outputs": [
    {
     "data": {
      "text/plain": [
       "array([[1, 3, 0],\n",
       "       [1, 3, 0],\n",
       "       [1, 3, 0],\n",
       "       [1, 3, 0],\n",
       "       [1, 3, 0],\n",
       "       [1, 3, 0],\n",
       "       [1, 3, 0],\n",
       "       [1, 3, 0],\n",
       "       [1, 3, 0],\n",
       "       [1, 3, 0]])"
      ]
     },
     "execution_count": 58,
     "metadata": {},
     "output_type": "execute_result"
    }
   ],
   "source": [
    "(arr_2d + arr_1d_1) - arr_2d"
   ]
  },
  {
   "cell_type": "markdown",
   "metadata": {
    "ExecuteTime": {
     "end_time": "2019-11-05T15:45:38.839269Z",
     "start_time": "2019-11-05T15:45:38.821931Z"
    }
   },
   "source": [
    "Can we do the same with `arr_1d_2`?"
   ]
  },
  {
   "cell_type": "code",
   "execution_count": 59,
   "metadata": {},
   "outputs": [
    {
     "ename": "ValueError",
     "evalue": "operands could not be broadcast together with shapes (10,3) (10,) ",
     "output_type": "error",
     "traceback": [
      "\u001b[1;31m---------------------------------------------------------------------------\u001b[0m",
      "\u001b[1;31mValueError\u001b[0m                                Traceback (most recent call last)",
      "\u001b[1;32m~\\AppData\\Local\\Temp/ipykernel_28020/3762372252.py\u001b[0m in \u001b[0;36m<module>\u001b[1;34m\u001b[0m\n\u001b[1;32m----> 1\u001b[1;33m \u001b[0marr_2d\u001b[0m \u001b[1;33m+\u001b[0m \u001b[0marr_1d_2\u001b[0m\u001b[1;33m\u001b[0m\u001b[1;33m\u001b[0m\u001b[0m\n\u001b[0m",
      "\u001b[1;31mValueError\u001b[0m: operands could not be broadcast together with shapes (10,3) (10,) "
     ]
    }
   ],
   "source": [
    "arr_2d + arr_1d_2"
   ]
  },
  {
   "cell_type": "markdown",
   "metadata": {},
   "source": [
    "We need to change `arr_1d_2` shape first:"
   ]
  },
  {
   "cell_type": "code",
   "execution_count": 60,
   "metadata": {
    "ExecuteTime": {
     "end_time": "2019-11-08T08:59:12.133878Z",
     "start_time": "2019-11-08T08:59:12.120597Z"
    }
   },
   "outputs": [
    {
     "data": {
      "text/plain": [
       "array([[12,  9, 15],\n",
       "       [ 5, 11,  5],\n",
       "       [ 3,  8,  0],\n",
       "       [ 8, 10,  5],\n",
       "       [ 5, 11,  6],\n",
       "       [13, 12,  9],\n",
       "       [11, 15, 16],\n",
       "       [16, 16,  8],\n",
       "       [ 9, 11,  9],\n",
       "       [ 9, 11, 14]])"
      ]
     },
     "execution_count": 60,
     "metadata": {},
     "output_type": "execute_result"
    }
   ],
   "source": [
    "arr_2d + arr_1d_2.reshape((10,1))"
   ]
  },
  {
   "cell_type": "markdown",
   "metadata": {},
   "source": [
    "Alternatively, we can do:"
   ]
  },
  {
   "cell_type": "code",
   "execution_count": 61,
   "metadata": {},
   "outputs": [
    {
     "data": {
      "text/plain": [
       "array([[8],\n",
       "       [5],\n",
       "       [0],\n",
       "       [5],\n",
       "       [2],\n",
       "       [6],\n",
       "       [9],\n",
       "       [8],\n",
       "       [5],\n",
       "       [8]])"
      ]
     },
     "execution_count": 61,
     "metadata": {},
     "output_type": "execute_result"
    }
   ],
   "source": [
    "np.expand_dims(arr_1d_2, axis=1)"
   ]
  },
  {
   "cell_type": "code",
   "execution_count": 64,
   "metadata": {},
   "outputs": [
    {
     "data": {
      "text/plain": [
       "array([[4, 1, 7],\n",
       "       [0, 6, 0],\n",
       "       [3, 8, 0],\n",
       "       [3, 5, 0],\n",
       "       [3, 9, 4],\n",
       "       [7, 6, 3],\n",
       "       [2, 6, 7],\n",
       "       [8, 8, 0],\n",
       "       [4, 6, 4],\n",
       "       [1, 3, 6]])"
      ]
     },
     "execution_count": 64,
     "metadata": {},
     "output_type": "execute_result"
    }
   ],
   "source": [
    "arr_2d"
   ]
  },
  {
   "cell_type": "code",
   "execution_count": 65,
   "metadata": {},
   "outputs": [
    {
     "data": {
      "text/plain": [
       "array([8, 5, 0, 5, 2, 6, 9, 8, 5, 8])"
      ]
     },
     "execution_count": 65,
     "metadata": {},
     "output_type": "execute_result"
    }
   ],
   "source": [
    "arr_1d_2"
   ]
  },
  {
   "cell_type": "code",
   "execution_count": 63,
   "metadata": {
    "ExecuteTime": {
     "end_time": "2019-11-08T08:59:52.510473Z",
     "start_time": "2019-11-08T08:59:52.503006Z"
    }
   },
   "outputs": [
    {
     "data": {
      "text/plain": [
       "array([[12,  9, 15],\n",
       "       [ 5, 11,  5],\n",
       "       [ 3,  8,  0],\n",
       "       [ 8, 10,  5],\n",
       "       [ 5, 11,  6],\n",
       "       [13, 12,  9],\n",
       "       [11, 15, 16],\n",
       "       [16, 16,  8],\n",
       "       [ 9, 11,  9],\n",
       "       [ 9, 11, 14]])"
      ]
     },
     "execution_count": 63,
     "metadata": {},
     "output_type": "execute_result"
    }
   ],
   "source": [
    "arr_2d + np.expand_dims(arr_1d_2, axis=1)"
   ]
  },
  {
   "cell_type": "markdown",
   "metadata": {},
   "source": [
    "It seems `arr_1d_2` was \"replicated\" in the same way as `arr_1d_1` but along different axis:"
   ]
  },
  {
   "cell_type": "code",
   "execution_count": null,
   "metadata": {
    "ExecuteTime": {
     "end_time": "2019-11-08T09:01:26.643342Z",
     "start_time": "2019-11-08T09:01:26.637492Z"
    }
   },
   "outputs": [],
   "source": [
    "(arr_2d + np.expand_dims(arr_1d_2, axis=1)) - arr_2d"
   ]
  },
  {
   "cell_type": "markdown",
   "metadata": {},
   "source": [
    "To reveal the pattern, let's try a `3D` array:"
   ]
  },
  {
   "cell_type": "code",
   "execution_count": null,
   "metadata": {
    "ExecuteTime": {
     "end_time": "2019-11-08T09:01:55.096334Z",
     "start_time": "2019-11-08T09:01:55.092692Z"
    }
   },
   "outputs": [],
   "source": [
    "arr_3d = np.random.randint(10, size=(7, 10, 3))"
   ]
  },
  {
   "cell_type": "code",
   "execution_count": null,
   "metadata": {
    "ExecuteTime": {
     "end_time": "2019-11-08T09:02:03.957446Z",
     "start_time": "2019-11-08T09:02:03.949715Z"
    }
   },
   "outputs": [],
   "source": [
    "arr_1d_1.shape"
   ]
  },
  {
   "cell_type": "code",
   "execution_count": null,
   "metadata": {},
   "outputs": [],
   "source": [
    "arr_3d"
   ]
  },
  {
   "cell_type": "code",
   "execution_count": null,
   "metadata": {
    "ExecuteTime": {
     "end_time": "2019-11-08T09:02:10.212318Z",
     "start_time": "2019-11-08T09:02:10.205968Z"
    }
   },
   "outputs": [],
   "source": [
    "arr_3d + arr_1d_1"
   ]
  },
  {
   "cell_type": "code",
   "execution_count": null,
   "metadata": {},
   "outputs": [],
   "source": [
    "(arr_3d + arr_1d_1) - arr_3d"
   ]
  },
  {
   "cell_type": "code",
   "execution_count": null,
   "metadata": {
    "ExecuteTime": {
     "end_time": "2019-11-05T15:52:15.450111Z",
     "start_time": "2019-11-05T15:52:15.434921Z"
    }
   },
   "outputs": [],
   "source": [
    "arr_3d.shape, arr_1d_1.shape"
   ]
  },
  {
   "cell_type": "markdown",
   "metadata": {},
   "source": [
    "Can we do the same with `arr_1d_2`?"
   ]
  },
  {
   "cell_type": "code",
   "execution_count": null,
   "metadata": {
    "ExecuteTime": {
     "end_time": "2019-11-08T09:02:44.619458Z",
     "start_time": "2019-11-08T09:02:44.609745Z"
    }
   },
   "outputs": [],
   "source": [
    "arr_3d + arr_1d_2"
   ]
  },
  {
   "cell_type": "code",
   "execution_count": null,
   "metadata": {
    "ExecuteTime": {
     "end_time": "2019-11-05T15:57:04.392250Z",
     "start_time": "2019-11-05T15:57:04.369480Z"
    }
   },
   "outputs": [],
   "source": [
    "arr_3d.shape, arr_1d_2.shape, np.expand_dims(arr_1d_2, axis=1).shape"
   ]
  },
  {
   "cell_type": "raw",
   "metadata": {},
   "source": [
    "(7, 10, 3) + (10,) -> {3 dimensions} -> (7, 10, 3) + (1, 1, 10) -> cannot broadcast together\n",
    "(7, 10, 3) + (10,) -> (7, 10, 3) + (10, 1) -> {3 dimensions} -> (7, 10, 3) + (1, 10, 1) -> works perfectly"
   ]
  },
  {
   "cell_type": "code",
   "execution_count": null,
   "metadata": {
    "ExecuteTime": {
     "end_time": "2019-11-08T09:03:10.112622Z",
     "start_time": "2019-11-08T09:03:10.106332Z"
    }
   },
   "outputs": [],
   "source": [
    "(arr_3d + np.expand_dims(arr_1d_2, axis=1)) - arr_3d"
   ]
  },
  {
   "cell_type": "markdown",
   "metadata": {
    "ExecuteTime": {
     "end_time": "2019-10-29T10:33:41.172751Z",
     "start_time": "2019-10-29T10:33:41.165332Z"
    }
   },
   "source": [
    "Broadcasting rules:\n",
    "    \n",
    "- All input arrays with `ndim` smaller than the input array of largest `ndim`, have 1’s **prepended** to their shapes.\n",
    "- The size in each dimension of the output shape is the **maximum** of all the input sizes in that dimension.\n",
    "- An input can be used in the calculation if its size in a particular dimension either **matches** the output size in that dimension, or **is exactly 1**.\n",
    "- If an input has a dimension of size 1 in its shape, the first data entry in that dimension will be used for all calculations along that dimension. In other words, the stepping machinery of a `ufunc` will simply not step along that dimension (stride will be 0 for that dimension)."
   ]
  },
  {
   "cell_type": "markdown",
   "metadata": {},
   "source": [
    "### How broadcasting really works"
   ]
  },
  {
   "cell_type": "markdown",
   "metadata": {},
   "source": [
    "What happens, when we add a unit dimension somewhere?"
   ]
  },
  {
   "cell_type": "code",
   "execution_count": 68,
   "metadata": {},
   "outputs": [
    {
     "data": {
      "text/plain": [
       "(1, 3)"
      ]
     },
     "execution_count": 68,
     "metadata": {},
     "output_type": "execute_result"
    }
   ],
   "source": [
    "arr_1d_1[np.newaxis, :]"
   ]
  },
  {
   "cell_type": "code",
   "execution_count": null,
   "metadata": {},
   "outputs": [],
   "source": [
    "arr_1d_1[np.newaxis, :].strides"
   ]
  },
  {
   "cell_type": "markdown",
   "metadata": {},
   "source": [
    "`strides[0]` is `0`, which means we can use dimension `0` of `arr_1d_1[np.newaxis, :]` in any (underlying, C) loop with any number of iterations. Let's emulate this in pure Python:"
   ]
  },
  {
   "cell_type": "code",
   "execution_count": null,
   "metadata": {},
   "outputs": [],
   "source": []
  },
  {
   "cell_type": "raw",
   "metadata": {},
   "source": [
    "arr_1d_1_bc = arr_1d_1[np.newaxis, :]\n",
    "arr_1d_1_bc"
   ]
  },
  {
   "cell_type": "code",
   "execution_count": 69,
   "metadata": {},
   "outputs": [
    {
     "data": {
      "text/plain": [
       "array([[4, 1, 7],\n",
       "       [0, 6, 0],\n",
       "       [3, 8, 0],\n",
       "       [3, 5, 0],\n",
       "       [3, 9, 4],\n",
       "       [7, 6, 3],\n",
       "       [2, 6, 7],\n",
       "       [8, 8, 0],\n",
       "       [4, 6, 4],\n",
       "       [1, 3, 6]])"
      ]
     },
     "execution_count": 69,
     "metadata": {},
     "output_type": "execute_result"
    }
   ],
   "source": [
    "arr_2d"
   ]
  },
  {
   "cell_type": "code",
   "execution_count": null,
   "metadata": {},
   "outputs": [],
   "source": [
    "for i in range(arr_2d.shape[0]):\n",
    "\n",
    "    print(f\"Adding elements of row {i}\")\n",
    "\n",
    "    for j in range(arr_2d.shape[1]):\n",
    "        arr_2d_address = arr_2d.strides[1] * j + arr_2d.strides[0] * i\n",
    "        arr_1d_address = arr_1d_1_bc.strides[1] * j + arr_1d_1_bc.strides[0] * i\n",
    "\n",
    "        print(f\"\\tarr_2d address: {arr_2d_address}\")\n",
    "        print(f\"\\tarr_1d_1_bc address: {arr_1d_address}\")\n",
    "    print(\"-\" * 80)"
   ]
  },
  {
   "cell_type": "code",
   "execution_count": null,
   "metadata": {},
   "outputs": [],
   "source": []
  }
 ],
 "metadata": {
  "@webio": {
   "lastCommId": null,
   "lastKernelId": null
  },
  "kernelspec": {
   "display_name": "Python 3 (ipykernel)",
   "language": "python",
   "name": "python3"
  },
  "language_info": {
   "codemirror_mode": {
    "name": "ipython",
    "version": 3
   },
   "file_extension": ".py",
   "mimetype": "text/x-python",
   "name": "python",
   "nbconvert_exporter": "python",
   "pygments_lexer": "ipython3",
   "version": "3.7.10"
  }
 },
 "nbformat": 4,
 "nbformat_minor": 4
}
