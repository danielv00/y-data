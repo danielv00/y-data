{
 "cells": [
  {
   "cell_type": "markdown",
   "metadata": {
    "id": "w-GozcdBNzrX"
   },
   "source": [
    "# Word Embedding - Home Assigment\n",
    "## Dr. Omri Allouche 2021-2022. YData Deep Learning Course\n",
    "\n",
    "[Open in Google Colab](https://colab.research.google.com/github/omriallouche/ydata_deep_learning_2021/blob/master/assignments/word_vectors_text_classification/DL_word_embedding_assignment.ipynb)\n",
    "\n",
    "    \n",
    "In this exercise, you'll use word vectors trained on a corpus of lyrics of songs from MetroLyrics http://github.com/omriallouche/ydata_deep_learning_2021/blob/master/data/metrolyrics.parquet.\n",
    "The dataset contains these fields for each song, in CSV format:\n",
    "1. index\n",
    "1. song\n",
    "1. year\n",
    "1. artist\n",
    "1. genre\n",
    "1. lyrics\n",
    "\n",
    "Before doing this exercise, we recommend that you go over the \"Bag of words meets bag of popcorn\" tutorial (https://www.kaggle.com/c/word2vec-nlp-tutorial)\n",
    "\n",
    "Other recommended resources:\n",
    "- https://rare-technologies.com/word2vec-tutorial/\n",
    "- https://www.kaggle.com/pierremegret/gensim-word2vec-tutorial"
   ]
  },
  {
   "cell_type": "markdown",
   "metadata": {
    "id": "RYjoiJkqNzrd"
   },
   "source": [
    "### Train word vectors\n",
    "Train word vectors using the Skipgram Word2vec algorithm and the gensim package.\n",
    "Make sure you perform the following:\n",
    "- Tokenize words\n",
    "- Lowercase all words\n",
    "- Remove punctuation marks\n",
    "- Remove rare words\n",
    "- Remove stopwords\n",
    "\n",
    "Use 300 as the dimension of the word vectors. Try different context sizes."
   ]
  },
  {
   "cell_type": "code",
   "execution_count": null,
   "metadata": {},
   "outputs": [],
   "source": [
    "!pip install pyarrow\n",
    "\n",
    "!pip install fastparquet"
   ]
  },
  {
   "cell_type": "code",
   "execution_count": null,
   "metadata": {},
   "outputs": [],
   "source": [
    "!pip install pytorch_lightning"
   ]
  },
  {
   "cell_type": "code",
   "execution_count": 137,
   "metadata": {
    "id": "sQIiv0pdNzre"
   },
   "outputs": [],
   "source": [
    "import numpy as np\n",
    "import pandas as pd\n",
    "import os\n",
    "import re\n",
    "import nltk\n",
    "from time import time\n",
    "from nltk.corpus import stopwords\n",
    "from gensim.models import Word2Vec\n",
    "import multiprocessing\n",
    "from tqdm.auto import tqdm\n",
    "tqdm.pandas()\n",
    "import nltk\n",
    "from nltk.tokenize import word_tokenize\n",
    "from nltk.corpus import stopwords\n",
    "import re\n",
    "import string\n",
    "from IPython.display import HTML\n",
    "import gensim\n",
    "import warnings\n",
    "import matplotlib.pyplot as plt\n",
    "import collections\n",
    "from collections import Counter\n",
    "warnings.filterwarnings('ignore')\n",
    "from torch.utils.data import Dataset, DataLoader\n",
    "from torch import nn\n",
    "import torch\n",
    "import torch.optim as optim\n",
    "from torch.optim import lr_scheduler\n",
    "# from pytorch_lightning import metrics\n",
    "import torchmetrics"
   ]
  },
  {
   "cell_type": "code",
   "execution_count": 7,
   "metadata": {},
   "outputs": [
    {
     "name": "stderr",
     "output_type": "stream",
     "text": [
      "[nltk_data] Downloading package stopwords to\n",
      "[nltk_data]     C:\\Users\\ddd\\AppData\\Roaming\\nltk_data...\n",
      "[nltk_data]   Package stopwords is already up-to-date!\n"
     ]
    },
    {
     "data": {
      "text/plain": [
       "True"
      ]
     },
     "execution_count": 7,
     "metadata": {},
     "output_type": "execute_result"
    }
   ],
   "source": [
    "nltk.download('stopwords')"
   ]
  },
  {
   "cell_type": "code",
   "execution_count": 8,
   "metadata": {},
   "outputs": [
    {
     "name": "stdout",
     "output_type": "stream",
     "text": [
      "Wall time: 1.62 s\n"
     ]
    }
   ],
   "source": [
    "%%time\n",
    "# train = pd.read_csv('metrolyrics.parquet.csv', index_col=0)\n",
    "df_lyrics = pd.read_parquet('metrolyrics.parquet')\n"
   ]
  },
  {
   "cell_type": "code",
   "execution_count": 9,
   "metadata": {},
   "outputs": [
    {
     "data": {
      "text/html": [
       "<div>\n",
       "<style scoped>\n",
       "    .dataframe tbody tr th:only-of-type {\n",
       "        vertical-align: middle;\n",
       "    }\n",
       "\n",
       "    .dataframe tbody tr th {\n",
       "        vertical-align: top;\n",
       "    }\n",
       "\n",
       "    .dataframe thead th {\n",
       "        text-align: right;\n",
       "    }\n",
       "</style>\n",
       "<table border=\"1\" class=\"dataframe\">\n",
       "  <thead>\n",
       "    <tr style=\"text-align: right;\">\n",
       "      <th></th>\n",
       "      <th>song</th>\n",
       "      <th>year</th>\n",
       "      <th>artist</th>\n",
       "      <th>genre</th>\n",
       "      <th>lyrics</th>\n",
       "      <th>num_chars</th>\n",
       "      <th>sent</th>\n",
       "      <th>num_words</th>\n",
       "    </tr>\n",
       "  </thead>\n",
       "  <tbody>\n",
       "    <tr>\n",
       "      <th>204182</th>\n",
       "      <td>fully-dressed</td>\n",
       "      <td>2008</td>\n",
       "      <td>annie</td>\n",
       "      <td>Pop</td>\n",
       "      <td>[HEALY]\\n[spoken] This is Bert Healy saying .....</td>\n",
       "      <td>1041</td>\n",
       "      <td>healy spoken this bert healy saying singing he...</td>\n",
       "      <td>826</td>\n",
       "    </tr>\n",
       "    <tr>\n",
       "      <th>6116</th>\n",
       "      <td>surrounded-by-hoes</td>\n",
       "      <td>2006</td>\n",
       "      <td>50-cent</td>\n",
       "      <td>Hip-Hop</td>\n",
       "      <td>[Chorus: repeat 2X] Even when I'm tryin to be ...</td>\n",
       "      <td>1392</td>\n",
       "      <td>chorus repeat x even i tryin low i recognized ...</td>\n",
       "      <td>884</td>\n",
       "    </tr>\n",
       "    <tr>\n",
       "      <th>166369</th>\n",
       "      <td>taste-the-tears-thunderpuss-remix</td>\n",
       "      <td>2006</td>\n",
       "      <td>amber</td>\n",
       "      <td>Pop</td>\n",
       "      <td>How could you cause me so much pain?\\nAnd leav...</td>\n",
       "      <td>1113</td>\n",
       "      <td>how could cause much pain and leave heart rain...</td>\n",
       "      <td>756</td>\n",
       "    </tr>\n",
       "    <tr>\n",
       "      <th>198416</th>\n",
       "      <td>the-truth-will-set-me-free</td>\n",
       "      <td>2006</td>\n",
       "      <td>glenn-hughes</td>\n",
       "      <td>Rock</td>\n",
       "      <td>In a scarlet vision\\nIn a velvet room\\nI come ...</td>\n",
       "      <td>779</td>\n",
       "      <td>in scarlet vision in velvet room i come decisi...</td>\n",
       "      <td>583</td>\n",
       "    </tr>\n",
       "    <tr>\n",
       "      <th>127800</th>\n",
       "      <td>the-last-goodbye</td>\n",
       "      <td>2008</td>\n",
       "      <td>aaron-pritchett</td>\n",
       "      <td>Country</td>\n",
       "      <td>Sprintime in Savannah\\nIt dont get much pretti...</td>\n",
       "      <td>881</td>\n",
       "      <td>sprintime savannah it dont get much prettier b...</td>\n",
       "      <td>639</td>\n",
       "    </tr>\n",
       "  </tbody>\n",
       "</table>\n",
       "</div>"
      ],
      "text/plain": [
       "                                     song  year           artist    genre  \\\n",
       "204182                      fully-dressed  2008            annie      Pop   \n",
       "6116                   surrounded-by-hoes  2006          50-cent  Hip-Hop   \n",
       "166369  taste-the-tears-thunderpuss-remix  2006            amber      Pop   \n",
       "198416         the-truth-will-set-me-free  2006     glenn-hughes     Rock   \n",
       "127800                   the-last-goodbye  2008  aaron-pritchett  Country   \n",
       "\n",
       "                                                   lyrics  num_chars  \\\n",
       "204182  [HEALY]\\n[spoken] This is Bert Healy saying .....       1041   \n",
       "6116    [Chorus: repeat 2X] Even when I'm tryin to be ...       1392   \n",
       "166369  How could you cause me so much pain?\\nAnd leav...       1113   \n",
       "198416  In a scarlet vision\\nIn a velvet room\\nI come ...        779   \n",
       "127800  Sprintime in Savannah\\nIt dont get much pretti...        881   \n",
       "\n",
       "                                                     sent  num_words  \n",
       "204182  healy spoken this bert healy saying singing he...        826  \n",
       "6116    chorus repeat x even i tryin low i recognized ...        884  \n",
       "166369  how could cause much pain and leave heart rain...        756  \n",
       "198416  in scarlet vision in velvet room i come decisi...        583  \n",
       "127800  sprintime savannah it dont get much prettier b...        639  "
      ]
     },
     "execution_count": 9,
     "metadata": {},
     "output_type": "execute_result"
    }
   ],
   "source": [
    "df_lyrics.head()"
   ]
  },
  {
   "cell_type": "code",
   "execution_count": 10,
   "metadata": {},
   "outputs": [
    {
     "data": {
      "text/plain": [
       "'healy spoken this bert healy saying singing hey hobo man hey dapper dan you got style but brother you never fully dressed without smile your clothes may beau brummelly they stand mile but brother you never fully dressed without smile who cares wearing on main street or saville row it wear ear ear and head toe that matters so senator so janitor so long remember you never fully dressed without smile boylan sister ready goes listen bert tap smilin toes healy spoken ah lovely boylan sisters boylan sisters doo doodle oo doo doo doodle oo doo doo doo doo doo doo doo doo doo your clothes may beau brummelly they stand mile but bother you never fully dressed you never dressed without connie boylan s bonnie boylan m ronnie boylan i connie boylan l all three e smile darn ya smile all that matters so senator so janitor so long'"
      ]
     },
     "execution_count": 10,
     "metadata": {},
     "output_type": "execute_result"
    }
   ],
   "source": [
    "df_lyrics.sent[204182]"
   ]
  },
  {
   "cell_type": "code",
   "execution_count": 11,
   "metadata": {},
   "outputs": [],
   "source": [
    "stop_words = set(stopwords.words('english'))"
   ]
  },
  {
   "cell_type": "markdown",
   "metadata": {},
   "source": [
    "Tokenize words, Lowercase all words, Remove punctuation marks, Remove stopwords:"
   ]
  },
  {
   "cell_type": "code",
   "execution_count": 12,
   "metadata": {},
   "outputs": [
    {
     "data": {
      "application/vnd.jupyter.widget-view+json": {
       "model_id": "",
       "version_major": 2,
       "version_minor": 0
      },
      "text/plain": [
       "  0%|          | 0/49976 [00:00<?, ?it/s]"
      ]
     },
     "metadata": {},
     "output_type": "display_data"
    }
   ],
   "source": [
    "def process_text (text):\n",
    "    text = re.sub(\"[^a-zA-Z]\", \" \", text)\n",
    "    text = text.lower().split()\n",
    "    text = [word for word in text if word not in stop_words]\n",
    "    return text\n",
    "\n",
    "df_lyrics['clean_lyrics'] = df_lyrics.lyrics.progress_apply(process_text)\n"
   ]
  },
  {
   "cell_type": "markdown",
   "metadata": {},
   "source": [
    "Remove top 100 rare words:"
   ]
  },
  {
   "cell_type": "code",
   "execution_count": 13,
   "metadata": {},
   "outputs": [
    {
     "data": {
      "application/vnd.jupyter.widget-view+json": {
       "model_id": "",
       "version_major": 2,
       "version_minor": 0
      },
      "text/plain": [
       "  0%|          | 0/49976 [00:00<?, ?it/s]"
      ]
     },
     "metadata": {},
     "output_type": "display_data"
    }
   ],
   "source": [
    "words_counter = Counter(' '.join([' '.join(i) for i in tqdm(df_lyrics[\"clean_lyrics\"])]).split())\n",
    "top_100_rare_words = [a_tuple[0] for a_tuple in words_counter.most_common()[-100:]]\n",
    "top_100_rare_words_set = set(top_100_rare_words)"
   ]
  },
  {
   "cell_type": "code",
   "execution_count": 14,
   "metadata": {},
   "outputs": [
    {
     "data": {
      "application/vnd.jupyter.widget-view+json": {
       "model_id": "",
       "version_major": 2,
       "version_minor": 0
      },
      "text/plain": [
       "  0%|          | 0/49976 [00:00<?, ?it/s]"
      ]
     },
     "metadata": {},
     "output_type": "display_data"
    }
   ],
   "source": [
    "def remove_rare_words (text):\n",
    "    text = [word for word in text if word not in top_100_rare_words_set]\n",
    "    return text\n",
    "\n",
    "df_lyrics['clean_lyrics'] = df_lyrics.clean_lyrics.progress_apply(remove_rare_words)"
   ]
  },
  {
   "cell_type": "code",
   "execution_count": 15,
   "metadata": {},
   "outputs": [
    {
     "data": {
      "text/html": [
       "<table border=\"1\" class=\"dataframe\">\n",
       "  <thead>\n",
       "    <tr style=\"text-align: right;\">\n",
       "      <th>lyrics</th>\n",
       "      <th>clean_lyrics</th>\n",
       "    </tr>\n",
       "  </thead>\n",
       "  <tbody>\n",
       "    <tr>\n",
       "      <td>[HEALY]\\n[spoken] This is Bert Healy saying ...\\n[singing now] Hey, hobo man\\nHey, Dapper Dan\\nYou've both got your style\\nBut Brother,\\nYou're never fully dressed\\nWithout a smile!\\nYour clothes may be Beau Brummelly\\nThey stand out a mile --\\nBut Brother,\\nYou're never fully dressed\\nWithout a smile!\\nWho cares what they're wearing\\nOn Main Street,\\nOr Saville Row,\\nIt's what you wear from ear to ear\\nAnd not from head to toe\\n(That matters)\\nSo, Senator,\\nSo, Janitor,\\nSo long for a while\\nRemember,\\nYou're never fully dressed\\nWithout a smile!\\n[BOYLAN SISTER]\\nReady or not, here he goes\\nListen to Bert\\nTap his smilin' toes\\n[HEALY]\\n[spoken] Ah, the lovely Boylan Sisters\\n[BOYLAN SISTERS]\\nDoo doodle-oo doo\\nDoo doodle-oo doo\\nDoo doo doo doo\\nDoo doo doo doo\\nYour clothes may be Beau Brummelly\\nThey stand out a mile\\nBut, bother\\nYou're never fully dressed\\nYou're never dressed\\nWithout an\\n[CONNIE BOYLAN]\\nS-\\n[BONNIE BOYLAN]\\nM-\\n[RONNIE BOYLAN]\\nI-\\n[CONNIE BOYLAN]\\nL-\\n[ALL THREE]\\nE.\\nSmile darn ya smile.\\n[ALL]\\nThat matters\\nSo Senator\\nSo Janitor\\nSo long for a while</td>\n",
       "      <td>[healy, spoken, bert, healy, saying, singing, hey, hobo, man, hey, dapper, dan, got, style, brother, never, fully, dressed, without, smile, clothes, may, beau, brummelly, stand, mile, brother, never, fully, dressed, without, smile, cares, wearing, main, street, saville, row, wear, ear, ear, head, toe, matters, senator, janitor, long, remember, never, fully, dressed, without, smile, boylan, sister, ready, goes, listen, bert, tap, smilin, toes, healy, spoken, ah, lovely, boylan, sisters, boylan, sisters, doo, doodle, oo, doo, doo, doodle, oo, doo, doo, doo, doo, doo, doo, doo, doo, doo, clothes, may, beau, brummelly, stand, mile, bother, never, fully, dressed, never, dressed, without, connie, ...]</td>\n",
       "    </tr>\n",
       "  </tbody>\n",
       "</table>"
      ],
      "text/plain": [
       "<IPython.core.display.HTML object>"
      ]
     },
     "execution_count": 15,
     "metadata": {},
     "output_type": "execute_result"
    }
   ],
   "source": [
    "HTML(df_lyrics.head(1)[['lyrics','clean_lyrics']].to_html(index=False))"
   ]
  },
  {
   "cell_type": "markdown",
   "metadata": {},
   "source": [
    "Generate word vector:"
   ]
  },
  {
   "cell_type": "code",
   "execution_count": 16,
   "metadata": {},
   "outputs": [
    {
     "name": "stdout",
     "output_type": "stream",
     "text": [
      "Wall time: 56.7 s\n"
     ]
    },
    {
     "data": {
      "text/plain": [
       "<gensim.models.word2vec.Word2Vec at 0x1b2bd4ee348>"
      ]
     },
     "execution_count": 16,
     "metadata": {},
     "output_type": "execute_result"
    }
   ],
   "source": [
    "%%time\n",
    "word_embeddings = gensim.models.Word2Vec(df_lyrics.clean_lyrics, sg=1, vector_size=100, window=5, workers=multiprocessing.cpu_count(), min_count = 100)\n",
    "word_embeddings"
   ]
  },
  {
   "cell_type": "markdown",
   "metadata": {
    "id": "y4ZnshVBNzrf"
   },
   "source": [
    "### Review most similar words\n",
    "Get initial evaluation of the word vectors by analyzing the most similar words for a few interesting words in the text. \n",
    "\n",
    "Choose words yourself, and find the most similar words to them."
   ]
  },
  {
   "cell_type": "code",
   "execution_count": 17,
   "metadata": {
    "id": "mPxr1BkRNzrg"
   },
   "outputs": [
    {
     "name": "stdout",
     "output_type": "stream",
     "text": [
      "top 5 most common words: ['like', 'know', 'love', 'get', 'got']\n"
     ]
    }
   ],
   "source": [
    "top_5_common_words =[item[0] for item in words_counter.most_common()[:5]]\n",
    "print('top 5 most common words:', top_5_common_words)"
   ]
  },
  {
   "cell_type": "code",
   "execution_count": 18,
   "metadata": {},
   "outputs": [
    {
     "data": {
      "text/plain": [
       "[('scary', 0.5799980759620667),\n",
       " ('cause', 0.5765076875686646),\n",
       " ('got', 0.5562002658843994)]"
      ]
     },
     "execution_count": 18,
     "metadata": {},
     "output_type": "execute_result"
    }
   ],
   "source": [
    "word_embeddings.wv.similar_by_word('like', topn=3)"
   ]
  },
  {
   "cell_type": "code",
   "execution_count": 19,
   "metadata": {},
   "outputs": [],
   "source": [
    "def get_similar_words(check_list, model):\n",
    "    similarity_dict = {}\n",
    "    for word in check_list:\n",
    "        similarity_dict[word] = model.wv.similar_by_word(word, topn=3)\n",
    "        similar_words =[((key,round(value,3))) for key, value in model.wv.similar_by_word(word, topn=3)]\n",
    "        print(f'{word}:\\n {similar_words}')\n",
    "        print()"
   ]
  },
  {
   "cell_type": "code",
   "execution_count": 20,
   "metadata": {},
   "outputs": [
    {
     "name": "stdout",
     "output_type": "stream",
     "text": [
      "like:\n",
      " [('scary', 0.58), ('cause', 0.577), ('got', 0.556)]\n",
      "\n",
      "know:\n",
      " [('cause', 0.773), ('really', 0.717), ('tell', 0.7)]\n",
      "\n",
      "love:\n",
      " [('true', 0.606), ('someone', 0.603), ('tenderly', 0.601)]\n",
      "\n",
      "get:\n",
      " [('cause', 0.653), ('gettin', 0.622), ('getting', 0.579)]\n",
      "\n",
      "got:\n",
      " [('cause', 0.678), ('need', 0.598), ('know', 0.582)]\n",
      "\n",
      "Wall time: 4 ms\n"
     ]
    }
   ],
   "source": [
    "%%time\n",
    "get_similar_words(top_5_common_words, word_embeddings)"
   ]
  },
  {
   "cell_type": "markdown",
   "metadata": {},
   "source": [
    "let's use (sg=0) CBOW instead of skip-grams and see what happes:"
   ]
  },
  {
   "cell_type": "code",
   "execution_count": 21,
   "metadata": {},
   "outputs": [
    {
     "name": "stdout",
     "output_type": "stream",
     "text": [
      "like:\n",
      " [('smooth', 0.409), ('model', 0.4), ('movie', 0.398)]\n",
      "\n",
      "know:\n",
      " [('cause', 0.74), ('really', 0.679), ('tell', 0.622)]\n",
      "\n",
      "love:\n",
      " [('darling', 0.6), ('true', 0.593), ('loving', 0.587)]\n",
      "\n",
      "get:\n",
      " [('cause', 0.548), ('gettin', 0.517), ('crunk', 0.516)]\n",
      "\n",
      "got:\n",
      " [('cause', 0.544), ('problem', 0.519), ('get', 0.502)]\n",
      "\n",
      "Wall time: 30.9 s\n"
     ]
    }
   ],
   "source": [
    "%%time\n",
    "word_embeddings = gensim.models.Word2Vec(df_lyrics.clean_lyrics, sg=0, vector_size=100, window=5, workers=multiprocessing.cpu_count(), min_count = 100)\n",
    "get_similar_words(top_5_common_words, word_embeddings)"
   ]
  },
  {
   "cell_type": "markdown",
   "metadata": {
    "id": "Xg5L0hNyNzrg"
   },
   "source": [
    "### Word Vectors Algebra\n",
    "We've seen in class examples of algebraic games on the word vectors (e.g. man - woman + king = queen ). \n",
    "\n",
    "Try a few vector algebra terms, and evaluate how well they work. Try to use the Cosine distance and compare it to the Euclidean distance."
   ]
  },
  {
   "cell_type": "code",
   "execution_count": 22,
   "metadata": {
    "id": "sx0HBphoNzrh"
   },
   "outputs": [
    {
     "name": "stdout",
     "output_type": "stream",
     "text": [
      "[('heavenly', 0.9091423153877258), ('queen', 0.9051266312599182), ('pleasures', 0.8641696572303772)]\n",
      "[('queen', 0.6130818724632263), ('kings', 0.5389108061790466), ('kingdom', 0.5106572508811951)]\n"
     ]
    }
   ],
   "source": [
    "print(word_embeddings.wv.most_similar_cosmul(positive=['woman', 'king'], negative=['man'])[:3])\n",
    "print(word_embeddings.wv.most_similar(positive=['woman', 'king'], negative=['man'])[:3])"
   ]
  },
  {
   "cell_type": "code",
   "execution_count": 23,
   "metadata": {},
   "outputs": [
    {
     "name": "stdout",
     "output_type": "stream",
     "text": [
      "[('man', 0.7614688873291016), ('fellow', 0.7121339440345764), ('demands', 0.690018355846405)]\n",
      "[('man', 0.5172189474105835), ('fellow', 0.399023175239563), ('understands', 0.36766135692596436)]\n"
     ]
    }
   ],
   "source": [
    "print(word_embeddings.wv.most_similar_cosmul(positive=['woman', 'king'], negative=['queen'])[:3])\n",
    "print(word_embeddings.wv.most_similar(positive=['woman', 'king'], negative=['queen'])[:3])"
   ]
  },
  {
   "cell_type": "code",
   "execution_count": 24,
   "metadata": {},
   "outputs": [
    {
     "name": "stdout",
     "output_type": "stream",
     "text": [
      "[('three', 0.6043959856033325), ('number', 0.5609564781188965), ('another', 0.5097962617874146)]\n",
      "[('three', 0.6539955735206604), ('number', 0.5713785886764526), ('another', 0.5043116211891174)]\n"
     ]
    }
   ],
   "source": [
    "print(word_embeddings.wv.most_similar_cosmul(positive=['one', 'two'])[:3])\n",
    "print(word_embeddings.wv.most_similar(positive=['one', 'two'])[:3])"
   ]
  },
  {
   "cell_type": "code",
   "execution_count": 25,
   "metadata": {},
   "outputs": [
    {
     "name": "stdout",
     "output_type": "stream",
     "text": [
      "[('winning', 0.8515035510063171), ('fuss', 0.8493451476097107), ('needing', 0.8474022746086121)]\n",
      "[('fighting', 0.41835761070251465), ('win', 0.398007869720459), ('needing', 0.39159470796585083)]\n"
     ]
    }
   ],
   "source": [
    "print(word_embeddings.wv.most_similar_cosmul(positive=['love', 'war'], negative=['child'])[:3])\n",
    "print(word_embeddings.wv.most_similar(positive=['love', 'war'], negative=['child'])[:3])"
   ]
  },
  {
   "cell_type": "markdown",
   "metadata": {
    "id": "3sJ0cJq3Nzrh"
   },
   "source": [
    "## Sentiment Analysis\n",
    "Estimate sentiment of words using word vectors.  \n",
    "In this section, we'll use the SemEval-2015 English Twitter Sentiment Lexicon.  \n",
    "The lexicon was used as an official test set in the SemEval-2015 shared Task #10: Subtask E, and contains a polarity score for words in range -1 (negative) to 1 (positive) - http://saifmohammad.com/WebPages/SCL.html#OPP"
   ]
  },
  {
   "cell_type": "markdown",
   "metadata": {
    "id": "b8Fk4guVNzrh"
   },
   "source": [
    "Build a regressor for the sentiment of a word given its word vector (the vector you computed using the song lyrics dataset), in range -1 to 1. Split the data to a train and test sets, and report the model performance on both sets."
   ]
  },
  {
   "cell_type": "code",
   "execution_count": 26,
   "metadata": {
    "id": "BWrblah1Nzri"
   },
   "outputs": [],
   "source": [
    "df_twitter = pd.read_csv('SemEval2015-English-Twitter-Lexicon.txt', delimiter='\\t', header=None, names=('score', 'word'))"
   ]
  },
  {
   "cell_type": "code",
   "execution_count": 27,
   "metadata": {},
   "outputs": [
    {
     "data": {
      "text/html": [
       "<div>\n",
       "<style scoped>\n",
       "    .dataframe tbody tr th:only-of-type {\n",
       "        vertical-align: middle;\n",
       "    }\n",
       "\n",
       "    .dataframe tbody tr th {\n",
       "        vertical-align: top;\n",
       "    }\n",
       "\n",
       "    .dataframe thead th {\n",
       "        text-align: right;\n",
       "    }\n",
       "</style>\n",
       "<table border=\"1\" class=\"dataframe\">\n",
       "  <thead>\n",
       "    <tr style=\"text-align: right;\">\n",
       "      <th></th>\n",
       "      <th>score</th>\n",
       "      <th>word</th>\n",
       "    </tr>\n",
       "  </thead>\n",
       "  <tbody>\n",
       "    <tr>\n",
       "      <th>0</th>\n",
       "      <td>0.984</td>\n",
       "      <td>loves</td>\n",
       "    </tr>\n",
       "    <tr>\n",
       "      <th>1</th>\n",
       "      <td>0.984</td>\n",
       "      <td>#inspirational</td>\n",
       "    </tr>\n",
       "    <tr>\n",
       "      <th>2</th>\n",
       "      <td>0.969</td>\n",
       "      <td>amazing</td>\n",
       "    </tr>\n",
       "    <tr>\n",
       "      <th>3</th>\n",
       "      <td>0.969</td>\n",
       "      <td>#peaceful</td>\n",
       "    </tr>\n",
       "    <tr>\n",
       "      <th>4</th>\n",
       "      <td>0.953</td>\n",
       "      <td>#greatness</td>\n",
       "    </tr>\n",
       "  </tbody>\n",
       "</table>\n",
       "</div>"
      ],
      "text/plain": [
       "   score            word\n",
       "0  0.984           loves\n",
       "1  0.984  #inspirational\n",
       "2  0.969         amazing\n",
       "3  0.969       #peaceful\n",
       "4  0.953      #greatness"
      ]
     },
     "execution_count": 27,
     "metadata": {},
     "output_type": "execute_result"
    }
   ],
   "source": [
    "df_twitter.head()"
   ]
  },
  {
   "cell_type": "code",
   "execution_count": 28,
   "metadata": {},
   "outputs": [
    {
     "data": {
      "text/html": [
       "<div>\n",
       "<style scoped>\n",
       "    .dataframe tbody tr th:only-of-type {\n",
       "        vertical-align: middle;\n",
       "    }\n",
       "\n",
       "    .dataframe tbody tr th {\n",
       "        vertical-align: top;\n",
       "    }\n",
       "\n",
       "    .dataframe thead th {\n",
       "        text-align: right;\n",
       "    }\n",
       "</style>\n",
       "<table border=\"1\" class=\"dataframe\">\n",
       "  <thead>\n",
       "    <tr style=\"text-align: right;\">\n",
       "      <th></th>\n",
       "      <th>score</th>\n",
       "      <th>word</th>\n",
       "      <th>token</th>\n",
       "    </tr>\n",
       "  </thead>\n",
       "  <tbody>\n",
       "    <tr>\n",
       "      <th>0</th>\n",
       "      <td>0.984</td>\n",
       "      <td>loves</td>\n",
       "      <td>loves</td>\n",
       "    </tr>\n",
       "    <tr>\n",
       "      <th>1</th>\n",
       "      <td>0.984</td>\n",
       "      <td>#inspirational</td>\n",
       "      <td>inspirational</td>\n",
       "    </tr>\n",
       "    <tr>\n",
       "      <th>2</th>\n",
       "      <td>0.969</td>\n",
       "      <td>amazing</td>\n",
       "      <td>amazing</td>\n",
       "    </tr>\n",
       "    <tr>\n",
       "      <th>3</th>\n",
       "      <td>0.969</td>\n",
       "      <td>#peaceful</td>\n",
       "      <td>peaceful</td>\n",
       "    </tr>\n",
       "    <tr>\n",
       "      <th>4</th>\n",
       "      <td>0.953</td>\n",
       "      <td>#greatness</td>\n",
       "      <td>greatness</td>\n",
       "    </tr>\n",
       "  </tbody>\n",
       "</table>\n",
       "</div>"
      ],
      "text/plain": [
       "   score            word          token\n",
       "0  0.984           loves          loves\n",
       "1  0.984  #inspirational  inspirational\n",
       "2  0.969         amazing        amazing\n",
       "3  0.969       #peaceful       peaceful\n",
       "4  0.953      #greatness      greatness"
      ]
     },
     "execution_count": 28,
     "metadata": {},
     "output_type": "execute_result"
    }
   ],
   "source": [
    "df_twitter['token'] = df_twitter.word.str.replace('[^a-zA-Z]','')\n",
    "df_twitter.head()"
   ]
  },
  {
   "cell_type": "code",
   "execution_count": 64,
   "metadata": {},
   "outputs": [
    {
     "name": "stdout",
     "output_type": "stream",
     "text": [
      "Wall time: 16.3 ms\n"
     ]
    }
   ],
   "source": [
    "%%time \n",
    "words_vocab = word_embeddings.wv.key_to_index\n",
    "# words_vocab = word_embeddings.wv.vocab\n",
    "df_twitter['embedding'] = df_twitter['token'].apply(lambda x: word_embeddings.wv[x] if x in words_vocab else None)\n",
    "df_twitter\n",
    "df_twitter.dropna(subset=['embedding'], inplace=True)"
   ]
  },
  {
   "cell_type": "code",
   "execution_count": 30,
   "metadata": {},
   "outputs": [
    {
     "data": {
      "image/png": "[encoded data removed]",
      "text/plain": [
       "<Figure size 720x432 with 1 Axes>"
      ]
     },
     "metadata": {
      "needs_background": "light"
     },
     "output_type": "display_data"
    }
   ],
   "source": [
    "plt.figure(figsize=(10, 6))\n",
    "df_twitter.score.hist();"
   ]
  },
  {
   "cell_type": "code",
   "execution_count": 31,
   "metadata": {
    "id": "nPJLbOYENzrj"
   },
   "outputs": [
    {
     "name": "stdout",
     "output_type": "stream",
     "text": [
      "Wall time: 0 ns\n"
     ]
    }
   ],
   "source": [
    "%time\n",
    "from sklearn.ensemble import RandomForestRegressor\n",
    "from sklearn.model_selection import train_test_split\n",
    "\n",
    "regressor = RandomForestRegressor(n_estimators=100)\n",
    "target = df_twitter.score.to_numpy()\n",
    "X = np.array(df_twitter.embedding.to_list())\n",
    "\n",
    "X_train, X_test, target_train, target_test = train_test_split(X, target, test_size=0.1, random_state=42)\n"
   ]
  },
  {
   "cell_type": "code",
   "execution_count": 32,
   "metadata": {},
   "outputs": [
    {
     "data": {
      "text/plain": [
       "RandomForestRegressor()"
      ]
     },
     "execution_count": 32,
     "metadata": {},
     "output_type": "execute_result"
    }
   ],
   "source": [
    "regressor.fit(X_train, target_train)"
   ]
  },
  {
   "cell_type": "code",
   "execution_count": 33,
   "metadata": {},
   "outputs": [],
   "source": [
    "predicttions = regressor.predict(X_test)"
   ]
  },
  {
   "cell_type": "code",
   "execution_count": 34,
   "metadata": {},
   "outputs": [
    {
     "name": "stdout",
     "output_type": "stream",
     "text": [
      "train score: 0.92\n",
      "test score: 0.47\n"
     ]
    }
   ],
   "source": [
    "print (f'train score: {regressor.score(X_train,target_train):.2f}')\n",
    "print (f'test score: {regressor.score(X_test,target_test):.2f}')\n"
   ]
  },
  {
   "cell_type": "markdown",
   "metadata": {
    "id": "6e2LazljNzri"
   },
   "source": [
    "Use your trained model from the previous question to predict the sentiment score of words in the lyrics corpus that are not part of the original sentiment dataset. Review the words with the highest positive and negative sentiment. Do the results make sense?"
   ]
  },
  {
   "cell_type": "code",
   "execution_count": 35,
   "metadata": {},
   "outputs": [
    {
     "name": "stdout",
     "output_type": "stream",
     "text": [
      "Wall time: 3.31 ms\n"
     ]
    }
   ],
   "source": [
    "%%time\n",
    "tokens_set = set(df_twitter.token.values)\n",
    "\n",
    "missing_tokens = []\n",
    "\n",
    "for key in list(words_vocab.keys()):\n",
    "    if (key not in tokens_set):\n",
    "        missing_tokens.append(key)"
   ]
  },
  {
   "cell_type": "code",
   "execution_count": 36,
   "metadata": {},
   "outputs": [
    {
     "data": {
      "text/plain": [
       "(5365, 5987)"
      ]
     },
     "execution_count": 36,
     "metadata": {},
     "output_type": "execute_result"
    }
   ],
   "source": [
    "len(missing_tokens), len(words_vocab.keys())"
   ]
  },
  {
   "cell_type": "code",
   "execution_count": 37,
   "metadata": {},
   "outputs": [
    {
     "name": "stdout",
     "output_type": "stream",
     "text": [
      "Wall time: 232 ms\n"
     ]
    }
   ],
   "source": [
    "%%time\n",
    "missing_tokens_embeddings = np.array([word_embeddings.wv[w] for w in missing_tokens])\n",
    "missing_tokens_predictions = regressor.predict(missing_tokens_embeddings)\n",
    "df_missing_sentiments =  pd.Series(missing_tokens_predictions, index=missing_tokens)"
   ]
  },
  {
   "cell_type": "code",
   "execution_count": 38,
   "metadata": {},
   "outputs": [
    {
     "data": {
      "text/plain": [
       "harmony     0.653147\n",
       "blessed     0.592553\n",
       "joy         0.562680\n",
       "miracle     0.560807\n",
       "grateful    0.539542\n",
       "              ...   \n",
       "suffer     -0.649050\n",
       "betrayal   -0.655175\n",
       "guilt      -0.661846\n",
       "rape       -0.669018\n",
       "raped      -0.673520\n",
       "Length: 5365, dtype: float64"
      ]
     },
     "execution_count": 38,
     "metadata": {},
     "output_type": "execute_result"
    }
   ],
   "source": [
    "df_missing_sentiments.sort_values(ascending=False)"
   ]
  },
  {
   "cell_type": "markdown",
   "metadata": {},
   "source": [
    "As we can we from the scores above the sentiment prediction seems to work :)"
   ]
  },
  {
   "cell_type": "markdown",
   "metadata": {
    "id": "pRQjxwroNzrj"
   },
   "source": [
    "### Visualize Word Vectors\n",
    "In this section, you'll plot words on a 2D grid based on their inner similarity. We'll use the tSNE transformation to reduce dimensions from 300 to 2. You can get sample code from https://www.kaggle.com/pierremegret/gensim-word2vec-tutorial or other tutorials online.\n",
    "\n",
    "Perform the following:\n",
    "- Keep only the 3,000 most frequent words (after removing stopwords)\n",
    "- For this list, compute for each word its relative abundance in each of the genres\n",
    "- Compute the ratio between the proportion of each word in each genre and the proportion of the word in the entire corpus (the background distribution)\n",
    "- Pick the top 50 words for each genre. These words give good indication for that genre. Join the words from all genres into a single list of top significant words. \n",
    "- Compute tSNE transformation to 2D for all words, based on their word vectors\n",
    "- Plot the list of the top significant words in 2D. Next to each word output its text. You are encouraged to try that color of each point should indicate the genre for which it is most significant.\n",
    "\n",
    "You might prefer to use a different number of points or a slightly different methodology for improved results.  \n",
    "Analyze the results."
   ]
  },
  {
   "cell_type": "code",
   "execution_count": 39,
   "metadata": {},
   "outputs": [
    {
     "name": "stdout",
     "output_type": "stream",
     "text": [
      "Wall time: 17.8 s\n"
     ]
    }
   ],
   "source": [
    "%%time\n",
    "from sklearn.feature_extraction.text import CountVectorizer\n",
    "\n",
    "vectorizer = CountVectorizer(stop_words='english', max_features=3000)\n",
    "frequent_words = vectorizer.fit_transform(df_lyrics['clean_lyrics'].apply(lambda x: (' '.join(x))).values)"
   ]
  },
  {
   "cell_type": "code",
   "execution_count": 40,
   "metadata": {},
   "outputs": [
    {
     "name": "stdout",
     "output_type": "stream",
     "text": [
      "(49976, 3000)\n"
     ]
    },
    {
     "data": {
      "text/plain": [
       "array([[0, 0, 0, ..., 0, 0, 0],\n",
       "       [0, 0, 0, ..., 0, 0, 0],\n",
       "       [0, 0, 0, ..., 0, 0, 0],\n",
       "       ...,\n",
       "       [0, 0, 0, ..., 0, 0, 0],\n",
       "       [0, 0, 0, ..., 0, 0, 0],\n",
       "       [0, 0, 0, ..., 0, 0, 0]], dtype=int64)"
      ]
     },
     "execution_count": 40,
     "metadata": {},
     "output_type": "execute_result"
    }
   ],
   "source": [
    "frequent_words = frequent_words.toarray()\n",
    "print(frequent_words.shape)\n",
    "frequent_words"
   ]
  },
  {
   "cell_type": "code",
   "execution_count": 41,
   "metadata": {},
   "outputs": [
    {
     "data": {
      "text/plain": [
       "array(['Pop', 'Hip-Hop', 'Rock', 'Country', 'Metal'], dtype=object)"
      ]
     },
     "execution_count": 41,
     "metadata": {},
     "output_type": "execute_result"
    }
   ],
   "source": [
    "genres = np.unique(df_lyrics.genre.values)\n",
    "genres = df_lyrics.genre.unique()\n",
    "genres"
   ]
  },
  {
   "cell_type": "code",
   "execution_count": 42,
   "metadata": {},
   "outputs": [
    {
     "name": "stdout",
     "output_type": "stream",
     "text": [
      "(5, 3000)\n"
     ]
    },
    {
     "data": {
      "text/plain": [
       "array([[0.27232143, 0.10638298, 0.16400911, ..., 0.10814607, 0.12177122,\n",
       "        0.14285714],\n",
       "       [0.48883929, 0.75075988, 0.39179954, ..., 0.6502809 , 0.59655597,\n",
       "        0.54212454],\n",
       "       [0.15848214, 0.09422492, 0.1594533 , ..., 0.10393258, 0.1100861 ,\n",
       "        0.05860806],\n",
       "       [0.0625    , 0.        , 0.09339408, ..., 0.0238764 , 0.00246002,\n",
       "        0.        ],\n",
       "       [0.01785714, 0.04863222, 0.19134396, ..., 0.11376404, 0.16912669,\n",
       "        0.25641026]])"
      ]
     },
     "execution_count": 42,
     "metadata": {},
     "output_type": "execute_result"
    }
   ],
   "source": [
    "word_abundance_per_genre = np.zeros((len(genres),frequent_words.shape[1]))\n",
    "word_abundance_total = frequent_words.sum(axis=0)\n",
    "\n",
    "for i, genre in enumerate(genres):\n",
    "    idx = np.argwhere(df_lyrics.genre.values == genre)\n",
    "    word_abundance_per_genre[i,:] = frequent_words[idx,:].sum(axis=0) / word_abundance_total\n",
    "\n",
    "print(word_abundance_per_genre.shape)\n",
    "word_abundance_per_genre"
   ]
  },
  {
   "cell_type": "code",
   "execution_count": 44,
   "metadata": {},
   "outputs": [
    {
     "data": {
      "text/plain": [
       "(3000,)"
      ]
     },
     "execution_count": 44,
     "metadata": {},
     "output_type": "execute_result"
    }
   ],
   "source": [
    "vector_words = np.array(list(vectorizer.vocabulary_.keys()))\n",
    "vector_words.shape"
   ]
  },
  {
   "cell_type": "code",
   "execution_count": 45,
   "metadata": {},
   "outputs": [
    {
     "data": {
      "text/plain": [
       "array([[0.27232143, 0.10638298, 0.16400911, ..., 0.10814607, 0.12177122,\n",
       "        0.14285714],\n",
       "       [0.48883929, 0.75075988, 0.39179954, ..., 0.6502809 , 0.59655597,\n",
       "        0.54212454],\n",
       "       [0.15848214, 0.09422492, 0.1594533 , ..., 0.10393258, 0.1100861 ,\n",
       "        0.05860806],\n",
       "       [0.0625    , 0.        , 0.09339408, ..., 0.0238764 , 0.00246002,\n",
       "        0.        ],\n",
       "       [0.01785714, 0.04863222, 0.19134396, ..., 0.11376404, 0.16912669,\n",
       "        0.25641026]])"
      ]
     },
     "execution_count": 45,
     "metadata": {},
     "output_type": "execute_result"
    }
   ],
   "source": [
    "word_abundance_per_genre"
   ]
  },
  {
   "cell_type": "code",
   "execution_count": 46,
   "metadata": {},
   "outputs": [
    {
     "name": "stdout",
     "output_type": "stream",
     "text": [
      "Wall time: 9.18 ms\n"
     ]
    }
   ],
   "source": [
    "%%time\n",
    "word_abundance_per_genre_sort = np.argsort(word_abundance_per_genre)\n",
    "top50_words_per_genre = vector_words[word_abundance_per_genre_sort[:,-50:]]\n",
    "\n",
    "top_significant_words = top50_words_per_genre.flatten()\n",
    "\n",
    "top_significant_vectors = []\n",
    "\n",
    "for word in top_significant_words:\n",
    "    if word in words_vocab.keys():\n",
    "        top_significant_vectors.append(word_embeddings.wv[word])"
   ]
  },
  {
   "cell_type": "code",
   "execution_count": 47,
   "metadata": {},
   "outputs": [
    {
     "data": {
      "text/plain": [
       "(5, 50)"
      ]
     },
     "execution_count": 47,
     "metadata": {},
     "output_type": "execute_result"
    }
   ],
   "source": [
    "word_abundance_per_genre_sort[:,-50:].shape"
   ]
  },
  {
   "cell_type": "code",
   "execution_count": 48,
   "metadata": {},
   "outputs": [
    {
     "data": {
      "text/plain": [
       "(250, 100)"
      ]
     },
     "execution_count": 48,
     "metadata": {},
     "output_type": "execute_result"
    }
   ],
   "source": [
    "top_significant_vectors = np.array(top_significant_vectors)\n",
    "top_significant_vectors.shape"
   ]
  },
  {
   "cell_type": "code",
   "execution_count": 49,
   "metadata": {},
   "outputs": [
    {
     "data": {
      "image/png": "[encoded data removed]",
      "text/plain": [
       "<Figure size 864x864 with 1 Axes>"
      ]
     },
     "metadata": {},
     "output_type": "display_data"
    }
   ],
   "source": [
    "import seaborn as sns\n",
    "sns.set_style(\"darkgrid\")\n",
    "\n",
    "from sklearn.manifold import TSNE\n",
    "\n",
    "y_tsne = TSNE(n_components=2).fit_transform(top_significant_vectors)\n",
    "\n",
    "\n",
    "plt.figure(figsize=(12,12))\n",
    "\n",
    "for i,genre in enumerate(genres):\n",
    "    current_word = y_tsne[i*50:(i+1)*50,:]\n",
    "    p1 = sns.regplot(current_word[:,0],current_word[:,1], fit_reg=False)\n",
    "    for line in range(0, current_word.shape[0]):\n",
    "        p1.text(current_word[line,0],current_word[line,1],'  ' + top50_words_per_genre[i,line],\n",
    "                horizontalalignment='left',\n",
    "                verticalalignment='bottom', size='medium',weight='normal').set_size(15)\n",
    "\n",
    "plt.title('Word2Vec Word Embeddings using t-SNE')\n",
    "plt.legend(genres);"
   ]
  },
  {
   "cell_type": "markdown",
   "metadata": {
    "id": "XF1KZ6N0Nzrk"
   },
   "source": [
    "## Text Classification\n",
    "In this section, you'll build a text classifier, determining the genre of a song based on its lyrics."
   ]
  },
  {
   "cell_type": "markdown",
   "metadata": {
    "id": "api4_K-yNzrk"
   },
   "source": [
    "### Text classification using Bag-of-Words\n",
    "Build a Naive Bayes classifier based on the bag of Words.  \n",
    "You will need to divide your dataset into a train and test sets."
   ]
  },
  {
   "cell_type": "code",
   "execution_count": 50,
   "metadata": {
    "id": "j6ovUVIPNzrl"
   },
   "outputs": [
    {
     "name": "stdout",
     "output_type": "stream",
     "text": [
      "Wall time: 16.3 s\n"
     ]
    }
   ],
   "source": [
    "%%time\n",
    "vectorizer = CountVectorizer(stop_words='english')\n",
    "X_train, X_test, y_train, y_test = \\\n",
    "    train_test_split(df_lyrics.clean_lyrics.apply(lambda x: (' '.join(x))).values, df_lyrics.genre, test_size=0.1, random_state=0) \n",
    "\n",
    "train_word_count = vectorizer.fit_transform(X_train)\n",
    "test_word_count = vectorizer.transform(X_test)"
   ]
  },
  {
   "cell_type": "code",
   "execution_count": 51,
   "metadata": {},
   "outputs": [
    {
     "data": {
      "text/plain": [
       "MultinomialNB(alpha=1)"
      ]
     },
     "execution_count": 51,
     "metadata": {},
     "output_type": "execute_result"
    }
   ],
   "source": [
    "from sklearn.naive_bayes import MultinomialNB\n",
    "clf_NB = MultinomialNB(alpha=1)\n",
    "clf_NB.fit(train_word_count, y_train)"
   ]
  },
  {
   "cell_type": "markdown",
   "metadata": {
    "id": "fKaxmqlLNzrl"
   },
   "source": [
    "Show the confusion matrix."
   ]
  },
  {
   "cell_type": "code",
   "execution_count": 52,
   "metadata": {
    "id": "hkMZdaDxNzrm"
   },
   "outputs": [
    {
     "data": {
      "image/png": "[encoded data removed]",
      "text/plain": [
       "<Figure size 720x432 with 2 Axes>"
      ]
     },
     "metadata": {},
     "output_type": "display_data"
    }
   ],
   "source": [
    "import seaborn as sns\n",
    "from sklearn.metrics import confusion_matrix, classification_report\n",
    "\n",
    "plt.figure(figsize=(10, 6))\n",
    "y_pred = clf_NB.predict(test_word_count)\n",
    "cm = confusion_matrix(y_test, y_pred)\n",
    "df_cm = pd.DataFrame(cm, index=genres, columns=genres)\n",
    "sns.heatmap(df_cm, annot=True, fmt='2d')\n",
    "plt.title('Bag-of-Words Confusion Matrix');\n"
   ]
  },
  {
   "cell_type": "markdown",
   "metadata": {
    "id": "EVKGxh0eNzrm"
   },
   "source": [
    "Show the classification report - precision, recall, f1 for each class."
   ]
  },
  {
   "cell_type": "code",
   "execution_count": 53,
   "metadata": {
    "id": "ym8EHq0FNzrm"
   },
   "outputs": [
    {
     "name": "stdout",
     "output_type": "stream",
     "text": [
      "              precision    recall  f1-score   support\n",
      "\n",
      "     Country       0.52      0.83      0.64       813\n",
      "     Hip-Hop       0.76      0.81      0.78       913\n",
      "       Metal       0.78      0.74      0.76      1018\n",
      "         Pop       0.56      0.32      0.41      1073\n",
      "        Rock       0.48      0.47      0.48      1181\n",
      "\n",
      "    accuracy                           0.61      4998\n",
      "   macro avg       0.62      0.63      0.61      4998\n",
      "weighted avg       0.62      0.61      0.60      4998\n",
      "\n"
     ]
    }
   ],
   "source": [
    "from sklearn.metrics import classification_report\n",
    "\n",
    "print( classification_report(y_test, y_pred))"
   ]
  },
  {
   "cell_type": "markdown",
   "metadata": {
    "id": "SzA2cWqHNzrn"
   },
   "source": [
    "### Text classification using Word Vectors\n",
    "#### Average word vectors\n",
    "Do the same, using a classifier that averages the word vectors of words in the document."
   ]
  },
  {
   "cell_type": "code",
   "execution_count": 54,
   "metadata": {},
   "outputs": [
    {
     "data": {
      "application/vnd.jupyter.widget-view+json": {
       "model_id": "",
       "version_major": 2,
       "version_minor": 0
      },
      "text/plain": [
       "  0%|          | 0/44978 [00:00<?, ?it/s]"
      ]
     },
     "metadata": {},
     "output_type": "display_data"
    },
    {
     "data": {
      "application/vnd.jupyter.widget-view+json": {
       "model_id": "",
       "version_major": 2,
       "version_minor": 0
      },
      "text/plain": [
       "  0%|          | 0/4998 [00:00<?, ?it/s]"
      ]
     },
     "metadata": {},
     "output_type": "display_data"
    },
    {
     "name": "stdout",
     "output_type": "stream",
     "text": [
      "Wall time: 47.8 s\n"
     ]
    }
   ],
   "source": [
    "%%time\n",
    "X_train, X_test, y_train, y_test = train_test_split(df_lyrics.clean_lyrics, df_lyrics.genre, test_size=0.1) \n",
    "\n",
    "def calculate_mean_word_embedding(tokens):\n",
    "    return np.mean(list(word_embeddings.wv[token] for token in tokens if token in word_embeddings.wv), axis=0)\n",
    "\n",
    "X_train_word_mean = X_train.progress_apply(calculate_mean_word_embedding).to_list()\n",
    "X_test_word_mean = X_test.progress_apply(calculate_mean_word_embedding).to_list()"
   ]
  },
  {
   "cell_type": "code",
   "execution_count": 60,
   "metadata": {},
   "outputs": [
    {
     "data": {
      "image/png": "[encoded data removed]",
      "text/plain": [
       "<Figure size 720x432 with 2 Axes>"
      ]
     },
     "metadata": {},
     "output_type": "display_data"
    },
    {
     "name": "stdout",
     "output_type": "stream",
     "text": [
      "              precision    recall  f1-score   support\n",
      "\n",
      "     Country       0.15      0.00      0.00       813\n",
      "     Hip-Hop       0.16      0.04      0.07       913\n",
      "       Metal       0.15      0.02      0.03      1018\n",
      "         Pop       0.20      0.21      0.21      1073\n",
      "        Rock       0.23      0.68      0.35      1181\n",
      "\n",
      "    accuracy                           0.22      4998\n",
      "   macro avg       0.18      0.19      0.13      4998\n",
      "weighted avg       0.18      0.22      0.15      4998\n",
      "\n",
      "Wall time: 7.17 s\n"
     ]
    }
   ],
   "source": [
    "%%time\n",
    "from sklearn.linear_model import LogisticRegression\n",
    "clf_LR = LogisticRegression()\n",
    "clf_LR.fit(X_train_word_mean, y_train)\n",
    "\n",
    "plt.figure(figsize=(10, 6))\n",
    "\n",
    "y_pred = clf_LR.predict(X_test_word_mean)\n",
    "cm = confusion_matrix(y_test, y_pred)\n",
    "df_cm = pd.DataFrame(cm, index=genres, columns=genres)\n",
    "sns.heatmap(df_cm, annot=True, fmt='2d')\n",
    "plt.title('Word-Vec-Mean Confusion Matrix')\n",
    "plt.show()\n",
    "\n",
    "print( classification_report(y_test, y_pred))"
   ]
  },
  {
   "cell_type": "markdown",
   "metadata": {
    "id": "kZt5wAPWNzrn"
   },
   "source": [
    "#### TfIdf Weighting\n",
    "Do the same, using a classifier that averages the word vectors of words in the document, weighting each word by its TfIdf.\n"
   ]
  },
  {
   "cell_type": "code",
   "execution_count": 61,
   "metadata": {
    "id": "lbZnCCLlNzro"
   },
   "outputs": [
    {
     "name": "stdout",
     "output_type": "stream",
     "text": [
      "Wall time: 15.6 s\n"
     ]
    }
   ],
   "source": [
    "%%time\n",
    "from sklearn.feature_extraction.text import TfidfVectorizer\n",
    "X_train, X_test, y_train, y_test = \\\n",
    "    train_test_split(df_lyrics.clean_lyrics.apply(lambda x: (' '.join(x))), df_lyrics.genre, test_size=0.1, random_state=0) \n",
    "\n",
    "tfidf_vect = TfidfVectorizer()\n",
    "X_train_tfidf = tfidf_vect.fit_transform(X_train)\n",
    "X_test_tfidf = tfidf_vect.transform(X_test)"
   ]
  },
  {
   "cell_type": "code",
   "execution_count": 62,
   "metadata": {},
   "outputs": [
    {
     "data": {
      "application/vnd.jupyter.widget-view+json": {
       "model_id": "",
       "version_major": 2,
       "version_minor": 0
      },
      "text/plain": [
       "  0%|          | 0/44978 [00:00<?, ?it/s]"
      ]
     },
     "metadata": {},
     "output_type": "display_data"
    },
    {
     "data": {
      "application/vnd.jupyter.widget-view+json": {
       "model_id": "",
       "version_major": 2,
       "version_minor": 0
      },
      "text/plain": [
       "  0%|          | 0/4998 [00:00<?, ?it/s]"
      ]
     },
     "metadata": {},
     "output_type": "display_data"
    },
    {
     "name": "stdout",
     "output_type": "stream",
     "text": [
      "Wall time: 8min 10s\n"
     ]
    }
   ],
   "source": [
    "%%time\n",
    "\n",
    "def calculate_mean_word_embedding_weighted_by_tfidf(tokens, index, tfidf_weights):\n",
    "    return np.mean(list(word_embeddings.wv[token] * tfidf_weights[index, tfidf_vect.vocabulary_[token]] \\\n",
    "        if ((token in word_embeddings.wv) and (token in tfidf_vect.vocabulary_)) else np.zeros_like(word_embeddings.wv['ooh']) for token in tokens.split()), axis=0)\n",
    "\n",
    "X_train_weighted_word_mean = X_train.to_frame().reset_index(drop = True).progress_apply(lambda row: calculate_mean_word_embedding_weighted_by_tfidf(row.clean_lyrics, row.name, X_train_tfidf), axis=1).to_list()    \n",
    "X_test_weighted_word_mean = X_test.to_frame().reset_index(drop = True).progress_apply(lambda row: calculate_mean_word_embedding_weighted_by_tfidf(row.clean_lyrics, row.name, X_test_tfidf), axis=1).to_list()"
   ]
  },
  {
   "cell_type": "code",
   "execution_count": 63,
   "metadata": {},
   "outputs": [
    {
     "data": {
      "image/png": "[encoded data removed]",
      "text/plain": [
       "<Figure size 720x432 with 2 Axes>"
      ]
     },
     "metadata": {},
     "output_type": "display_data"
    },
    {
     "name": "stdout",
     "output_type": "stream",
     "text": [
      "              precision    recall  f1-score   support\n",
      "\n",
      "     Country       0.56      0.46      0.51       813\n",
      "     Hip-Hop       0.60      0.78      0.68       913\n",
      "       Metal       0.63      0.74      0.68      1018\n",
      "         Pop       0.47      0.35      0.40      1073\n",
      "        Rock       0.39      0.39      0.39      1181\n",
      "\n",
      "    accuracy                           0.53      4998\n",
      "   macro avg       0.53      0.54      0.53      4998\n",
      "weighted avg       0.52      0.53      0.52      4998\n",
      "\n",
      "Wall time: 7.48 s\n"
     ]
    }
   ],
   "source": [
    "%%time\n",
    "\n",
    "clf_LR = LogisticRegression()\n",
    "clf_LR.fit(X_train_weighted_word_mean, y_train)\n",
    "\n",
    "plt.figure(figsize=(10, 6))\n",
    "\n",
    "y_pred = clf_LR.predict(X_test_weighted_word_mean)\n",
    "cm = confusion_matrix(y_test, y_pred)\n",
    "df_cm = pd.DataFrame(cm, index=genres, columns=genres)\n",
    "sns.heatmap(df_cm, annot=True, fmt='2d')\n",
    "plt.title('Word-Vec-Weigthed-Mean Confusion Matrix')\n",
    "plt.show()\n",
    "\n",
    "print( classification_report(y_test, y_pred))"
   ]
  },
  {
   "cell_type": "markdown",
   "metadata": {
    "id": "J-DZ90j_Nzro"
   },
   "source": [
    "### Text classification using ConvNet\n",
    "Do the same, using a ConvNet.  \n",
    "The ConvNet should get as input a 2D matrix where each column is an embedding vector of a single word, and words are in order. Use zero padding so that all matrices have a similar length.  \n",
    "Some songs might be very long. Trim them so you keep a maximum of 128 words (after cleaning stop words and rare words).  \n",
    "Initialize the embedding layer using the word vectors that you've trained before, but allow them to change during training.  \n",
    "\n",
    "Extra: Try training the ConvNet with 2 slight modifications:\n",
    "1. freezing the the weights trained using Word2vec (preventing it from updating)\n",
    "1. random initialization of the embedding layer"
   ]
  },
  {
   "cell_type": "markdown",
   "metadata": {
    "id": "d5uFIgOKNzrp"
   },
   "source": [
    "You are encouraged to try to answer this question without using papers or code examples.  \n",
    "\n",
    "You might prefer to get ideas from the paper \"Convolutional Neural Networks for Sentence Classification\" (Kim 2014, [link](https://arxiv.org/abs/1408.5882)).\n",
    "\n",
    "There are several implementations of the paper's code in PyTorch online (see for example [this repo](https://github.com/prakashpandey9/Text-Classification-Pytorch) for a PyTorch implementation of CNN and other architectures for text classification). If you get stuck, they might point you in the right direction for your own code solution."
   ]
  },
  {
   "cell_type": "code",
   "execution_count": 121,
   "metadata": {},
   "outputs": [
    {
     "data": {
      "text/plain": [
       "204182    healy spoken bert healy saying singing hey hob...\n",
       "6116      chorus repeat x even tryin low recognized hoes...\n",
       "166369    could cause much pain leave heart rain gave ev...\n",
       "198416    scarlet vision velvet room come decision dog d...\n",
       "127800    sprintime savannah dont get much prettier feel...\n",
       "                                ...                        \n",
       "33205     men knew old love letters drawer mean nothing ...\n",
       "194149    well twenty five mile drive town ther gray ski...\n",
       "11649     tu viens de partir pour de longs mois c est lo...\n",
       "252283    still yet gone play guitar sing songs never de...\n",
       "11180     beyond reproach cool youre flawless perfect ap...\n",
       "Name: sent, Length: 49976, dtype: object"
      ]
     },
     "execution_count": 121,
     "metadata": {},
     "output_type": "execute_result"
    }
   ],
   "source": [
    "df_lyrics.sent = df_lyrics.clean_lyrics.apply(lambda x: (' '.join(x)))\n",
    "df_lyrics.sent "
   ]
  },
  {
   "cell_type": "code",
   "execution_count": 130,
   "metadata": {},
   "outputs": [
    {
     "name": "stdout",
     "output_type": "stream",
     "text": [
      "Using cpu device\n"
     ]
    }
   ],
   "source": [
    "device = 'cuda' if torch.cuda.is_available() else 'cpu'\n",
    "print(f'Using {device} device')"
   ]
  },
  {
   "cell_type": "code",
   "execution_count": 99,
   "metadata": {},
   "outputs": [
    {
     "data": {
      "text/html": [
       "<div>\n",
       "<style scoped>\n",
       "    .dataframe tbody tr th:only-of-type {\n",
       "        vertical-align: middle;\n",
       "    }\n",
       "\n",
       "    .dataframe tbody tr th {\n",
       "        vertical-align: top;\n",
       "    }\n",
       "\n",
       "    .dataframe thead th {\n",
       "        text-align: right;\n",
       "    }\n",
       "</style>\n",
       "<table border=\"1\" class=\"dataframe\">\n",
       "  <thead>\n",
       "    <tr style=\"text-align: right;\">\n",
       "      <th></th>\n",
       "      <th>song</th>\n",
       "      <th>year</th>\n",
       "      <th>artist</th>\n",
       "      <th>genre</th>\n",
       "      <th>lyrics</th>\n",
       "      <th>num_chars</th>\n",
       "      <th>sent</th>\n",
       "      <th>num_words</th>\n",
       "      <th>clean_lyrics</th>\n",
       "    </tr>\n",
       "  </thead>\n",
       "  <tbody>\n",
       "    <tr>\n",
       "      <th>204182</th>\n",
       "      <td>fully-dressed</td>\n",
       "      <td>2008</td>\n",
       "      <td>annie</td>\n",
       "      <td>Pop</td>\n",
       "      <td>[HEALY]\\n[spoken] This is Bert Healy saying .....</td>\n",
       "      <td>1041</td>\n",
       "      <td>healy spoken this bert healy saying singing he...</td>\n",
       "      <td>826</td>\n",
       "      <td>[healy, spoken, bert, healy, saying, singing, ...</td>\n",
       "    </tr>\n",
       "    <tr>\n",
       "      <th>6116</th>\n",
       "      <td>surrounded-by-hoes</td>\n",
       "      <td>2006</td>\n",
       "      <td>50-cent</td>\n",
       "      <td>Hip-Hop</td>\n",
       "      <td>[Chorus: repeat 2X] Even when I'm tryin to be ...</td>\n",
       "      <td>1392</td>\n",
       "      <td>chorus repeat x even i tryin low i recognized ...</td>\n",
       "      <td>884</td>\n",
       "      <td>[chorus, repeat, x, even, tryin, low, recogniz...</td>\n",
       "    </tr>\n",
       "    <tr>\n",
       "      <th>166369</th>\n",
       "      <td>taste-the-tears-thunderpuss-remix</td>\n",
       "      <td>2006</td>\n",
       "      <td>amber</td>\n",
       "      <td>Pop</td>\n",
       "      <td>How could you cause me so much pain?\\nAnd leav...</td>\n",
       "      <td>1113</td>\n",
       "      <td>how could cause much pain and leave heart rain...</td>\n",
       "      <td>756</td>\n",
       "      <td>[could, cause, much, pain, leave, heart, rain,...</td>\n",
       "    </tr>\n",
       "    <tr>\n",
       "      <th>198416</th>\n",
       "      <td>the-truth-will-set-me-free</td>\n",
       "      <td>2006</td>\n",
       "      <td>glenn-hughes</td>\n",
       "      <td>Rock</td>\n",
       "      <td>In a scarlet vision\\nIn a velvet room\\nI come ...</td>\n",
       "      <td>779</td>\n",
       "      <td>in scarlet vision in velvet room i come decisi...</td>\n",
       "      <td>583</td>\n",
       "      <td>[scarlet, vision, velvet, room, come, decision...</td>\n",
       "    </tr>\n",
       "    <tr>\n",
       "      <th>127800</th>\n",
       "      <td>the-last-goodbye</td>\n",
       "      <td>2008</td>\n",
       "      <td>aaron-pritchett</td>\n",
       "      <td>Country</td>\n",
       "      <td>Sprintime in Savannah\\nIt dont get much pretti...</td>\n",
       "      <td>881</td>\n",
       "      <td>sprintime savannah it dont get much prettier b...</td>\n",
       "      <td>639</td>\n",
       "      <td>[sprintime, savannah, dont, get, much, prettie...</td>\n",
       "    </tr>\n",
       "  </tbody>\n",
       "</table>\n",
       "</div>"
      ],
      "text/plain": [
       "                                     song  year           artist    genre  \\\n",
       "204182                      fully-dressed  2008            annie      Pop   \n",
       "6116                   surrounded-by-hoes  2006          50-cent  Hip-Hop   \n",
       "166369  taste-the-tears-thunderpuss-remix  2006            amber      Pop   \n",
       "198416         the-truth-will-set-me-free  2006     glenn-hughes     Rock   \n",
       "127800                   the-last-goodbye  2008  aaron-pritchett  Country   \n",
       "\n",
       "                                                   lyrics  num_chars  \\\n",
       "204182  [HEALY]\\n[spoken] This is Bert Healy saying .....       1041   \n",
       "6116    [Chorus: repeat 2X] Even when I'm tryin to be ...       1392   \n",
       "166369  How could you cause me so much pain?\\nAnd leav...       1113   \n",
       "198416  In a scarlet vision\\nIn a velvet room\\nI come ...        779   \n",
       "127800  Sprintime in Savannah\\nIt dont get much pretti...        881   \n",
       "\n",
       "                                                     sent  num_words  \\\n",
       "204182  healy spoken this bert healy saying singing he...        826   \n",
       "6116    chorus repeat x even i tryin low i recognized ...        884   \n",
       "166369  how could cause much pain and leave heart rain...        756   \n",
       "198416  in scarlet vision in velvet room i come decisi...        583   \n",
       "127800  sprintime savannah it dont get much prettier b...        639   \n",
       "\n",
       "                                             clean_lyrics  \n",
       "204182  [healy, spoken, bert, healy, saying, singing, ...  \n",
       "6116    [chorus, repeat, x, even, tryin, low, recogniz...  \n",
       "166369  [could, cause, much, pain, leave, heart, rain,...  \n",
       "198416  [scarlet, vision, velvet, room, come, decision...  \n",
       "127800  [sprintime, savannah, dont, get, much, prettie...  "
      ]
     },
     "execution_count": 99,
     "metadata": {},
     "output_type": "execute_result"
    }
   ],
   "source": [
    "df_lyrics.head()"
   ]
  },
  {
   "cell_type": "code",
   "execution_count": 110,
   "metadata": {},
   "outputs": [],
   "source": [
    "# idx2clean_lyrics = dict(enumerate(df_lyrics.clean_lyrics.apply(lambda x: (' '.join(x))).values))\n",
    "# clean_lyrics2idx = {v:k for k,v in idx2clean_lyrics.items()}"
   ]
  },
  {
   "cell_type": "code",
   "execution_count": 109,
   "metadata": {},
   "outputs": [
    {
     "data": {
      "text/plain": [
       "({0: 'Pop', 1: 'Hip-Hop', 2: 'Rock', 3: 'Country', 4: 'Metal'},\n",
       " {'Pop': 0, 'Hip-Hop': 1, 'Rock': 2, 'Country': 3, 'Metal': 4})"
      ]
     },
     "execution_count": 109,
     "metadata": {},
     "output_type": "execute_result"
    }
   ],
   "source": [
    "idx2cls = dict(enumerate(df_lyrics.genre.unique()))\n",
    "cls2idx = {idx:cls for cls, idx in idx2cls.items()}\n",
    "idx2cls, cls2idx"
   ]
  },
  {
   "cell_type": "code",
   "execution_count": 171,
   "metadata": {},
   "outputs": [],
   "source": [
    "MAX_LEN = 128  \n",
    "vocab = word_embeddings.wv.index_to_key\n",
    "word2idx = {w:idx  for idx, w in enumerate(vocab)}\n",
    "OOV_TOKEN = \"[OOV]\"\n",
    "OOV_IDX = len(vocab)\n",
    "word2idx[OOV_TOKEN] = OOV_IDX\n",
    "embedding_weights = torch.zeros(len(word_embeddings.wv.vectors)+1, word_embeddings.vector_size)\n",
    "embedding_weights[:-1] = torch.FloatTensor(word_embeddings.wv.vectors)\n",
    "embedding_weights[-1] = torch.zeros(word_embeddings.vector_size,)"
   ]
  },
  {
   "cell_type": "code",
   "execution_count": 172,
   "metadata": {},
   "outputs": [],
   "source": [
    "# embedding_weights.shape\n",
    "# embedding_weights[:-1].shape\n",
    "# # embedding_weights[-1].shape\n",
    "# word_embeddings.vector_size\n",
    "# embedding_weights[:-1].shape"
   ]
  },
  {
   "cell_type": "code",
   "execution_count": 143,
   "metadata": {},
   "outputs": [],
   "source": [
    "class SmallData(Dataset):\n",
    "    def __init__(self, data: pd.DataFrame, feature_column: str, target_column: str, cls2idx, max_len=128):\n",
    "        self.tokenizer = nltk.WordPunctTokenizer()\n",
    "        self.data = data\n",
    "        self.feature_column = feature_column \n",
    "        self.target_column = target_column\n",
    "        self.max_len = max_len\n",
    "        self.cls2idx = cls2idx\n",
    "\n",
    "    def __getitem__(self, item):\n",
    "        text = self.data[self.feature_column].values[item]\n",
    "        if not isinstance(text, str):\n",
    "            text = \"\"\n",
    "        return {\"features\": self.get_tokens_(text), \"targets\": torch.tensor([cls2idx[self.data[self.target_column].values[item]]], dtype=torch.float)}\n",
    "\n",
    "    def get_tokens_(self, text):\n",
    "        a = []\n",
    "        for w in self.tokenizer.tokenize(text.strip())[:MAX_LEN]:\n",
    "            if w in word2idx:\n",
    "                a.append(word2idx[w])\n",
    "            else:\n",
    "                a.append(word2idx[OOV_TOKEN])\n",
    "            ret = torch.zeros((MAX_LEN)).long()\n",
    "            ret[:len(a)] = torch.tensor(a)\n",
    "        return ret\n",
    "        \n",
    "    def __len__(self):\n",
    "        return self.data.shape[0]"
   ]
  },
  {
   "cell_type": "code",
   "execution_count": 145,
   "metadata": {},
   "outputs": [],
   "source": [
    "from torch.utils.data import TensorDataset, DataLoader\n",
    "from torch.nn import functional as F\n",
    "\n",
    "X_train, X_test, y_train, y_test = train_test_split(df_lyrics, df_lyrics.genre, test_size=0.1, random_state=42)\n",
    "train_dataset = SmallData(X_train, \"sent\", \"genre\", cls2idx)\n",
    "train_dataloader = DataLoader(train_dataset, batch_size=32, shuffle=True)\n",
    "\n",
    "test_dataset = SmallData(X_test, \"sent\", \"genre\", cls2idx)\n",
    "test_dataloader = DataLoader(test_dataset, batch_size=32, shuffle=False)"
   ]
  },
  {
   "cell_type": "code",
   "execution_count": 173,
   "metadata": {},
   "outputs": [],
   "source": [
    "class ConvNet(nn.Module):\n",
    "    def __init__(\n",
    "        self,\n",
    "        emb_dim,\n",
    "        out_channels,\n",
    "        kernel_sizes,\n",
    "        embedding_weights,\n",
    "        dropout = 0.5,\n",
    "        dim = 300,\n",
    "        num_classes=5,\n",
    "        freeze=True\n",
    "    ):\n",
    "        super().__init__()\n",
    "\n",
    "        self.embedding = nn.Embedding.from_pretrained(embedding_weights, freeze=freeze)\n",
    "        self.conv_0 = nn.Conv2d(in_channels = 1, out_channels = out_channels, kernel_size = (kernel_sizes[0], dim))\n",
    "        self.conv_1 = nn.Conv2d(in_channels = 1, out_channels = out_channels, kernel_size = (kernel_sizes[1], dim))\n",
    "        self.conv_2 = nn.Conv2d(in_channels = 1, out_channels = out_channels, kernel_size = (kernel_sizes[2], dim))\n",
    "        self.fc = nn.Linear(len(kernel_sizes) * out_channels, num_classes)\n",
    "        \n",
    "        self.dropout = nn.Dropout(dropout)\n",
    "        self.init_weights()\n",
    "        \n",
    "    def forward(self, text):\n",
    "        \n",
    "        embedded = self.embedding(text)\n",
    "        embedded = embedded.unsqueeze(1)\n",
    "        \n",
    "        conved_0 = F.relu(self.conv_0(embedded).squeeze(3))\n",
    "        conved_1 = F.relu(self.conv_1(embedded).squeeze(3))\n",
    "        conved_2 = F.relu(self.conv_2(embedded).squeeze(3))\n",
    "        \n",
    "        pooled_0 = F.max_pool1d(conved_0, conved_0.shape[2]).squeeze(2)\n",
    "        pooled_1 = F.max_pool1d(conved_1, conved_1.shape[2]).squeeze(2)\n",
    "        pooled_2 = F.max_pool1d(conved_2, conved_2.shape[2]).squeeze(2)\n",
    "        \n",
    "        cat = self.dropout(torch.cat((pooled_0, pooled_1, pooled_2), dim=1))\n",
    "            \n",
    "        return self.fc(cat)\n",
    "    \n",
    "    def init_weights(self):\n",
    "        for m in self.modules():\n",
    "            if isinstance(m, nn.Conv2d):\n",
    "                nn.init.xavier_uniform_(m.weight.data)\n",
    "                if m.bias is not None:\n",
    "                    m.bias.data.zero_()\n",
    "            elif isinstance(m, nn.BatchNorm2d):\n",
    "                m.weight.data.fill_(1)\n",
    "                m.bias.data.zero_()\n",
    "            elif isinstance(m, nn.Linear):\n",
    "                m.weight.data.normal_(0, 0.01)\n",
    "                m.bias.data.zero_()"
   ]
  },
  {
   "cell_type": "markdown",
   "metadata": {},
   "source": [
    "#### Frozen weights"
   ]
  },
  {
   "cell_type": "code",
   "execution_count": 190,
   "metadata": {},
   "outputs": [
    {
     "name": "stdout",
     "output_type": "stream",
     "text": [
      "Wall time: 0 ns\n"
     ]
    }
   ],
   "source": [
    "def eval_cnn(freeze_weights):\n",
    "    min_loss = np.inf\n",
    "    metric_history = {\"train\":[], \"val\":[]} \n",
    "    cur_patience = 0\n",
    "    cnn_model = ConvNet(emb_dim=word_embeddings.vector_size, out_channels=64, kernel_sizes=[3, 4, 5], embedding_weights=embedding_weights, dropout=0.5, dim = 100, freeze = freeze_weights).to(device)\n",
    "    optimizer = torch.optim.Adam(cnn_model.parameters())\n",
    "    max_epochs = 5\n",
    "    loss_func = nn.CrossEntropyLoss()\n",
    "    patience = 5\n",
    "    max_acc = 0.0\n",
    "    train_acc = 0.0\n",
    "    val_acc = 0.0\n",
    "\n",
    "    for epoch in tqdm(range(1, max_epochs + 1)):\n",
    "        train_loss = 0.0\n",
    "        train_accuracy = torchmetrics.Accuracy().to(device)\n",
    "        cnn_model.train()\n",
    "        pbar = tqdm(enumerate(train_dataloader), total=len(train_dataloader), leave=True)\n",
    "        pbar.set_description(f\"Epoch {epoch}\")\n",
    "        for it, batch in pbar: \n",
    "            optimizer.zero_grad()\n",
    "            features = batch[\"features\"].to(device)\n",
    "            logits = F.softmax(cnn_model(features), dim=1)\n",
    "            targets = batch[\"targets\"].squeeze().long().to(device)\n",
    "            batch_acc = train_accuracy(logits, targets)\n",
    "            loss = loss_func(logits, targets)\n",
    "            loss.backward()\n",
    "            optimizer.step()\n",
    "            train_loss += loss.item()\n",
    "            train_acc += batch_acc.item()\n",
    "\n",
    "        train_loss /= len(train_dataloader)\n",
    "        train_acc = train_accuracy.compute()\n",
    "        metric_history[\"train\"].append({\"epoch\": epoch,\"loss\":train_loss, \"acc\":train_acc.item()})\n",
    "\n",
    "        val_loss = 0.0\n",
    "        val_accuracy = torchmetrics.Accuracy().to(device)\n",
    "        cnn_model.eval()\n",
    "        pbar = tqdm(enumerate(test_dataloader), total=len(test_dataloader), leave=False)\n",
    "        pbar.set_description(f\"Epoch {epoch}\")\n",
    "        for it, batch in pbar:\n",
    "            features = batch[\"features\"].to(device)\n",
    "            predictions = cnn_model(features)\n",
    "            targets = batch[\"targets\"].squeeze().long().to(device)\n",
    "            logits = F.softmax(predictions, dim=1)\n",
    "            batch_acc = val_accuracy(logits, targets)\n",
    "            loss = loss_func(logits, targets)\n",
    "            val_loss += loss.item()\n",
    "            val_acc += batch_acc.item()\n",
    "\n",
    "        val_loss /= len(test_dataloader)\n",
    "        val_acc = val_accuracy.compute()\n",
    "        metric_history[\"val\"].append({\"epoch\": epoch,\"loss\":val_loss, \"acc\":val_acc.item()})\n",
    "        if val_acc > max_acc:\n",
    "            max_acc = val_acc\n",
    "            best_model = cnn_model.state_dict()\n",
    "        else:\n",
    "            cur_patience += 1\n",
    "            if cur_patience == patience:\n",
    "                cur_patience = 0\n",
    "                break\n",
    "\n",
    "        print(f'Epoch: {epoch}, train loss: {train_loss:.3f}, val loss: {val_loss:.3f}, train acc: {train_acc:.4f}, val acc: {val_acc:.4f}')\n",
    "    # cnn_model.load_state_dict(best_model)\n",
    "    return metric_history"
   ]
  },
  {
   "cell_type": "code",
   "execution_count": null,
   "metadata": {},
   "outputs": [],
   "source": [
    "%%time\n",
    "metric_history = eval_cnn(freeze_weights = True)"
   ]
  },
  {
   "cell_type": "code",
   "execution_count": 194,
   "metadata": {},
   "outputs": [],
   "source": [
    "from matplotlib.ticker import MaxNLocator\n",
    "\n",
    "def plot_learning_curves(metric_history, title=\"\"):\n",
    "    with plt.style.context('seaborn-whitegrid'):\n",
    "        fig,ax = plt.subplots(1,2, figsize=(16, 6))\n",
    "        train_history = pd.DataFrame(metric_history[\"train\"]).reset_index()\n",
    "        val_history = pd.DataFrame(metric_history[\"val\"]).reset_index()\n",
    "        train_history.plot(x=\"epoch\", y=\"acc\", ax=ax[0], color=\"r\", label=\"train\") \n",
    "        val_history.plot(x=\"epoch\", y=\"acc\", ax=ax[0], color=\"b\", label=\"val\")\n",
    "        train_history.plot(x=\"epoch\", y=\"loss\", color=\"r\", ax=ax[1], label=\"train\")\n",
    "        val_history.plot(x=\"epoch\", y=\"loss\", color=\"b\", ax=ax[1], label=\"val\")\n",
    "        ax[0].set_title(f'{title} weights Accuracy')\n",
    "        ax[1].set_title(f'{title} weights Loss')\n",
    "        ax[0].xaxis.set_major_locator(MaxNLocator(integer=True))\n",
    "        ax[1].xaxis.set_major_locator(MaxNLocator(integer=True))\n",
    "\n",
    "        plt.show();"
   ]
  },
  {
   "cell_type": "code",
   "execution_count": 182,
   "metadata": {},
   "outputs": [
    {
     "data": {
      "image/png": "[encoded data removed]",
      "text/plain": [
       "<Figure size 1152x432 with 2 Axes>"
      ]
     },
     "metadata": {},
     "output_type": "display_data"
    }
   ],
   "source": [
    "plot_learning_curves(metric_history, title= 'Frozen')"
   ]
  },
  {
   "cell_type": "markdown",
   "metadata": {},
   "source": [
    "#### Unfrozen weights"
   ]
  },
  {
   "cell_type": "code",
   "execution_count": 191,
   "metadata": {},
   "outputs": [
    {
     "data": {
      "application/vnd.jupyter.widget-view+json": {
       "model_id": "",
       "version_major": 2,
       "version_minor": 0
      },
      "text/plain": [
       "  0%|          | 0/5 [00:00<?, ?it/s]"
      ]
     },
     "metadata": {},
     "output_type": "display_data"
    },
    {
     "data": {
      "application/vnd.jupyter.widget-view+json": {
       "model_id": "",
       "version_major": 2,
       "version_minor": 0
      },
      "text/plain": [
       "  0%|          | 0/1406 [00:00<?, ?it/s]"
      ]
     },
     "metadata": {},
     "output_type": "display_data"
    },
    {
     "data": {
      "application/vnd.jupyter.widget-view+json": {
       "model_id": "",
       "version_major": 2,
       "version_minor": 0
      },
      "text/plain": [
       "  0%|          | 0/157 [00:00<?, ?it/s]"
      ]
     },
     "metadata": {},
     "output_type": "display_data"
    },
    {
     "name": "stdout",
     "output_type": "stream",
     "text": [
      "Epoch: 1, train loss: 1.329, val loss: 1.296, train acc: 0.5670, val acc: 0.6004\n"
     ]
    },
    {
     "data": {
      "application/vnd.jupyter.widget-view+json": {
       "model_id": "abf2d9ccb40b4e94956400859c0a2c40",
       "version_major": 2,
       "version_minor": 0
      },
      "text/plain": [
       "  0%|          | 0/1406 [00:00<?, ?it/s]"
      ]
     },
     "metadata": {},
     "output_type": "display_data"
    },
    {
     "data": {
      "application/vnd.jupyter.widget-view+json": {
       "model_id": "",
       "version_major": 2,
       "version_minor": 0
      },
      "text/plain": [
       "  0%|          | 0/157 [00:00<?, ?it/s]"
      ]
     },
     "metadata": {},
     "output_type": "display_data"
    },
    {
     "name": "stdout",
     "output_type": "stream",
     "text": [
      "Epoch: 2, train loss: 1.287, val loss: 1.284, train acc: 0.6092, val acc: 0.6066\n"
     ]
    },
    {
     "data": {
      "application/vnd.jupyter.widget-view+json": {
       "model_id": "324121dff3f24ab5915cbccf28b2b2d0",
       "version_major": 2,
       "version_minor": 0
      },
      "text/plain": [
       "  0%|          | 0/1406 [00:00<?, ?it/s]"
      ]
     },
     "metadata": {},
     "output_type": "display_data"
    },
    {
     "data": {
      "application/vnd.jupyter.widget-view+json": {
       "model_id": "",
       "version_major": 2,
       "version_minor": 0
      },
      "text/plain": [
       "  0%|          | 0/157 [00:00<?, ?it/s]"
      ]
     },
     "metadata": {},
     "output_type": "display_data"
    },
    {
     "name": "stdout",
     "output_type": "stream",
     "text": [
      "Epoch: 3, train loss: 1.265, val loss: 1.281, train acc: 0.6340, val acc: 0.6136\n"
     ]
    },
    {
     "data": {
      "application/vnd.jupyter.widget-view+json": {
       "model_id": "393b31c366c748098a846c77bf952341",
       "version_major": 2,
       "version_minor": 0
      },
      "text/plain": [
       "  0%|          | 0/1406 [00:00<?, ?it/s]"
      ]
     },
     "metadata": {},
     "output_type": "display_data"
    },
    {
     "data": {
      "application/vnd.jupyter.widget-view+json": {
       "model_id": "",
       "version_major": 2,
       "version_minor": 0
      },
      "text/plain": [
       "  0%|          | 0/157 [00:00<?, ?it/s]"
      ]
     },
     "metadata": {},
     "output_type": "display_data"
    },
    {
     "name": "stdout",
     "output_type": "stream",
     "text": [
      "Epoch: 4, train loss: 1.254, val loss: 1.277, train acc: 0.6450, val acc: 0.6202\n"
     ]
    },
    {
     "data": {
      "application/vnd.jupyter.widget-view+json": {
       "model_id": "29246a8baf134d0391cf01e503493beb",
       "version_major": 2,
       "version_minor": 0
      },
      "text/plain": [
       "  0%|          | 0/1406 [00:00<?, ?it/s]"
      ]
     },
     "metadata": {},
     "output_type": "display_data"
    },
    {
     "data": {
      "application/vnd.jupyter.widget-view+json": {
       "model_id": "",
       "version_major": 2,
       "version_minor": 0
      },
      "text/plain": [
       "  0%|          | 0/157 [00:00<?, ?it/s]"
      ]
     },
     "metadata": {},
     "output_type": "display_data"
    },
    {
     "name": "stdout",
     "output_type": "stream",
     "text": [
      "Epoch: 5, train loss: 1.239, val loss: 1.289, train acc: 0.6607, val acc: 0.6080\n",
      "Wall time: 10min 50s\n"
     ]
    }
   ],
   "source": [
    "%%time\n",
    "metric_history = eval_cnn(freeze_weights = False)"
   ]
  },
  {
   "cell_type": "code",
   "execution_count": 195,
   "metadata": {},
   "outputs": [
    {
     "data": {
      "image/png": "[encoded data removed]",
      "text/plain": [
       "<Figure size 1152x432 with 2 Axes>"
      ]
     },
     "metadata": {},
     "output_type": "display_data"
    }
   ],
   "source": [
    "plot_learning_curves(metric_history, title= 'Unforzen')"
   ]
  },
  {
   "cell_type": "markdown",
   "metadata": {},
   "source": [
    "**ConvNet summary**<br>\n",
    "We can see that by unfreezeing the weghts we enable the model to fine tune and get better results"
   ]
  }
 ],
 "metadata": {
  "colab": {
   "name": "DL_word_embedding_assignment.ipynb",
   "provenance": []
  },
  "kernelspec": {
   "display_name": "Python 3 (ipykernel)",
   "language": "python",
   "name": "python3"
  },
  "language_info": {
   "codemirror_mode": {
    "name": "ipython",
    "version": 3
   },
   "file_extension": ".py",
   "mimetype": "text/x-python",
   "name": "python",
   "nbconvert_exporter": "python",
   "pygments_lexer": "ipython3",
   "version": "3.7.13"
  }
 },
 "nbformat": 4,
 "nbformat_minor": 4
}
