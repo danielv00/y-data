{
 "cells": [
  {
   "cell_type": "markdown",
   "metadata": {
    "id": "gI-StW3hbGOA"
   },
   "source": [
    "# Transfer Learning"
   ]
  },
  {
   "cell_type": "code",
   "execution_count": 1,
   "metadata": {
    "ExecuteTime": {
     "end_time": "2022-02-15T04:19:51.792829Z",
     "start_time": "2022-02-15T04:19:51.201471Z"
    },
    "id": "1URABfT2bGN6"
   },
   "outputs": [],
   "source": [
    "%matplotlib inline"
   ]
  },
  {
   "cell_type": "code",
   "execution_count": 7,
   "metadata": {
    "colab": {
     "base_uri": "https://localhost:8080/"
    },
    "id": "B-z7pdTvL29z",
    "outputId": "44badddb-bde4-4e09-dfad-4777b17867ed"
   },
   "outputs": [
    {
     "name": "stdout",
     "output_type": "stream",
     "text": [
      "Requirement already satisfied: requests in /usr/local/lib/python3.7/dist-packages (2.23.0)\n",
      "Requirement already satisfied: idna<3,>=2.5 in /usr/local/lib/python3.7/dist-packages (from requests) (2.10)\n",
      "Requirement already satisfied: urllib3!=1.25.0,!=1.25.1,<1.26,>=1.21.1 in /usr/local/lib/python3.7/dist-packages (from requests) (1.24.3)\n",
      "Requirement already satisfied: certifi>=2017.4.17 in /usr/local/lib/python3.7/dist-packages (from requests) (2021.10.8)\n",
      "Requirement already satisfied: chardet<4,>=3.0.2 in /usr/local/lib/python3.7/dist-packages (from requests) (3.0.4)\n"
     ]
    }
   ],
   "source": [
    "pip install requests"
   ]
  },
  {
   "cell_type": "code",
   "execution_count": 2,
   "metadata": {
    "ExecuteTime": {
     "end_time": "2022-02-15T04:19:51.840874Z",
     "start_time": "2022-02-15T04:19:51.826878Z"
    },
    "id": "rP-HFfuxRfTU"
   },
   "outputs": [],
   "source": [
    "import warnings\n",
    "warnings.filterwarnings(\"ignore\", category=UserWarning)\n",
    "from tqdm import tqdm\n",
    "from tqdm.notebook import tqdm"
   ]
  },
  {
   "cell_type": "code",
   "execution_count": 9,
   "metadata": {
    "ExecuteTime": {
     "end_time": "2022-02-15T04:19:52.215123Z",
     "start_time": "2022-02-15T04:19:52.196701Z"
    },
    "id": "dH4A1mP4bGOB"
   },
   "outputs": [],
   "source": [
    "from __future__ import print_function, division\n",
    "\n",
    "import numpy as np\n",
    "import matplotlib.pyplot as plt\n",
    "import time\n",
    "import os\n",
    "import copy\n",
    "plt.ion()   # interactive mode\n",
    "import requests"
   ]
  },
  {
   "cell_type": "code",
   "execution_count": 4,
   "metadata": {
    "ExecuteTime": {
     "end_time": "2022-02-15T04:19:55.313476Z",
     "start_time": "2022-02-15T04:19:52.872630Z"
    },
    "id": "gAlnwL1y85Fo"
   },
   "outputs": [],
   "source": [
    "import torch\n",
    "import torch.nn as nn\n",
    "import torch.optim as optim\n",
    "from torch.optim import lr_scheduler\n",
    "\n",
    "import torchvision\n",
    "from torchvision import datasets, models, transforms"
   ]
  },
  {
   "cell_type": "markdown",
   "metadata": {
    "id": "td68sj5ZbGOB"
   },
   "source": [
    "## Load Data"
   ]
  },
  {
   "cell_type": "code",
   "execution_count": 5,
   "metadata": {
    "ExecuteTime": {
     "end_time": "2021-01-05T08:25:43.697021Z",
     "start_time": "2021-01-05T08:25:43.634378Z"
    },
    "id": "Imt6bHRcpKl8"
   },
   "outputs": [],
   "source": [
    "# Create a folder for our data\n",
    "# The ! prefix runs this as a shell command\n",
    "!mkdir data\n",
    "!mkdir data/israeli_politicians"
   ]
  },
  {
   "cell_type": "code",
   "execution_count": 10,
   "metadata": {
    "ExecuteTime": {
     "end_time": "2021-01-05T08:25:53.487927Z",
     "start_time": "2021-01-05T08:25:47.261674Z"
    },
    "id": "L3PygmilpKl9"
   },
   "outputs": [],
   "source": [
    "# Download our dataset and extract it\n",
    "# import requests\n",
    "from zipfile import ZipFile\n",
    "\n",
    "url = 'https://github.com/omriallouche/ydata_deep_learning_2021/blob/main/data/israeli_politicians.zip?raw=true'\n",
    "r = requests.get(url, allow_redirects=True)\n",
    "open('./data/israeli_politicians.zip', 'wb').write(r.content)\n",
    "\n",
    "with ZipFile('./data/israeli_politicians.zip', 'r') as zipObj:\n",
    "   # Extract all the contents of zip file in current directory\n",
    "   zipObj.extractall(path='./data/israeli_politicians/')"
   ]
  },
  {
   "cell_type": "code",
   "execution_count": null,
   "metadata": {
    "id": "lywp3I-MLQgW"
   },
   "outputs": [],
   "source": [
    "from google.colab import drive\n",
    "drive.mount('/content/drive')"
   ]
  },
  {
   "cell_type": "markdown",
   "metadata": {
    "id": "e2DovylepKl9"
   },
   "source": [
    "### Datasets definition"
   ]
  },
  {
   "cell_type": "code",
   "execution_count": 112,
   "metadata": {
    "ExecuteTime": {
     "end_time": "2021-02-10T15:56:10.524522Z",
     "start_time": "2021-02-10T15:56:10.513925Z"
    },
    "id": "1hOx1afMpKl-"
   },
   "outputs": [],
   "source": [
    "means = [0.485, 0.456, 0.406]\n",
    "stds = [0.229, 0.224, 0.225]\n",
    "\n",
    "data_transforms = {\n",
    "    'train': transforms.Compose([\n",
    "        transforms.Resize((256, 256)),\n",
    "        transforms.ToTensor(),\n",
    "        transforms.Normalize(means, stds)\n",
    "    ]),\n",
    "    'val': transforms.Compose([\n",
    "        transforms.Resize((256, 256)),\n",
    "        transforms.ToTensor(),\n",
    "        transforms.Normalize(means, stds)\n",
    "    ]),\n",
    "}"
   ]
  },
  {
   "cell_type": "code",
   "execution_count": 113,
   "metadata": {
    "ExecuteTime": {
     "end_time": "2022-02-15T12:46:24.811147Z",
     "start_time": "2022-02-15T12:46:24.438040Z"
    },
    "id": "_tgnnDCvbGOB"
   },
   "outputs": [],
   "source": [
    "data_dir = r'./data/israeli_politicians/'\n",
    "\n",
    "image_datasets = {x: datasets.ImageFolder(os.path.join(data_dir, x),\n",
    "                                          data_transforms[x])\n",
    "                  for x in ['train', 'val']}"
   ]
  },
  {
   "cell_type": "markdown",
   "metadata": {
    "id": "Tj-ORSVz85Fs"
   },
   "source": [
    "A data loader wraps an iterable around the Dataset to enable easy access to the samples. It combines a dataset and a sampler."
   ]
  },
  {
   "cell_type": "code",
   "execution_count": 114,
   "metadata": {
    "id": "rjPgd7eB85Fs"
   },
   "outputs": [],
   "source": [
    "dataloaders = {\n",
    "    'train': torch.utils.data.DataLoader(image_datasets['train'], batch_size=16,\n",
    "                                             shuffle=True, num_workers=4),\n",
    "    'val': torch.utils.data.DataLoader(image_datasets['val'], batch_size=16,\n",
    "                                          shuffle=False, num_workers=4)\n",
    "  }"
   ]
  },
  {
   "cell_type": "code",
   "execution_count": 115,
   "metadata": {
    "colab": {
     "base_uri": "https://localhost:8080/"
    },
    "id": "7zx0sPw985Ft",
    "outputId": "8a210a8e-72b0-4cde-f40e-47923894a4ef"
   },
   "outputs": [
    {
     "name": "stdout",
     "output_type": "stream",
     "text": [
      "dataset_sizes:  {'train': 929, 'val': 234}\n",
      "class_names: ['ayelet_shaked', 'benjamin_netanyahu', 'benny_gantz', 'danny_danon', 'gideon_saar', 'kostya_kilimnik', 'naftali_bennett', 'ofir_akunis', 'yair_lapid']\n"
     ]
    }
   ],
   "source": [
    "dataset_sizes = {x: len(image_datasets[x]) for x in ['train', 'val']}\n",
    "print('dataset_sizes: ', dataset_sizes)\n",
    "\n",
    "class_names = image_datasets['train'].classes\n",
    "print('class_names:', class_names)"
   ]
  },
  {
   "cell_type": "code",
   "execution_count": 15,
   "metadata": {
    "colab": {
     "base_uri": "https://localhost:8080/"
    },
    "id": "wkDZ8e0gPzk5",
    "outputId": "963c7858-44eb-4190-bf1f-57ae35881730"
   },
   "outputs": [
    {
     "data": {
      "text/plain": [
       "device(type='cuda', index=0)"
      ]
     },
     "execution_count": 15,
     "metadata": {},
     "output_type": "execute_result"
    }
   ],
   "source": [
    "device = torch.device(\"cuda:0\" if torch.cuda.is_available() else \"cpu\")\n",
    "device"
   ]
  },
  {
   "cell_type": "markdown",
   "metadata": {
    "id": "a3CJLLEsRjIX"
   },
   "source": [
    "### Datasets and Dataloaders\n",
    "Let's examine the dataloaders and datasets and learn more about their attributes and functions.  "
   ]
  },
  {
   "cell_type": "code",
   "execution_count": 30,
   "metadata": {
    "id": "7K9ca0KWQ2SE"
   },
   "outputs": [],
   "source": [
    "train_dataloader = dataloaders['train']"
   ]
  },
  {
   "cell_type": "code",
   "execution_count": 18,
   "metadata": {
    "colab": {
     "base_uri": "https://localhost:8080/"
    },
    "id": "O3SvG2F1Q8Q9",
    "outputId": "f98f5316-6162-4e9b-8c79-eb88650542b8"
   },
   "outputs": [
    {
     "data": {
      "text/plain": [
       "{'ayelet_shaked': 0,\n",
       " 'benjamin_netanyahu': 1,\n",
       " 'benny_gantz': 2,\n",
       " 'danny_danon': 3,\n",
       " 'gideon_saar': 4,\n",
       " 'kostya_kilimnik': 5,\n",
       " 'naftali_bennett': 6,\n",
       " 'ofir_akunis': 7,\n",
       " 'yair_lapid': 8}"
      ]
     },
     "execution_count": 18,
     "metadata": {},
     "output_type": "execute_result"
    }
   ],
   "source": [
    "train_dataloader.dataset.class_to_idx"
   ]
  },
  {
   "cell_type": "code",
   "execution_count": 63,
   "metadata": {
    "ExecuteTime": {
     "end_time": "2021-02-10T16:00:27.294647Z",
     "start_time": "2021-02-10T16:00:27.282629Z"
    },
    "id": "YeNm4HwpbGOD"
   },
   "outputs": [],
   "source": [
    "import copy\n",
    "def train_model(model, dataloaders, criterion, optimizer, scheduler, num_epochs=25, freeze_all = False):\n",
    "    since = time.time()\n",
    "\n",
    "    best_model_wts = copy.deepcopy(model.state_dict())\n",
    "    best_acc = 0.0\n",
    "\n",
    "    train_res= np.zeros((2,num_epochs))\n",
    "    val_res=np.zeros((2,num_epochs))\n",
    "    dict_res={'train':train_res, 'val':val_res}\n",
    "\n",
    "    for epoch in tqdm(range(num_epochs)):\n",
    "        print('Epoch {}/{}'.format(epoch, num_epochs - 1))\n",
    "        print('-' * 10)\n",
    "\n",
    "        for phase in ['train', 'val']:\n",
    "            if phase == 'train':\n",
    "                model.train()  \n",
    "            else:\n",
    "                model.eval()   \n",
    "\n",
    "            running_loss = 0.0\n",
    "            running_corrects = 0\n",
    "\n",
    "            for inputs, labels in dataloaders[phase]:\n",
    "                inputs = inputs.to(device)\n",
    "                labels = labels.to(device)\n",
    "                optimizer.zero_grad()\n",
    "\n",
    "                with torch.set_grad_enabled((phase=='train') & (not freeze_all)):\n",
    "                    outputs = model(inputs)\n",
    "                    _, preds = torch.max(outputs, 1)\n",
    "                    loss = criterion(outputs, labels)\n",
    "\n",
    "                    if ((phase == 'train') & (not freeze_all)):\n",
    "                        loss.backward()\n",
    "                        optimizer.step()\n",
    "\n",
    "                running_loss += loss.item() * inputs.size(0)\n",
    "                running_corrects += torch.sum(preds == labels.data)\n",
    "                \n",
    "            if phase == 'train':\n",
    "                scheduler.step()  \n",
    "\n",
    "            epoch_loss = running_loss / dataset_sizes[phase]\n",
    "            epoch_acc = running_corrects.double() / dataset_sizes[phase]\n",
    "\n",
    "            print(f'{phase} Loss: {epoch_loss:.4f} Acc: {epoch_acc:.4f}')\n",
    "\n",
    "            dict_res[phase][0,epoch]=epoch_loss\n",
    "            dict_res[phase][1,epoch]=epoch_acc\n",
    "\n",
    "            if phase == 'val' and epoch_acc > best_acc:\n",
    "                best_acc = epoch_acc\n",
    "                best_model_wts = copy.deepcopy(model.state_dict())\n",
    "\n",
    "        print()\n",
    "\n",
    "    time_elapsed = time.time() - since\n",
    "    print(f'Training complete in {(time_elapsed // 60):.0f}m {(time_elapsed % 60):.0f}s')\n",
    "    print(f'Best val Acc: {best_acc:4f}')\n",
    "\n",
    "    model.load_state_dict(best_model_wts)\n",
    "    \n",
    "    return model, dict_res\n"
   ]
  },
  {
   "cell_type": "markdown",
   "metadata": {
    "id": "YwPhNfqVO5BL"
   },
   "source": [
    "## Pretrained Vgg16 model with layers' weights frozen\n",
    "requires_grad = False"
   ]
  },
  {
   "cell_type": "code",
   "execution_count": 64,
   "metadata": {
    "id": "FJVDpyPeO8o1"
   },
   "outputs": [],
   "source": [
    "model = models.vgg16(pretrained=True)\n",
    "model.classifier[6] = nn.Linear(in_features=4096, out_features=9)\n",
    "model = model.to(device)\n",
    "criterion = nn.CrossEntropyLoss()\n",
    "optimizer_ft = optim.SGD(model.parameters(), lr=0.001, momentum=0.9)\n",
    "exp_lr_scheduler = lr_scheduler.StepLR(optimizer_ft, step_size=7, gamma=0.1)\n",
    "num_epochs = 8\n",
    "\n",
    "for param in model.parameters():\n",
    "    param.requires_grad = False"
   ]
  },
  {
   "cell_type": "code",
   "execution_count": 45,
   "metadata": {
    "colab": {
     "base_uri": "https://localhost:8080/",
     "height": 813,
     "referenced_widgets": [
      "c6f7b2c098a04120ad671180b17148c0",
      "ac6432c490fd40158d898a7dc6c2d6ac",
      "d1ddfe0be0764158ba7e5884c86e1da8",
      "cc75493210db4efbb6650de0ac94355b",
      "f3180dd49dbb4be4ae8f63286e6fd298",
      "2738f8084aa74f28a9923c0761e46cb9",
      "46052bb925834fe1b241abc693c02e44",
      "dc3d12c75e9d4d67a0b70cd4de8892dc",
      "c1cfa92987e94250a5d23382247854b9",
      "e51274419a51434187fbefad1f3c20b9",
      "ee762eeb2116410c9056e80aea616e92"
     ]
    },
    "id": "uj_4519xPKFh",
    "outputId": "9a2138b3-d22d-41a7-e09f-8ea9998a87a6"
   },
   "outputs": [
    {
     "data": {
      "application/vnd.jupyter.widget-view+json": {
       "model_id": "c6f7b2c098a04120ad671180b17148c0",
       "version_major": 2,
       "version_minor": 0
      },
      "text/plain": [
       "  0%|          | 0/8 [00:00<?, ?it/s]"
      ]
     },
     "metadata": {},
     "output_type": "display_data"
    },
    {
     "name": "stdout",
     "output_type": "stream",
     "text": [
      "Epoch 0/7\n",
      "----------\n",
      "train Loss: 2.2189 Acc: 0.1399\n",
      "val Loss: 2.1801 Acc: 0.0769\n",
      "\n",
      "Epoch 1/7\n",
      "----------\n",
      "train Loss: 2.2241 Acc: 0.1259\n",
      "val Loss: 2.1801 Acc: 0.0769\n",
      "\n",
      "Epoch 2/7\n",
      "----------\n",
      "train Loss: 2.2151 Acc: 0.1356\n",
      "val Loss: 2.1801 Acc: 0.0769\n",
      "\n",
      "Epoch 3/7\n",
      "----------\n",
      "train Loss: 2.2137 Acc: 0.1367\n",
      "val Loss: 2.1801 Acc: 0.0769\n",
      "\n",
      "Epoch 4/7\n",
      "----------\n",
      "train Loss: 2.2292 Acc: 0.1281\n",
      "val Loss: 2.1801 Acc: 0.0769\n",
      "\n",
      "Epoch 5/7\n",
      "----------\n",
      "train Loss: 2.2273 Acc: 0.1313\n",
      "val Loss: 2.1801 Acc: 0.0769\n",
      "\n",
      "Epoch 6/7\n",
      "----------\n",
      "train Loss: 2.2308 Acc: 0.1302\n",
      "val Loss: 2.1801 Acc: 0.0769\n",
      "\n",
      "Epoch 7/7\n",
      "----------\n",
      "train Loss: 2.2210 Acc: 0.1152\n",
      "val Loss: 2.1801 Acc: 0.0769\n",
      "\n",
      "Training complete in 2m 54s\n",
      "Best val Acc: 0.076923\n",
      "CPU times: user 2min 32s, sys: 4.76 s, total: 2min 37s\n",
      "Wall time: 2min 54s\n"
     ]
    }
   ],
   "source": [
    "%%time\n",
    "model,dict_res = train_model(model.to('cuda'), \n",
    "                    dataloaders,\n",
    "                       criterion, \n",
    "                       optimizer_ft, \n",
    "                       exp_lr_scheduler,\n",
    "                       num_epochs=num_epochs, freeze_all=True)"
   ]
  },
  {
   "cell_type": "markdown",
   "metadata": {
    "id": "aU9QrD3ChRZm"
   },
   "source": [
    "## Pretrained Vgg16 model with 25 first layers weights frozen "
   ]
  },
  {
   "cell_type": "code",
   "execution_count": 116,
   "metadata": {
    "id": "3apZZsM9hVQK"
   },
   "outputs": [],
   "source": [
    "model = models.vgg16(pretrained=True)\n",
    "model.classifier[6] = nn.Linear(in_features=4096, out_features=9)\n",
    "model = model.to(device)\n",
    "criterion = nn.CrossEntropyLoss()\n",
    "num_epochs = 8"
   ]
  },
  {
   "cell_type": "code",
   "execution_count": 117,
   "metadata": {
    "id": "vsGHi4RVSmZi"
   },
   "outputs": [],
   "source": [
    "layer_counter = 0\n",
    "for (name, module) in model.named_children():\n",
    "    if name == 'features':\n",
    "        for layer in module.children():\n",
    "            if(layer_counter >= 25):\n",
    "                break\n",
    "            for param in layer.parameters():\n",
    "                param.requires_grad = False\n",
    "            layer_counter+=1\n",
    "\n",
    "optimizer_ft = optim.SGD(filter(lambda p: p.requires_grad, model.parameters()), lr=0.001, momentum=0.9)\n",
    "exp_lr_scheduler = lr_scheduler.StepLR(optimizer_ft, step_size=7, gamma=0.1)"
   ]
  },
  {
   "cell_type": "code",
   "execution_count": 118,
   "metadata": {
    "colab": {
     "base_uri": "https://localhost:8080/",
     "height": 813,
     "referenced_widgets": [
      "2724e9e9194146aaa1e40e02b7f1d325",
      "9a2e2d84092343359fe066824d6c745a",
      "e47d87efbb69430d8dae1c1b49a9ae94",
      "9a602c2a349449ca9215fb0b66431ae1",
      "02e6ecd2b7cb4d1eb9e9b5e30bbb38b7",
      "d58f7868ee0d44339d8291e7a0b6f18d",
      "fd7dc610e51845c5bc69c7f21fc3de98",
      "e0392df21d3741d79ad40754171e5015",
      "f4144be943e24194ad4c9adf3c85e871",
      "93af394139ae416e92ad673a3a9d27f8",
      "055127bc2f1e42ff9af01f1dad681d47"
     ]
    },
    "id": "4INu6HUHh38S",
    "outputId": "ad455167-0828-449d-9fcf-7764f24e3b51"
   },
   "outputs": [
    {
     "data": {
      "application/vnd.jupyter.widget-view+json": {
       "model_id": "2724e9e9194146aaa1e40e02b7f1d325",
       "version_major": 2,
       "version_minor": 0
      },
      "text/plain": [
       "  0%|          | 0/8 [00:00<?, ?it/s]"
      ]
     },
     "metadata": {},
     "output_type": "display_data"
    },
    {
     "name": "stdout",
     "output_type": "stream",
     "text": [
      "Epoch 0/7\n",
      "----------\n",
      "train Loss: 1.8157 Acc: 0.3434\n",
      "val Loss: 1.4742 Acc: 0.4658\n",
      "\n",
      "Epoch 1/7\n",
      "----------\n",
      "train Loss: 1.2203 Acc: 0.5791\n",
      "val Loss: 1.1157 Acc: 0.6282\n",
      "\n",
      "Epoch 2/7\n",
      "----------\n",
      "train Loss: 0.7259 Acc: 0.7643\n",
      "val Loss: 1.5214 Acc: 0.6026\n",
      "\n",
      "Epoch 3/7\n",
      "----------\n",
      "train Loss: 0.4909 Acc: 0.8461\n",
      "val Loss: 0.9637 Acc: 0.7094\n",
      "\n",
      "Epoch 4/7\n",
      "----------\n",
      "train Loss: 0.3885 Acc: 0.8611\n",
      "val Loss: 0.9462 Acc: 0.7051\n",
      "\n",
      "Epoch 5/7\n",
      "----------\n",
      "train Loss: 0.2069 Acc: 0.9419\n",
      "val Loss: 0.7910 Acc: 0.7650\n",
      "\n",
      "Epoch 6/7\n",
      "----------\n",
      "train Loss: 0.1066 Acc: 0.9731\n",
      "val Loss: 0.8821 Acc: 0.7350\n",
      "\n",
      "Epoch 7/7\n",
      "----------\n",
      "train Loss: 0.0480 Acc: 0.9892\n",
      "val Loss: 0.8097 Acc: 0.7521\n",
      "\n",
      "Training complete in 4m 23s\n",
      "Best val Acc: 0.764957\n",
      "CPU times: user 4min 7s, sys: 5.41 s, total: 4min 12s\n",
      "Wall time: 4min 22s\n"
     ]
    }
   ],
   "source": [
    "%%time\n",
    "model,dict_res = train_model(model.to('cuda'), \n",
    "                    dataloaders,\n",
    "                       criterion, \n",
    "                       optimizer_ft, \n",
    "                       exp_lr_scheduler,\n",
    "                       num_epochs=num_epochs, freeze_all=False)"
   ]
  },
  {
   "cell_type": "markdown",
   "metadata": {
    "id": "gSgeBtm7aKWB"
   },
   "source": [
    "##Training the network from scratch (without pretrained weights)"
   ]
  },
  {
   "cell_type": "code",
   "execution_count": 110,
   "metadata": {
    "id": "1tJ5rZaIae90"
   },
   "outputs": [],
   "source": [
    "model = models.vgg16(pretrained=False)\n",
    "model.classifier[6] = nn.Linear(in_features=4096, out_features=9)\n",
    "model = model.to(device)\n",
    "criterion = nn.CrossEntropyLoss()\n",
    "optimizer_ft = optim.SGD(model.parameters(), lr=0.001, momentum=0.9)\n",
    "exp_lr_scheduler = lr_scheduler.StepLR(optimizer_ft, step_size=7, gamma=0.1)\n",
    "num_epochs = 8"
   ]
  },
  {
   "cell_type": "code",
   "execution_count": 111,
   "metadata": {
    "colab": {
     "base_uri": "https://localhost:8080/",
     "height": 813,
     "referenced_widgets": [
      "faa49cd9ccd74fd5858265a54da31e4b",
      "65a8075aa2cf4f2993a7286c5bdff5bd",
      "92688f8206fe4973b5c4570b51534ea9",
      "86721d23f6084c0b82ac0fa3f63bfbbd",
      "a7a04fbe012d48b793daf60cc0c4e1ae",
      "6d7375f75a7b498d8976085f0a81f3ff",
      "949c6292fa424264ac6dd584af739db8",
      "9ace1022ddfb46dabc5d89ac03c6601b",
      "48bdf8613de84dc2b3b59af0779bfb19",
      "4b4eb11a546949c58ee208c9cb997d9b",
      "6e97a23658cc460ea6d8baa09ebe5601"
     ]
    },
    "id": "TW6K1Cqga1ze",
    "outputId": "7a094734-d3ee-4da4-fbe4-89c25166ebbd"
   },
   "outputs": [
    {
     "data": {
      "application/vnd.jupyter.widget-view+json": {
       "model_id": "faa49cd9ccd74fd5858265a54da31e4b",
       "version_major": 2,
       "version_minor": 0
      },
      "text/plain": [
       "  0%|          | 0/8 [00:00<?, ?it/s]"
      ]
     },
     "metadata": {},
     "output_type": "display_data"
    },
    {
     "name": "stdout",
     "output_type": "stream",
     "text": [
      "Epoch 0/7\n",
      "----------\n",
      "train Loss: 2.1057 Acc: 0.2433\n",
      "val Loss: 2.0715 Acc: 0.2479\n",
      "\n",
      "Epoch 1/7\n",
      "----------\n",
      "train Loss: 2.0729 Acc: 0.2551\n",
      "val Loss: 2.0560 Acc: 0.2479\n",
      "\n",
      "Epoch 2/7\n",
      "----------\n",
      "train Loss: 2.0541 Acc: 0.2551\n",
      "val Loss: 2.0664 Acc: 0.2479\n",
      "\n",
      "Epoch 3/7\n",
      "----------\n",
      "train Loss: 2.0443 Acc: 0.2530\n",
      "val Loss: 2.0467 Acc: 0.2479\n",
      "\n",
      "Epoch 4/7\n",
      "----------\n",
      "train Loss: 2.0471 Acc: 0.2551\n",
      "val Loss: 2.0328 Acc: 0.2692\n",
      "\n",
      "Epoch 5/7\n",
      "----------\n",
      "train Loss: 2.0164 Acc: 0.2357\n",
      "val Loss: 2.0195 Acc: 0.2564\n",
      "\n",
      "Epoch 6/7\n",
      "----------\n",
      "train Loss: 2.0008 Acc: 0.2583\n",
      "val Loss: 2.0210 Acc: 0.2778\n",
      "\n",
      "Epoch 7/7\n",
      "----------\n",
      "train Loss: 1.9685 Acc: 0.2766\n",
      "val Loss: 2.0055 Acc: 0.2735\n",
      "\n",
      "Training complete in 9m 10s\n",
      "Best val Acc: 0.277778\n",
      "CPU times: user 8min 55s, sys: 5.81 s, total: 9min\n",
      "Wall time: 9min 9s\n"
     ]
    }
   ],
   "source": [
    "%%time\n",
    "model,dict_res = train_model(model.to('cuda'), \n",
    "                    dataloaders,\n",
    "                       criterion, \n",
    "                       optimizer_ft, \n",
    "                       exp_lr_scheduler,\n",
    "                       num_epochs=num_epochs, freeze_all=False)"
   ]
  },
  {
   "cell_type": "markdown",
   "metadata": {
    "id": "g8XxZG3C85Fx"
   },
   "source": [
    "## Pretrained Vgg16 model with unfrozen weights\n",
    "requires_grad = True (by defalut)\n"
   ]
  },
  {
   "cell_type": "code",
   "execution_count": 49,
   "metadata": {
    "ExecuteTime": {
     "end_time": "2021-02-10T16:41:50.286515Z",
     "start_time": "2021-02-10T16:41:50.192498Z"
    },
    "id": "M-VgT1c7pKmC"
   },
   "outputs": [],
   "source": [
    "model = models.vgg16(pretrained=True)\n",
    "model.classifier[6] = nn.Linear(in_features=4096, out_features=9)\n",
    "model = model.to(device)\n",
    "\n",
    "criterion = nn.CrossEntropyLoss()\n",
    "optimizer_ft = optim.SGD(model.parameters(), lr=0.001, momentum=0.9)\n",
    "exp_lr_scheduler = lr_scheduler.StepLR(optimizer_ft, step_size=7, gamma=0.1)\n",
    "\n",
    "num_epochs = 8"
   ]
  },
  {
   "cell_type": "code",
   "execution_count": 50,
   "metadata": {
    "ExecuteTime": {
     "end_time": "2021-02-10T16:51:38.464026Z",
     "start_time": "2021-02-10T16:42:48.923785Z"
    },
    "colab": {
     "base_uri": "https://localhost:8080/",
     "height": 813,
     "referenced_widgets": [
      "47b588e159644675a6f1f174d5e25a98",
      "de5849405b5b4d49a005dc69f9f71125",
      "38e88de2a02e46b1986f425bc84450a1",
      "97a98d68a38f422fa930ce0e31f004b3",
      "ef7a6c8b7d95430c98c782d2cd0fcaf1",
      "ae7505436bd048e088422e08449ca3e4",
      "b300c7845860435aa9788710282fb3a5",
      "796a2caea89140da80d06c10585cf30d",
      "1e695b4c16f7410ea96c2da8368d9606",
      "3dd42d6f7e8947ac9ef52de1eadefbc1",
      "780545cc1a93448082e1852dbd55ef6a"
     ]
    },
    "id": "logUJ2VabGOF",
    "outputId": "61ab4cc7-e6db-41e8-b651-40bab314e8b4"
   },
   "outputs": [
    {
     "data": {
      "application/vnd.jupyter.widget-view+json": {
       "model_id": "47b588e159644675a6f1f174d5e25a98",
       "version_major": 2,
       "version_minor": 0
      },
      "text/plain": [
       "  0%|          | 0/8 [00:00<?, ?it/s]"
      ]
     },
     "metadata": {},
     "output_type": "display_data"
    },
    {
     "name": "stdout",
     "output_type": "stream",
     "text": [
      "Epoch 0/7\n",
      "----------\n",
      "train Loss: 1.7647 Acc: 0.3724\n",
      "val Loss: 1.3821 Acc: 0.5128\n",
      "\n",
      "Epoch 1/7\n",
      "----------\n",
      "train Loss: 1.0065 Acc: 0.6631\n",
      "val Loss: 0.9215 Acc: 0.6752\n",
      "\n",
      "Epoch 2/7\n",
      "----------\n",
      "train Loss: 0.6802 Acc: 0.7696\n",
      "val Loss: 0.8964 Acc: 0.6880\n",
      "\n",
      "Epoch 3/7\n",
      "----------\n",
      "train Loss: 0.2966 Acc: 0.8999\n",
      "val Loss: 1.4140 Acc: 0.6282\n",
      "\n",
      "Epoch 4/7\n",
      "----------\n",
      "train Loss: 0.8737 Acc: 0.7266\n",
      "val Loss: 0.7498 Acc: 0.7479\n",
      "\n",
      "Epoch 5/7\n",
      "----------\n",
      "train Loss: 0.3523 Acc: 0.8816\n",
      "val Loss: 0.7291 Acc: 0.7778\n",
      "\n",
      "Epoch 6/7\n",
      "----------\n",
      "train Loss: 0.1534 Acc: 0.9559\n",
      "val Loss: 0.7222 Acc: 0.7991\n",
      "\n",
      "Epoch 7/7\n",
      "----------\n",
      "train Loss: 0.0611 Acc: 0.9839\n",
      "val Loss: 0.6568 Acc: 0.8162\n",
      "\n",
      "Training complete in 7m 32s\n",
      "Best val Acc: 0.816239\n",
      "CPU times: user 7min 10s, sys: 5.5 s, total: 7min 16s\n",
      "Wall time: 7min 31s\n"
     ]
    }
   ],
   "source": [
    "%%time\n",
    "model,dict_res = train_model(model.to('cuda'), \n",
    "                    dataloaders,\n",
    "                       criterion, \n",
    "                       optimizer_ft, \n",
    "                       exp_lr_scheduler,\n",
    "                       num_epochs=num_epochs)"
   ]
  },
  {
   "cell_type": "markdown",
   "metadata": {
    "id": "TIAEN0h5tjNb"
   },
   "source": [
    "# Conclusions\n",
    "We got the following results: <br>\n",
    "Pretrained Vgg16 model with frozen layers: Acc = **0.07** <br>\n",
    "Pretrained Vgg16 model with 25 first layers' weights frozen: best Acc = **0.76**<br>\n",
    "Trained from scratch network with untrained weights: best Acc = **0.24**<br>\n",
    "Pretrained Vgg16 model with unfrozen weights:  best Acc = **0.81** <br><br>\n",
    "\n",
    "Not surprisingly we got the best accuracy for the pretrained model with unfrozen weights because  it's already trained and could even improve the performance by training the weights. <br>\n",
    "We got the worst results for the pretrained frozen model because the filters can't be trained and stay with bad weights.\n",
    "For the trained from scratch model we got a bit better performance because the filters were trained and succeeded to improve weights.\n",
    "Regarding the model with first 25 frozen layers - we got surprisingly not bad results which means that probably those frozen layers are not so important and the the last layers can easily be trained."
   ]
  }
 ],
 "metadata": {
  "accelerator": "GPU",
  "colab": {
   "collapsed_sections": [],
   "name": "hw4_transfer.ipynb",
   "provenance": [],
   "toc_visible": true
  },
  "kernelspec": {
   "display_name": "Python 3 (ipykernel)",
   "language": "python",
   "name": "python3"
  },
  "language_info": {
   "codemirror_mode": {
    "name": "ipython",
    "version": 3
   },
   "file_extension": ".py",
   "mimetype": "text/x-python",
   "name": "python",
   "nbconvert_exporter": "python",
   "pygments_lexer": "ipython3",
   "version": "3.7.13"
  },
  "varInspector": {
   "cols": {
    "lenName": 16,
    "lenType": 16,
    "lenVar": 40
   },
   "kernels_config": {
    "python": {
     "delete_cmd_postfix": "",
     "delete_cmd_prefix": "del ",
     "library": "var_list.py",
     "varRefreshCmd": "print(var_dic_list())"
    },
    "r": {
     "delete_cmd_postfix": ") ",
     "delete_cmd_prefix": "rm(",
     "library": "var_list.r",
     "varRefreshCmd": "cat(var_dic_list()) "
    }
   },
   "types_to_exclude": [
    "module",
    "function",
    "builtin_function_or_method",
    "instance",
    "_Feature"
   ],
   "window_display": false
  },
  "widgets": {
   "application/vnd.jupyter.widget-state+json": {
    "02e6ecd2b7cb4d1eb9e9b5e30bbb38b7": {
     "model_module": "@jupyter-widgets/base",
     "model_module_version": "1.2.0",
     "model_name": "LayoutModel",
     "state": {
      "_model_module": "@jupyter-widgets/base",
      "_model_module_version": "1.2.0",
      "_model_name": "LayoutModel",
      "_view_count": null,
      "_view_module": "@jupyter-widgets/base",
      "_view_module_version": "1.2.0",
      "_view_name": "LayoutView",
      "align_content": null,
      "align_items": null,
      "align_self": null,
      "border": null,
      "bottom": null,
      "display": null,
      "flex": null,
      "flex_flow": null,
      "grid_area": null,
      "grid_auto_columns": null,
      "grid_auto_flow": null,
      "grid_auto_rows": null,
      "grid_column": null,
      "grid_gap": null,
      "grid_row": null,
      "grid_template_areas": null,
      "grid_template_columns": null,
      "grid_template_rows": null,
      "height": null,
      "justify_content": null,
      "justify_items": null,
      "left": null,
      "margin": null,
      "max_height": null,
      "max_width": null,
      "min_height": null,
      "min_width": null,
      "object_fit": null,
      "object_position": null,
      "order": null,
      "overflow": null,
      "overflow_x": null,
      "overflow_y": null,
      "padding": null,
      "right": null,
      "top": null,
      "visibility": null,
      "width": null
     }
    },
    "055127bc2f1e42ff9af01f1dad681d47": {
     "model_module": "@jupyter-widgets/controls",
     "model_module_version": "1.5.0",
     "model_name": "DescriptionStyleModel",
     "state": {
      "_model_module": "@jupyter-widgets/controls",
      "_model_module_version": "1.5.0",
      "_model_name": "DescriptionStyleModel",
      "_view_count": null,
      "_view_module": "@jupyter-widgets/base",
      "_view_module_version": "1.2.0",
      "_view_name": "StyleView",
      "description_width": ""
     }
    },
    "1e695b4c16f7410ea96c2da8368d9606": {
     "model_module": "@jupyter-widgets/controls",
     "model_module_version": "1.5.0",
     "model_name": "ProgressStyleModel",
     "state": {
      "_model_module": "@jupyter-widgets/controls",
      "_model_module_version": "1.5.0",
      "_model_name": "ProgressStyleModel",
      "_view_count": null,
      "_view_module": "@jupyter-widgets/base",
      "_view_module_version": "1.2.0",
      "_view_name": "StyleView",
      "bar_color": null,
      "description_width": ""
     }
    },
    "2724e9e9194146aaa1e40e02b7f1d325": {
     "model_module": "@jupyter-widgets/controls",
     "model_module_version": "1.5.0",
     "model_name": "HBoxModel",
     "state": {
      "_dom_classes": [],
      "_model_module": "@jupyter-widgets/controls",
      "_model_module_version": "1.5.0",
      "_model_name": "HBoxModel",
      "_view_count": null,
      "_view_module": "@jupyter-widgets/controls",
      "_view_module_version": "1.5.0",
      "_view_name": "HBoxView",
      "box_style": "",
      "children": [
       "IPY_MODEL_9a2e2d84092343359fe066824d6c745a",
       "IPY_MODEL_e47d87efbb69430d8dae1c1b49a9ae94",
       "IPY_MODEL_9a602c2a349449ca9215fb0b66431ae1"
      ],
      "layout": "IPY_MODEL_02e6ecd2b7cb4d1eb9e9b5e30bbb38b7"
     }
    },
    "2738f8084aa74f28a9923c0761e46cb9": {
     "model_module": "@jupyter-widgets/base",
     "model_module_version": "1.2.0",
     "model_name": "LayoutModel",
     "state": {
      "_model_module": "@jupyter-widgets/base",
      "_model_module_version": "1.2.0",
      "_model_name": "LayoutModel",
      "_view_count": null,
      "_view_module": "@jupyter-widgets/base",
      "_view_module_version": "1.2.0",
      "_view_name": "LayoutView",
      "align_content": null,
      "align_items": null,
      "align_self": null,
      "border": null,
      "bottom": null,
      "display": null,
      "flex": null,
      "flex_flow": null,
      "grid_area": null,
      "grid_auto_columns": null,
      "grid_auto_flow": null,
      "grid_auto_rows": null,
      "grid_column": null,
      "grid_gap": null,
      "grid_row": null,
      "grid_template_areas": null,
      "grid_template_columns": null,
      "grid_template_rows": null,
      "height": null,
      "justify_content": null,
      "justify_items": null,
      "left": null,
      "margin": null,
      "max_height": null,
      "max_width": null,
      "min_height": null,
      "min_width": null,
      "object_fit": null,
      "object_position": null,
      "order": null,
      "overflow": null,
      "overflow_x": null,
      "overflow_y": null,
      "padding": null,
      "right": null,
      "top": null,
      "visibility": null,
      "width": null
     }
    },
    "38e88de2a02e46b1986f425bc84450a1": {
     "model_module": "@jupyter-widgets/controls",
     "model_module_version": "1.5.0",
     "model_name": "FloatProgressModel",
     "state": {
      "_dom_classes": [],
      "_model_module": "@jupyter-widgets/controls",
      "_model_module_version": "1.5.0",
      "_model_name": "FloatProgressModel",
      "_view_count": null,
      "_view_module": "@jupyter-widgets/controls",
      "_view_module_version": "1.5.0",
      "_view_name": "ProgressView",
      "bar_style": "success",
      "description": "",
      "description_tooltip": null,
      "layout": "IPY_MODEL_796a2caea89140da80d06c10585cf30d",
      "max": 8,
      "min": 0,
      "orientation": "horizontal",
      "style": "IPY_MODEL_1e695b4c16f7410ea96c2da8368d9606",
      "value": 8
     }
    },
    "3dd42d6f7e8947ac9ef52de1eadefbc1": {
     "model_module": "@jupyter-widgets/base",
     "model_module_version": "1.2.0",
     "model_name": "LayoutModel",
     "state": {
      "_model_module": "@jupyter-widgets/base",
      "_model_module_version": "1.2.0",
      "_model_name": "LayoutModel",
      "_view_count": null,
      "_view_module": "@jupyter-widgets/base",
      "_view_module_version": "1.2.0",
      "_view_name": "LayoutView",
      "align_content": null,
      "align_items": null,
      "align_self": null,
      "border": null,
      "bottom": null,
      "display": null,
      "flex": null,
      "flex_flow": null,
      "grid_area": null,
      "grid_auto_columns": null,
      "grid_auto_flow": null,
      "grid_auto_rows": null,
      "grid_column": null,
      "grid_gap": null,
      "grid_row": null,
      "grid_template_areas": null,
      "grid_template_columns": null,
      "grid_template_rows": null,
      "height": null,
      "justify_content": null,
      "justify_items": null,
      "left": null,
      "margin": null,
      "max_height": null,
      "max_width": null,
      "min_height": null,
      "min_width": null,
      "object_fit": null,
      "object_position": null,
      "order": null,
      "overflow": null,
      "overflow_x": null,
      "overflow_y": null,
      "padding": null,
      "right": null,
      "top": null,
      "visibility": null,
      "width": null
     }
    },
    "46052bb925834fe1b241abc693c02e44": {
     "model_module": "@jupyter-widgets/controls",
     "model_module_version": "1.5.0",
     "model_name": "DescriptionStyleModel",
     "state": {
      "_model_module": "@jupyter-widgets/controls",
      "_model_module_version": "1.5.0",
      "_model_name": "DescriptionStyleModel",
      "_view_count": null,
      "_view_module": "@jupyter-widgets/base",
      "_view_module_version": "1.2.0",
      "_view_name": "StyleView",
      "description_width": ""
     }
    },
    "47b588e159644675a6f1f174d5e25a98": {
     "model_module": "@jupyter-widgets/controls",
     "model_module_version": "1.5.0",
     "model_name": "HBoxModel",
     "state": {
      "_dom_classes": [],
      "_model_module": "@jupyter-widgets/controls",
      "_model_module_version": "1.5.0",
      "_model_name": "HBoxModel",
      "_view_count": null,
      "_view_module": "@jupyter-widgets/controls",
      "_view_module_version": "1.5.0",
      "_view_name": "HBoxView",
      "box_style": "",
      "children": [
       "IPY_MODEL_de5849405b5b4d49a005dc69f9f71125",
       "IPY_MODEL_38e88de2a02e46b1986f425bc84450a1",
       "IPY_MODEL_97a98d68a38f422fa930ce0e31f004b3"
      ],
      "layout": "IPY_MODEL_ef7a6c8b7d95430c98c782d2cd0fcaf1"
     }
    },
    "48bdf8613de84dc2b3b59af0779bfb19": {
     "model_module": "@jupyter-widgets/controls",
     "model_module_version": "1.5.0",
     "model_name": "ProgressStyleModel",
     "state": {
      "_model_module": "@jupyter-widgets/controls",
      "_model_module_version": "1.5.0",
      "_model_name": "ProgressStyleModel",
      "_view_count": null,
      "_view_module": "@jupyter-widgets/base",
      "_view_module_version": "1.2.0",
      "_view_name": "StyleView",
      "bar_color": null,
      "description_width": ""
     }
    },
    "4b4eb11a546949c58ee208c9cb997d9b": {
     "model_module": "@jupyter-widgets/base",
     "model_module_version": "1.2.0",
     "model_name": "LayoutModel",
     "state": {
      "_model_module": "@jupyter-widgets/base",
      "_model_module_version": "1.2.0",
      "_model_name": "LayoutModel",
      "_view_count": null,
      "_view_module": "@jupyter-widgets/base",
      "_view_module_version": "1.2.0",
      "_view_name": "LayoutView",
      "align_content": null,
      "align_items": null,
      "align_self": null,
      "border": null,
      "bottom": null,
      "display": null,
      "flex": null,
      "flex_flow": null,
      "grid_area": null,
      "grid_auto_columns": null,
      "grid_auto_flow": null,
      "grid_auto_rows": null,
      "grid_column": null,
      "grid_gap": null,
      "grid_row": null,
      "grid_template_areas": null,
      "grid_template_columns": null,
      "grid_template_rows": null,
      "height": null,
      "justify_content": null,
      "justify_items": null,
      "left": null,
      "margin": null,
      "max_height": null,
      "max_width": null,
      "min_height": null,
      "min_width": null,
      "object_fit": null,
      "object_position": null,
      "order": null,
      "overflow": null,
      "overflow_x": null,
      "overflow_y": null,
      "padding": null,
      "right": null,
      "top": null,
      "visibility": null,
      "width": null
     }
    },
    "65a8075aa2cf4f2993a7286c5bdff5bd": {
     "model_module": "@jupyter-widgets/controls",
     "model_module_version": "1.5.0",
     "model_name": "HTMLModel",
     "state": {
      "_dom_classes": [],
      "_model_module": "@jupyter-widgets/controls",
      "_model_module_version": "1.5.0",
      "_model_name": "HTMLModel",
      "_view_count": null,
      "_view_module": "@jupyter-widgets/controls",
      "_view_module_version": "1.5.0",
      "_view_name": "HTMLView",
      "description": "",
      "description_tooltip": null,
      "layout": "IPY_MODEL_6d7375f75a7b498d8976085f0a81f3ff",
      "placeholder": "​",
      "style": "IPY_MODEL_949c6292fa424264ac6dd584af739db8",
      "value": "100%"
     }
    },
    "6d7375f75a7b498d8976085f0a81f3ff": {
     "model_module": "@jupyter-widgets/base",
     "model_module_version": "1.2.0",
     "model_name": "LayoutModel",
     "state": {
      "_model_module": "@jupyter-widgets/base",
      "_model_module_version": "1.2.0",
      "_model_name": "LayoutModel",
      "_view_count": null,
      "_view_module": "@jupyter-widgets/base",
      "_view_module_version": "1.2.0",
      "_view_name": "LayoutView",
      "align_content": null,
      "align_items": null,
      "align_self": null,
      "border": null,
      "bottom": null,
      "display": null,
      "flex": null,
      "flex_flow": null,
      "grid_area": null,
      "grid_auto_columns": null,
      "grid_auto_flow": null,
      "grid_auto_rows": null,
      "grid_column": null,
      "grid_gap": null,
      "grid_row": null,
      "grid_template_areas": null,
      "grid_template_columns": null,
      "grid_template_rows": null,
      "height": null,
      "justify_content": null,
      "justify_items": null,
      "left": null,
      "margin": null,
      "max_height": null,
      "max_width": null,
      "min_height": null,
      "min_width": null,
      "object_fit": null,
      "object_position": null,
      "order": null,
      "overflow": null,
      "overflow_x": null,
      "overflow_y": null,
      "padding": null,
      "right": null,
      "top": null,
      "visibility": null,
      "width": null
     }
    },
    "6e97a23658cc460ea6d8baa09ebe5601": {
     "model_module": "@jupyter-widgets/controls",
     "model_module_version": "1.5.0",
     "model_name": "DescriptionStyleModel",
     "state": {
      "_model_module": "@jupyter-widgets/controls",
      "_model_module_version": "1.5.0",
      "_model_name": "DescriptionStyleModel",
      "_view_count": null,
      "_view_module": "@jupyter-widgets/base",
      "_view_module_version": "1.2.0",
      "_view_name": "StyleView",
      "description_width": ""
     }
    },
    "780545cc1a93448082e1852dbd55ef6a": {
     "model_module": "@jupyter-widgets/controls",
     "model_module_version": "1.5.0",
     "model_name": "DescriptionStyleModel",
     "state": {
      "_model_module": "@jupyter-widgets/controls",
      "_model_module_version": "1.5.0",
      "_model_name": "DescriptionStyleModel",
      "_view_count": null,
      "_view_module": "@jupyter-widgets/base",
      "_view_module_version": "1.2.0",
      "_view_name": "StyleView",
      "description_width": ""
     }
    },
    "796a2caea89140da80d06c10585cf30d": {
     "model_module": "@jupyter-widgets/base",
     "model_module_version": "1.2.0",
     "model_name": "LayoutModel",
     "state": {
      "_model_module": "@jupyter-widgets/base",
      "_model_module_version": "1.2.0",
      "_model_name": "LayoutModel",
      "_view_count": null,
      "_view_module": "@jupyter-widgets/base",
      "_view_module_version": "1.2.0",
      "_view_name": "LayoutView",
      "align_content": null,
      "align_items": null,
      "align_self": null,
      "border": null,
      "bottom": null,
      "display": null,
      "flex": null,
      "flex_flow": null,
      "grid_area": null,
      "grid_auto_columns": null,
      "grid_auto_flow": null,
      "grid_auto_rows": null,
      "grid_column": null,
      "grid_gap": null,
      "grid_row": null,
      "grid_template_areas": null,
      "grid_template_columns": null,
      "grid_template_rows": null,
      "height": null,
      "justify_content": null,
      "justify_items": null,
      "left": null,
      "margin": null,
      "max_height": null,
      "max_width": null,
      "min_height": null,
      "min_width": null,
      "object_fit": null,
      "object_position": null,
      "order": null,
      "overflow": null,
      "overflow_x": null,
      "overflow_y": null,
      "padding": null,
      "right": null,
      "top": null,
      "visibility": null,
      "width": null
     }
    },
    "86721d23f6084c0b82ac0fa3f63bfbbd": {
     "model_module": "@jupyter-widgets/controls",
     "model_module_version": "1.5.0",
     "model_name": "HTMLModel",
     "state": {
      "_dom_classes": [],
      "_model_module": "@jupyter-widgets/controls",
      "_model_module_version": "1.5.0",
      "_model_name": "HTMLModel",
      "_view_count": null,
      "_view_module": "@jupyter-widgets/controls",
      "_view_module_version": "1.5.0",
      "_view_name": "HTMLView",
      "description": "",
      "description_tooltip": null,
      "layout": "IPY_MODEL_4b4eb11a546949c58ee208c9cb997d9b",
      "placeholder": "​",
      "style": "IPY_MODEL_6e97a23658cc460ea6d8baa09ebe5601",
      "value": " 8/8 [09:09&lt;00:00, 68.68s/it]"
     }
    },
    "92688f8206fe4973b5c4570b51534ea9": {
     "model_module": "@jupyter-widgets/controls",
     "model_module_version": "1.5.0",
     "model_name": "FloatProgressModel",
     "state": {
      "_dom_classes": [],
      "_model_module": "@jupyter-widgets/controls",
      "_model_module_version": "1.5.0",
      "_model_name": "FloatProgressModel",
      "_view_count": null,
      "_view_module": "@jupyter-widgets/controls",
      "_view_module_version": "1.5.0",
      "_view_name": "ProgressView",
      "bar_style": "success",
      "description": "",
      "description_tooltip": null,
      "layout": "IPY_MODEL_9ace1022ddfb46dabc5d89ac03c6601b",
      "max": 8,
      "min": 0,
      "orientation": "horizontal",
      "style": "IPY_MODEL_48bdf8613de84dc2b3b59af0779bfb19",
      "value": 8
     }
    },
    "93af394139ae416e92ad673a3a9d27f8": {
     "model_module": "@jupyter-widgets/base",
     "model_module_version": "1.2.0",
     "model_name": "LayoutModel",
     "state": {
      "_model_module": "@jupyter-widgets/base",
      "_model_module_version": "1.2.0",
      "_model_name": "LayoutModel",
      "_view_count": null,
      "_view_module": "@jupyter-widgets/base",
      "_view_module_version": "1.2.0",
      "_view_name": "LayoutView",
      "align_content": null,
      "align_items": null,
      "align_self": null,
      "border": null,
      "bottom": null,
      "display": null,
      "flex": null,
      "flex_flow": null,
      "grid_area": null,
      "grid_auto_columns": null,
      "grid_auto_flow": null,
      "grid_auto_rows": null,
      "grid_column": null,
      "grid_gap": null,
      "grid_row": null,
      "grid_template_areas": null,
      "grid_template_columns": null,
      "grid_template_rows": null,
      "height": null,
      "justify_content": null,
      "justify_items": null,
      "left": null,
      "margin": null,
      "max_height": null,
      "max_width": null,
      "min_height": null,
      "min_width": null,
      "object_fit": null,
      "object_position": null,
      "order": null,
      "overflow": null,
      "overflow_x": null,
      "overflow_y": null,
      "padding": null,
      "right": null,
      "top": null,
      "visibility": null,
      "width": null
     }
    },
    "949c6292fa424264ac6dd584af739db8": {
     "model_module": "@jupyter-widgets/controls",
     "model_module_version": "1.5.0",
     "model_name": "DescriptionStyleModel",
     "state": {
      "_model_module": "@jupyter-widgets/controls",
      "_model_module_version": "1.5.0",
      "_model_name": "DescriptionStyleModel",
      "_view_count": null,
      "_view_module": "@jupyter-widgets/base",
      "_view_module_version": "1.2.0",
      "_view_name": "StyleView",
      "description_width": ""
     }
    },
    "97a98d68a38f422fa930ce0e31f004b3": {
     "model_module": "@jupyter-widgets/controls",
     "model_module_version": "1.5.0",
     "model_name": "HTMLModel",
     "state": {
      "_dom_classes": [],
      "_model_module": "@jupyter-widgets/controls",
      "_model_module_version": "1.5.0",
      "_model_name": "HTMLModel",
      "_view_count": null,
      "_view_module": "@jupyter-widgets/controls",
      "_view_module_version": "1.5.0",
      "_view_name": "HTMLView",
      "description": "",
      "description_tooltip": null,
      "layout": "IPY_MODEL_3dd42d6f7e8947ac9ef52de1eadefbc1",
      "placeholder": "​",
      "style": "IPY_MODEL_780545cc1a93448082e1852dbd55ef6a",
      "value": " 8/8 [07:31&lt;00:00, 56.38s/it]"
     }
    },
    "9a2e2d84092343359fe066824d6c745a": {
     "model_module": "@jupyter-widgets/controls",
     "model_module_version": "1.5.0",
     "model_name": "HTMLModel",
     "state": {
      "_dom_classes": [],
      "_model_module": "@jupyter-widgets/controls",
      "_model_module_version": "1.5.0",
      "_model_name": "HTMLModel",
      "_view_count": null,
      "_view_module": "@jupyter-widgets/controls",
      "_view_module_version": "1.5.0",
      "_view_name": "HTMLView",
      "description": "",
      "description_tooltip": null,
      "layout": "IPY_MODEL_d58f7868ee0d44339d8291e7a0b6f18d",
      "placeholder": "​",
      "style": "IPY_MODEL_fd7dc610e51845c5bc69c7f21fc3de98",
      "value": "100%"
     }
    },
    "9a602c2a349449ca9215fb0b66431ae1": {
     "model_module": "@jupyter-widgets/controls",
     "model_module_version": "1.5.0",
     "model_name": "HTMLModel",
     "state": {
      "_dom_classes": [],
      "_model_module": "@jupyter-widgets/controls",
      "_model_module_version": "1.5.0",
      "_model_name": "HTMLModel",
      "_view_count": null,
      "_view_module": "@jupyter-widgets/controls",
      "_view_module_version": "1.5.0",
      "_view_name": "HTMLView",
      "description": "",
      "description_tooltip": null,
      "layout": "IPY_MODEL_93af394139ae416e92ad673a3a9d27f8",
      "placeholder": "​",
      "style": "IPY_MODEL_055127bc2f1e42ff9af01f1dad681d47",
      "value": " 8/8 [04:22&lt;00:00, 32.84s/it]"
     }
    },
    "9ace1022ddfb46dabc5d89ac03c6601b": {
     "model_module": "@jupyter-widgets/base",
     "model_module_version": "1.2.0",
     "model_name": "LayoutModel",
     "state": {
      "_model_module": "@jupyter-widgets/base",
      "_model_module_version": "1.2.0",
      "_model_name": "LayoutModel",
      "_view_count": null,
      "_view_module": "@jupyter-widgets/base",
      "_view_module_version": "1.2.0",
      "_view_name": "LayoutView",
      "align_content": null,
      "align_items": null,
      "align_self": null,
      "border": null,
      "bottom": null,
      "display": null,
      "flex": null,
      "flex_flow": null,
      "grid_area": null,
      "grid_auto_columns": null,
      "grid_auto_flow": null,
      "grid_auto_rows": null,
      "grid_column": null,
      "grid_gap": null,
      "grid_row": null,
      "grid_template_areas": null,
      "grid_template_columns": null,
      "grid_template_rows": null,
      "height": null,
      "justify_content": null,
      "justify_items": null,
      "left": null,
      "margin": null,
      "max_height": null,
      "max_width": null,
      "min_height": null,
      "min_width": null,
      "object_fit": null,
      "object_position": null,
      "order": null,
      "overflow": null,
      "overflow_x": null,
      "overflow_y": null,
      "padding": null,
      "right": null,
      "top": null,
      "visibility": null,
      "width": null
     }
    },
    "a7a04fbe012d48b793daf60cc0c4e1ae": {
     "model_module": "@jupyter-widgets/base",
     "model_module_version": "1.2.0",
     "model_name": "LayoutModel",
     "state": {
      "_model_module": "@jupyter-widgets/base",
      "_model_module_version": "1.2.0",
      "_model_name": "LayoutModel",
      "_view_count": null,
      "_view_module": "@jupyter-widgets/base",
      "_view_module_version": "1.2.0",
      "_view_name": "LayoutView",
      "align_content": null,
      "align_items": null,
      "align_self": null,
      "border": null,
      "bottom": null,
      "display": null,
      "flex": null,
      "flex_flow": null,
      "grid_area": null,
      "grid_auto_columns": null,
      "grid_auto_flow": null,
      "grid_auto_rows": null,
      "grid_column": null,
      "grid_gap": null,
      "grid_row": null,
      "grid_template_areas": null,
      "grid_template_columns": null,
      "grid_template_rows": null,
      "height": null,
      "justify_content": null,
      "justify_items": null,
      "left": null,
      "margin": null,
      "max_height": null,
      "max_width": null,
      "min_height": null,
      "min_width": null,
      "object_fit": null,
      "object_position": null,
      "order": null,
      "overflow": null,
      "overflow_x": null,
      "overflow_y": null,
      "padding": null,
      "right": null,
      "top": null,
      "visibility": null,
      "width": null
     }
    },
    "ac6432c490fd40158d898a7dc6c2d6ac": {
     "model_module": "@jupyter-widgets/controls",
     "model_module_version": "1.5.0",
     "model_name": "HTMLModel",
     "state": {
      "_dom_classes": [],
      "_model_module": "@jupyter-widgets/controls",
      "_model_module_version": "1.5.0",
      "_model_name": "HTMLModel",
      "_view_count": null,
      "_view_module": "@jupyter-widgets/controls",
      "_view_module_version": "1.5.0",
      "_view_name": "HTMLView",
      "description": "",
      "description_tooltip": null,
      "layout": "IPY_MODEL_2738f8084aa74f28a9923c0761e46cb9",
      "placeholder": "​",
      "style": "IPY_MODEL_46052bb925834fe1b241abc693c02e44",
      "value": "100%"
     }
    },
    "ae7505436bd048e088422e08449ca3e4": {
     "model_module": "@jupyter-widgets/base",
     "model_module_version": "1.2.0",
     "model_name": "LayoutModel",
     "state": {
      "_model_module": "@jupyter-widgets/base",
      "_model_module_version": "1.2.0",
      "_model_name": "LayoutModel",
      "_view_count": null,
      "_view_module": "@jupyter-widgets/base",
      "_view_module_version": "1.2.0",
      "_view_name": "LayoutView",
      "align_content": null,
      "align_items": null,
      "align_self": null,
      "border": null,
      "bottom": null,
      "display": null,
      "flex": null,
      "flex_flow": null,
      "grid_area": null,
      "grid_auto_columns": null,
      "grid_auto_flow": null,
      "grid_auto_rows": null,
      "grid_column": null,
      "grid_gap": null,
      "grid_row": null,
      "grid_template_areas": null,
      "grid_template_columns": null,
      "grid_template_rows": null,
      "height": null,
      "justify_content": null,
      "justify_items": null,
      "left": null,
      "margin": null,
      "max_height": null,
      "max_width": null,
      "min_height": null,
      "min_width": null,
      "object_fit": null,
      "object_position": null,
      "order": null,
      "overflow": null,
      "overflow_x": null,
      "overflow_y": null,
      "padding": null,
      "right": null,
      "top": null,
      "visibility": null,
      "width": null
     }
    },
    "b300c7845860435aa9788710282fb3a5": {
     "model_module": "@jupyter-widgets/controls",
     "model_module_version": "1.5.0",
     "model_name": "DescriptionStyleModel",
     "state": {
      "_model_module": "@jupyter-widgets/controls",
      "_model_module_version": "1.5.0",
      "_model_name": "DescriptionStyleModel",
      "_view_count": null,
      "_view_module": "@jupyter-widgets/base",
      "_view_module_version": "1.2.0",
      "_view_name": "StyleView",
      "description_width": ""
     }
    },
    "c1cfa92987e94250a5d23382247854b9": {
     "model_module": "@jupyter-widgets/controls",
     "model_module_version": "1.5.0",
     "model_name": "ProgressStyleModel",
     "state": {
      "_model_module": "@jupyter-widgets/controls",
      "_model_module_version": "1.5.0",
      "_model_name": "ProgressStyleModel",
      "_view_count": null,
      "_view_module": "@jupyter-widgets/base",
      "_view_module_version": "1.2.0",
      "_view_name": "StyleView",
      "bar_color": null,
      "description_width": ""
     }
    },
    "c6f7b2c098a04120ad671180b17148c0": {
     "model_module": "@jupyter-widgets/controls",
     "model_module_version": "1.5.0",
     "model_name": "HBoxModel",
     "state": {
      "_dom_classes": [],
      "_model_module": "@jupyter-widgets/controls",
      "_model_module_version": "1.5.0",
      "_model_name": "HBoxModel",
      "_view_count": null,
      "_view_module": "@jupyter-widgets/controls",
      "_view_module_version": "1.5.0",
      "_view_name": "HBoxView",
      "box_style": "",
      "children": [
       "IPY_MODEL_ac6432c490fd40158d898a7dc6c2d6ac",
       "IPY_MODEL_d1ddfe0be0764158ba7e5884c86e1da8",
       "IPY_MODEL_cc75493210db4efbb6650de0ac94355b"
      ],
      "layout": "IPY_MODEL_f3180dd49dbb4be4ae8f63286e6fd298"
     }
    },
    "cc75493210db4efbb6650de0ac94355b": {
     "model_module": "@jupyter-widgets/controls",
     "model_module_version": "1.5.0",
     "model_name": "HTMLModel",
     "state": {
      "_dom_classes": [],
      "_model_module": "@jupyter-widgets/controls",
      "_model_module_version": "1.5.0",
      "_model_name": "HTMLModel",
      "_view_count": null,
      "_view_module": "@jupyter-widgets/controls",
      "_view_module_version": "1.5.0",
      "_view_name": "HTMLView",
      "description": "",
      "description_tooltip": null,
      "layout": "IPY_MODEL_e51274419a51434187fbefad1f3c20b9",
      "placeholder": "​",
      "style": "IPY_MODEL_ee762eeb2116410c9056e80aea616e92",
      "value": " 8/8 [02:54&lt;00:00, 21.76s/it]"
     }
    },
    "d1ddfe0be0764158ba7e5884c86e1da8": {
     "model_module": "@jupyter-widgets/controls",
     "model_module_version": "1.5.0",
     "model_name": "FloatProgressModel",
     "state": {
      "_dom_classes": [],
      "_model_module": "@jupyter-widgets/controls",
      "_model_module_version": "1.5.0",
      "_model_name": "FloatProgressModel",
      "_view_count": null,
      "_view_module": "@jupyter-widgets/controls",
      "_view_module_version": "1.5.0",
      "_view_name": "ProgressView",
      "bar_style": "success",
      "description": "",
      "description_tooltip": null,
      "layout": "IPY_MODEL_dc3d12c75e9d4d67a0b70cd4de8892dc",
      "max": 8,
      "min": 0,
      "orientation": "horizontal",
      "style": "IPY_MODEL_c1cfa92987e94250a5d23382247854b9",
      "value": 8
     }
    },
    "d58f7868ee0d44339d8291e7a0b6f18d": {
     "model_module": "@jupyter-widgets/base",
     "model_module_version": "1.2.0",
     "model_name": "LayoutModel",
     "state": {
      "_model_module": "@jupyter-widgets/base",
      "_model_module_version": "1.2.0",
      "_model_name": "LayoutModel",
      "_view_count": null,
      "_view_module": "@jupyter-widgets/base",
      "_view_module_version": "1.2.0",
      "_view_name": "LayoutView",
      "align_content": null,
      "align_items": null,
      "align_self": null,
      "border": null,
      "bottom": null,
      "display": null,
      "flex": null,
      "flex_flow": null,
      "grid_area": null,
      "grid_auto_columns": null,
      "grid_auto_flow": null,
      "grid_auto_rows": null,
      "grid_column": null,
      "grid_gap": null,
      "grid_row": null,
      "grid_template_areas": null,
      "grid_template_columns": null,
      "grid_template_rows": null,
      "height": null,
      "justify_content": null,
      "justify_items": null,
      "left": null,
      "margin": null,
      "max_height": null,
      "max_width": null,
      "min_height": null,
      "min_width": null,
      "object_fit": null,
      "object_position": null,
      "order": null,
      "overflow": null,
      "overflow_x": null,
      "overflow_y": null,
      "padding": null,
      "right": null,
      "top": null,
      "visibility": null,
      "width": null
     }
    },
    "dc3d12c75e9d4d67a0b70cd4de8892dc": {
     "model_module": "@jupyter-widgets/base",
     "model_module_version": "1.2.0",
     "model_name": "LayoutModel",
     "state": {
      "_model_module": "@jupyter-widgets/base",
      "_model_module_version": "1.2.0",
      "_model_name": "LayoutModel",
      "_view_count": null,
      "_view_module": "@jupyter-widgets/base",
      "_view_module_version": "1.2.0",
      "_view_name": "LayoutView",
      "align_content": null,
      "align_items": null,
      "align_self": null,
      "border": null,
      "bottom": null,
      "display": null,
      "flex": null,
      "flex_flow": null,
      "grid_area": null,
      "grid_auto_columns": null,
      "grid_auto_flow": null,
      "grid_auto_rows": null,
      "grid_column": null,
      "grid_gap": null,
      "grid_row": null,
      "grid_template_areas": null,
      "grid_template_columns": null,
      "grid_template_rows": null,
      "height": null,
      "justify_content": null,
      "justify_items": null,
      "left": null,
      "margin": null,
      "max_height": null,
      "max_width": null,
      "min_height": null,
      "min_width": null,
      "object_fit": null,
      "object_position": null,
      "order": null,
      "overflow": null,
      "overflow_x": null,
      "overflow_y": null,
      "padding": null,
      "right": null,
      "top": null,
      "visibility": null,
      "width": null
     }
    },
    "de5849405b5b4d49a005dc69f9f71125": {
     "model_module": "@jupyter-widgets/controls",
     "model_module_version": "1.5.0",
     "model_name": "HTMLModel",
     "state": {
      "_dom_classes": [],
      "_model_module": "@jupyter-widgets/controls",
      "_model_module_version": "1.5.0",
      "_model_name": "HTMLModel",
      "_view_count": null,
      "_view_module": "@jupyter-widgets/controls",
      "_view_module_version": "1.5.0",
      "_view_name": "HTMLView",
      "description": "",
      "description_tooltip": null,
      "layout": "IPY_MODEL_ae7505436bd048e088422e08449ca3e4",
      "placeholder": "​",
      "style": "IPY_MODEL_b300c7845860435aa9788710282fb3a5",
      "value": "100%"
     }
    },
    "e0392df21d3741d79ad40754171e5015": {
     "model_module": "@jupyter-widgets/base",
     "model_module_version": "1.2.0",
     "model_name": "LayoutModel",
     "state": {
      "_model_module": "@jupyter-widgets/base",
      "_model_module_version": "1.2.0",
      "_model_name": "LayoutModel",
      "_view_count": null,
      "_view_module": "@jupyter-widgets/base",
      "_view_module_version": "1.2.0",
      "_view_name": "LayoutView",
      "align_content": null,
      "align_items": null,
      "align_self": null,
      "border": null,
      "bottom": null,
      "display": null,
      "flex": null,
      "flex_flow": null,
      "grid_area": null,
      "grid_auto_columns": null,
      "grid_auto_flow": null,
      "grid_auto_rows": null,
      "grid_column": null,
      "grid_gap": null,
      "grid_row": null,
      "grid_template_areas": null,
      "grid_template_columns": null,
      "grid_template_rows": null,
      "height": null,
      "justify_content": null,
      "justify_items": null,
      "left": null,
      "margin": null,
      "max_height": null,
      "max_width": null,
      "min_height": null,
      "min_width": null,
      "object_fit": null,
      "object_position": null,
      "order": null,
      "overflow": null,
      "overflow_x": null,
      "overflow_y": null,
      "padding": null,
      "right": null,
      "top": null,
      "visibility": null,
      "width": null
     }
    },
    "e47d87efbb69430d8dae1c1b49a9ae94": {
     "model_module": "@jupyter-widgets/controls",
     "model_module_version": "1.5.0",
     "model_name": "FloatProgressModel",
     "state": {
      "_dom_classes": [],
      "_model_module": "@jupyter-widgets/controls",
      "_model_module_version": "1.5.0",
      "_model_name": "FloatProgressModel",
      "_view_count": null,
      "_view_module": "@jupyter-widgets/controls",
      "_view_module_version": "1.5.0",
      "_view_name": "ProgressView",
      "bar_style": "success",
      "description": "",
      "description_tooltip": null,
      "layout": "IPY_MODEL_e0392df21d3741d79ad40754171e5015",
      "max": 8,
      "min": 0,
      "orientation": "horizontal",
      "style": "IPY_MODEL_f4144be943e24194ad4c9adf3c85e871",
      "value": 8
     }
    },
    "e51274419a51434187fbefad1f3c20b9": {
     "model_module": "@jupyter-widgets/base",
     "model_module_version": "1.2.0",
     "model_name": "LayoutModel",
     "state": {
      "_model_module": "@jupyter-widgets/base",
      "_model_module_version": "1.2.0",
      "_model_name": "LayoutModel",
      "_view_count": null,
      "_view_module": "@jupyter-widgets/base",
      "_view_module_version": "1.2.0",
      "_view_name": "LayoutView",
      "align_content": null,
      "align_items": null,
      "align_self": null,
      "border": null,
      "bottom": null,
      "display": null,
      "flex": null,
      "flex_flow": null,
      "grid_area": null,
      "grid_auto_columns": null,
      "grid_auto_flow": null,
      "grid_auto_rows": null,
      "grid_column": null,
      "grid_gap": null,
      "grid_row": null,
      "grid_template_areas": null,
      "grid_template_columns": null,
      "grid_template_rows": null,
      "height": null,
      "justify_content": null,
      "justify_items": null,
      "left": null,
      "margin": null,
      "max_height": null,
      "max_width": null,
      "min_height": null,
      "min_width": null,
      "object_fit": null,
      "object_position": null,
      "order": null,
      "overflow": null,
      "overflow_x": null,
      "overflow_y": null,
      "padding": null,
      "right": null,
      "top": null,
      "visibility": null,
      "width": null
     }
    },
    "ee762eeb2116410c9056e80aea616e92": {
     "model_module": "@jupyter-widgets/controls",
     "model_module_version": "1.5.0",
     "model_name": "DescriptionStyleModel",
     "state": {
      "_model_module": "@jupyter-widgets/controls",
      "_model_module_version": "1.5.0",
      "_model_name": "DescriptionStyleModel",
      "_view_count": null,
      "_view_module": "@jupyter-widgets/base",
      "_view_module_version": "1.2.0",
      "_view_name": "StyleView",
      "description_width": ""
     }
    },
    "ef7a6c8b7d95430c98c782d2cd0fcaf1": {
     "model_module": "@jupyter-widgets/base",
     "model_module_version": "1.2.0",
     "model_name": "LayoutModel",
     "state": {
      "_model_module": "@jupyter-widgets/base",
      "_model_module_version": "1.2.0",
      "_model_name": "LayoutModel",
      "_view_count": null,
      "_view_module": "@jupyter-widgets/base",
      "_view_module_version": "1.2.0",
      "_view_name": "LayoutView",
      "align_content": null,
      "align_items": null,
      "align_self": null,
      "border": null,
      "bottom": null,
      "display": null,
      "flex": null,
      "flex_flow": null,
      "grid_area": null,
      "grid_auto_columns": null,
      "grid_auto_flow": null,
      "grid_auto_rows": null,
      "grid_column": null,
      "grid_gap": null,
      "grid_row": null,
      "grid_template_areas": null,
      "grid_template_columns": null,
      "grid_template_rows": null,
      "height": null,
      "justify_content": null,
      "justify_items": null,
      "left": null,
      "margin": null,
      "max_height": null,
      "max_width": null,
      "min_height": null,
      "min_width": null,
      "object_fit": null,
      "object_position": null,
      "order": null,
      "overflow": null,
      "overflow_x": null,
      "overflow_y": null,
      "padding": null,
      "right": null,
      "top": null,
      "visibility": null,
      "width": null
     }
    },
    "f3180dd49dbb4be4ae8f63286e6fd298": {
     "model_module": "@jupyter-widgets/base",
     "model_module_version": "1.2.0",
     "model_name": "LayoutModel",
     "state": {
      "_model_module": "@jupyter-widgets/base",
      "_model_module_version": "1.2.0",
      "_model_name": "LayoutModel",
      "_view_count": null,
      "_view_module": "@jupyter-widgets/base",
      "_view_module_version": "1.2.0",
      "_view_name": "LayoutView",
      "align_content": null,
      "align_items": null,
      "align_self": null,
      "border": null,
      "bottom": null,
      "display": null,
      "flex": null,
      "flex_flow": null,
      "grid_area": null,
      "grid_auto_columns": null,
      "grid_auto_flow": null,
      "grid_auto_rows": null,
      "grid_column": null,
      "grid_gap": null,
      "grid_row": null,
      "grid_template_areas": null,
      "grid_template_columns": null,
      "grid_template_rows": null,
      "height": null,
      "justify_content": null,
      "justify_items": null,
      "left": null,
      "margin": null,
      "max_height": null,
      "max_width": null,
      "min_height": null,
      "min_width": null,
      "object_fit": null,
      "object_position": null,
      "order": null,
      "overflow": null,
      "overflow_x": null,
      "overflow_y": null,
      "padding": null,
      "right": null,
      "top": null,
      "visibility": null,
      "width": null
     }
    },
    "f4144be943e24194ad4c9adf3c85e871": {
     "model_module": "@jupyter-widgets/controls",
     "model_module_version": "1.5.0",
     "model_name": "ProgressStyleModel",
     "state": {
      "_model_module": "@jupyter-widgets/controls",
      "_model_module_version": "1.5.0",
      "_model_name": "ProgressStyleModel",
      "_view_count": null,
      "_view_module": "@jupyter-widgets/base",
      "_view_module_version": "1.2.0",
      "_view_name": "StyleView",
      "bar_color": null,
      "description_width": ""
     }
    },
    "faa49cd9ccd74fd5858265a54da31e4b": {
     "model_module": "@jupyter-widgets/controls",
     "model_module_version": "1.5.0",
     "model_name": "HBoxModel",
     "state": {
      "_dom_classes": [],
      "_model_module": "@jupyter-widgets/controls",
      "_model_module_version": "1.5.0",
      "_model_name": "HBoxModel",
      "_view_count": null,
      "_view_module": "@jupyter-widgets/controls",
      "_view_module_version": "1.5.0",
      "_view_name": "HBoxView",
      "box_style": "",
      "children": [
       "IPY_MODEL_65a8075aa2cf4f2993a7286c5bdff5bd",
       "IPY_MODEL_92688f8206fe4973b5c4570b51534ea9",
       "IPY_MODEL_86721d23f6084c0b82ac0fa3f63bfbbd"
      ],
      "layout": "IPY_MODEL_a7a04fbe012d48b793daf60cc0c4e1ae"
     }
    },
    "fd7dc610e51845c5bc69c7f21fc3de98": {
     "model_module": "@jupyter-widgets/controls",
     "model_module_version": "1.5.0",
     "model_name": "DescriptionStyleModel",
     "state": {
      "_model_module": "@jupyter-widgets/controls",
      "_model_module_version": "1.5.0",
      "_model_name": "DescriptionStyleModel",
      "_view_count": null,
      "_view_module": "@jupyter-widgets/base",
      "_view_module_version": "1.2.0",
      "_view_name": "StyleView",
      "description_width": ""
     }
    }
   }
  }
 },
 "nbformat": 4,
 "nbformat_minor": 4
}
