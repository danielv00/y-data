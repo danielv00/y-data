{
  "cells": [
    {
      "cell_type": "markdown",
      "metadata": {
        "id": "gI-StW3hbGOA"
      },
      "source": [
        "# Transfer Learning"
      ]
    },
    {
      "cell_type": "code",
      "execution_count": null,
      "metadata": {
        "ExecuteTime": {
          "end_time": "2022-02-15T04:19:51.792829Z",
          "start_time": "2022-02-15T04:19:51.201471Z"
        },
        "id": "1URABfT2bGN6"
      },
      "outputs": [],
      "source": [
        "%matplotlib inline"
      ]
    },
    {
      "cell_type": "code",
      "execution_count": null,
      "metadata": {
        "ExecuteTime": {
          "end_time": "2022-02-15T04:19:51.840874Z",
          "start_time": "2022-02-15T04:19:51.826878Z"
        },
        "id": "rP-HFfuxRfTU"
      },
      "outputs": [],
      "source": [
        "import warnings\n",
        "warnings.filterwarnings(\"ignore\", category=UserWarning)\n",
        "from tqdm import tqdm\n",
        "from tqdm.notebook import tqdm"
      ]
    },
    {
      "cell_type": "code",
      "execution_count": null,
      "metadata": {
        "ExecuteTime": {
          "end_time": "2022-02-15T04:19:52.215123Z",
          "start_time": "2022-02-15T04:19:52.196701Z"
        },
        "id": "dH4A1mP4bGOB"
      },
      "outputs": [],
      "source": [
        "from __future__ import print_function, division\n",
        "\n",
        "import numpy as np\n",
        "import matplotlib.pyplot as plt\n",
        "import time\n",
        "import os\n",
        "import copy\n",
        "plt.ion()   # interactive mode\n",
        "import requests"
      ]
    },
    {
      "cell_type": "code",
      "execution_count": null,
      "metadata": {
        "ExecuteTime": {
          "end_time": "2022-02-15T04:19:55.313476Z",
          "start_time": "2022-02-15T04:19:52.872630Z"
        },
        "id": "gAlnwL1y85Fo"
      },
      "outputs": [],
      "source": [
        "import torch\n",
        "import torch.nn as nn\n",
        "import torch.optim as optim\n",
        "from torch.optim import lr_scheduler\n",
        "import glob\n",
        "import torchvision\n",
        "from torchvision import datasets, models, transforms"
      ]
    },
    {
      "cell_type": "code",
      "source": [
        "import cv2\n",
        "import seaborn as sns\n",
        "from tqdm import tqdm \n",
        "from sklearn.utils import shuffle\n",
        "from sklearn.model_selection import train_test_split\n",
        "from sklearn.metrics import accuracy_score, confusion_matrix\n",
        "import tensorflow as tf\n",
        "from tensorflow.keras import datasets, layers, models\n",
        "import matplotlib.pyplot as plt\n",
        "import keras\n",
        "import os\n",
        "import numpy as np\n",
        "from keras.preprocessing import image\n",
        "from keras.models import Sequential, Model \n",
        "from keras.layers import Lambda, SeparableConv2D, BatchNormalization, Dropout, MaxPooling2D, Input, Dense, Conv2D, Activation, Flatten \n",
        "import os\n",
        "import os.path\n",
        "from pathlib import Path\n",
        "import glob\n",
        "import pandas as pd\n",
        "import random"
      ],
      "metadata": {
        "id": "Al1dicqICMeK"
      },
      "execution_count": 45,
      "outputs": []
    },
    {
      "cell_type": "code",
      "execution_count": 76,
      "metadata": {
        "ExecuteTime": {
          "end_time": "2022-02-15T12:46:24.811147Z",
          "start_time": "2022-02-15T12:46:24.438040Z"
        },
        "id": "_tgnnDCvbGOB",
        "colab": {
          "base_uri": "https://localhost:8080/"
        },
        "outputId": "04037cfc-9456-4f7e-f1ab-28322d81d7d3"
      },
      "outputs": [
        {
          "output_type": "stream",
          "name": "stdout",
          "text": [
            "CPU times: user 897 ms, sys: 67.3 ms, total: 965 ms\n",
            "Wall time: 958 ms\n"
          ]
        }
      ],
      "source": [
        "%%time\n",
        "\n",
        "image_size = (120,120)\n",
        "images = np.array([cv2.resize(cv2.imread(file), image_size)/255.0 for file in glob.glob(r'./data/*cell.png')])\n",
        "labels = np.array([np.sum(plt.imread(file)/255.0) for file in glob.glob(r'./data/*dots.png')])\n"
      ]
    },
    {
      "cell_type": "code",
      "source": [
        "%%time\n",
        "\n",
        "from sklearn.model_selection import train_test_split\n",
        "\n",
        "data_train, data_test, labels_train, labels_test = train_test_split(images, labels, test_size=0.20, random_state=42)"
      ],
      "metadata": {
        "colab": {
          "base_uri": "https://localhost:8080/"
        },
        "id": "c06d7C6YN_tz",
        "outputId": "6880fc7a-4530-46b6-daee-b28cb5b29cde"
      },
      "execution_count": 78,
      "outputs": [
        {
          "output_type": "stream",
          "name": "stdout",
          "text": [
            "CPU times: user 25.7 ms, sys: 0 ns, total: 25.7 ms\n",
            "Wall time: 26.6 ms\n"
          ]
        }
      ]
    },
    {
      "cell_type": "code",
      "execution_count": 22,
      "metadata": {
        "colab": {
          "base_uri": "https://localhost:8080/"
        },
        "id": "wkDZ8e0gPzk5",
        "outputId": "ae79175e-c935-48dd-e4af-04929479eb81"
      },
      "outputs": [
        {
          "output_type": "execute_result",
          "data": {
            "text/plain": [
              "device(type='cuda', index=0)"
            ]
          },
          "metadata": {},
          "execution_count": 22
        }
      ],
      "source": [
        "device = torch.device(\"cuda:0\" if torch.cuda.is_available() else \"cpu\")\n",
        "device"
      ]
    },
    {
      "cell_type": "code",
      "execution_count": 135,
      "metadata": {
        "id": "O3SvG2F1Q8Q9"
      },
      "outputs": [],
      "source": [
        "model = Sequential()\n",
        "model.add(Conv2D(16, (3, 3), activation='relu', input_shape=(120,120, 3)))\n",
        "model.add(MaxPooling2D((2, 2)))\n",
        "model.add(Conv2D(32, (3, 3), activation='relu'))\n",
        "model.add(MaxPooling2D((2, 2)))\n",
        "model.add(Dropout(0.25))\n",
        "model.add(Conv2D(64, (3, 3), activation='relu'))\n",
        "model.add(MaxPooling2D((2, 2)))\n",
        "model.add(Dropout(0.25))\n",
        "model.add(Flatten())\n",
        "model.add(Dense(128, activation='relu'))\n",
        "model.add(Dropout(0.25))\n",
        "model.add(Dense(4, activation='softmax'))"
      ]
    },
    {
      "cell_type": "code",
      "source": [
        "model.summary()"
      ],
      "metadata": {
        "colab": {
          "base_uri": "https://localhost:8080/"
        },
        "id": "AaGDGwphCuhh",
        "outputId": "a10d69d1-401c-4ba7-e80c-003d9417c628"
      },
      "execution_count": 136,
      "outputs": [
        {
          "output_type": "stream",
          "name": "stdout",
          "text": [
            "Model: \"sequential_8\"\n",
            "_________________________________________________________________\n",
            " Layer (type)                Output Shape              Param #   \n",
            "=================================================================\n",
            " conv2d_24 (Conv2D)          (None, 118, 118, 16)      448       \n",
            "                                                                 \n",
            " max_pooling2d_24 (MaxPoolin  (None, 59, 59, 16)       0         \n",
            " g2D)                                                            \n",
            "                                                                 \n",
            " conv2d_25 (Conv2D)          (None, 57, 57, 32)        4640      \n",
            "                                                                 \n",
            " max_pooling2d_25 (MaxPoolin  (None, 28, 28, 32)       0         \n",
            " g2D)                                                            \n",
            "                                                                 \n",
            " dropout_24 (Dropout)        (None, 28, 28, 32)        0         \n",
            "                                                                 \n",
            " conv2d_26 (Conv2D)          (None, 26, 26, 64)        18496     \n",
            "                                                                 \n",
            " max_pooling2d_26 (MaxPoolin  (None, 13, 13, 64)       0         \n",
            " g2D)                                                            \n",
            "                                                                 \n",
            " dropout_25 (Dropout)        (None, 13, 13, 64)        0         \n",
            "                                                                 \n",
            " flatten_9 (Flatten)         (None, 10816)             0         \n",
            "                                                                 \n",
            " dense_16 (Dense)            (None, 128)               1384576   \n",
            "                                                                 \n",
            " dropout_26 (Dropout)        (None, 128)               0         \n",
            "                                                                 \n",
            " dense_17 (Dense)            (None, 4)                 516       \n",
            "                                                                 \n",
            "=================================================================\n",
            "Total params: 1,408,676\n",
            "Trainable params: 1,408,676\n",
            "Non-trainable params: 0\n",
            "_________________________________________________________________\n"
          ]
        }
      ]
    },
    {
      "cell_type": "code",
      "source": [
        "model.compile(optimizer='adam',loss='mse', metrics=['mae'])\n"
      ],
      "metadata": {
        "id": "KnG8Ds-NCzfq"
      },
      "execution_count": 137,
      "outputs": []
    },
    {
      "cell_type": "code",
      "source": [
        "%%time\n",
        "history = model.fit(data_train, labels_train, epochs=20, batch_size=16,\n",
        "                    validation_data=(data_test, labels_test))"
      ],
      "metadata": {
        "colab": {
          "base_uri": "https://localhost:8080/"
        },
        "id": "1froE55bDQuy",
        "outputId": "9d8543b7-2e86-4473-f125-07aed8c749c2"
      },
      "execution_count": 138,
      "outputs": [
        {
          "output_type": "stream",
          "name": "stdout",
          "text": [
            "Epoch 1/20\n",
            "10/10 [==============================] - 1s 44ms/step - loss: 0.2529 - mae: 0.4415 - val_loss: 0.2602 - val_mae: 0.4399\n",
            "Epoch 2/20\n",
            "10/10 [==============================] - 0s 24ms/step - loss: 0.2491 - mae: 0.4401 - val_loss: 0.2602 - val_mae: 0.4399\n",
            "Epoch 3/20\n",
            "10/10 [==============================] - 0s 23ms/step - loss: 0.2491 - mae: 0.4401 - val_loss: 0.2602 - val_mae: 0.4399\n",
            "Epoch 4/20\n",
            "10/10 [==============================] - 0s 23ms/step - loss: 0.2491 - mae: 0.4401 - val_loss: 0.2602 - val_mae: 0.4399\n",
            "Epoch 5/20\n",
            "10/10 [==============================] - 0s 23ms/step - loss: 0.2491 - mae: 0.4401 - val_loss: 0.2602 - val_mae: 0.4399\n",
            "Epoch 6/20\n",
            "10/10 [==============================] - 0s 23ms/step - loss: 0.2491 - mae: 0.4401 - val_loss: 0.2602 - val_mae: 0.4399\n",
            "Epoch 7/20\n",
            "10/10 [==============================] - 0s 24ms/step - loss: 0.2491 - mae: 0.4401 - val_loss: 0.2602 - val_mae: 0.4399\n",
            "Epoch 8/20\n",
            "10/10 [==============================] - 0s 23ms/step - loss: 0.2491 - mae: 0.4401 - val_loss: 0.2602 - val_mae: 0.4399\n",
            "Epoch 9/20\n",
            "10/10 [==============================] - 0s 22ms/step - loss: 0.2491 - mae: 0.4401 - val_loss: 0.2602 - val_mae: 0.4399\n",
            "Epoch 10/20\n",
            "10/10 [==============================] - 0s 22ms/step - loss: 0.2491 - mae: 0.4401 - val_loss: 0.2602 - val_mae: 0.4399\n",
            "Epoch 11/20\n",
            "10/10 [==============================] - 0s 24ms/step - loss: 0.2491 - mae: 0.4401 - val_loss: 0.2602 - val_mae: 0.4399\n",
            "Epoch 12/20\n",
            "10/10 [==============================] - 0s 22ms/step - loss: 0.2491 - mae: 0.4401 - val_loss: 0.2602 - val_mae: 0.4399\n",
            "Epoch 13/20\n",
            "10/10 [==============================] - 0s 22ms/step - loss: 0.2491 - mae: 0.4401 - val_loss: 0.2602 - val_mae: 0.4399\n",
            "Epoch 14/20\n",
            "10/10 [==============================] - 0s 21ms/step - loss: 0.2491 - mae: 0.4401 - val_loss: 0.2602 - val_mae: 0.4399\n",
            "Epoch 15/20\n",
            "10/10 [==============================] - 0s 22ms/step - loss: 0.2491 - mae: 0.4401 - val_loss: 0.2602 - val_mae: 0.4399\n",
            "Epoch 16/20\n",
            "10/10 [==============================] - 0s 23ms/step - loss: 0.2491 - mae: 0.4401 - val_loss: 0.2602 - val_mae: 0.4399\n",
            "Epoch 17/20\n",
            "10/10 [==============================] - 0s 21ms/step - loss: 0.2491 - mae: 0.4401 - val_loss: 0.2602 - val_mae: 0.4399\n",
            "Epoch 18/20\n",
            "10/10 [==============================] - 0s 22ms/step - loss: 0.2491 - mae: 0.4401 - val_loss: 0.2602 - val_mae: 0.4399\n",
            "Epoch 19/20\n",
            "10/10 [==============================] - 0s 21ms/step - loss: 0.2491 - mae: 0.4401 - val_loss: 0.2602 - val_mae: 0.4399\n",
            "Epoch 20/20\n",
            "10/10 [==============================] - 0s 21ms/step - loss: 0.2491 - mae: 0.4401 - val_loss: 0.2602 - val_mae: 0.4399\n",
            "CPU times: user 5.44 s, sys: 286 ms, total: 5.73 s\n",
            "Wall time: 5.55 s\n"
          ]
        }
      ]
    },
    {
      "cell_type": "code",
      "source": [
        "N = len(history.history[\"loss\"])\n",
        "plt.style.use(\"ggplot\")\n",
        "plt.figure()\n",
        "plt.plot(np.arange(0, N), history.history[\"loss\"], label=\"train_loss\")\n",
        "plt.plot(np.arange(0, N), history.history[\"val_loss\"], label=\"val_loss\")\n",
        "plt.title(\"Training and Validation Loss\")\n",
        "plt.xlabel(\"Epochs\")\n",
        "plt.ylabel(\"Loss\")\n",
        "plt.legend(loc=\"upper right\")\n",
        "plt.grid(False)"
      ],
      "metadata": {
        "colab": {
          "base_uri": "https://localhost:8080/",
          "height": 299
        },
        "id": "YGu0V5ISKQbe",
        "outputId": "a8701540-8fc6-4583-d955-76c78782f4a7"
      },
      "execution_count": 146,
      "outputs": [
        {
          "output_type": "display_data",
          "data": {
            "text/plain": [
              "<Figure size 432x288 with 1 Axes>"
            ],
            "image/png": "[encoded data removed]"
          },
          "metadata": {}
        }
      ]
    },
    {
      "cell_type": "code",
      "source": [
        "results = model.evaluate(data_test, labels_test,return_dict = True)\n",
        "print(f'Test MAE = ', results['mae'])"
      ],
      "metadata": {
        "colab": {
          "base_uri": "https://localhost:8080/"
        },
        "id": "er9hwpn0K4jT",
        "outputId": "80d464bd-39cf-49c5-c56f-af2ca93ca8c2"
      },
      "execution_count": 149,
      "outputs": [
        {
          "output_type": "stream",
          "name": "stdout",
          "text": [
            "2/2 [==============================] - 0s 13ms/step - loss: 0.2602 - mae: 0.4399\n",
            "Test MAE =  0.4399019777774811\n"
          ]
        }
      ]
    },
    {
      "cell_type": "markdown",
      "source": [
        "**REsult** <br>\n",
        "The MAE is 0.43  which is suspiciously low.  Possibly something went wrong :)"
      ],
      "metadata": {
        "id": "_2Id00CbbytE"
      }
    }
  ],
  "metadata": {
    "accelerator": "GPU",
    "colab": {
      "collapsed_sections": [],
      "name": "hw6.ipynb",
      "provenance": []
    },
    "kernelspec": {
      "display_name": "Python 3 (ipykernel)",
      "language": "python",
      "name": "python3"
    },
    "language_info": {
      "codemirror_mode": {
        "name": "ipython",
        "version": 3
      },
      "file_extension": ".py",
      "mimetype": "text/x-python",
      "name": "python",
      "nbconvert_exporter": "python",
      "pygments_lexer": "ipython3",
      "version": "3.7.13"
    },
    "varInspector": {
      "cols": {
        "lenName": 16,
        "lenType": 16,
        "lenVar": 40
      },
      "kernels_config": {
        "python": {
          "delete_cmd_postfix": "",
          "delete_cmd_prefix": "del ",
          "library": "var_list.py",
          "varRefreshCmd": "print(var_dic_list())"
        },
        "r": {
          "delete_cmd_postfix": ") ",
          "delete_cmd_prefix": "rm(",
          "library": "var_list.r",
          "varRefreshCmd": "cat(var_dic_list()) "
        }
      },
      "types_to_exclude": [
        "module",
        "function",
        "builtin_function_or_method",
        "instance",
        "_Feature"
      ],
      "window_display": false
    }
  },
  "nbformat": 4,
  "nbformat_minor": 0
}