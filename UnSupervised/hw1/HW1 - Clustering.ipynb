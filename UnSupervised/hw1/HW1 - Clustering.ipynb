{
 "cells": [
  {
   "cell_type": "markdown",
   "metadata": {
    "id": "af0F2kliMNjd"
   },
   "source": [
    "# Assignment: Unsupervised Machine Learning \\ Clustering"
   ]
  },
  {
   "cell_type": "markdown",
   "metadata": {
    "id": "twpn1HYtMNjj"
   },
   "source": [
    "## Part 1: Partitional Clustering"
   ]
  },
  {
   "cell_type": "markdown",
   "metadata": {
    "id": "2sHenrajMNjj"
   },
   "source": [
    "In this assignment you will experience with partitional & mixture model clustering. The analyses are made on real datasets under the circumstances of real life challenges in unsupervised machine learning."
   ]
  },
  {
   "cell_type": "code",
   "execution_count": 2,
   "metadata": {
    "id": "7mAcAayKMNjk"
   },
   "outputs": [],
   "source": [
    "import numpy as np\n",
    "from sklearn.cluster import KMeans\n",
    "from scipy.spatial.distance import squareform\n",
    "from scipy.cluster import hierarchy\n",
    "import pandas as pd\n",
    "import matplotlib.pyplot as plt\n",
    "from mpl_toolkits.mplot3d import Axes3D\n",
    "%matplotlib inline"
   ]
  },
  {
   "cell_type": "markdown",
   "metadata": {
    "id": "9Zlv3ZV3MNjm"
   },
   "source": [
    "### Read blood test results as an EMR from an Excel file"
   ]
  },
  {
   "cell_type": "code",
   "execution_count": 3,
   "metadata": {
    "id": "EqedLWoyMNjn",
    "scrolled": true
   },
   "outputs": [
    {
     "data": {
      "text/html": [
       "<div>\n",
       "<style scoped>\n",
       "    .dataframe tbody tr th:only-of-type {\n",
       "        vertical-align: middle;\n",
       "    }\n",
       "\n",
       "    .dataframe tbody tr th {\n",
       "        vertical-align: top;\n",
       "    }\n",
       "\n",
       "    .dataframe thead th {\n",
       "        text-align: right;\n",
       "    }\n",
       "</style>\n",
       "<table border=\"1\" class=\"dataframe\">\n",
       "  <thead>\n",
       "    <tr style=\"text-align: right;\">\n",
       "      <th></th>\n",
       "      <th>Na</th>\n",
       "      <th>K</th>\n",
       "      <th>ALT</th>\n",
       "      <th>AST</th>\n",
       "      <th>WBC</th>\n",
       "      <th>RBC</th>\n",
       "      <th>Hgb</th>\n",
       "      <th>Hct</th>\n",
       "    </tr>\n",
       "    <tr>\n",
       "      <th>Key</th>\n",
       "      <th></th>\n",
       "      <th></th>\n",
       "      <th></th>\n",
       "      <th></th>\n",
       "      <th></th>\n",
       "      <th></th>\n",
       "      <th></th>\n",
       "      <th></th>\n",
       "    </tr>\n",
       "  </thead>\n",
       "  <tbody>\n",
       "    <tr>\n",
       "      <th>1</th>\n",
       "      <td>141</td>\n",
       "      <td>4.65</td>\n",
       "      <td>31.92</td>\n",
       "      <td>35.01</td>\n",
       "      <td>10.25</td>\n",
       "      <td>4.06</td>\n",
       "      <td>17.6</td>\n",
       "      <td>36.3</td>\n",
       "    </tr>\n",
       "    <tr>\n",
       "      <th>2</th>\n",
       "      <td>140</td>\n",
       "      <td>4.96</td>\n",
       "      <td>36.41</td>\n",
       "      <td>16.70</td>\n",
       "      <td>6.13</td>\n",
       "      <td>3.80</td>\n",
       "      <td>13.2</td>\n",
       "      <td>35.6</td>\n",
       "    </tr>\n",
       "    <tr>\n",
       "      <th>3</th>\n",
       "      <td>136</td>\n",
       "      <td>3.66</td>\n",
       "      <td>41.43</td>\n",
       "      <td>13.17</td>\n",
       "      <td>5.86</td>\n",
       "      <td>4.26</td>\n",
       "      <td>16.2</td>\n",
       "      <td>43.7</td>\n",
       "    </tr>\n",
       "    <tr>\n",
       "      <th>4</th>\n",
       "      <td>136</td>\n",
       "      <td>4.74</td>\n",
       "      <td>23.92</td>\n",
       "      <td>30.33</td>\n",
       "      <td>10.80</td>\n",
       "      <td>4.83</td>\n",
       "      <td>16.1</td>\n",
       "      <td>49.8</td>\n",
       "    </tr>\n",
       "    <tr>\n",
       "      <th>5</th>\n",
       "      <td>140</td>\n",
       "      <td>4.74</td>\n",
       "      <td>43.66</td>\n",
       "      <td>20.44</td>\n",
       "      <td>6.59</td>\n",
       "      <td>4.05</td>\n",
       "      <td>12.6</td>\n",
       "      <td>39.1</td>\n",
       "    </tr>\n",
       "    <tr>\n",
       "      <th>6</th>\n",
       "      <td>146</td>\n",
       "      <td>3.98</td>\n",
       "      <td>48.41</td>\n",
       "      <td>33.22</td>\n",
       "      <td>4.53</td>\n",
       "      <td>4.04</td>\n",
       "      <td>17.9</td>\n",
       "      <td>47.3</td>\n",
       "    </tr>\n",
       "    <tr>\n",
       "      <th>7</th>\n",
       "      <td>144</td>\n",
       "      <td>5.29</td>\n",
       "      <td>44.29</td>\n",
       "      <td>19.28</td>\n",
       "      <td>10.12</td>\n",
       "      <td>3.96</td>\n",
       "      <td>17.2</td>\n",
       "      <td>47.9</td>\n",
       "    </tr>\n",
       "    <tr>\n",
       "      <th>8</th>\n",
       "      <td>138</td>\n",
       "      <td>4.57</td>\n",
       "      <td>50.43</td>\n",
       "      <td>16.39</td>\n",
       "      <td>4.66</td>\n",
       "      <td>4.91</td>\n",
       "      <td>13.7</td>\n",
       "      <td>41.5</td>\n",
       "    </tr>\n",
       "    <tr>\n",
       "      <th>9</th>\n",
       "      <td>144</td>\n",
       "      <td>3.96</td>\n",
       "      <td>31.51</td>\n",
       "      <td>34.87</td>\n",
       "      <td>4.57</td>\n",
       "      <td>4.72</td>\n",
       "      <td>15.1</td>\n",
       "      <td>47.6</td>\n",
       "    </tr>\n",
       "    <tr>\n",
       "      <th>10</th>\n",
       "      <td>147</td>\n",
       "      <td>3.99</td>\n",
       "      <td>36.27</td>\n",
       "      <td>32.70</td>\n",
       "      <td>4.41</td>\n",
       "      <td>4.73</td>\n",
       "      <td>17.4</td>\n",
       "      <td>42.7</td>\n",
       "    </tr>\n",
       "  </tbody>\n",
       "</table>\n",
       "</div>"
      ],
      "text/plain": [
       "      Na     K    ALT    AST    WBC   RBC   Hgb   Hct\n",
       "Key                                                  \n",
       "1    141  4.65  31.92  35.01  10.25  4.06  17.6  36.3\n",
       "2    140  4.96  36.41  16.70   6.13  3.80  13.2  35.6\n",
       "3    136  3.66  41.43  13.17   5.86  4.26  16.2  43.7\n",
       "4    136  4.74  23.92  30.33  10.80  4.83  16.1  49.8\n",
       "5    140  4.74  43.66  20.44   6.59  4.05  12.6  39.1\n",
       "6    146  3.98  48.41  33.22   4.53  4.04  17.9  47.3\n",
       "7    144  5.29  44.29  19.28  10.12  3.96  17.2  47.9\n",
       "8    138  4.57  50.43  16.39   4.66  4.91  13.7  41.5\n",
       "9    144  3.96  31.51  34.87   4.57  4.72  15.1  47.6\n",
       "10   147  3.99  36.27  32.70   4.41  4.73  17.4  42.7"
      ]
     },
     "execution_count": 3,
     "metadata": {},
     "output_type": "execute_result"
    }
   ],
   "source": [
    "# Open the file\n",
    "xlsx = pd.ExcelFile('EMR-Blood.xlsx')\n",
    "\n",
    "# Get the first sheet as an object\n",
    "sheet1 = xlsx.parse(0)\n",
    "\n",
    "# Set the Key column as the index\n",
    "sheet1.set_index(\"Key\", inplace=True)\n",
    "\n",
    "# Show first 10 rows\n",
    "sheet1[:10]"
   ]
  },
  {
   "cell_type": "markdown",
   "metadata": {
    "id": "iLAVsFY2MNjo"
   },
   "source": [
    "### Blood Test Abbreviations\n",
    "- Na == Sodium\n",
    "- K == Potassium\n",
    "- ALT == Alanine transaminase\n",
    "- AST == Aspartate transaminase\n",
    "- WBC == White blood cells\n",
    "- RBC == Red blood cells\n",
    "- Hgb == Hemoglobin\n",
    "- Hct == Hematocrit"
   ]
  },
  {
   "cell_type": "markdown",
   "metadata": {
    "id": "pJ4i4VViMNjp"
   },
   "source": [
    "### Use K-Means to create clusters according to variables of uniform distribution"
   ]
  },
  {
   "cell_type": "code",
   "execution_count": 13,
   "metadata": {},
   "outputs": [],
   "source": [
    "def make_chart (chart_data, centroids, labels):\n",
    "    colors = [\"g\",\"r\",\"c\",\"b\",\"k\"]\n",
    "    fig = plt.figure()\n",
    "    ax = fig.add_subplot(projection='3d')     \n",
    "    ax.set_xlabel(labels[0])\n",
    "    ax.set_ylabel(labels[1])\n",
    "    ax.set_zlabel(labels[2])\n",
    "    \n",
    "    for centroid in centroids:\n",
    "        ax.scatter(centroids[centroid][0], centroids[centroid][1], centroids[centroid][2] ,marker=\"*\", color=\"purple\", s=140, linewidths=5)\n",
    "    \n",
    "    for classification in chart_data:\n",
    "        color = colors[classification]\n",
    "        for featureset in chart_data[classification]:\n",
    "            ax.scatter(featureset[0], featureset[1], featureset[2], marker=\"x\", color=color, linewidths=5)"
   ]
  },
  {
   "cell_type": "code",
   "execution_count": 18,
   "metadata": {
    "id": "PIPo53csMNjq"
   },
   "outputs": [
    {
     "data": {
      "text/plain": [
       "array([1, 0, 3, 4, 0, 2, 1, 0, 3, 2, 4, 0, 3, 4, 0, 3, 1, 0, 2, 3, 1, 0,\n",
       "       2, 1, 0, 3, 1, 0, 2, 3, 1, 0, 2, 4, 0, 3, 4, 0, 2, 3, 1, 0, 3, 1,\n",
       "       0, 3, 1, 0, 3, 2, 4, 0, 2, 1, 0, 2, 4, 0, 2, 2, 4, 0, 2, 4, 0, 2,\n",
       "       4, 0, 2, 3, 4, 0, 2, 1, 0, 3, 1, 0, 2, 3, 4, 0, 3, 1, 0, 2, 1, 0,\n",
       "       3, 3, 1, 0, 3, 1, 0, 3, 1, 0, 2, 2])"
      ]
     },
     "execution_count": 18,
     "metadata": {},
     "output_type": "execute_result"
    }
   ],
   "source": [
    "# Retrieve the K, WBC and Hgb column values from the dataset to cluster\n",
    "from sklearn.cluster import KMeans\n",
    "variables1 = [\"K\",\"WBC\",\"Hgb\"]\n",
    "EMR3d1 = sheet1.loc[:, variables1].values\n",
    "colors = [\"g\",\"r\",\"c\",\"b\",\"k\"]\n",
    "\n",
    "# Run the K-Means algorithm, assuming the correct number of clusters is 5\n",
    "# y_pred_KMeans1 = # YOUR CODE HERE\n",
    "\n",
    "kmeans = KMeans(5)\n",
    "y_pred_KMeans1 = kmeans.fit_predict(EMR3d1)\n",
    "centroids={}\n",
    "for i in range(5):\n",
    "    centroids[i] = kmeans.cluster_centers_[i]\n",
    "# make_chart(y_pred_KMeans1, centroids, variables1)\n",
    "kmeans.score(EMR3d1)\n",
    "y_pred_KMeans1\n",
    "# EMR3d1"
   ]
  },
  {
   "cell_type": "markdown",
   "metadata": {
    "id": "l4CdRu9UMNjr"
   },
   "source": [
    "### Make a 3D chart"
   ]
  },
  {
   "cell_type": "code",
   "execution_count": 52,
   "metadata": {
    "id": "ZpmEci4yMNjr",
    "scrolled": true
   },
   "outputs": [],
   "source": [
    "# def make_chart (chart_data, y_pred, labels):\n",
    "#     fig = plt.figure()\n",
    "#     ax = Axes3D(fig)\n",
    "# #     fig.add_axes(ax)\n",
    "#     ax.set_xlabel(labels[0])\n",
    "#     ax.set_ylabel(labels[1])\n",
    "#     ax.set_zlabel(labels[2])\n",
    "#     ax.scatter(chart_data[:,0], chart_data[:,1], chart_data[:,2], c=y_pred, auto_add_to_figure=False)\n",
    "# make_chart(EMR3d1, y_pred_KMeans1, variables1)\n"
   ]
  },
  {
   "cell_type": "markdown",
   "metadata": {
    "id": "ZQ-yAQ7jMNjs"
   },
   "source": [
    "## Task 1 (_max score - 50 points_)\n",
    "Implement  Lloyd's Algorithm for solving the K-Means problem, as shown in class. \n",
    "By examining the WCSS, choose a proper threshold to determine algorithm convergence.\n",
    "\n",
    "Check your algorithm on 'EMR-Blood.xlsx' dataset. Compare your results to the _sklearn_ version - what can affect any differences you might've got?"
   ]
  },
  {
   "cell_type": "code",
   "execution_count": 7,
   "metadata": {
    "id": "YIm9Hx6OMNjs"
   },
   "outputs": [],
   "source": [
    "# Add your code for Challenge 210 after this line, and keep it in this cell.\n",
    "\n",
    "# Implement K-Means (X being the data)\n",
    "class k_means:\n",
    "    def __init__(self,k, tol=0.001, max_iter=300):\n",
    "        self.k = k\n",
    "        self.tol = tol\n",
    "        self.max_iter = max_iter\n",
    "    def predict(self, data):\n",
    "        distances = [np.linalg.norm(data-self.centroids[centroid]) for centroid in self.centroids]\n",
    "        classification = distances.index(min(distances))\n",
    "        return classification\n",
    "    \n",
    "    def fit(self, data):\n",
    "        self.centroids = {}\n",
    "\n",
    "        for i in range(self.k):\n",
    "            self.centroids[i] = data[i]\n",
    "\n",
    "        for i in range(self.max_iter):\n",
    "            self.classifications = {}\n",
    "\n",
    "            for i in range(self.k):\n",
    "                self.classifications[i] = []\n",
    "\n",
    "            for featureset in data:\n",
    "                classification = self.predict(featureset)\n",
    "                self.classifications[classification].append(featureset)\n",
    "\n",
    "            prev_centroids = dict(self.centroids)\n",
    "\n",
    "            for classification in self.classifications:\n",
    "                self.centroids[classification] = np.average(self.classifications[classification],axis=0)\n",
    "\n",
    "            optimized = True\n",
    "\n",
    "            for c in self.centroids:\n",
    "                original_centroid = prev_centroids[c]\n",
    "                current_centroid = self.centroids[c]\n",
    "                if np.sum((current_centroid-original_centroid)/original_centroid*100.0) > self.tol:\n",
    "#                     print(np.sum((current_centroid-original_centroid)/original_centroid*100.0))\n",
    "                    optimized = False\n",
    "\n",
    "            if optimized:\n",
    "                break\n",
    "    \n"
   ]
  },
  {
   "cell_type": "code",
   "execution_count": 20,
   "metadata": {},
   "outputs": [
    {
     "data": {
      "text/plain": [
       "{0: array([ 4.91642857, 10.32928571, 17.28571429]),\n",
       " 1: array([ 4.8285,  5.0515, 13.085 ]),\n",
       " 2: array([ 3.8395,  5.433 , 16.6075]),\n",
       " 3: array([ 4.830625, 10.500625, 15.66875 ]),\n",
       " 4: array([ 4.875,  6.005, 12.23 ])}"
      ]
     },
     "execution_count": 20,
     "metadata": {},
     "output_type": "execute_result"
    },
    {
     "data": {
      "image/png": "[encoded data removed]",
      "text/plain": [
       "<Figure size 432x288 with 1 Axes>"
      ]
     },
     "metadata": {
      "needs_background": "light"
     },
     "output_type": "display_data"
    }
   ],
   "source": [
    "clf = k_means(k=5)\n",
    "clf.fit(EMR3d1)\n",
    "make_chart(clf.classifications, clf.centroids, variables1)\n",
    "clf.centroids"
   ]
  },
  {
   "cell_type": "markdown",
   "metadata": {
    "id": "AdVvOuyyMNjt"
   },
   "source": [
    "## Task 2 (_max score - 30 points_)\n",
    "\n",
    "Humans can clearly spot 3 clusters, however, for machines it's much harder to \"learn\" that. In the above implementation, K-Means was given the value of 5 as K.\n",
    "Develop a **generic** mechanism for finding the most reasonable number of clusters by:\n",
    "1. Iterating K over a reasonable range, which should be derived from the number of points\n",
    "2. Choose a proper K based on the heuristics learned in class\n",
    "3. Showing the final clusters in a 3D chart (for your implementation of K-Means algorithm)"
   ]
  },
  {
   "cell_type": "code",
   "execution_count": null,
   "metadata": {
    "id": "boGlKlGaMNju"
   },
   "outputs": [],
   "source": [
    "# Add your code for Challenge 211 after this line, and keep it in this cell.\n",
    "\n",
    "\n"
   ]
  },
  {
   "cell_type": "markdown",
   "metadata": {
    "id": "xMqYlDh8MNju"
   },
   "source": [
    "### Silhouette analysis\n",
    "\n",
    "Use graphic visualization of the Silhouette score to support your above answer:"
   ]
  },
  {
   "cell_type": "code",
   "execution_count": null,
   "metadata": {
    "id": "qzaBLRmzMNjv"
   },
   "outputs": [],
   "source": [
    "# Add your code for the Sillhouette graphic analysis\n",
    "# You can use scikit-learn Sillhouette page as a reference\n",
    "\n",
    "from sklearn.metrics import silhouette_samples, silhouette_score\n",
    "\n",
    "def plot_Silhouette(X, y, num_clusters):\n",
    "    # YOUR CODE HERE\n",
    "    pass\n"
   ]
  },
  {
   "cell_type": "markdown",
   "metadata": {
    "id": "CBDSE5OkMNjv"
   },
   "source": [
    "#### From this section on - please use the sklearn's K-means"
   ]
  },
  {
   "cell_type": "markdown",
   "metadata": {
    "id": "s4jv4HZnMNjw"
   },
   "source": [
    "## Part 2: Mixture Models Clustering "
   ]
  },
  {
   "cell_type": "markdown",
   "metadata": {
    "id": "Hf7WQewHMNjw"
   },
   "source": [
    "### Use K-Means to create clusters according to variables of both uniform and Gaussian distributions"
   ]
  },
  {
   "cell_type": "code",
   "execution_count": null,
   "metadata": {
    "id": "sFQw0GkOMNjw"
   },
   "outputs": [],
   "source": [
    "# Retrieve the ALT, AST and RBC column values from the dataset to cluster\n",
    "variables2 = [\"ALT\",\"AST\",\"RBC\"]\n",
    "EMR3d2 = sheet1.loc[:, variables2].values\n",
    "\n",
    "# Run the K-Means algorithm\n",
    "# NOTICE, this time, we know that the correct number of clusters is 2\n",
    "y_pred_KMeans2 = # YOUR CODE HERE\n",
    "\n",
    "# Make a 3D chart\n",
    "make_chart(EMR3d2, y_pred_KMeans2, variables2)"
   ]
  },
  {
   "cell_type": "markdown",
   "metadata": {
    "id": "hWgNXyitMNjx"
   },
   "source": [
    "## Task 3 (_max score - 20 points_)\n",
    "Scientists have found that in this population of patients, RBC distribution is uniform, ALT distribution is a Gaussian and AST distribution is a mixture of two Gaussians. Clearly, even by giving K-Means the correct K, the algorithm got to the wrong conclusion. This separation is \"technically\" correct, but lacks some underlying understanding of the natural phenomena.\n",
    "\n",
    "What is the \"problem\" with this separation?"
   ]
  },
  {
   "cell_type": "code",
   "execution_count": null,
   "metadata": {
    "id": "wwaGIBkyMNjx"
   },
   "outputs": [],
   "source": [
    "# Your answer here\n"
   ]
  },
  {
   "cell_type": "markdown",
   "metadata": {
    "id": "DE6zWugnMNjx"
   },
   "source": [
    "In order to exploit the Gaussian characteristic of the AST\n",
    "1. Find the 2 componenets that comprise the AST feature by applying the GMM algorith with the proper number of components.\n",
    "2. Assume that the clusters above are correct for the entire dataset (including the other features).\n",
    "3. Show the final clusters (of EMR3d2) in a 3D chart"
   ]
  },
  {
   "cell_type": "code",
   "execution_count": null,
   "metadata": {
    "id": "68-FpEHSMNjy"
   },
   "outputs": [],
   "source": [
    "# Add your code for Challenge 212 after this line, and keep it in this cell.\n",
    "\n",
    "\n"
   ]
  },
  {
   "cell_type": "markdown",
   "metadata": {
    "id": "lAupVEHfMNjy"
   },
   "source": [
    "What is the difference between the two clustering results above?\n",
    "\n",
    "Which one, given the domain knowledge provided to you, makes more sense?"
   ]
  },
  {
   "cell_type": "markdown",
   "metadata": {
    "id": "F_H3jnhqMNjy"
   },
   "source": [
    "\n",
    "\n",
    "\n",
    "# Good Luck!\n",
    "\n"
   ]
  }
 ],
 "metadata": {
  "colab": {
   "name": "HW1 - Clustering.ipynb",
   "provenance": []
  },
  "kernelspec": {
   "display_name": "Python 3 (ipykernel)",
   "language": "python",
   "name": "python3"
  },
  "language_info": {
   "codemirror_mode": {
    "name": "ipython",
    "version": 3
   },
   "file_extension": ".py",
   "mimetype": "text/x-python",
   "name": "python",
   "nbconvert_exporter": "python",
   "pygments_lexer": "ipython3",
   "version": "3.7.10"
  }
 },
 "nbformat": 4,
 "nbformat_minor": 4
}
