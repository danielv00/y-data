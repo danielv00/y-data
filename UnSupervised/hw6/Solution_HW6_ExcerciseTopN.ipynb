{
 "cells": [
  {
   "cell_type": "markdown",
   "metadata": {
    "id": "RDcN431I5zC0"
   },
   "source": [
    "# Item-Item Top-N Recommendations"
   ]
  },
  {
   "cell_type": "markdown",
   "metadata": {
    "id": "MiDyphhp5zC6"
   },
   "source": [
    "In this excercise we will implement a simple top-N recommender, evaluate the algorithms, and then call algorithms from the Surprise package. In top-N recommendations the algorithm is requested to produce a list of N items that the user will be interested in. \n",
    "In this particular execercise we will work with an escape room dataset.\n",
    "\n",
    "First, let's load the dataset, which is already split by time into a training set and a test set:"
   ]
  },
  {
   "cell_type": "code",
   "execution_count": 1,
   "metadata": {
    "executionInfo": {
     "elapsed": 453,
     "status": "ok",
     "timestamp": 1642672389843,
     "user": {
      "displayName": "Julia Mizgireva",
      "photoUrl": "https://lh3.googleusercontent.com/a-/AOh14GiAjQzoV4ld_zV1yqiHuZi2NYh-J6cyPxYSUVmBrA=s64",
      "userId": "15664836602934680612"
     },
     "user_tz": -120
    },
    "id": "3QmSy4mgdCu5"
   },
   "outputs": [],
   "source": [
    "import pandas as pd\n",
    "from time import time\n",
    "import numpy as np\n",
    "import matplotlib.pyplot as plt"
   ]
  },
  {
   "cell_type": "code",
   "execution_count": 2,
   "metadata": {
    "executionInfo": {
     "elapsed": 902,
     "status": "ok",
     "timestamp": 1642672391175,
     "user": {
      "displayName": "Julia Mizgireva",
      "photoUrl": "https://lh3.googleusercontent.com/a-/AOh14GiAjQzoV4ld_zV1yqiHuZi2NYh-J6cyPxYSUVmBrA=s64",
      "userId": "15664836602934680612"
     },
     "user_tz": -120
    },
    "id": "CN1l4x4S5zC-"
   },
   "outputs": [],
   "source": [
    "train_set_path = 'resources//train_numerized_with_anon.csv'\n",
    "test_set_path = 'resources//test_numerized_with_anon.csv'\n",
    "\n",
    "train_set = pd.read_csv(train_set_path, parse_dates=[3], index_col='index')\n",
    "test_set = pd.read_csv(test_set_path, parse_dates=[3], index_col='index')\n",
    "\n",
    "users_in_train = train_set.userID.unique()\n",
    "test_set = test_set[test_set.userID.isin(users_in_train)]"
   ]
  },
  {
   "cell_type": "markdown",
   "metadata": {
    "id": "RMZW5mlBd8b5"
   },
   "source": [
    "---\n",
    "<font color='blue'>**Comment**: It's a nice habit to, first of all, take a look on the data.</font>\n",
    "---\n",
    "---\n",
    "\n"
   ]
  },
  {
   "cell_type": "markdown",
   "metadata": {
    "id": "Uou6h0U75zDP"
   },
   "source": [
    "We can take a look at the structure of the dataset:"
   ]
  },
  {
   "cell_type": "code",
   "execution_count": 3,
   "metadata": {
    "colab": {
     "base_uri": "https://localhost:8080/",
     "height": 585
    },
    "executionInfo": {
     "elapsed": 415,
     "status": "ok",
     "timestamp": 1642672393509,
     "user": {
      "displayName": "Julia Mizgireva",
      "photoUrl": "https://lh3.googleusercontent.com/a-/AOh14GiAjQzoV4ld_zV1yqiHuZi2NYh-J6cyPxYSUVmBrA=s64",
      "userId": "15664836602934680612"
     },
     "user_tz": -120
    },
    "id": "mD4Io9UA5zDT",
    "outputId": "2e072b63-a2b1-4d6f-8a40-fdb8e7018d4f"
   },
   "outputs": [
    {
     "data": {
      "text/html": [
       "\n",
       "  <div id=\"df-6c666784-5b88-4e8f-9011-832f13ffb9c8\">\n",
       "    <div class=\"colab-df-container\">\n",
       "      <div>\n",
       "<style scoped>\n",
       "    .dataframe tbody tr th:only-of-type {\n",
       "        vertical-align: middle;\n",
       "    }\n",
       "\n",
       "    .dataframe tbody tr th {\n",
       "        vertical-align: top;\n",
       "    }\n",
       "\n",
       "    .dataframe thead th {\n",
       "        text-align: right;\n",
       "    }\n",
       "</style>\n",
       "<table border=\"1\" class=\"dataframe\">\n",
       "  <thead>\n",
       "    <tr style=\"text-align: right;\">\n",
       "      <th></th>\n",
       "      <th>userID</th>\n",
       "      <th>itemID</th>\n",
       "      <th>rating</th>\n",
       "      <th>timestamp</th>\n",
       "    </tr>\n",
       "    <tr>\n",
       "      <th>index</th>\n",
       "      <th></th>\n",
       "      <th></th>\n",
       "      <th></th>\n",
       "      <th></th>\n",
       "    </tr>\n",
       "  </thead>\n",
       "  <tbody>\n",
       "    <tr>\n",
       "      <th>0</th>\n",
       "      <td>0</td>\n",
       "      <td>0</td>\n",
       "      <td>10</td>\n",
       "      <td>11/11/2015</td>\n",
       "    </tr>\n",
       "    <tr>\n",
       "      <th>1</th>\n",
       "      <td>1</td>\n",
       "      <td>0</td>\n",
       "      <td>10</td>\n",
       "      <td>11/11/2015</td>\n",
       "    </tr>\n",
       "    <tr>\n",
       "      <th>2</th>\n",
       "      <td>2</td>\n",
       "      <td>0</td>\n",
       "      <td>8</td>\n",
       "      <td>11/11/2015</td>\n",
       "    </tr>\n",
       "    <tr>\n",
       "      <th>3</th>\n",
       "      <td>3</td>\n",
       "      <td>0</td>\n",
       "      <td>10</td>\n",
       "      <td>11/11/2015</td>\n",
       "    </tr>\n",
       "    <tr>\n",
       "      <th>4</th>\n",
       "      <td>4</td>\n",
       "      <td>0</td>\n",
       "      <td>10</td>\n",
       "      <td>11/11/2015</td>\n",
       "    </tr>\n",
       "    <tr>\n",
       "      <th>5</th>\n",
       "      <td>5</td>\n",
       "      <td>0</td>\n",
       "      <td>10</td>\n",
       "      <td>11/11/2015</td>\n",
       "    </tr>\n",
       "    <tr>\n",
       "      <th>6</th>\n",
       "      <td>6</td>\n",
       "      <td>0</td>\n",
       "      <td>5</td>\n",
       "      <td>11/11/2015</td>\n",
       "    </tr>\n",
       "    <tr>\n",
       "      <th>7</th>\n",
       "      <td>7</td>\n",
       "      <td>0</td>\n",
       "      <td>10</td>\n",
       "      <td>11/11/2015</td>\n",
       "    </tr>\n",
       "    <tr>\n",
       "      <th>8</th>\n",
       "      <td>8</td>\n",
       "      <td>0</td>\n",
       "      <td>10</td>\n",
       "      <td>11/11/2015</td>\n",
       "    </tr>\n",
       "    <tr>\n",
       "      <th>9</th>\n",
       "      <td>9</td>\n",
       "      <td>0</td>\n",
       "      <td>9</td>\n",
       "      <td>11/11/2015</td>\n",
       "    </tr>\n",
       "  </tbody>\n",
       "</table>\n",
       "</div>\n",
       "      <button class=\"colab-df-convert\" onclick=\"convertToInteractive('df-6c666784-5b88-4e8f-9011-832f13ffb9c8')\"\n",
       "              title=\"Convert this dataframe to an interactive table.\"\n",
       "              style=\"display:none;\">\n",
       "        \n",
       "  <svg xmlns=\"http://www.w3.org/2000/svg\" height=\"24px\"viewBox=\"0 0 24 24\"\n",
       "       width=\"24px\">\n",
       "    <path d=\"M0 0h24v24H0V0z\" fill=\"none\"/>\n",
       "    <path d=\"M18.56 5.44l.94 2.06.94-2.06 2.06-.94-2.06-.94-.94-2.06-.94 2.06-2.06.94zm-11 1L8.5 8.5l.94-2.06 2.06-.94-2.06-.94L8.5 2.5l-.94 2.06-2.06.94zm10 10l.94 2.06.94-2.06 2.06-.94-2.06-.94-.94-2.06-.94 2.06-2.06.94z\"/><path d=\"M17.41 7.96l-1.37-1.37c-.4-.4-.92-.59-1.43-.59-.52 0-1.04.2-1.43.59L10.3 9.45l-7.72 7.72c-.78.78-.78 2.05 0 2.83L4 21.41c.39.39.9.59 1.41.59.51 0 1.02-.2 1.41-.59l7.78-7.78 2.81-2.81c.8-.78.8-2.07 0-2.86zM5.41 20L4 18.59l7.72-7.72 1.47 1.35L5.41 20z\"/>\n",
       "  </svg>\n",
       "      </button>\n",
       "      \n",
       "  <style>\n",
       "    .colab-df-container {\n",
       "      display:flex;\n",
       "      flex-wrap:wrap;\n",
       "      gap: 12px;\n",
       "    }\n",
       "\n",
       "    .colab-df-convert {\n",
       "      background-color: #E8F0FE;\n",
       "      border: none;\n",
       "      border-radius: 50%;\n",
       "      cursor: pointer;\n",
       "      display: none;\n",
       "      fill: #1967D2;\n",
       "      height: 32px;\n",
       "      padding: 0 0 0 0;\n",
       "      width: 32px;\n",
       "    }\n",
       "\n",
       "    .colab-df-convert:hover {\n",
       "      background-color: #E2EBFA;\n",
       "      box-shadow: 0px 1px 2px rgba(60, 64, 67, 0.3), 0px 1px 3px 1px rgba(60, 64, 67, 0.15);\n",
       "      fill: #174EA6;\n",
       "    }\n",
       "\n",
       "    [theme=dark] .colab-df-convert {\n",
       "      background-color: #3B4455;\n",
       "      fill: #D2E3FC;\n",
       "    }\n",
       "\n",
       "    [theme=dark] .colab-df-convert:hover {\n",
       "      background-color: #434B5C;\n",
       "      box-shadow: 0px 1px 3px 1px rgba(0, 0, 0, 0.15);\n",
       "      filter: drop-shadow(0px 1px 2px rgba(0, 0, 0, 0.3));\n",
       "      fill: #FFFFFF;\n",
       "    }\n",
       "  </style>\n",
       "\n",
       "      <script>\n",
       "        const buttonEl =\n",
       "          document.querySelector('#df-6c666784-5b88-4e8f-9011-832f13ffb9c8 button.colab-df-convert');\n",
       "        buttonEl.style.display =\n",
       "          google.colab.kernel.accessAllowed ? 'block' : 'none';\n",
       "\n",
       "        async function convertToInteractive(key) {\n",
       "          const element = document.querySelector('#df-6c666784-5b88-4e8f-9011-832f13ffb9c8');\n",
       "          const dataTable =\n",
       "            await google.colab.kernel.invokeFunction('convertToInteractive',\n",
       "                                                     [key], {});\n",
       "          if (!dataTable) return;\n",
       "\n",
       "          const docLinkHtml = 'Like what you see? Visit the ' +\n",
       "            '<a target=\"_blank\" href=https://colab.research.google.com/notebooks/data_table.ipynb>data table notebook</a>'\n",
       "            + ' to learn more about interactive tables.';\n",
       "          element.innerHTML = '';\n",
       "          dataTable['output_type'] = 'display_data';\n",
       "          await google.colab.output.renderOutput(dataTable, element);\n",
       "          const docLink = document.createElement('div');\n",
       "          docLink.innerHTML = docLinkHtml;\n",
       "          element.appendChild(docLink);\n",
       "        }\n",
       "      </script>\n",
       "    </div>\n",
       "  </div>\n",
       "  "
      ],
      "text/plain": [
       "       userID  itemID rating   timestamp\n",
       "index                                   \n",
       "0           0       0     10  11/11/2015\n",
       "1           1       0     10  11/11/2015\n",
       "2           2       0      8  11/11/2015\n",
       "3           3       0     10  11/11/2015\n",
       "4           4       0     10  11/11/2015\n",
       "5           5       0     10  11/11/2015\n",
       "6           6       0      5  11/11/2015\n",
       "7           7       0     10  11/11/2015\n",
       "8           8       0     10  11/11/2015\n",
       "9           9       0      9  11/11/2015"
      ]
     },
     "metadata": {},
     "output_type": "display_data"
    },
    {
     "data": {
      "text/plain": [
       "10    25803\n",
       "9      5131\n",
       "8      4027\n",
       "7      2333\n",
       "6      1162\n",
       "5       574\n",
       "4       319\n",
       "1       244\n",
       "3       237\n",
       "2       192\n",
       "Name: rating, dtype: int64"
      ]
     },
     "execution_count": 3,
     "metadata": {},
     "output_type": "execute_result"
    }
   ],
   "source": [
    "pd.set_option('display.max_rows', 100)\n",
    "display(train_set.head(10))\n",
    "train_set.rating.value_counts()"
   ]
  },
  {
   "cell_type": "markdown",
   "metadata": {
    "id": "6zsBDsAGdCu7"
   },
   "source": [
    "***\n",
    "Let's look at the data\n",
    "***"
   ]
  },
  {
   "cell_type": "code",
   "execution_count": 4,
   "metadata": {
    "colab": {
     "base_uri": "https://localhost:8080/"
    },
    "executionInfo": {
     "elapsed": 405,
     "status": "ok",
     "timestamp": 1642672395737,
     "user": {
      "displayName": "Julia Mizgireva",
      "photoUrl": "https://lh3.googleusercontent.com/a-/AOh14GiAjQzoV4ld_zV1yqiHuZi2NYh-J6cyPxYSUVmBrA=s64",
      "userId": "15664836602934680612"
     },
     "user_tz": -120
    },
    "id": "pMq9nF-NdCu7",
    "outputId": "d4b06f26-6e80-4668-827d-8577066425ba"
   },
   "outputs": [
    {
     "name": "stdout",
     "output_type": "stream",
     "text": [
      "0 missing ratings\n",
      "375 different items\n",
      "20197 different users\n"
     ]
    }
   ],
   "source": [
    "# are there missing ratings?\n",
    "print(train_set.rating.isna().sum(), 'missing ratings')\n",
    "\n",
    "# how many different items do we have in the train set?\n",
    "print(len(train_set.itemID.unique()), 'different items')\n",
    "\n",
    "# how many different users?\n",
    "print(len(train_set.userID.unique()), 'different users')\n"
   ]
  },
  {
   "cell_type": "code",
   "execution_count": 5,
   "metadata": {
    "colab": {
     "base_uri": "https://localhost:8080/",
     "height": 226
    },
    "executionInfo": {
     "elapsed": 359,
     "status": "ok",
     "timestamp": 1642672397639,
     "user": {
      "displayName": "Julia Mizgireva",
      "photoUrl": "https://lh3.googleusercontent.com/a-/AOh14GiAjQzoV4ld_zV1yqiHuZi2NYh-J6cyPxYSUVmBrA=s64",
      "userId": "15664836602934680612"
     },
     "user_tz": -120
    },
    "id": "E9HwJC1NdCu7",
    "outputId": "f1b22607-7d52-4f46-a396-b7ded4bd36d7",
    "scrolled": true
   },
   "outputs": [
    {
     "name": "stdout",
     "output_type": "stream",
     "text": [
      "<class 'pandas.core.frame.DataFrame'>\n",
      "Int64Index: 40022 entries, 0 to 40021\n",
      "Data columns (total 4 columns):\n",
      " #   Column     Non-Null Count  Dtype \n",
      "---  ------     --------------  ----- \n",
      " 0   userID     40022 non-null  int64 \n",
      " 1   itemID     40022 non-null  int64 \n",
      " 2   rating     40022 non-null  object\n",
      " 3   timestamp  40022 non-null  object\n",
      "dtypes: int64(2), object(2)\n",
      "memory usage: 1.5+ MB\n"
     ]
    },
    {
     "data": {
      "text/plain": [
       "None"
      ]
     },
     "metadata": {},
     "output_type": "display_data"
    }
   ],
   "source": [
    "display(train_set.info())"
   ]
  },
  {
   "cell_type": "code",
   "execution_count": 6,
   "metadata": {
    "colab": {
     "base_uri": "https://localhost:8080/",
     "height": 490
    },
    "executionInfo": {
     "elapsed": 354,
     "status": "ok",
     "timestamp": 1642672399896,
     "user": {
      "displayName": "Julia Mizgireva",
      "photoUrl": "https://lh3.googleusercontent.com/a-/AOh14GiAjQzoV4ld_zV1yqiHuZi2NYh-J6cyPxYSUVmBrA=s64",
      "userId": "15664836602934680612"
     },
     "user_tz": -120
    },
    "id": "Uj7rNO4pdCu8",
    "outputId": "b0fe90d0-57ab-48f6-9e0d-b36ca98c43ff"
   },
   "outputs": [
    {
     "data": {
      "text/plain": [
       "itemID\n",
       "66    741\n",
       "1     601\n",
       "76    548\n",
       "69    547\n",
       "5     512\n",
       "0     510\n",
       "75    504\n",
       "2     501\n",
       "74    458\n",
       "3     455\n",
       "dtype: int64"
      ]
     },
     "metadata": {},
     "output_type": "display_data"
    },
    {
     "data": {
      "text/plain": [
       "<matplotlib.axes._subplots.AxesSubplot at 0x7fea96a570d0>"
      ]
     },
     "execution_count": 6,
     "metadata": {},
     "output_type": "execute_result"
    },
    {
     "data": {
      "image/png": "[encoded data removed]",
      "text/plain": [
       "<Figure size 432x288 with 1 Axes>"
      ]
     },
     "metadata": {
      "needs_background": "light"
     },
     "output_type": "display_data"
    }
   ],
   "source": [
    "num_ratings_per_item = train_set.pivot_table(index='itemID', aggfunc='size').sort_values(ascending=False)\n",
    "display(num_ratings_per_item.head(10))\n",
    "num_ratings_per_item.hist()"
   ]
  },
  {
   "cell_type": "markdown",
   "metadata": {
    "id": "wBBR2lhaeQRb"
   },
   "source": [
    "---\n",
    "<font color='blue'>**Comment**: By the way, there is something interesting in the data... the duplicates. I added an example below. </font>\n",
    "---\n",
    "---"
   ]
  },
  {
   "cell_type": "code",
   "execution_count": 7,
   "metadata": {
    "colab": {
     "base_uri": "https://localhost:8080/",
     "height": 958
    },
    "executionInfo": {
     "elapsed": 359,
     "status": "ok",
     "timestamp": 1642672402187,
     "user": {
      "displayName": "Julia Mizgireva",
      "photoUrl": "https://lh3.googleusercontent.com/a-/AOh14GiAjQzoV4ld_zV1yqiHuZi2NYh-J6cyPxYSUVmBrA=s64",
      "userId": "15664836602934680612"
     },
     "user_tz": -120
    },
    "id": "tT6sNP9felBY",
    "outputId": "1b3bcdc1-1581-4171-94d0-b7b69dce3cee"
   },
   "outputs": [
    {
     "data": {
      "text/html": [
       "\n",
       "  <div id=\"df-19cd4c95-d3d9-49cd-8c3e-4977f38f05b9\">\n",
       "    <div class=\"colab-df-container\">\n",
       "      <div>\n",
       "<style scoped>\n",
       "    .dataframe tbody tr th:only-of-type {\n",
       "        vertical-align: middle;\n",
       "    }\n",
       "\n",
       "    .dataframe tbody tr th {\n",
       "        vertical-align: top;\n",
       "    }\n",
       "\n",
       "    .dataframe thead th {\n",
       "        text-align: right;\n",
       "    }\n",
       "</style>\n",
       "<table border=\"1\" class=\"dataframe\">\n",
       "  <thead>\n",
       "    <tr style=\"text-align: right;\">\n",
       "      <th></th>\n",
       "      <th>userID</th>\n",
       "      <th>itemID</th>\n",
       "      <th>rating</th>\n",
       "      <th>timestamp</th>\n",
       "    </tr>\n",
       "    <tr>\n",
       "      <th>index</th>\n",
       "      <th></th>\n",
       "      <th></th>\n",
       "      <th></th>\n",
       "      <th></th>\n",
       "    </tr>\n",
       "  </thead>\n",
       "  <tbody>\n",
       "    <tr>\n",
       "      <th>3716</th>\n",
       "      <td>1898</td>\n",
       "      <td>23</td>\n",
       "      <td>10</td>\n",
       "      <td>11/11/2015</td>\n",
       "    </tr>\n",
       "    <tr>\n",
       "      <th>3717</th>\n",
       "      <td>1898</td>\n",
       "      <td>73</td>\n",
       "      <td>9</td>\n",
       "      <td>11/11/2015</td>\n",
       "    </tr>\n",
       "    <tr>\n",
       "      <th>19985</th>\n",
       "      <td>1898</td>\n",
       "      <td>73</td>\n",
       "      <td>8</td>\n",
       "      <td>11/01/2016</td>\n",
       "    </tr>\n",
       "    <tr>\n",
       "      <th>19986</th>\n",
       "      <td>1898</td>\n",
       "      <td>73</td>\n",
       "      <td>9</td>\n",
       "      <td>11/01/2016</td>\n",
       "    </tr>\n",
       "    <tr>\n",
       "      <th>19987</th>\n",
       "      <td>1898</td>\n",
       "      <td>73</td>\n",
       "      <td>9</td>\n",
       "      <td>11/01/2016</td>\n",
       "    </tr>\n",
       "    <tr>\n",
       "      <th>19988</th>\n",
       "      <td>1898</td>\n",
       "      <td>73</td>\n",
       "      <td>9</td>\n",
       "      <td>11/01/2016</td>\n",
       "    </tr>\n",
       "    <tr>\n",
       "      <th>19989</th>\n",
       "      <td>1898</td>\n",
       "      <td>73</td>\n",
       "      <td>9</td>\n",
       "      <td>11/01/2016</td>\n",
       "    </tr>\n",
       "    <tr>\n",
       "      <th>19990</th>\n",
       "      <td>1898</td>\n",
       "      <td>73</td>\n",
       "      <td>10</td>\n",
       "      <td>11/01/2016</td>\n",
       "    </tr>\n",
       "    <tr>\n",
       "      <th>19991</th>\n",
       "      <td>1898</td>\n",
       "      <td>73</td>\n",
       "      <td>9</td>\n",
       "      <td>11/01/2016</td>\n",
       "    </tr>\n",
       "    <tr>\n",
       "      <th>19992</th>\n",
       "      <td>1898</td>\n",
       "      <td>73</td>\n",
       "      <td>9</td>\n",
       "      <td>11/01/2016</td>\n",
       "    </tr>\n",
       "    <tr>\n",
       "      <th>19993</th>\n",
       "      <td>1898</td>\n",
       "      <td>73</td>\n",
       "      <td>10</td>\n",
       "      <td>11/01/2016</td>\n",
       "    </tr>\n",
       "    <tr>\n",
       "      <th>19994</th>\n",
       "      <td>1898</td>\n",
       "      <td>73</td>\n",
       "      <td>9</td>\n",
       "      <td>11/01/2016</td>\n",
       "    </tr>\n",
       "    <tr>\n",
       "      <th>19995</th>\n",
       "      <td>1898</td>\n",
       "      <td>73</td>\n",
       "      <td>8</td>\n",
       "      <td>11/01/2016</td>\n",
       "    </tr>\n",
       "    <tr>\n",
       "      <th>19996</th>\n",
       "      <td>1898</td>\n",
       "      <td>73</td>\n",
       "      <td>8</td>\n",
       "      <td>11/01/2016</td>\n",
       "    </tr>\n",
       "    <tr>\n",
       "      <th>19997</th>\n",
       "      <td>1898</td>\n",
       "      <td>73</td>\n",
       "      <td>9</td>\n",
       "      <td>11/01/2016</td>\n",
       "    </tr>\n",
       "    <tr>\n",
       "      <th>19998</th>\n",
       "      <td>1898</td>\n",
       "      <td>73</td>\n",
       "      <td>9</td>\n",
       "      <td>11/01/2016</td>\n",
       "    </tr>\n",
       "    <tr>\n",
       "      <th>19999</th>\n",
       "      <td>1898</td>\n",
       "      <td>73</td>\n",
       "      <td>9</td>\n",
       "      <td>11/01/2016</td>\n",
       "    </tr>\n",
       "    <tr>\n",
       "      <th>20000</th>\n",
       "      <td>1898</td>\n",
       "      <td>73</td>\n",
       "      <td>9</td>\n",
       "      <td>11/01/2016</td>\n",
       "    </tr>\n",
       "    <tr>\n",
       "      <th>20001</th>\n",
       "      <td>1898</td>\n",
       "      <td>73</td>\n",
       "      <td>8</td>\n",
       "      <td>11/01/2016</td>\n",
       "    </tr>\n",
       "    <tr>\n",
       "      <th>20002</th>\n",
       "      <td>1898</td>\n",
       "      <td>73</td>\n",
       "      <td>9</td>\n",
       "      <td>11/01/2016</td>\n",
       "    </tr>\n",
       "    <tr>\n",
       "      <th>20003</th>\n",
       "      <td>1898</td>\n",
       "      <td>73</td>\n",
       "      <td>9</td>\n",
       "      <td>11/01/2016</td>\n",
       "    </tr>\n",
       "    <tr>\n",
       "      <th>20004</th>\n",
       "      <td>1898</td>\n",
       "      <td>73</td>\n",
       "      <td>10</td>\n",
       "      <td>11/01/2016</td>\n",
       "    </tr>\n",
       "    <tr>\n",
       "      <th>20005</th>\n",
       "      <td>1898</td>\n",
       "      <td>73</td>\n",
       "      <td>10</td>\n",
       "      <td>11/01/2016</td>\n",
       "    </tr>\n",
       "    <tr>\n",
       "      <th>20006</th>\n",
       "      <td>1898</td>\n",
       "      <td>73</td>\n",
       "      <td>10</td>\n",
       "      <td>11/01/2016</td>\n",
       "    </tr>\n",
       "    <tr>\n",
       "      <th>20007</th>\n",
       "      <td>1898</td>\n",
       "      <td>73</td>\n",
       "      <td>9</td>\n",
       "      <td>11/01/2016</td>\n",
       "    </tr>\n",
       "    <tr>\n",
       "      <th>20008</th>\n",
       "      <td>1898</td>\n",
       "      <td>73</td>\n",
       "      <td>9</td>\n",
       "      <td>11/01/2016</td>\n",
       "    </tr>\n",
       "    <tr>\n",
       "      <th>20009</th>\n",
       "      <td>1898</td>\n",
       "      <td>73</td>\n",
       "      <td>9</td>\n",
       "      <td>11/01/2016</td>\n",
       "    </tr>\n",
       "    <tr>\n",
       "      <th>20010</th>\n",
       "      <td>1898</td>\n",
       "      <td>73</td>\n",
       "      <td>10</td>\n",
       "      <td>11/01/2016</td>\n",
       "    </tr>\n",
       "  </tbody>\n",
       "</table>\n",
       "</div>\n",
       "      <button class=\"colab-df-convert\" onclick=\"convertToInteractive('df-19cd4c95-d3d9-49cd-8c3e-4977f38f05b9')\"\n",
       "              title=\"Convert this dataframe to an interactive table.\"\n",
       "              style=\"display:none;\">\n",
       "        \n",
       "  <svg xmlns=\"http://www.w3.org/2000/svg\" height=\"24px\"viewBox=\"0 0 24 24\"\n",
       "       width=\"24px\">\n",
       "    <path d=\"M0 0h24v24H0V0z\" fill=\"none\"/>\n",
       "    <path d=\"M18.56 5.44l.94 2.06.94-2.06 2.06-.94-2.06-.94-.94-2.06-.94 2.06-2.06.94zm-11 1L8.5 8.5l.94-2.06 2.06-.94-2.06-.94L8.5 2.5l-.94 2.06-2.06.94zm10 10l.94 2.06.94-2.06 2.06-.94-2.06-.94-.94-2.06-.94 2.06-2.06.94z\"/><path d=\"M17.41 7.96l-1.37-1.37c-.4-.4-.92-.59-1.43-.59-.52 0-1.04.2-1.43.59L10.3 9.45l-7.72 7.72c-.78.78-.78 2.05 0 2.83L4 21.41c.39.39.9.59 1.41.59.51 0 1.02-.2 1.41-.59l7.78-7.78 2.81-2.81c.8-.78.8-2.07 0-2.86zM5.41 20L4 18.59l7.72-7.72 1.47 1.35L5.41 20z\"/>\n",
       "  </svg>\n",
       "      </button>\n",
       "      \n",
       "  <style>\n",
       "    .colab-df-container {\n",
       "      display:flex;\n",
       "      flex-wrap:wrap;\n",
       "      gap: 12px;\n",
       "    }\n",
       "\n",
       "    .colab-df-convert {\n",
       "      background-color: #E8F0FE;\n",
       "      border: none;\n",
       "      border-radius: 50%;\n",
       "      cursor: pointer;\n",
       "      display: none;\n",
       "      fill: #1967D2;\n",
       "      height: 32px;\n",
       "      padding: 0 0 0 0;\n",
       "      width: 32px;\n",
       "    }\n",
       "\n",
       "    .colab-df-convert:hover {\n",
       "      background-color: #E2EBFA;\n",
       "      box-shadow: 0px 1px 2px rgba(60, 64, 67, 0.3), 0px 1px 3px 1px rgba(60, 64, 67, 0.15);\n",
       "      fill: #174EA6;\n",
       "    }\n",
       "\n",
       "    [theme=dark] .colab-df-convert {\n",
       "      background-color: #3B4455;\n",
       "      fill: #D2E3FC;\n",
       "    }\n",
       "\n",
       "    [theme=dark] .colab-df-convert:hover {\n",
       "      background-color: #434B5C;\n",
       "      box-shadow: 0px 1px 3px 1px rgba(0, 0, 0, 0.15);\n",
       "      filter: drop-shadow(0px 1px 2px rgba(0, 0, 0, 0.3));\n",
       "      fill: #FFFFFF;\n",
       "    }\n",
       "  </style>\n",
       "\n",
       "      <script>\n",
       "        const buttonEl =\n",
       "          document.querySelector('#df-19cd4c95-d3d9-49cd-8c3e-4977f38f05b9 button.colab-df-convert');\n",
       "        buttonEl.style.display =\n",
       "          google.colab.kernel.accessAllowed ? 'block' : 'none';\n",
       "\n",
       "        async function convertToInteractive(key) {\n",
       "          const element = document.querySelector('#df-19cd4c95-d3d9-49cd-8c3e-4977f38f05b9');\n",
       "          const dataTable =\n",
       "            await google.colab.kernel.invokeFunction('convertToInteractive',\n",
       "                                                     [key], {});\n",
       "          if (!dataTable) return;\n",
       "\n",
       "          const docLinkHtml = 'Like what you see? Visit the ' +\n",
       "            '<a target=\"_blank\" href=https://colab.research.google.com/notebooks/data_table.ipynb>data table notebook</a>'\n",
       "            + ' to learn more about interactive tables.';\n",
       "          element.innerHTML = '';\n",
       "          dataTable['output_type'] = 'display_data';\n",
       "          await google.colab.output.renderOutput(dataTable, element);\n",
       "          const docLink = document.createElement('div');\n",
       "          docLink.innerHTML = docLinkHtml;\n",
       "          element.appendChild(docLink);\n",
       "        }\n",
       "      </script>\n",
       "    </div>\n",
       "  </div>\n",
       "  "
      ],
      "text/plain": [
       "       userID  itemID rating   timestamp\n",
       "index                                   \n",
       "3716     1898      23     10  11/11/2015\n",
       "3717     1898      73      9  11/11/2015\n",
       "19985    1898      73      8  11/01/2016\n",
       "19986    1898      73      9  11/01/2016\n",
       "19987    1898      73      9  11/01/2016\n",
       "19988    1898      73      9  11/01/2016\n",
       "19989    1898      73      9  11/01/2016\n",
       "19990    1898      73     10  11/01/2016\n",
       "19991    1898      73      9  11/01/2016\n",
       "19992    1898      73      9  11/01/2016\n",
       "19993    1898      73     10  11/01/2016\n",
       "19994    1898      73      9  11/01/2016\n",
       "19995    1898      73      8  11/01/2016\n",
       "19996    1898      73      8  11/01/2016\n",
       "19997    1898      73      9  11/01/2016\n",
       "19998    1898      73      9  11/01/2016\n",
       "19999    1898      73      9  11/01/2016\n",
       "20000    1898      73      9  11/01/2016\n",
       "20001    1898      73      8  11/01/2016\n",
       "20002    1898      73      9  11/01/2016\n",
       "20003    1898      73      9  11/01/2016\n",
       "20004    1898      73     10  11/01/2016\n",
       "20005    1898      73     10  11/01/2016\n",
       "20006    1898      73     10  11/01/2016\n",
       "20007    1898      73      9  11/01/2016\n",
       "20008    1898      73      9  11/01/2016\n",
       "20009    1898      73      9  11/01/2016\n",
       "20010    1898      73     10  11/01/2016"
      ]
     },
     "execution_count": 7,
     "metadata": {},
     "output_type": "execute_result"
    }
   ],
   "source": [
    "train_set[train_set['userID']==1898] "
   ]
  },
  {
   "cell_type": "markdown",
   "metadata": {
    "id": "60jP7j-jfilP"
   },
   "source": [
    "---\n",
    "---\n",
    "<font color='blue'>**Comment**: In real-life problems, you should check for the duplicates and decide how to deal with them (drop them? which value of rating to preserve as a correct one?). But in our case, we will skip this step. </font>\n",
    "---\n",
    "---\n",
    "---"
   ]
  },
  {
   "cell_type": "markdown",
   "metadata": {
    "id": "Aru51gpw5zDh"
   },
   "source": [
    "## Part 1: Recommend Most Popular Items "
   ]
  },
  {
   "cell_type": "markdown",
   "metadata": {
    "id": "A198sQHy5zDk"
   },
   "source": [
    "Now we can begin implementing the our first algorithm, that recommends to the user the list of most popular items. Although this is not a personalized approach, in many cases, this is not a bad idea - popular items are popular because everybody choose them, so there is a high likelihood that recommended popular items will be indeed chosen by the user.\n",
    "\n",
    "In the code below, fill in the missing parts. The algorithm has a training method, where item popularity is computed, and a recommendation method, where the list of popular items."
   ]
  },
  {
   "cell_type": "code",
   "execution_count": 8,
   "metadata": {
    "executionInfo": {
     "elapsed": 313,
     "status": "ok",
     "timestamp": 1642672406192,
     "user": {
      "displayName": "Julia Mizgireva",
      "photoUrl": "https://lh3.googleusercontent.com/a-/AOh14GiAjQzoV4ld_zV1yqiHuZi2NYh-J6cyPxYSUVmBrA=s64",
      "userId": "15664836602934680612"
     },
     "user_tz": -120
    },
    "id": "SnPMdrj05zDn"
   },
   "outputs": [],
   "source": [
    "class MostPopular:\n",
    "\n",
    "    def __init__(self):\n",
    "        self.item_ratings_sorted = None\n",
    "        self.train_set = None\n",
    "\n",
    "    def learn_model(self, train_set):\n",
    "        self.train_set = train_set\n",
    "        #1) Add code to set the item_ratings_sorted to the list of items in the training set, \n",
    "        #ordered by decreasing popularity (i.e., the number of users who have chosen an item)\n",
    "        self.item_ratings_sorted = self.train_set.groupby('itemID').size().sort_values(ascending=False)\n",
    "\n",
    "    def get_top_n_recommendations(self, test_set, top_n):\n",
    "        result = {}\n",
    "        already_ranked_items_by_user = self.train_set.groupby('userID')['itemID'].apply(list)\n",
    "        \n",
    "        #For each user in the test set compute recommendations\n",
    "        for userID in test_set.userID.unique():\n",
    "            #result[str(userID)] = []\n",
    "            #2) Add to the result the top N items from the popular list\n",
    "            #3) Remove items that the user has already chosen in the training set (already_ranked_items_by_user)\n",
    "            result[str(userID)] = [x for x in self.item_ratings_sorted.index if x not in already_ranked_items_by_user[userID]][:top_n]\n",
    "        return result\n",
    "\n",
    "    def clone(self):\n",
    "        pass"
   ]
  },
  {
   "cell_type": "markdown",
   "metadata": {
    "id": "3ntFJWgb5zDu"
   },
   "source": [
    "Now we can call the most popular algorithm to deliver a list of reocmmendations. The code below prints the list of top 5 recommended items for user with ID 431."
   ]
  },
  {
   "cell_type": "code",
   "execution_count": 9,
   "metadata": {
    "colab": {
     "base_uri": "https://localhost:8080/"
    },
    "executionInfo": {
     "elapsed": 1337,
     "status": "ok",
     "timestamp": 1642672410271,
     "user": {
      "displayName": "Julia Mizgireva",
      "photoUrl": "https://lh3.googleusercontent.com/a-/AOh14GiAjQzoV4ld_zV1yqiHuZi2NYh-J6cyPxYSUVmBrA=s64",
      "userId": "15664836602934680612"
     },
     "user_tz": -120
    },
    "id": "YsnRl1VU5zDw",
    "outputId": "90d10e35-0938-47aa-a768-d2aafe52cfca"
   },
   "outputs": [
    {
     "name": "stdout",
     "output_type": "stream",
     "text": [
      "[53, 26, 68, 85, 16]\n"
     ]
    }
   ],
   "source": [
    "popular = MostPopular()\n",
    "popular.learn_model(train_set)\n",
    "popular_recs = popular.get_top_n_recommendations(test_set,top_n=5)\n",
    "print(popular_recs['431'])\n",
    "assert popular_recs['431'] == [53, 26, 68, 85, 16], 'Wrong computation of popular items'"
   ]
  },
  {
   "cell_type": "markdown",
   "metadata": {
    "id": "RB9d0u8E5zD6"
   },
   "source": [
    "## Part 2 - Item-Item Recommendations"
   ]
  },
  {
   "cell_type": "markdown",
   "metadata": {
    "id": "my9Y885z5zD9"
   },
   "source": [
    "We now learn a slightly more sophisticated model, that uses item-item similarities. Given such a similarity score, we can recommend to a user items that are most similar to the items that the user has chosen in the past. One such useful similarity metric is the Jaccard coefficient. For two items i1 and i2, the Jaccard similarity is the number of users who have chosen both i1 and i2, divided by the number of users who have chosen either i1 or i2. That is, given the list of users who have chosen i1 and the list of users who have chosen i2, the Jaccard similarity is the intersection of the lists, divided by the union of the lists.\n",
    "\n",
    "In practice, to expedite the recommendation process, and hence reduce online latency, we will compute the item-item co-occurence matrix in the model learning phase. Then, online, when recommendations are requested, we only need to compute for each item that the user has already chosen in the past, the Jaccard scores for the other items.\n",
    "\n",
    "As the user has chosen several items in the past, we need to aggregate the Jaccard scores. That is, if the user has previously chosen i1 and i2, item i3 has two scores J(i1,i3) and J(i2,i3), and an aggregation of the scores is needed. There are two popular aggregation functions - sum and max. Empirically, max typically has better perfromance.\n",
    "\n",
    "Fill in the missing parts in the code below."
   ]
  },
  {
   "cell_type": "markdown",
   "metadata": {
    "id": "LpcvrbGu4GkC"
   },
   "source": [
    "---\n",
    "<font color='blue'>**Comment**: Please, make sure, that you calculate Jaccard similarity index correctly -- don't forget to subtract the intersection in the denominator (otherwise, you will double count the intersection). </font>\n",
    "---\n",
    "---"
   ]
  },
  {
   "cell_type": "code",
   "execution_count": 10,
   "metadata": {
    "executionInfo": {
     "elapsed": 396,
     "status": "ok",
     "timestamp": 1642672414938,
     "user": {
      "displayName": "Julia Mizgireva",
      "photoUrl": "https://lh3.googleusercontent.com/a-/AOh14GiAjQzoV4ld_zV1yqiHuZi2NYh-J6cyPxYSUVmBrA=s64",
      "userId": "15664836602934680612"
     },
     "user_tz": -120
    },
    "id": "-CfCYaCR5zD-"
   },
   "outputs": [],
   "source": [
    "from tqdm import tqdm\n",
    "import numpy as np\n",
    "import operator\n",
    "from itertools import combinations \n",
    "from math import factorial\n",
    "\n",
    "class Jaccard:\n",
    "\n",
    "    def __init__(self):\n",
    "        self.item_ratings_sorted = None\n",
    "        self.train_set = None\n",
    "        self.item_item_counts = dict()\n",
    "        self.item_counts = None\n",
    "\n",
    "    def learn_model(self, train_set):\n",
    "        print('Started training')\n",
    "        self.train_set = train_set\n",
    "        self.item_counts = self.train_set.groupby('itemID')['userID'].agg('count') #  num users that chose each item\n",
    "                \n",
    "        pbar = tqdm(total = len(train_set.userID.unique()))\n",
    "        \n",
    "        # Iterate over the users, and for each user and each two items that the user chose, increase the count\n",
    "        for user in train_set.userID.unique():\n",
    "            pbar.update(1)\n",
    "\n",
    "            userData = self.train_set[self.train_set.userID == user]            \n",
    "            user_unique_items = userData.itemID.tolist()\n",
    "            \n",
    "            # find all unique pairs of items the user chose\n",
    "            unique_pairs = list(combinations(user_unique_items, 2))\n",
    "            \n",
    "            # increase count of pair in dictionary\n",
    "            for (item1, item2) in unique_pairs:\n",
    "                if (item1, item2) in self.item_item_counts:\n",
    "                    self.item_item_counts[(item1, item2)] += 1\n",
    "                elif (item2, item1) in self.item_item_counts:\n",
    "                    self.item_item_counts[(item2, item1)] += 1\n",
    "                else:\n",
    "                    self.item_item_counts[(item1, item2)] = 1\n",
    "                        \n",
    "        pbar.close()\n",
    "        print('Done training')            \n",
    "            \n",
    "\n",
    "    def get_top_n_recommendations(self, test_set, top_n):\n",
    "        print('Started computing recommendations')\n",
    "        result = {}\n",
    "        already_ranked_items_by_users = self.train_set.groupby('userID')['itemID'].apply(list)\n",
    "        \n",
    "        pbar = tqdm(total=len(test_set.userID.unique()))\n",
    "                \n",
    "        #For each user in the test set compute recommendations\n",
    "        for i, userID in enumerate(test_set.userID.unique()):\n",
    "            if i % 20 == 0:\n",
    "                pbar.update(20)\n",
    "            \n",
    "            result[str(userID)] = []\n",
    "            maxvalues = dict()  # maintain for each potential item to recommend its highest Jaccard score\n",
    "                        \n",
    "            # find all items the user hasn't chosen (all items minus the one he ranked)\n",
    "            items_user_did_not_rank = set(self.train_set.itemID.unique()) - set(already_ranked_items_by_users[userID])\n",
    "            \n",
    "            # Go over every ranked item\n",
    "            for item in already_ranked_items_by_users[userID]:\n",
    "                for unranked_item in items_user_did_not_rank:\n",
    "                    \n",
    "                    # Find how many users chose both items from self.item_item_counts\n",
    "                    if (item, unranked_item) in self.item_item_counts.keys():\n",
    "                        chose_both  = self.item_item_counts[(item, unranked_item)]\n",
    "                    elif (unranked_item, item) in self.item_item_counts.keys():\n",
    "                        chose_both = self.item_item_counts[(unranked_item, item)]\n",
    "                    else:\n",
    "                        chose_both = 0\n",
    "                    \n",
    "                    jaccard_score = chose_both / (self.item_counts[item] + self.item_counts[unranked_item] - chose_both)\n",
    "            \n",
    "                    # update maxvalues\n",
    "                    if unranked_item in maxvalues.keys():\n",
    "                        if jaccard_score >  maxvalues[unranked_item]:\n",
    "                            maxvalues[unranked_item] = jaccard_score\n",
    "                    else:\n",
    "                        maxvalues[unranked_item] = jaccard_score\n",
    "            \n",
    "            #Now we just take the top N items by decreasing Jaccard\n",
    "            top_list = sorted(maxvalues.items(), key=lambda kv : -kv[1])\n",
    "            i=0\n",
    "            j=0\n",
    "            while i < top_n and j < len(top_list):\n",
    "                itemID = top_list[j][0]\n",
    "                j = j + 1\n",
    "                result[str(userID)].append(itemID)\n",
    "                i = i + 1\n",
    "            \n",
    "        pbar.close()\n",
    "        print('Done computing recommendations')\n",
    "        return result\n"
   ]
  },
  {
   "cell_type": "markdown",
   "metadata": {
    "id": "qa-ZrkOT5zEF"
   },
   "source": [
    "The code below trains a Jaccard model and generates recommendations. Training will take a while, as we need to iterate over all users, and for each user go over her items in quadratic time."
   ]
  },
  {
   "cell_type": "code",
   "execution_count": 11,
   "metadata": {
    "colab": {
     "base_uri": "https://localhost:8080/"
    },
    "executionInfo": {
     "elapsed": 34955,
     "status": "ok",
     "timestamp": 1642672452675,
     "user": {
      "displayName": "Julia Mizgireva",
      "photoUrl": "https://lh3.googleusercontent.com/a-/AOh14GiAjQzoV4ld_zV1yqiHuZi2NYh-J6cyPxYSUVmBrA=s64",
      "userId": "15664836602934680612"
     },
     "user_tz": -120
    },
    "id": "gpP9JFqj5zEH",
    "outputId": "1be26283-96d3-4fc1-966d-6a8d6e61ba4e"
   },
   "outputs": [
    {
     "name": "stdout",
     "output_type": "stream",
     "text": [
      "Started training\n"
     ]
    },
    {
     "name": "stderr",
     "output_type": "stream",
     "text": [
      "100%|██████████| 20197/20197 [00:17<00:00, 1138.61it/s]\n"
     ]
    },
    {
     "name": "stdout",
     "output_type": "stream",
     "text": [
      "Done training\n",
      "Started computing recommendations\n"
     ]
    },
    {
     "name": "stderr",
     "output_type": "stream",
     "text": [
      "240it [00:16, 14.50it/s]"
     ]
    },
    {
     "name": "stdout",
     "output_type": "stream",
     "text": [
      "Done computing recommendations\n"
     ]
    },
    {
     "name": "stderr",
     "output_type": "stream",
     "text": [
      "\n"
     ]
    }
   ],
   "source": [
    "jaccard = Jaccard()\n",
    "jaccard.learn_model(train_set)\n",
    "jaccard_recs = jaccard.get_top_n_recommendations(test_set,top_n=5)"
   ]
  },
  {
   "cell_type": "markdown",
   "metadata": {
    "id": "1hhkOlW65zEP"
   },
   "source": [
    "As a side note - as computing the ite-item counts takes a while (especially with Python), we are using here the progress bar from the tqdm package (https://pypi.org/project/tqdm/). You need to install tqdm, or remove the progress bar, which would of course is not needed for the algorithm to run."
   ]
  },
  {
   "cell_type": "markdown",
   "metadata": {
    "id": "Kb8Fnz5VkLSB"
   },
   "source": [
    "## Part 3 - Comparing the Algorithms "
   ]
  },
  {
   "cell_type": "markdown",
   "metadata": {
    "id": "bESNd1ce5zEW"
   },
   "source": [
    "We now want to compare the recommendation lists to see which one is better. In top-N recommendations it is popular to computer the Precision@N metric - the portion of recommended items that were chosen by users in the test set. This is typically a reasonable metric for real systems, where one wants to optimize the number of recommended items that are chosen.\n",
    "\n",
    "We compute Precision@N by comparing the number of recommendations chosen by the users, divided by the number of overall recommendations.\n",
    "\n",
    "Fill in the missing parts in the code below:"
   ]
  },
  {
   "cell_type": "code",
   "execution_count": 12,
   "metadata": {
    "executionInfo": {
     "elapsed": 403,
     "status": "ok",
     "timestamp": 1642672458759,
     "user": {
      "displayName": "Julia Mizgireva",
      "photoUrl": "https://lh3.googleusercontent.com/a-/AOh14GiAjQzoV4ld_zV1yqiHuZi2NYh-J6cyPxYSUVmBrA=s64",
      "userId": "15664836602934680612"
     },
     "user_tz": -120
    },
    "id": "PbfW_Hv25zEY"
   },
   "outputs": [],
   "source": [
    "def compute_precision(test_set, recommendations):\n",
    "   \n",
    "    hits = 0     #hits is the number of items that were recommended and chosen\n",
    "    recs = 0     #recs is the total number of recommended items\n",
    "    \n",
    "    for u in test_set.userID.unique():\n",
    "        userData = test_set[test_set.userID == u]\n",
    "        userRecs = recommendations.get(str(u))\n",
    "        #5) Compute here the number of hits. Update hits and recs accordingly.\n",
    "        hits += len(list(set(userData.itemID) & set(userRecs)))\n",
    "        recs += len(userRecs)\n",
    "        \n",
    "    return hits / recs\n",
    "            "
   ]
  },
  {
   "cell_type": "code",
   "execution_count": 13,
   "metadata": {
    "colab": {
     "base_uri": "https://localhost:8080/"
    },
    "executionInfo": {
     "elapsed": 778,
     "status": "ok",
     "timestamp": 1642672460689,
     "user": {
      "displayName": "Julia Mizgireva",
      "photoUrl": "https://lh3.googleusercontent.com/a-/AOh14GiAjQzoV4ld_zV1yqiHuZi2NYh-J6cyPxYSUVmBrA=s64",
      "userId": "15664836602934680612"
     },
     "user_tz": -120
    },
    "id": "-AJvW67S5zEe",
    "outputId": "5c830565-577e-4e18-9fb6-821351842216"
   },
   "outputs": [
    {
     "name": "stdout",
     "output_type": "stream",
     "text": [
      "Jaccard= 0.03700440528634361   Popularity= 0.027312775330396475\n"
     ]
    }
   ],
   "source": [
    "p1 = compute_precision(test_set, jaccard_recs)\n",
    "p2 = compute_precision(test_set, popular_recs)\n",
    "print(\"Jaccard=\", p1, \"  Popularity=\", p2)"
   ]
  },
  {
   "cell_type": "markdown",
   "metadata": {
    "id": "6SXmVklZ5zEm"
   },
   "source": [
    "The precision values for this dataset may seem pretty low, but this is typical for many top-N problems. It is important not to compute metrics that hide the true values, such as AUC, but to acknowledge the perfromance of the system in the application."
   ]
  },
  {
   "cell_type": "markdown",
   "metadata": {
    "id": "j84r4jBp5zEp"
   },
   "source": [
    "## Part 4 - Calling Algorithms from the Surprise Package"
   ]
  },
  {
   "cell_type": "markdown",
   "metadata": {
    "id": "mXS50Vnj5zEs"
   },
   "source": [
    "There are many existing recommendation algorithms available. We will now see how we can call algorithms from the Surprise package. \n",
    "\n",
    "The code below adds a wrapper around the algorithm to transform the resulting recommendations into our desired format."
   ]
  },
  {
   "cell_type": "markdown",
   "metadata": {
    "id": "i7vTBSmw5zEs"
   },
   "source": [
    "#### NOTE: \n",
    "To run the code below you first have to install _surprise_ (http://surpriselib.com/). surprise requires scipy >=1.0, so update if needed.\n",
    "\n",
    "To install: pip install scikit-surprise or, if you're using anaconda:  conda install -c conda-forge scikit-surprise).  "
   ]
  },
  {
   "cell_type": "code",
   "execution_count": 14,
   "metadata": {
    "executionInfo": {
     "elapsed": 305,
     "status": "ok",
     "timestamp": 1642672466059,
     "user": {
      "displayName": "Julia Mizgireva",
      "photoUrl": "https://lh3.googleusercontent.com/a-/AOh14GiAjQzoV4ld_zV1yqiHuZi2NYh-J6cyPxYSUVmBrA=s64",
      "userId": "15664836602934680612"
     },
     "user_tz": -120
    },
    "id": "bnOWlz-m5zEv"
   },
   "outputs": [],
   "source": [
    "import sys, string, os\n",
    "import pandas as pd\n",
    "import itertools\n",
    "from tqdm import tqdm\n",
    "import numpy as np\n",
    "import operator\n",
    "from surprise import Reader\n",
    "from surprise import Dataset\n",
    "from surprise.model_selection import PredefinedKFold\n",
    "from surprise.prediction_algorithms import *\n",
    "\n",
    "\n",
    "class SurpriseRecMethod():\n",
    "\n",
    "    #method will be the specific Surprise algorithm that we will call\n",
    "    def __init__(self, method):\n",
    "        self.method = method\n",
    "\n",
    "    def fit(self, train_set):\n",
    "        self.train_set = train_set\n",
    "\n",
    "\n",
    "    def get_top_n_recommendations(self, test_set, top_n):\n",
    "        self.test_set = test_set\n",
    "\n",
    "        #Surprise requires a slightly different input data format, so we use two different CSVs\n",
    "        test_path_tmp = \"resources//test_file.csv\"\n",
    "        train_path_tmp = \"resources//train_file.csv\"\n",
    "\n",
    "        self.train_set.to_csv(train_path_tmp, index=False, header=False)\n",
    "        self.test_set.to_csv(test_path_tmp, index=False, header=False)\n",
    "\n",
    "        fold_files = [(train_path_tmp, test_path_tmp)]\n",
    "        reader = Reader(rating_scale=(1, 10), line_format='user item rating', sep=',')\n",
    "        data = Dataset.load_from_folds(fold_files, reader=reader)\n",
    "\n",
    "        for trainset, testset in PredefinedKFold().split(data):\n",
    "            self.method.fit(trainset)\n",
    "\n",
    "        already_ranked_items_by_users = self.train_set.groupby('userID')['itemID'].apply(list)\n",
    "\n",
    "        recommendations = {}\n",
    "        pbar = tqdm(total=len(self.test_set.userID.unique()))\n",
    "        for userID in self.test_set.userID.unique():\n",
    "            pbar.update(1)\n",
    "\n",
    "            if userID not in self.train_set.userID.unique():\n",
    "                recommendations[str(userID)] = []\n",
    "                continue\n",
    "\n",
    "            items_expected_ranking = {}\n",
    "            for itemID in self.train_set.itemID.unique():\n",
    "                if itemID in already_ranked_items_by_users[userID]:\n",
    "                    continue\n",
    "                #We call here the specific Surprise method that we use for this model\n",
    "                #The method predicts a score for a given item\n",
    "                predicted = self.method.predict(str(userID), str(itemID), clip=False)\n",
    "                items_expected_ranking[itemID] = predicted[3]\n",
    "                \n",
    "            #Now we just sort by decreasing scores and take the top N\n",
    "            sorted_predictions = sorted(items_expected_ranking.items(), key=operator.itemgetter(1))\n",
    "            sorted_predictions.reverse()\n",
    "            sorted_predictions = [x[0] for x in sorted_predictions]\n",
    "            user_recommendations = sorted_predictions[:top_n]\n",
    "            recommendations[str(userID)] = user_recommendations\n",
    "        pbar.close()\n",
    "        return recommendations\n"
   ]
  },
  {
   "cell_type": "markdown",
   "metadata": {
    "id": "3YIHU4ZL5zE5"
   },
   "source": [
    "The code below calls the package with the SlopeOne algorithm."
   ]
  },
  {
   "cell_type": "code",
   "execution_count": 15,
   "metadata": {
    "colab": {
     "base_uri": "https://localhost:8080/"
    },
    "executionInfo": {
     "elapsed": 4297,
     "status": "ok",
     "timestamp": 1642672478509,
     "user": {
      "displayName": "Julia Mizgireva",
      "photoUrl": "https://lh3.googleusercontent.com/a-/AOh14GiAjQzoV4ld_zV1yqiHuZi2NYh-J6cyPxYSUVmBrA=s64",
      "userId": "15664836602934680612"
     },
     "user_tz": -120
    },
    "id": "vsXXqfoD5zE6",
    "outputId": "d71a90ed-2d64-47a8-db36-9075c6f2d0f8"
   },
   "outputs": [
    {
     "name": "stderr",
     "output_type": "stream",
     "text": [
      "100%|██████████| 227/227 [00:02<00:00, 82.83it/s]\n"
     ]
    }
   ],
   "source": [
    "modelSlopeOne = SurpriseRecMethod(SlopeOne())\n",
    "modelSlopeOne.fit(train_set)\n",
    "recSlopeOne = modelSlopeOne.get_top_n_recommendations(test_set, 5)\n",
    "p3 = compute_precision(test_set,recSlopeOne)"
   ]
  },
  {
   "cell_type": "markdown",
   "metadata": {
    "id": "-4UeYiqg5zFE"
   },
   "source": [
    "The code below calls the package with a nearest neighbor user-item recommendation method."
   ]
  },
  {
   "cell_type": "code",
   "execution_count": null,
   "metadata": {
    "id": "up4c0wqr5zFH",
    "outputId": "fc783647-da0c-4743-fa2d-d8389142d12c"
   },
   "outputs": [
    {
     "name": "stdout",
     "output_type": "stream",
     "text": [
      "Computing the cosine similarity matrix...\n",
      "Done computing similarity matrix.\n"
     ]
    },
    {
     "name": "stderr",
     "output_type": "stream",
     "text": [
      "100%|██████████| 227/227 [00:06<00:00, 35.55it/s]\n"
     ]
    }
   ],
   "source": [
    "modelKNNUser = SurpriseRecMethod(KNNBasic(sim_options={'name': 'cosine', 'user_based': True}, random_state = 42))\n",
    "modelKNNUser.fit(train_set)\n",
    "recKNNUser = modelKNNUser.get_top_n_recommendations(test_set, 5)\n",
    "p4 = compute_precision(test_set,recKNNUser)"
   ]
  },
  {
   "cell_type": "markdown",
   "metadata": {
    "id": "e-FDg7Sk5zFP"
   },
   "source": [
    "Let us look at the results of all algorithms together:"
   ]
  },
  {
   "cell_type": "code",
   "execution_count": null,
   "metadata": {
    "id": "MOrBFXVN5zFR",
    "outputId": "c7b85158-9d96-4273-9f4d-af8f02c08a97"
   },
   "outputs": [
    {
     "data": {
      "text/html": [
       "<div>\n",
       "<style scoped>\n",
       "    .dataframe tbody tr th:only-of-type {\n",
       "        vertical-align: middle;\n",
       "    }\n",
       "\n",
       "    .dataframe tbody tr th {\n",
       "        vertical-align: top;\n",
       "    }\n",
       "\n",
       "    .dataframe thead th {\n",
       "        text-align: right;\n",
       "    }\n",
       "</style>\n",
       "<table border=\"1\" class=\"dataframe\">\n",
       "  <thead>\n",
       "    <tr style=\"text-align: right;\">\n",
       "      <th></th>\n",
       "      <th>Precision</th>\n",
       "    </tr>\n",
       "  </thead>\n",
       "  <tbody>\n",
       "    <tr>\n",
       "      <th>Jaccard</th>\n",
       "      <td>0.037004</td>\n",
       "    </tr>\n",
       "    <tr>\n",
       "      <th>Popularity</th>\n",
       "      <td>0.027313</td>\n",
       "    </tr>\n",
       "    <tr>\n",
       "      <th>SlopeOne</th>\n",
       "      <td>0.032599</td>\n",
       "    </tr>\n",
       "    <tr>\n",
       "      <th>User KNN</th>\n",
       "      <td>0.075771</td>\n",
       "    </tr>\n",
       "  </tbody>\n",
       "</table>\n",
       "</div>"
      ],
      "text/plain": [
       "            Precision\n",
       "Jaccard      0.037004\n",
       "Popularity   0.027313\n",
       "SlopeOne     0.032599\n",
       "User KNN     0.075771"
      ]
     },
     "execution_count": 18,
     "metadata": {
      "tags": []
     },
     "output_type": "execute_result"
    }
   ],
   "source": [
    "pd.DataFrame.from_dict({'Jaccard':p1,'Popularity':p2,'SlopeOne':p3,'User KNN':p4}, orient='index',columns=['Precision'])"
   ]
  },
  {
   "cell_type": "markdown",
   "metadata": {
    "id": "y9-JSGCE5zFY"
   },
   "source": [
    "Try the NMF (non-negative matrix factorization) algorithms from the package - https://surprise.readthedocs.io/en/stable/matrix_factorization.html#surprise.prediction_algorithms.matrix_factorization.NMF.\n"
   ]
  },
  {
   "cell_type": "code",
   "execution_count": 16,
   "metadata": {
    "colab": {
     "base_uri": "https://localhost:8080/"
    },
    "executionInfo": {
     "elapsed": 6724,
     "status": "ok",
     "timestamp": 1642672518762,
     "user": {
      "displayName": "Julia Mizgireva",
      "photoUrl": "https://lh3.googleusercontent.com/a-/AOh14GiAjQzoV4ld_zV1yqiHuZi2NYh-J6cyPxYSUVmBrA=s64",
      "userId": "15664836602934680612"
     },
     "user_tz": -120
    },
    "id": "WfXB1h-odCvI",
    "outputId": "9bff23b3-77a9-45ef-aeb1-508e2990faa2"
   },
   "outputs": [
    {
     "name": "stderr",
     "output_type": "stream",
     "text": [
      "100%|██████████| 227/227 [00:01<00:00, 115.44it/s]\n"
     ]
    },
    {
     "name": "stdout",
     "output_type": "stream",
     "text": [
      "0.03700440528634361\n"
     ]
    }
   ],
   "source": [
    "# NMF with default parameters\n",
    "modelNMFUser = SurpriseRecMethod(NMF(random_state = 42))\n",
    "modelNMFUser.fit(train_set)\n",
    "recNMFUser = modelNMFUser.get_top_n_recommendations(test_set, 5)\n",
    "p5 = compute_precision(test_set,recNMFUser)\n",
    "print(p5)\n"
   ]
  },
  {
   "cell_type": "markdown",
   "metadata": {
    "id": "wPSTAFb15zFf"
   },
   "source": [
    "For this particular dataset, the user nearest neighbor approach worked best. Hence, should we need to choose a method to put online, we should go with this method."
   ]
  }
 ],
 "metadata": {
  "colab": {
   "name": "Solution_ExcerciseTopN.ipynb",
   "provenance": []
  },
  "kernelspec": {
   "display_name": "Python 3 (ipykernel)",
   "language": "python",
   "name": "python3"
  },
  "language_info": {
   "codemirror_mode": {
    "name": "ipython",
    "version": 3
   },
   "file_extension": ".py",
   "mimetype": "text/x-python",
   "name": "python",
   "nbconvert_exporter": "python",
   "pygments_lexer": "ipython3",
   "version": "3.7.12"
  }
 },
 "nbformat": 4,
 "nbformat_minor": 4
}
