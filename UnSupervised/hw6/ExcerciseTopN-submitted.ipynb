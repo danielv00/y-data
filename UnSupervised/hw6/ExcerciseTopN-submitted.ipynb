{
  "cells": [
    {
      "cell_type": "markdown",
      "metadata": {
        "id": "RDcN431I5zC0"
      },
      "source": [
        "# Item-Item Top-N Recommendations"
      ]
    },
    {
      "cell_type": "markdown",
      "metadata": {
        "id": "MiDyphhp5zC6"
      },
      "source": [
        "In this excercise we will implement a simple top-N recommender, evaluate the algorithms, and then call algorithms from the Surprise package. In top-N recommendations the algorithm is requested to produce a list of N items that the user will be interested in. \n",
        "In this particular execercise we will work with an escape room dataset.\n",
        "\n",
        "First, let's load the dataset, which is already split by time into a training set and a test set:"
      ]
    },
    {
      "cell_type": "code",
      "execution_count": null,
      "metadata": {
        "id": "CN1l4x4S5zC-"
      },
      "outputs": [],
      "source": [
        "import pandas as pd\n",
        "import numpy as np\n",
        "train_set_path = 'train_numerized_with_anon.csv'\n",
        "test_set_path = 'test_numerized_with_anon.csv'\n",
        "\n",
        "train_set = pd.read_csv(train_set_path, parse_dates=[3], index_col='index')\n",
        "test_set = pd.read_csv(test_set_path, parse_dates=[3], index_col='index')\n",
        "\n",
        "users_in_train = train_set.userID.unique()\n",
        "test_set = test_set[test_set.userID.isin(users_in_train)]"
      ]
    },
    {
      "cell_type": "code",
      "execution_count": null,
      "metadata": {
        "id": "K2ncaRMz1lhq"
      },
      "outputs": [],
      "source": [
        "# test_set.userID.isin(users_in_train)\n",
        "# train_set.userID.unique().shape, test_set.userID.unique().shape\n",
        "# test_set.userID.isin(users_in_train)\n",
        "# test_set.userID"
      ]
    },
    {
      "cell_type": "markdown",
      "metadata": {
        "id": "Uou6h0U75zDP"
      },
      "source": [
        "We can take a look at the structure of the dataset:"
      ]
    },
    {
      "cell_type": "code",
      "execution_count": null,
      "metadata": {
        "id": "mD4Io9UA5zDT",
        "outputId": "8015e618-1b9b-4cc5-a37d-366d3d3e80bf"
      },
      "outputs": [
        {
          "data": {
            "text/html": [
              "<div>\n",
              "<style scoped>\n",
              "    .dataframe tbody tr th:only-of-type {\n",
              "        vertical-align: middle;\n",
              "    }\n",
              "\n",
              "    .dataframe tbody tr th {\n",
              "        vertical-align: top;\n",
              "    }\n",
              "\n",
              "    .dataframe thead th {\n",
              "        text-align: right;\n",
              "    }\n",
              "</style>\n",
              "<table border=\"1\" class=\"dataframe\">\n",
              "  <thead>\n",
              "    <tr style=\"text-align: right;\">\n",
              "      <th></th>\n",
              "      <th>userID</th>\n",
              "      <th>itemID</th>\n",
              "      <th>rating</th>\n",
              "      <th>timestamp</th>\n",
              "    </tr>\n",
              "    <tr>\n",
              "      <th>index</th>\n",
              "      <th></th>\n",
              "      <th></th>\n",
              "      <th></th>\n",
              "      <th></th>\n",
              "    </tr>\n",
              "  </thead>\n",
              "  <tbody>\n",
              "    <tr>\n",
              "      <th>0</th>\n",
              "      <td>0</td>\n",
              "      <td>0</td>\n",
              "      <td>10</td>\n",
              "      <td>11/11/2015</td>\n",
              "    </tr>\n",
              "    <tr>\n",
              "      <th>1</th>\n",
              "      <td>1</td>\n",
              "      <td>0</td>\n",
              "      <td>10</td>\n",
              "      <td>11/11/2015</td>\n",
              "    </tr>\n",
              "    <tr>\n",
              "      <th>2</th>\n",
              "      <td>2</td>\n",
              "      <td>0</td>\n",
              "      <td>8</td>\n",
              "      <td>11/11/2015</td>\n",
              "    </tr>\n",
              "    <tr>\n",
              "      <th>3</th>\n",
              "      <td>3</td>\n",
              "      <td>0</td>\n",
              "      <td>10</td>\n",
              "      <td>11/11/2015</td>\n",
              "    </tr>\n",
              "    <tr>\n",
              "      <th>4</th>\n",
              "      <td>4</td>\n",
              "      <td>0</td>\n",
              "      <td>10</td>\n",
              "      <td>11/11/2015</td>\n",
              "    </tr>\n",
              "  </tbody>\n",
              "</table>\n",
              "</div>"
            ],
            "text/plain": [
              "       userID  itemID rating   timestamp\n",
              "index                                   \n",
              "0           0       0     10  11/11/2015\n",
              "1           1       0     10  11/11/2015\n",
              "2           2       0      8  11/11/2015\n",
              "3           3       0     10  11/11/2015\n",
              "4           4       0     10  11/11/2015"
            ]
          },
          "execution_count": 195,
          "metadata": {},
          "output_type": "execute_result"
        }
      ],
      "source": [
        "train_set.head()"
      ]
    },
    {
      "cell_type": "markdown",
      "metadata": {
        "id": "Aru51gpw5zDh"
      },
      "source": [
        "## Part 1: Recommend Most Popular Items (_max score - 20 points_)"
      ]
    },
    {
      "cell_type": "markdown",
      "metadata": {
        "id": "A198sQHy5zDk"
      },
      "source": [
        "Now we can begin implementing the our first algorithm, that recommends to the user the list of most popular items. Although this is not a personalized approach, in many cases, this is not a bad idea - popular items are popular because everybody choose them, so there is a high likelihood that recommended popular items will be indeed chosen by the user.\n",
        "\n",
        "In the code below, fill in the missing parts. The algorithm has a training method, where item popularity is computed, and a recommendation method, where the list of popular items."
      ]
    },
    {
      "cell_type": "code",
      "execution_count": null,
      "metadata": {
        "id": "SnPMdrj05zDn"
      },
      "outputs": [],
      "source": [
        "from tqdm import tqdm\n",
        "class MostPopular:\n",
        "\n",
        "    def __init__(self):\n",
        "        self.item_ratings_sorted = None\n",
        "        self.train_set = None\n",
        "\n",
        "    def learn_model(self, train_set):\n",
        "        self.train_set = train_set\n",
        "        #1) Add code to set the item_ratings_sorted to the list of items in the training set, \n",
        "        #ordered by decreasing popularity (i.e., the number of users who have chosen an item)\n",
        "        self.item_ratings_sorted = train_set.groupby('itemID')['userID'].agg(['count']).sort_values(by='count',ascending=False).index.values\n",
        "\n",
        "    def get_top_n_recommendations(self, test_set, top_n):\n",
        "        result = {}\n",
        "        already_ranked_items_by_user = self.train_set.groupby('userID')['itemID'].apply(list)\n",
        "        \n",
        "        pbar = tqdm(total=len(test_set.userID.unique()))\n",
        "        \n",
        "        #For each user in the test set compute recommendations\n",
        "        for userID in test_set.userID.unique():\n",
        "            pbar.update(1)\n",
        "            result[str(userID)] = []         \n",
        "            #2) Add to the result the top N items from the popular list - this is wrong and not according to the given assertion.\n",
        "            #    we need to get all items => filter already ranked => get top N             \n",
        "            #3) Remove items that the user has already chosen in the training set (already_ranked_items_by_user)\n",
        "            user_items = np.array(train_set.groupby('userID')['itemID'].apply(list)[userID])\n",
        "            mask = np.isin(self.item_ratings_sorted, user_items)\n",
        "            result[str(userID)] = list(self.item_ratings_sorted[~mask][:top_n])\n",
        "            \n",
        "        pbar.close()\n",
        "        return result\n",
        "\n",
        "    def clone(self):\n",
        "        pass\n"
      ]
    },
    {
      "cell_type": "markdown",
      "metadata": {
        "id": "3ntFJWgb5zDu"
      },
      "source": [
        "Now we can call the most popular algorithm to deliver a list of reocmmendations. The code below prints the list of top 5 recommended items for user with ID 431."
      ]
    },
    {
      "cell_type": "code",
      "execution_count": null,
      "metadata": {
        "id": "YsnRl1VU5zDw",
        "outputId": "3b1587e7-312d-4050-a656-71ef429fa6b7"
      },
      "outputs": [
        {
          "name": "stderr",
          "output_type": "stream",
          "text": [
            "100%|██████████| 227/227 [01:15<00:00,  2.99it/s]"
          ]
        },
        {
          "name": "stdout",
          "output_type": "stream",
          "text": [
            "[53, 26, 68, 85, 16]\n"
          ]
        },
        {
          "name": "stderr",
          "output_type": "stream",
          "text": [
            "\n"
          ]
        }
      ],
      "source": [
        "popular = MostPopular()\n",
        "popular.learn_model(train_set)\n",
        "popular_recs = popular.get_top_n_recommendations(test_set,top_n=5)\n",
        "print(popular_recs['431'])\n",
        "assert popular_recs['431'] == [53, 26, 68, 85, 16], 'Wrong computation of popular items'"
      ]
    },
    {
      "cell_type": "code",
      "execution_count": null,
      "metadata": {
        "id": "CNGWLx-91lhw",
        "outputId": "b3982b41-4d22-4554-bcf7-f4b9309e1841"
      },
      "outputs": [
        {
          "data": {
            "text/html": [
              "<div>\n",
              "<style scoped>\n",
              "    .dataframe tbody tr th:only-of-type {\n",
              "        vertical-align: middle;\n",
              "    }\n",
              "\n",
              "    .dataframe tbody tr th {\n",
              "        vertical-align: top;\n",
              "    }\n",
              "\n",
              "    .dataframe thead th {\n",
              "        text-align: right;\n",
              "    }\n",
              "</style>\n",
              "<table border=\"1\" class=\"dataframe\">\n",
              "  <thead>\n",
              "    <tr style=\"text-align: right;\">\n",
              "      <th></th>\n",
              "      <th>userID</th>\n",
              "      <th>itemID</th>\n",
              "      <th>rating</th>\n",
              "      <th>timestamp</th>\n",
              "    </tr>\n",
              "    <tr>\n",
              "      <th>index</th>\n",
              "      <th></th>\n",
              "      <th></th>\n",
              "      <th></th>\n",
              "      <th></th>\n",
              "    </tr>\n",
              "  </thead>\n",
              "  <tbody>\n",
              "    <tr>\n",
              "      <th>90</th>\n",
              "      <td>90</td>\n",
              "      <td>7</td>\n",
              "      <td>10</td>\n",
              "      <td>11/11/2015</td>\n",
              "    </tr>\n",
              "    <tr>\n",
              "      <th>91</th>\n",
              "      <td>91</td>\n",
              "      <td>8</td>\n",
              "      <td>5</td>\n",
              "      <td>11/11/2015</td>\n",
              "    </tr>\n",
              "    <tr>\n",
              "      <th>92</th>\n",
              "      <td>92</td>\n",
              "      <td>8</td>\n",
              "      <td>8</td>\n",
              "      <td>11/11/2015</td>\n",
              "    </tr>\n",
              "    <tr>\n",
              "      <th>93</th>\n",
              "      <td>93</td>\n",
              "      <td>8</td>\n",
              "      <td>7</td>\n",
              "      <td>11/11/2015</td>\n",
              "    </tr>\n",
              "    <tr>\n",
              "      <th>94</th>\n",
              "      <td>94</td>\n",
              "      <td>8</td>\n",
              "      <td>7</td>\n",
              "      <td>11/11/2015</td>\n",
              "    </tr>\n",
              "    <tr>\n",
              "      <th>95</th>\n",
              "      <td>95</td>\n",
              "      <td>8</td>\n",
              "      <td>10</td>\n",
              "      <td>11/11/2015</td>\n",
              "    </tr>\n",
              "    <tr>\n",
              "      <th>96</th>\n",
              "      <td>96</td>\n",
              "      <td>8</td>\n",
              "      <td>8</td>\n",
              "      <td>11/11/2015</td>\n",
              "    </tr>\n",
              "    <tr>\n",
              "      <th>97</th>\n",
              "      <td>97</td>\n",
              "      <td>8</td>\n",
              "      <td>6</td>\n",
              "      <td>11/11/2015</td>\n",
              "    </tr>\n",
              "    <tr>\n",
              "      <th>98</th>\n",
              "      <td>98</td>\n",
              "      <td>9</td>\n",
              "      <td>10</td>\n",
              "      <td>11/11/2015</td>\n",
              "    </tr>\n",
              "    <tr>\n",
              "      <th>99</th>\n",
              "      <td>99</td>\n",
              "      <td>9</td>\n",
              "      <td>9</td>\n",
              "      <td>11/11/2015</td>\n",
              "    </tr>\n",
              "    <tr>\n",
              "      <th>100</th>\n",
              "      <td>100</td>\n",
              "      <td>9</td>\n",
              "      <td>10</td>\n",
              "      <td>11/11/2015</td>\n",
              "    </tr>\n",
              "  </tbody>\n",
              "</table>\n",
              "</div>"
            ],
            "text/plain": [
              "       userID  itemID rating   timestamp\n",
              "index                                   \n",
              "90         90       7     10  11/11/2015\n",
              "91         91       8      5  11/11/2015\n",
              "92         92       8      8  11/11/2015\n",
              "93         93       8      7  11/11/2015\n",
              "94         94       8      7  11/11/2015\n",
              "95         95       8     10  11/11/2015\n",
              "96         96       8      8  11/11/2015\n",
              "97         97       8      6  11/11/2015\n",
              "98         98       9     10  11/11/2015\n",
              "99         99       9      9  11/11/2015\n",
              "100       100       9     10  11/11/2015"
            ]
          },
          "execution_count": 191,
          "metadata": {},
          "output_type": "execute_result"
        }
      ],
      "source": [
        "from itertools import combinations\n",
        "# # sorted_items = np.sort(train_set[train_set.userID == 431]['itemID'].values)\n",
        "# # list(combinations(sorted_items, 2))\n",
        "# train_set.groupby('itemID')['userID'].agg('count')\n",
        "# ll = train_set.groupby('itemID')['userID'].apply(list)\n",
        "# ll[373] , ll[372], ll[373] + ll[372]\n",
        "# train_set.groupby('itemID')['userID'].apply(list)[372]\n",
        "# train_set[:100]\n",
        "# # len(set(train_set.groupby('itemID')['userID'][8] + train_set.groupby('itemID')['userID'][9]))\n",
        "# # len(set(train_set[:100].groupby('itemID')['userID'].apply(list)[0]+ train_set[:100].groupby('itemID')['userID'].apply(list)[10]))\n",
        "# train_set[:100].groupby('itemID')['userID'].apply(list)[9]\n",
        "# # train_set[:100].groupby('itemID')['userID'].apply(list)[10]\n",
        "# # train_set[:21].groupby('itemID')['userID'].apply(list)[1]\n",
        "# # train_set[:20]\n",
        "# # train_set[:100].groupby('itemID')['userID'].apply(list)[0]\n",
        "# train_set[:21]\n",
        "# # train_set[:20].userID.unique()\n",
        "# # train_set[train_set.itemID == 0]\n",
        "# # train_set.groupby('userID')['itemID'].agg('count').sort_values(by='count',ascending=False).index.values\n",
        "# train_set.groupby('itemID')['userID'].agg(['count']).sort_values(by='count',ascending=False)\n",
        "train_set.groupby('userID')['itemID'].agg(['count']).sort_values(by='count',ascending=False)\n",
        "# train_set[train_set.userID == 605]\n",
        "# train_set[train_set.userID == 605]['itemID'].values\n",
        "train_set[90:101]"
      ]
    },
    {
      "cell_type": "markdown",
      "metadata": {
        "id": "RB9d0u8E5zD6"
      },
      "source": [
        "## Part 2 - Item-Item Recommendations (_max score - 30 points_)"
      ]
    },
    {
      "cell_type": "markdown",
      "metadata": {
        "id": "my9Y885z5zD9"
      },
      "source": [
        "We now learn a slightly more sophisticated model, that uses item-item similarities. Given such a similarity score, we can recommend to a user items that are most similar to the items that the user has chosen in the past. One such useful similarity metric is the Jaccard coefficient. For two items i1 and i2, the Jaccard similarity is the number of users who have chosen both i1 and i2, divided by the number of users who have chosen either i1 or i2. That is, given the list of users who have chosen i1 and the list of users who have chosen i2, the Jaccard similarity is the intersection of the lists, divided by the union of the lists.\n",
        "\n",
        "In practice, to expedite the recommendation process, and hence reduce online latency, we will compute the item-item co-occurence matrix in the model learning phase. Then, online, when recommendations are requested, we only need to compute for each item that the user has already chosen in the past, the Jaccard scores for the other items.\n",
        "\n",
        "As the user has chosen several items in the past, we need to aggregate the Jaccard scores. That is, if the user has previously chosen i1 and i2, item i3 has two scores J(i1,i3) and J(i2,i3), and an aggregation of the scores is needed. There are two popular aggregation functions - sum and max. Empirically, max typically has better perfromance.\n",
        "\n",
        "Fill in the missing parts in the code below."
      ]
    },
    {
      "cell_type": "code",
      "execution_count": null,
      "metadata": {
        "id": "-CfCYaCR5zD-"
      },
      "outputs": [],
      "source": [
        "from tqdm import tqdm\n",
        "import numpy as np\n",
        "import operator\n",
        "from itertools import combinations\n",
        "\n",
        "class Jaccard:\n",
        "\n",
        "    def __init__(self):\n",
        "        self.item_ratings_sorted = None\n",
        "        self.train_set = None\n",
        "        self.item_item_counts = dict()\n",
        "        self.item_counts = None\n",
        "\n",
        "    def learn_model(self, train_set):\n",
        "        print('Started training')\n",
        "        self.train_set = train_set\n",
        "        self.item_counts =  self.train_set.groupby('itemID')['userID'].agg('count')\n",
        "        \n",
        "        maxpair = 0\n",
        "        pbar = tqdm(total=len(train_set.userID.unique()))\n",
        "        \n",
        "        #Iterating over all item pairs is inefficient. It is better to iterate only over pairs of items that were chosen together.\n",
        "        #Instead, we will iterate over the users, and for each user, and each two items that the user has chosen, increase the count\n",
        "        for u in train_set.userID.unique():\n",
        "#             print ('userID = ', u)\n",
        "            pbar.update(1)\n",
        "            userData = self.train_set[self.train_set.userID == u]\n",
        "            sorted_user_items = np.sort(userData['itemID'].values)\n",
        "            pairs = list(combinations(sorted_user_items, 2))\n",
        "#             print ('sorted_user_items = ', sorted_user_items)\n",
        "            #4) For each pair of items in the user data - increase the counts in self.item_item_counts\n",
        "            for pair in pairs:\n",
        "                self.item_item_counts[pair] = self.item_item_counts.get(pair, 0) + 1\n",
        "        pbar.close()\n",
        "        print('Done training')\n",
        "            \n",
        "            \n",
        "            \n",
        "\n",
        "    def get_top_n_recommendations(self, test_set, top_n):\n",
        "        print('Started computing recommendations')\n",
        "        result = {}\n",
        "        already_ranked_items_by_users = self.train_set.groupby('userID')['itemID'].apply(list)\n",
        "        \n",
        "        pbar = tqdm(total=len(test_set.userID.unique()))\n",
        "        \n",
        "        #For each user in the test set compute recommendations\n",
        "        for userID in test_set.userID.unique():\n",
        "#             print ('userID = ', userID)\n",
        "            pbar.update(1)\n",
        "            result[str(userID)] = []\n",
        "            #maxvalues will maintain for each potential item to recommend its highest Jaccard score.\n",
        "            maxvalues = dict()\n",
        "            \n",
        "            #4) Iterate over the items that the user has already chosen.\n",
        "            #For each such item compute its Jaccard correlation to other items based on the item_item_counts.\n",
        "            #Aggregate into maxvalues using max.\n",
        "            #Avoid recommending items that the user has already chosen in the training set.\n",
        "            for itemID in already_ranked_items_by_users[userID]:\n",
        "                keys_list = list(self.item_item_counts.keys())\n",
        "                relevant_tuples = list(filter(lambda x:itemID  in x, keys_list))\n",
        "#                 print ('keys_list = ', keys_list)\n",
        "#                 print ('relevant_tuples = ', relevant_tuples)\n",
        "#                 print ('itemID = ', itemID)\n",
        "                for pair in relevant_tuples:\n",
        "                    # check that second key of the tuple doesn't not exist in already_ranked_items_by_users[userID]\n",
        "                    if pair[0] in already_ranked_items_by_users[userID] and pair[1] in already_ranked_items_by_users[userID]:\n",
        "                        continue\n",
        "                    # calculate jaccard\n",
        "                    if pair[0] < pair[1]:\n",
        "                        min = pair[0]\n",
        "                        max = pair[1]\n",
        "                    else:\n",
        "                        min = pair[1]\n",
        "                        max = pair[0]\n",
        "#                     print ('min=', min)\n",
        "#                     print('max=', max)\n",
        "                    union_items = len(set(self.train_set.groupby('itemID')['userID'].apply(list)[min] + self.train_set.groupby('itemID')['userID'].apply(list)[max]))\n",
        "                    jaccard = self.item_item_counts[min,max] / union_items\n",
        "                    index = min + max - itemID\n",
        "                    prev_max_value = maxvalues.get(index, 0)\n",
        "                    maxvalues[index] = jaccard if prev_max_value < jaccard else prev_max_value\n",
        "            \n",
        "#             print ('maxvalues=', maxvalues)\n",
        "            #Now we just take the top N items by decreasing Jaccard\n",
        "            top_list = sorted(maxvalues.items(), key=lambda kv : -kv[1])\n",
        "            i=0\n",
        "            j=0\n",
        "            while i < top_n and j < len(top_list):\n",
        "                itemID = top_list[j][0]\n",
        "                j = j + 1\n",
        "                result[str(userID)].append(itemID)\n",
        "                i = i + 1\n",
        "            \n",
        "        pbar.close()\n",
        "        print('Done computing recommendations')\n",
        "        return result\n",
        "\n",
        "    \n",
        "    def clone(self):\n",
        "        pass\n"
      ]
    },
    {
      "cell_type": "raw",
      "metadata": {
        "id": "qa-ZrkOT5zEF"
      },
      "source": [
        "The code below trains a Jaccard model and generates recommendations. Training will take a while, as we need to iterate over all users, and for each user go over her items in quadratic time."
      ]
    },
    {
      "cell_type": "code",
      "execution_count": null,
      "metadata": {
        "id": "gpP9JFqj5zEH",
        "outputId": "45ba9eac-58ee-45f8-dcab-dac1686ec115"
      },
      "outputs": [
        {
          "name": "stdout",
          "output_type": "stream",
          "text": [
            "Started training\n"
          ]
        },
        {
          "name": "stderr",
          "output_type": "stream",
          "text": [
            "\n",
            "100%|██████████| 29/29 [00:00<00:00, 2636.04it/s]\n"
          ]
        },
        {
          "name": "stdout",
          "output_type": "stream",
          "text": [
            "Done training\n",
            "Started computing recommendations\n"
          ]
        },
        {
          "name": "stderr",
          "output_type": "stream",
          "text": [
            "\n",
            "  0%|          | 0/29 [00:00<?, ?it/s]\u001b[A\n",
            " 21%|██        | 6/29 [00:00<00:00, 59.58it/s]\u001b[A\n",
            " 41%|████▏     | 12/29 [00:00<00:00, 50.33it/s]\u001b[A\n",
            " 62%|██████▏   | 18/29 [00:00<00:00, 53.11it/s]\u001b[A\n",
            "100%|██████████| 29/29 [00:00<00:00, 43.44it/s]\u001b[A"
          ]
        },
        {
          "name": "stdout",
          "output_type": "stream",
          "text": [
            "Done computing recommendations\n"
          ]
        },
        {
          "name": "stderr",
          "output_type": "stream",
          "text": [
            "\n"
          ]
        },
        {
          "data": {
            "text/plain": [
              "{'589': [40, 43, 45, 24, 25],\n",
              " '590': [4, 6, 14, 0, 1],\n",
              " '591': [1, 9, 4, 6, 14],\n",
              " '592': [1, 9, 4, 6, 14],\n",
              " '593': [7, 21, 41],\n",
              " '594': [],\n",
              " '595': [1, 9, 4, 6, 14],\n",
              " '596': [40, 43, 47, 48, 4],\n",
              " '597': [40, 43, 24, 31, 39],\n",
              " '598': [18, 45, 49, 10, 5],\n",
              " '599': [],\n",
              " '600': [40, 43, 24, 25, 31],\n",
              " '601': [40, 43, 25, 31, 39],\n",
              " '602': [4, 6, 14, 0, 1],\n",
              " '603': [],\n",
              " '604': [18, 45, 49, 10, 5],\n",
              " '605': [27, 35, 36, 47, 48],\n",
              " '606': [1, 9, 4, 6, 14],\n",
              " '607': [],\n",
              " '608': [4, 6, 14, 1, 2],\n",
              " '609': [45, 49, 10, 5],\n",
              " '610': [4, 6, 14, 45, 49],\n",
              " '611': [25, 1, 3, 40, 43],\n",
              " '612': [18, 45, 49, 10, 5],\n",
              " '613': [40, 43, 24, 25, 39],\n",
              " '614': [4, 6, 14, 0, 1],\n",
              " '615': [4, 6, 14, 0, 2],\n",
              " '616': [25, 1, 3, 40, 43],\n",
              " '617': [25, 45, 49, 40, 43]}"
            ]
          },
          "execution_count": 102,
          "metadata": {},
          "output_type": "execute_result"
        }
      ],
      "source": [
        "# Test on partial train-set:\n",
        "jaccard = Jaccard()\n",
        "jaccard.learn_model(train_set[936:1000])\n",
        "jaccard_recs = jaccard.get_top_n_recommendations(train_set[936:1000],top_n=5)\n",
        "jaccard_recs"
      ]
    },
    {
      "cell_type": "code",
      "execution_count": null,
      "metadata": {
        "id": "JeDAZsHl1lh2"
      },
      "outputs": [],
      "source": [
        "# # Test on partial train-set:\n",
        "# jaccard = Jaccard()\n",
        "# jaccard.learn_model(train_set[(train_set.itemID == 33) | (train_set.itemID == 34)])\n",
        "# jaccard_recs = jaccard.get_top_n_recommendations(train_set[(train_set.itemID == 33) | (train_set.itemID == 34)],top_n=5)\n",
        "# jaccard_recs"
      ]
    },
    {
      "cell_type": "code",
      "execution_count": null,
      "metadata": {
        "id": "dm-HjbGp1lh2"
      },
      "outputs": [],
      "source": [
        "# Test on full train-set - be carefile - takes long time! :)\n",
        "jaccard = Jaccard()\n",
        "jaccard.learn_model(train_set)\n",
        "jaccard_recs = jaccard.get_top_n_recommendations(test_set,top_n=5)\n",
        "# jaccard_recs"
      ]
    },
    {
      "cell_type": "code",
      "execution_count": null,
      "metadata": {
        "id": "dqt7Axlz1lh3"
      },
      "outputs": [],
      "source": [
        "jaccard_recs\n",
        "# len(test_set.userID.unique())"
      ]
    },
    {
      "cell_type": "markdown",
      "metadata": {
        "id": "1hhkOlW65zEP"
      },
      "source": [
        "As a side note - as computing the ite-item counts takes a while (especially with Python), we are using here the progress bar from the tqdm package (https://pypi.org/project/tqdm/). You need to install tqdm, or remove the progress bar, which would of course is not needed for the algorithm to run."
      ]
    },
    {
      "cell_type": "markdown",
      "metadata": {
        "id": "pnxthAqj5zES"
      },
      "source": [
        "## Part 3 - Comparing the Algorithms (_max score - 30 points_)"
      ]
    },
    {
      "cell_type": "markdown",
      "metadata": {
        "id": "bESNd1ce5zEW"
      },
      "source": [
        "We now want to compare the recommendation lists to see which one is better. In top-N recommendations it is popular to computer the Precision@N metric - the portion of recommended items that were chosen by users in the test set. This is typically a reasonable metric for real systems, where one wants to optimize the number of recommended items that are chosen.\n",
        "\n",
        "We compute Precision@N by comparing the number of recommendations chosen by the users, divided by the number of overall recommendations.\n",
        "\n",
        "Fill in the missing parts in the code below:"
      ]
    },
    {
      "cell_type": "code",
      "execution_count": null,
      "metadata": {
        "id": "PbfW_Hv25zEY"
      },
      "outputs": [],
      "source": [
        "def compute_precision(test_set, recommendations):\n",
        "    #hits is the number of items that were recommended and chosen\n",
        "    hits = 0\n",
        "    #recs is the total number of recommended items\n",
        "    recs = 0\n",
        "    \n",
        "    for u in test_set.userID.unique():\n",
        "        userData = test_set[test_set.userID == u]\n",
        "        userRecs = recommendations.get(str(u))\n",
        "        #5) Compute here the number of hits. Update hits and recs accordingly.\n",
        "        current_hits = len(set(userData.itemID.values) & set(userRecs))\n",
        "        current_recs = len(userRecs)\n",
        "        hits += current_hits\n",
        "        recs += current_recs\n",
        "        \n",
        "    return hits / recs\n",
        "        \n",
        "    "
      ]
    },
    {
      "cell_type": "code",
      "execution_count": null,
      "metadata": {
        "id": "VdQozm5Y1lh6"
      },
      "outputs": [],
      "source": [
        "# test_set[test_set.userID == 431]\n",
        "# # jaccard_recs.get(str(431))\n",
        "# # jaccard_recs['431']\n",
        "# test_set[test_set.userID == 431].itemID.values , jaccard_recs['431']\n",
        "# train_set.shape"
      ]
    },
    {
      "cell_type": "code",
      "execution_count": null,
      "metadata": {
        "id": "XiHmCukL1lh6"
      },
      "outputs": [],
      "source": [
        "# Test on partial train-set:\n",
        "# partial_train_set = train_set[:20000]\n",
        "partial_train_set = train_set\n",
        "\n",
        "users_in_partial_train = partial_train_set.userID.unique()\n",
        "partial_test_set = test_set[test_set.userID.isin(users_in_partial_train)]\n",
        "\n",
        "jaccard = Jaccard()\n",
        "jaccard.learn_model(partial_train_set)\n",
        "jaccard_recs = jaccard.get_top_n_recommendations(partial_test_set,top_n=5)\n",
        "# jaccard_recs\n",
        "\n",
        "popular = MostPopular()\n",
        "popular.learn_model(partial_train_set)\n",
        "popular_recs = popular.get_top_n_recommendations(partial_test_set,top_n=5)\n",
        "# jaccard_recs, popular_recs"
      ]
    },
    {
      "cell_type": "code",
      "execution_count": null,
      "metadata": {
        "id": "-AJvW67S5zEe",
        "outputId": "17e4b0ff-5e0b-49d9-de38-1cdd2101bf61"
      },
      "outputs": [
        {
          "name": "stdout",
          "output_type": "stream",
          "text": [
            "Jaccard= 0.03788546255506608   Popularity= 0.027312775330396475\n"
          ]
        }
      ],
      "source": [
        "p1 = compute_precision(partial_test_set, jaccard_recs)\n",
        "p2 = compute_precision(partial_test_set, popular_recs)\n",
        "print(\"Jaccard=\", p1, \"  Popularity=\", p2)"
      ]
    },
    {
      "cell_type": "markdown",
      "metadata": {
        "id": "6SXmVklZ5zEm"
      },
      "source": [
        "The precision values for this dataset may seem pretty low, but this is typical for many top-N problems. It is important not to compute metrics that hide the true values, such as AUC, but to acknowledge the perfromance of the system in the application."
      ]
    },
    {
      "cell_type": "markdown",
      "metadata": {
        "id": "j84r4jBp5zEp"
      },
      "source": [
        "## Part 4 - Calling Algorithms from the Surprise Package (_max score - 20 points_)"
      ]
    },
    {
      "cell_type": "markdown",
      "metadata": {
        "id": "mXS50Vnj5zEs"
      },
      "source": [
        "There are many existing recommendation algorithms available. We will now see how we can call algorithms from the Surprise package. \n",
        "\n",
        "The code below adds a wrapper around the algorithm to transform the resulting recommendations into our desired format."
      ]
    },
    {
      "cell_type": "markdown",
      "metadata": {
        "id": "i7vTBSmw5zEs"
      },
      "source": [
        "#### NOTE: \n",
        "To run the code below you first have to install _surprise_ (http://surpriselib.com/). _Surprise_ requires scipy >=1.0, so update if needed.\n",
        "\n",
        "To install: pip install scikit-surprise or, if you're using anaconda:  conda install -c conda-forge scikit-surprise).\n",
        "\n",
        "If you have a problem in installing the _surprise_ library locally, you can use Google Colab (but there can be an OOM problem with KNNBasic algorithm - in this case, just skip this algorithm)."
      ]
    },
    {
      "cell_type": "code",
      "execution_count": null,
      "metadata": {
        "id": "O2J4t6rT1lh8",
        "outputId": "741c81d8-db71-401a-9595-36666119b8d0"
      },
      "outputs": [
        {
          "name": "stdout",
          "output_type": "stream",
          "text": [
            "Requirement already satisfied: scikit-surprise in c:\\anaconda3\\envs\\py4dp\\lib\\site-packages (1.1.1)\n",
            "Requirement already satisfied: joblib>=0.11 in c:\\anaconda3\\envs\\py4dp\\lib\\site-packages (from scikit-surprise) (1.0.1)\n",
            "Requirement already satisfied: numpy>=1.11.2 in c:\\anaconda3\\envs\\py4dp\\lib\\site-packages (from scikit-surprise) (1.21.2)\n",
            "Requirement already satisfied: scipy>=1.0.0 in c:\\anaconda3\\envs\\py4dp\\lib\\site-packages (from scikit-surprise) (1.7.1)\n",
            "Requirement already satisfied: six>=1.10.0 in c:\\anaconda3\\envs\\py4dp\\lib\\site-packages (from scikit-surprise) (1.16.0)\n"
          ]
        }
      ],
      "source": [
        "!pip install scikit-surprise"
      ]
    },
    {
      "cell_type": "code",
      "execution_count": null,
      "metadata": {
        "id": "bnOWlz-m5zEv",
        "tags": []
      },
      "outputs": [],
      "source": [
        "import sys, string, os\n",
        "import pandas as pd\n",
        "import itertools\n",
        "from tqdm import tqdm\n",
        "import numpy as np\n",
        "import operator\n",
        "# from surprise import Readertest_path_tmp\n",
        "from surprise import Reader, Dataset\n",
        "from surprise.model_selection import PredefinedKFold\n",
        "from surprise.prediction_algorithms import *\n",
        "\n",
        "\n",
        "\n",
        "class SurpriseRecMethod():\n",
        "\n",
        "    #method will be the specific Surprise algorithm that we will call\n",
        "    def __init__(self, method):\n",
        "        self.method = method\n",
        "\n",
        "    def fit(self, train_set):\n",
        "        self.train_set = train_set\n",
        "\n",
        "\n",
        "    def get_top_n_recommendations(self, test_set, top_n):\n",
        "        self.test_set = test_set\n",
        "\n",
        "        #Surprise requires a slightly different input data format, so we use two different CSVs\n",
        "        test_path_tmp = \"test_file.surprise_.csv\"\n",
        "        train_path_tmp = \"train_file.surprise_.csv\"\n",
        "\n",
        "        self.train_set.to_csv(train_path_tmp, index=False, header=False)\n",
        "        self.test_set.to_csv(test_path_tmp, index=False, header=False)\n",
        "\n",
        "        fold_files = [(train_path_tmp, test_path_tmp)]\n",
        "        reader = Reader(rating_scale=(1, 10), line_format='user item rating', sep=',')\n",
        "        data = Dataset.load_from_folds(fold_files, reader=reader)\n",
        "\n",
        "        for trainset, testset in PredefinedKFold().split(data):\n",
        "            self.method.fit(trainset)\n",
        "\n",
        "        already_ranked_items_by_users = self.train_set.groupby('userID')['itemID'].apply(list)\n",
        "\n",
        "        recommendations = {}\n",
        "        pbar = tqdm(total=len(self.test_set.userID.unique()))\n",
        "        for userID in self.test_set.userID.unique():\n",
        "            pbar.update(1)\n",
        "\n",
        "            if userID not in self.train_set.userID.unique():\n",
        "                recommendations[str(userID)] = []\n",
        "                continue\n",
        "\n",
        "            items_expected_ranking = {}\n",
        "            for itemID in self.train_set.itemID.unique():\n",
        "                if itemID in already_ranked_items_by_users[userID]:\n",
        "                    continue\n",
        "                #We call here the specific Surprise method that we use for this model\n",
        "                #The method predicts a score for a given item\n",
        "                predicted = self.method.predict(str(userID), str(itemID), clip=False)\n",
        "                items_expected_ranking[itemID] = predicted[3]\n",
        "                \n",
        "            #Now we just sort by decreasing scores and take the top N\n",
        "            sorted_predictions = sorted(items_expected_ranking.items(), key=operator.itemgetter(1))\n",
        "            sorted_predictions.reverse()\n",
        "            sorted_predictions = [x[0] for x in sorted_predictions]\n",
        "            user_recommendations = sorted_predictions[:top_n]\n",
        "            recommendations[str(userID)] = user_recommendations\n",
        "        pbar.close()\n",
        "        return recommendations\n"
      ]
    },
    {
      "cell_type": "markdown",
      "metadata": {
        "id": "3YIHU4ZL5zE5"
      },
      "source": [
        "The code below calls the package with the SlopeOne algorithm."
      ]
    },
    {
      "cell_type": "code",
      "execution_count": null,
      "metadata": {
        "id": "vsXXqfoD5zE6",
        "outputId": "6ddbe18f-7994-4c6f-828b-4ee51ee0e9e8"
      },
      "outputs": [
        {
          "name": "stderr",
          "output_type": "stream",
          "text": [
            "C:\\Anaconda3\\envs\\py4dp\\lib\\site-packages\\ipykernel_launcher.py:39: DeprecationWarning: `np.int` is a deprecated alias for the builtin `int`. To silence this warning, use `int` by itself. Doing this will not modify any behavior and is safe. When replacing `np.int`, you may wish to use e.g. `np.int64` or `np.int32` to specify the precision. If you wish to review your current use, check the release note link for additional information.\n",
            "Deprecated in NumPy 1.20; for more details and guidance: https://numpy.org/devdocs/release/1.20.0-notes.html#deprecations\n",
            "100%|██████████| 227/227 [00:02<00:00, 107.79it/s]\n"
          ]
        },
        {
          "data": {
            "text/plain": [
              "0.03259911894273128"
            ]
          },
          "execution_count": 210,
          "metadata": {},
          "output_type": "execute_result"
        }
      ],
      "source": [
        "modelSlopeOne = SurpriseRecMethod(SlopeOne())\n",
        "# modelSlopeOne.fit(train_set) \n",
        "modelSlopeOne.fit(partial_train_set)\n",
        "# recSlopeOne = modelSlopeOne.get_top_n_recommendations(test_set, 5)\n",
        "recSlopeOne = modelSlopeOne.get_top_n_recommendations(partial_test_set, 5)\n",
        "# p3 = compute_precision(test_set,recSlopeOne)\n",
        "p3 = compute_precision(partial_test_set,recSlopeOne)\n",
        "p3"
      ]
    },
    {
      "cell_type": "markdown",
      "metadata": {
        "id": "-4UeYiqg5zFE"
      },
      "source": [
        "The code below calls the package with a nearest neighbor user-item recommendation method."
      ]
    },
    {
      "cell_type": "code",
      "execution_count": null,
      "metadata": {
        "id": "up4c0wqr5zFH",
        "tags": [],
        "outputId": "c6d06ad8-1a72-4497-c1e8-440aca5ab32d"
      },
      "outputs": [
        {
          "name": "stdout",
          "output_type": "stream",
          "text": [
            "Computing the cosine similarity matrix...\n",
            "Done computing similarity matrix.\n"
          ]
        },
        {
          "name": "stderr",
          "output_type": "stream",
          "text": [
            "100%|██████████| 227/227 [00:09<00:00, 22.91it/s]\n"
          ]
        },
        {
          "data": {
            "text/plain": [
              "0.07577092511013216"
            ]
          },
          "execution_count": 211,
          "metadata": {},
          "output_type": "execute_result"
        }
      ],
      "source": [
        "modelKNNUser = SurpriseRecMethod(KNNBasic(sim_options={'name': 'cosine', 'user_based': True}))\n",
        "# modelKNNUser.fit(train_set)\n",
        "modelKNNUser.fit(partial_train_set)\n",
        "# recKNNUser = modelKNNUser.get_top_n_recommendations(test_set, 5)\n",
        "recKNNUser = modelKNNUser.get_top_n_recommendations(partial_test_set, 5)\n",
        "# p4 = compute_precision(test_set,recKNNUser)\n",
        "p4 = compute_precision(partial_test_set,recKNNUser)\n",
        "p4"
      ]
    },
    {
      "cell_type": "markdown",
      "metadata": {
        "id": "y9-JSGCE5zFY"
      },
      "source": [
        "Try the NMF (non-negative matrix factorization) algorithms from the package - https://surprise.readthedocs.io/en/stable/matrix_factorization.html#surprise.prediction_algorithms.matrix_factorization.NMF.\n"
      ]
    },
    {
      "cell_type": "code",
      "execution_count": null,
      "metadata": {
        "id": "IfHe-_iB5zFZ",
        "outputId": "8170e1b7-822e-4f2a-bbaf-b855a25bf6aa"
      },
      "outputs": [
        {
          "name": "stderr",
          "output_type": "stream",
          "text": [
            "100%|██████████| 227/227 [00:01<00:00, 134.54it/s]\n"
          ]
        },
        {
          "data": {
            "text/plain": [
              "0.038766519823788544"
            ]
          },
          "execution_count": 212,
          "metadata": {},
          "output_type": "execute_result"
        }
      ],
      "source": [
        "#Your code here\n",
        "modelNMF = SurpriseRecMethod(NMF())\n",
        "# modelSlopeOne.fit(train_set) \n",
        "modelNMF.fit(partial_train_set)\n",
        "# recSlopeOne = modelSlopeOne.get_top_n_recommendations(test_set, 5)\n",
        "recNMF = modelNMF.get_top_n_recommendations(partial_test_set, 5)\n",
        "p5 = compute_precision(partial_test_set,recNMF)\n",
        "p5"
      ]
    },
    {
      "cell_type": "markdown",
      "metadata": {
        "id": "M3U4S0-Z1liB"
      },
      "source": [
        "Let us look at the results of all algorithms together:"
      ]
    },
    {
      "cell_type": "code",
      "execution_count": null,
      "metadata": {
        "id": "reyN7cis1liC",
        "outputId": "96f98e62-f1cb-4f10-f4cb-47247a85280f"
      },
      "outputs": [
        {
          "data": {
            "text/html": [
              "<div>\n",
              "<style scoped>\n",
              "    .dataframe tbody tr th:only-of-type {\n",
              "        vertical-align: middle;\n",
              "    }\n",
              "\n",
              "    .dataframe tbody tr th {\n",
              "        vertical-align: top;\n",
              "    }\n",
              "\n",
              "    .dataframe thead th {\n",
              "        text-align: right;\n",
              "    }\n",
              "</style>\n",
              "<table border=\"1\" class=\"dataframe\">\n",
              "  <thead>\n",
              "    <tr style=\"text-align: right;\">\n",
              "      <th></th>\n",
              "      <th>Precision</th>\n",
              "    </tr>\n",
              "  </thead>\n",
              "  <tbody>\n",
              "    <tr>\n",
              "      <th>Jaccard</th>\n",
              "      <td>0.037885</td>\n",
              "    </tr>\n",
              "    <tr>\n",
              "      <th>Popularity</th>\n",
              "      <td>0.027313</td>\n",
              "    </tr>\n",
              "    <tr>\n",
              "      <th>SlopeOne</th>\n",
              "      <td>0.032599</td>\n",
              "    </tr>\n",
              "    <tr>\n",
              "      <th>KNN</th>\n",
              "      <td>0.075771</td>\n",
              "    </tr>\n",
              "    <tr>\n",
              "      <th>NMF</th>\n",
              "      <td>0.038767</td>\n",
              "    </tr>\n",
              "  </tbody>\n",
              "</table>\n",
              "</div>"
            ],
            "text/plain": [
              "            Precision\n",
              "Jaccard      0.037885\n",
              "Popularity   0.027313\n",
              "SlopeOne     0.032599\n",
              "KNN          0.075771\n",
              "NMF          0.038767"
            ]
          },
          "execution_count": 213,
          "metadata": {},
          "output_type": "execute_result"
        }
      ],
      "source": [
        "pd.DataFrame.from_dict({'Jaccard':p1,'Popularity':p2,'SlopeOne':p3,'KNN':p4, 'NMF':p5}, orient='index',columns=['Precision'])"
      ]
    },
    {
      "cell_type": "markdown",
      "metadata": {
        "id": "dLnJKRJe1liC"
      },
      "source": [
        "**Results for partial train set - 20000 samples:**"
      ]
    },
    {
      "cell_type": "code",
      "execution_count": null,
      "metadata": {
        "id": "y-SqMZfM1liD",
        "outputId": "81c1a83a-95ec-4604-b7eb-cbbcafa337e5"
      },
      "outputs": [
        {
          "data": {
            "text/html": [
              "<div>\n",
              "<style scoped>\n",
              "    .dataframe tbody tr th:only-of-type {\n",
              "        vertical-align: middle;\n",
              "    }\n",
              "\n",
              "    .dataframe tbody tr th {\n",
              "        vertical-align: top;\n",
              "    }\n",
              "\n",
              "    .dataframe thead th {\n",
              "        text-align: right;\n",
              "    }\n",
              "</style>\n",
              "<table border=\"1\" class=\"dataframe\">\n",
              "  <thead>\n",
              "    <tr style=\"text-align: right;\">\n",
              "      <th></th>\n",
              "      <th>Precision</th>\n",
              "    </tr>\n",
              "  </thead>\n",
              "  <tbody>\n",
              "    <tr>\n",
              "      <th>Jaccard</th>\n",
              "      <td>0.008772</td>\n",
              "    </tr>\n",
              "    <tr>\n",
              "      <th>Popularity</th>\n",
              "      <td>0.021053</td>\n",
              "    </tr>\n",
              "    <tr>\n",
              "      <th>SlopeOne</th>\n",
              "      <td>0.015789</td>\n",
              "    </tr>\n",
              "    <tr>\n",
              "      <th>KNN</th>\n",
              "      <td>0.014035</td>\n",
              "    </tr>\n",
              "    <tr>\n",
              "      <th>NMF</th>\n",
              "      <td>0.010526</td>\n",
              "    </tr>\n",
              "  </tbody>\n",
              "</table>\n",
              "</div>"
            ],
            "text/plain": [
              "            Precision\n",
              "Jaccard      0.008772\n",
              "Popularity   0.021053\n",
              "SlopeOne     0.015789\n",
              "KNN          0.014035\n",
              "NMF          0.010526"
            ]
          },
          "execution_count": 214,
          "metadata": {},
          "output_type": "execute_result"
        }
      ],
      "source": [
        "pd.DataFrame.from_dict({'Jaccard':0.008772,'Popularity':0.021053,'SlopeOne':0.015789,'KNN':0.014035, 'NMF':0.010526}, orient='index',columns=['Precision'])"
      ]
    },
    {
      "cell_type": "markdown",
      "metadata": {
        "id": "Z0vxkXhK1liD"
      },
      "source": [
        "**Results for full train set - 40022 samples:**"
      ]
    },
    {
      "cell_type": "code",
      "execution_count": null,
      "metadata": {
        "id": "6zgq4hQA1liD",
        "outputId": "c56d4bb9-4295-4166-cdf0-5b279980b760"
      },
      "outputs": [
        {
          "data": {
            "text/html": [
              "<div>\n",
              "<style scoped>\n",
              "    .dataframe tbody tr th:only-of-type {\n",
              "        vertical-align: middle;\n",
              "    }\n",
              "\n",
              "    .dataframe tbody tr th {\n",
              "        vertical-align: top;\n",
              "    }\n",
              "\n",
              "    .dataframe thead th {\n",
              "        text-align: right;\n",
              "    }\n",
              "</style>\n",
              "<table border=\"1\" class=\"dataframe\">\n",
              "  <thead>\n",
              "    <tr style=\"text-align: right;\">\n",
              "      <th></th>\n",
              "      <th>Precision</th>\n",
              "    </tr>\n",
              "  </thead>\n",
              "  <tbody>\n",
              "    <tr>\n",
              "      <th>Jaccard</th>\n",
              "      <td>0.037885</td>\n",
              "    </tr>\n",
              "    <tr>\n",
              "      <th>Popularity</th>\n",
              "      <td>0.027313</td>\n",
              "    </tr>\n",
              "    <tr>\n",
              "      <th>SlopeOne</th>\n",
              "      <td>0.032599</td>\n",
              "    </tr>\n",
              "    <tr>\n",
              "      <th>KNN</th>\n",
              "      <td>0.075771</td>\n",
              "    </tr>\n",
              "    <tr>\n",
              "      <th>NMF</th>\n",
              "      <td>0.045815</td>\n",
              "    </tr>\n",
              "  </tbody>\n",
              "</table>\n",
              "</div>"
            ],
            "text/plain": [
              "            Precision\n",
              "Jaccard      0.037885\n",
              "Popularity   0.027313\n",
              "SlopeOne     0.032599\n",
              "KNN          0.075771\n",
              "NMF          0.045815"
            ]
          },
          "execution_count": 215,
          "metadata": {},
          "output_type": "execute_result"
        }
      ],
      "source": [
        "pd.DataFrame.from_dict({'Jaccard':0.037885,'Popularity':0.027313,'SlopeOne':0.032599,'KNN':0.075771, 'NMF':0.045815}, orient='index',columns=['Precision'])"
      ]
    },
    {
      "cell_type": "markdown",
      "metadata": {
        "id": "zxrw4qgk1liE"
      },
      "source": [
        "**As we see from the results above,** for this particular dataset, using full trains and test sets, the user nearest neighbor approach worked best. Hence, should we need to choose a method to put online, we should go with this method."
      ]
    }
  ],
  "metadata": {
    "colab": {
      "name": "ExcerciseTopN.ipynb",
      "provenance": [],
      "toc_visible": true
    },
    "kernelspec": {
      "display_name": "Python 3 (ipykernel)",
      "language": "python",
      "name": "python3"
    },
    "language_info": {
      "codemirror_mode": {
        "name": "ipython",
        "version": 3
      },
      "file_extension": ".py",
      "mimetype": "text/x-python",
      "name": "python",
      "nbconvert_exporter": "python",
      "pygments_lexer": "ipython3",
      "version": "3.7.10"
    }
  },
  "nbformat": 4,
  "nbformat_minor": 0
}