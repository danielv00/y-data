{
 "cells": [
  {
   "cell_type": "markdown",
   "metadata": {
    "id": "vbxKQz0Xbrj1"
   },
   "source": [
    "# CNA Homework"
   ]
  },
  {
   "cell_type": "markdown",
   "metadata": {
    "id": "QJBzPa2gb6_D"
   },
   "source": [
    "## Part 1"
   ]
  },
  {
   "cell_type": "markdown",
   "metadata": {
    "id": "NvzL6tPHcGwX"
   },
   "source": [
    "**Reddit Networks**"
   ]
  },
  {
   "cell_type": "markdown",
   "metadata": {
    "id": "Squh54F8ayJs"
   },
   "source": [
    "Using the [Reddit networks dataset](http://dynamics.cs.washington.edu/nobackup/reddit/), select the subreddit of your favorite TV show (or you can choose any other dataset, containing the network data). Answer the following questions:"
   ]
  },
  {
   "cell_type": "code",
   "execution_count": null,
   "metadata": {
    "id": "zSEbCtBE3_g-"
   },
   "outputs": [],
   "source": [
    "#!pip install turicreate"
   ]
  },
  {
   "cell_type": "code",
   "execution_count": 1,
   "metadata": {
    "colab": {
     "base_uri": "https://localhost:8080/"
    },
    "executionInfo": {
     "elapsed": 1932,
     "status": "ok",
     "timestamp": 1641557827231,
     "user": {
      "displayName": "Julia Mizgireva",
      "photoUrl": "https://lh3.googleusercontent.com/a-/AOh14GiAjQzoV4ld_zV1yqiHuZi2NYh-J6cyPxYSUVmBrA=s64",
      "userId": "15664836602934680612"
     },
     "user_tz": -120
    },
    "id": "m1vZAKYMcO97",
    "outputId": "569bc082-8233-4a23-dca4-2947ba669e1e"
   },
   "outputs": [
    {
     "name": "stdout",
     "output_type": "stream",
     "text": [
      "--2022-01-07 12:16:36--  http://dynamics.cs.washington.edu/nobackup/reddit/theoffice.tar.gz\n",
      "Resolving dynamics.cs.washington.edu (dynamics.cs.washington.edu)... 128.208.3.120, 2607:4000:200:12::78\n",
      "Connecting to dynamics.cs.washington.edu (dynamics.cs.washington.edu)|128.208.3.120|:80... connected.\n",
      "HTTP request sent, awaiting response... 200 OK\n",
      "Length: 3550974 (3.4M) [application/x-gzip]\n",
      "Saving to: ‘theoffice.tar.gz’\n",
      "\n",
      "theoffice.tar.gz    100%[===================>]   3.39M  2.98MB/s    in 1.1s    \n",
      "\n",
      "2022-01-07 12:16:37 (2.98 MB/s) - ‘theoffice.tar.gz’ saved [3550974/3550974]\n",
      "\n"
     ]
    }
   ],
   "source": [
    "!wget http://dynamics.cs.washington.edu/nobackup/reddit/theoffice.tar.gz"
   ]
  },
  {
   "cell_type": "code",
   "execution_count": 2,
   "metadata": {
    "executionInfo": {
     "elapsed": 3550,
     "status": "ok",
     "timestamp": 1641557834273,
     "user": {
      "displayName": "Julia Mizgireva",
      "photoUrl": "https://lh3.googleusercontent.com/a-/AOh14GiAjQzoV4ld_zV1yqiHuZi2NYh-J6cyPxYSUVmBrA=s64",
      "userId": "15664836602934680612"
     },
     "user_tz": -120
    },
    "id": "9r-PmIIJtJWH"
   },
   "outputs": [],
   "source": [
    "import tarfile\n",
    "fname = 'theoffice.tar.gz'\n",
    "tar = tarfile.open(fname, \"r:gz\")\n",
    "tar.extractall(path=\"./data/\")\n",
    "tar.close()"
   ]
  },
  {
   "cell_type": "code",
   "execution_count": 3,
   "metadata": {
    "colab": {
     "base_uri": "https://localhost:8080/",
     "height": 49,
     "referenced_widgets": [
      "e3bcfff5dbf042e29ec0b30e1a2ad444",
      "2b2daebc656d4da0b909f0edb7b688cb",
      "816d37b017c14785840c95c0779f0cfc",
      "4baf270a91ca486b8aadfae4bb135c0a",
      "b165bab36c324c63b4353aa703986e1c",
      "5840f3ab7e7c4277896d0458c4cfd6c1",
      "4463aed413aa480fb2096bca28dad7f6",
      "9a65b5b1cf2144f6ac07421c90d67cd1",
      "33a51003b9fd4afe81741d016ed0622a",
      "bbe756d302204695ac42f1c66a0f2b70",
      "f0582d6967c04fbfb1e95e1d827402ac"
     ]
    },
    "executionInfo": {
     "elapsed": 6077,
     "status": "ok",
     "timestamp": 1641557842475,
     "user": {
      "displayName": "Julia Mizgireva",
      "photoUrl": "https://lh3.googleusercontent.com/a-/AOh14GiAjQzoV4ld_zV1yqiHuZi2NYh-J6cyPxYSUVmBrA=s64",
      "userId": "15664836602934680612"
     },
     "user_tz": -120
    },
    "id": "C0d7LCg83_hB",
    "outputId": "4d82f2fa-b3c8-417d-c028-66b42111fae9"
   },
   "outputs": [
    {
     "data": {
      "application/vnd.jupyter.widget-view+json": {
       "model_id": "e3bcfff5dbf042e29ec0b30e1a2ad444",
       "version_major": 2,
       "version_minor": 0
      },
      "text/plain": [
       "  0%|          | 0/49 [00:00<?, ?it/s]"
      ]
     },
     "metadata": {},
     "output_type": "display_data"
    }
   ],
   "source": [
    "import os\n",
    "import turicreate as tc \n",
    "from tqdm.auto import tqdm\n",
    "import matplotlib.pyplot as plt\n",
    "\n",
    "g = tc.SGraph()\n",
    "graphs_dir = 'data'\n",
    "sframes_paths = [graphs_dir +'/' + s for s in os.listdir(graphs_dir)]\n",
    "for folder in tqdm(sframes_paths):\n",
    "    if not folder.endswith(\".sgraph\"):\n",
    "        continue\n",
    "    subG = tc.load_sgraph(folder)\n",
    "    g = g.add_vertices(subG.get_vertices())\n",
    "    g = g.add_edges(subG.get_edges())"
   ]
  },
  {
   "cell_type": "code",
   "execution_count": 4,
   "metadata": {
    "executionInfo": {
     "elapsed": 405,
     "status": "ok",
     "timestamp": 1641557849645,
     "user": {
      "displayName": "Julia Mizgireva",
      "photoUrl": "https://lh3.googleusercontent.com/a-/AOh14GiAjQzoV4ld_zV1yqiHuZi2NYh-J6cyPxYSUVmBrA=s64",
      "userId": "15664836602934680612"
     },
     "user_tz": -120
    },
    "id": "ZPwRAuBN3_hC"
   },
   "outputs": [],
   "source": [
    "# converv SGraph to networkx, if needed\n",
    "\n",
    "import networkx as nx\n",
    "\n",
    "def sgraph2nxgraph(sgraph, is_directed=True, add_vertices_attributes=True, add_edges_attributes=True):\n",
    "    if is_directed:\n",
    "        nx_g = nx.DiGraph()\n",
    "    else:\n",
    "        nx_g = nx.Graph()\n",
    "    if add_vertices_attributes:\n",
    "        vertices = [(r['__id'] , r) for r in sgraph.vertices]\n",
    "    else:\n",
    "        vertices = list(sgraph.get_vertices()['__id'])\n",
    "\n",
    "    if add_edges_attributes:\n",
    "        edges = [(r['__src_id'], r['__dst_id'], r) for r in sgraph.edges]\n",
    "    else:\n",
    "        edges = [(e['__src_id'], e['__dst_id']) for e in sgraph.get_edges()]\n",
    "    nx_g.add_nodes_from(vertices)\n",
    "    nx_g.add_edges_from(edges)\n",
    "    return nx_g"
   ]
  },
  {
   "cell_type": "markdown",
   "metadata": {
    "id": "KhskghuZbIvA"
   },
   "source": [
    "**Task 1 (_max score - 10 points_)**: Calculate and visualize the degree distribution of the vertices in the network"
   ]
  },
  {
   "cell_type": "markdown",
   "metadata": {
    "id": "9B8BneBNbQg6"
   },
   "source": [
    "**Task 2 (_max score - 15 points_)**: Create a subgraph of the top-20 users according to the PageRank algorithm. Draw the subgraph."
   ]
  },
  {
   "cell_type": "markdown",
   "metadata": {
    "id": "Ngvx0jvpbbrc"
   },
   "source": [
    "**Task 3 (_max score - 15 points_)**: Visualize the distribution of the network's strongly and weakly connected components.\n",
    "\n",
    "* As we didn't have the chance to review this in class, you can read shortly about these terms [here](https://www.geeksforgeeks.org/check-if-a-graph-is-strongly-unilaterally-or-weakly-connected/)\n",
    "* This might be helpful: [networkx.weakly_connected_components](https://networkx.org/documentation/stable/reference/algorithms/generated/networkx.algorithms.components.weakly_connected_components.html?highlight=weakly_connected_components#networkx.algorithms.components.weakly_connected_components) "
   ]
  },
  {
   "cell_type": "markdown",
   "metadata": {
    "id": "1py8MRufbe9e"
   },
   "source": [
    "**Task 4 (_max score - 10 points_)**: Split the network into communities, and find the __second__ most central vertex in each community (use degree_centrality)."
   ]
  },
  {
   "cell_type": "markdown",
   "metadata": {
    "id": "O5X4xYV9a9_5"
   },
   "source": [
    "## Part 2"
   ]
  },
  {
   "cell_type": "code",
   "execution_count": null,
   "metadata": {
    "id": "IA8jsfgTaxKh"
   },
   "outputs": [],
   "source": [
    "import networkx as nx\n",
    "from networkx.algorithms.centrality import *\n",
    "from scipy.stats import spearmanr \n",
    "from networkx.generators.geometric import random_geometric_graph\n",
    "from networkx.algorithms.community import * "
   ]
  },
  {
   "cell_type": "markdown",
   "metadata": {
    "id": "EPEVY9uYanSG"
   },
   "source": [
    "### Lets generate some networks\n",
    "\n",
    "Every network contains four sets of nodes. $a\\in \\{0.1,0.01\\}$ is the probability for an edge between two nodes in the same set. $b\\in \\{0.1,0.01\\}$ is the probability for an edge between two nodes in different communities."
   ]
  },
  {
   "cell_type": "code",
   "execution_count": null,
   "metadata": {
    "id": "WHpWnBJhanSS"
   },
   "outputs": [],
   "source": [
    "blocks = [100,100,100,100]\n",
    "probs = [\n",
    "        [[a,b,b,b],\n",
    "         [b,a,b,b],\n",
    "         [b,b,a,b],\n",
    "         [b,b,b,a]]\n",
    "    for a,b in [(0.01,0.01),(0.1,0.01),(0.01,0.1)]\n",
    "    ]"
   ]
  },
  {
   "cell_type": "code",
   "execution_count": null,
   "metadata": {
    "colab": {
     "base_uri": "https://localhost:8080/",
     "height": 34
    },
    "id": "MtS91TWUanSy",
    "outputId": "ae84d7f9-c8ac-489e-c6fa-c9c43a19c8a2"
   },
   "outputs": [
    {
     "name": "stdout",
     "output_type": "stream",
     "text": [
      "There are 300 networks in total.\n"
     ]
    }
   ],
   "source": [
    "nets = [nx.generators.community.stochastic_block_model(blocks,p) for p in probs*100]\n",
    "print(\"There are {} networks in total.\".format(len(nets)))"
   ]
  },
  {
   "cell_type": "markdown",
   "metadata": {
    "id": "U6uzcmEUanTW"
   },
   "source": [
    "### Node centrality **(_max score - 10 points_)**\n",
    "Your code is here: replace [] accordingly to the comment in the row\n",
    "\n"
   ]
  },
  {
   "cell_type": "code",
   "execution_count": null,
   "metadata": {
    "id": "P6OkZrP2anTe"
   },
   "outputs": [],
   "source": [
    "centralities =  [ {\n",
    "                    'degree':[], #replace [] with a sequence of node degree centralities \n",
    "                    'closeness':[], #replace [] with a sequence of node closeness centralities  \n",
    "                    'betweenness': [] #replace [] with a sequence of node betweenness centralities\n",
    "                  } \n",
    "                for G in nets\n",
    "                ]"
   ]
  },
  {
   "cell_type": "code",
   "execution_count": null,
   "metadata": {
    "id": "rRZXnaiUanTv"
   },
   "outputs": [],
   "source": [
    "#here we compute the corralations between the three centrality measures for each network\n",
    "#every network is characterized by the tripplet of centrality correlations\n",
    "centrality_correlations = [\n",
    "    (\n",
    "        spearmanr(c['degree'],c['closeness'])[0],\n",
    "        spearmanr(c['degree'],c['betweenness'])[0],\n",
    "        spearmanr(c['betweenness'],c['closeness'])[0],\n",
    "    )\n",
    "    for c in centralities\n",
    "]"
   ]
  },
  {
   "cell_type": "markdown",
   "metadata": {
    "id": "F9dPEOceanT_"
   },
   "source": [
    "### Build a meta-network\n",
    "\n",
    "where networks are nodes connected by an edge if their centrality correlations are similar "
   ]
  },
  {
   "cell_type": "code",
   "execution_count": null,
   "metadata": {
    "id": "SdsMMRaeanUF"
   },
   "outputs": [],
   "source": [
    "radius = 0.025\n",
    "G = random_geometric_graph(n=len(nets), radius=radius, dim=3, pos=dict(enumerate(centrality_correlations)))"
   ]
  },
  {
   "cell_type": "code",
   "execution_count": null,
   "metadata": {
    "colab": {
     "base_uri": "https://localhost:8080/",
     "height": 51
    },
    "id": "x_iVVHOuanUV",
    "outputId": "427551ab-2255-41d9-fa70-c929f659fd71"
   },
   "outputs": [
    {
     "name": "stdout",
     "output_type": "stream",
     "text": [
      "number of nodes in G is the same as the number of networks in nets:300\n",
      "number of nodes in G is:0\n"
     ]
    }
   ],
   "source": [
    "print(\"number of nodes in G is the same as the number of networks in nets:{}\".format(G.number_of_nodes()))\n",
    "print(\"number of edges in G is:{}\".format(G.number_of_edges()))"
   ]
  },
  {
   "cell_type": "code",
   "execution_count": null,
   "metadata": {
    "id": "cGLCb-SyanUm"
   },
   "outputs": [],
   "source": [
    "pos = nx.spring_layout(G)\n",
    "nx.draw(G, pos=pos,node_size=5,alpha=0.2)"
   ]
  },
  {
   "cell_type": "markdown",
   "metadata": {
    "id": "lUuY_8eVanU3"
   },
   "source": [
    "### Communities"
   ]
  },
  {
   "cell_type": "markdown",
   "metadata": {
    "id": "P1rjhXqeanU8"
   },
   "source": [
    "#### What is the number of communities in nets[1]? **(_max score - 10 points_)**\n",
    "- Use _greedy_modularity_communities_"
   ]
  },
  {
   "cell_type": "code",
   "execution_count": null,
   "metadata": {
    "id": "7dIbdaL2anVB"
   },
   "outputs": [],
   "source": [
    "#find the community structure of nets[1] and print the number of communities in nets[1]"
   ]
  },
  {
   "cell_type": "markdown",
   "metadata": {
    "id": "NpK0SkWvanVR"
   },
   "source": [
    "#### How could you know it without running community detection? **(_max score - 10 points_)**"
   ]
  },
  {
   "cell_type": "markdown",
   "metadata": {
    "id": "02cqRhn7anVW"
   },
   "source": []
  },
  {
   "cell_type": "markdown",
   "metadata": {
    "id": "thvrQrAQanVb"
   },
   "source": [
    "#### What is the number of communities in the meta-network G? **(_max score - 10 points_)**"
   ]
  },
  {
   "cell_type": "code",
   "execution_count": null,
   "metadata": {
    "id": "GRnvPwCOr98b"
   },
   "outputs": [],
   "source": [
    "# Find the number of communities in G"
   ]
  },
  {
   "cell_type": "markdown",
   "metadata": {
    "id": "5zmV-qyOanVw"
   },
   "source": [
    "#### Can you explain why this is the number of communities in G? **(_max score - 10 points_)**"
   ]
  },
  {
   "cell_type": "markdown",
   "metadata": {
    "id": "1R14BCIuanV0"
   },
   "source": []
  }
 ],
 "metadata": {
  "colab": {
   "name": "CNA_HW.ipynb",
   "provenance": []
  },
  "kernelspec": {
   "display_name": "Python 3 (ipykernel)",
   "language": "python",
   "name": "python3"
  },
  "language_info": {
   "codemirror_mode": {
    "name": "ipython",
    "version": 3
   },
   "file_extension": ".py",
   "mimetype": "text/x-python",
   "name": "python",
   "nbconvert_exporter": "python",
   "pygments_lexer": "ipython3",
   "version": "3.7.10"
  },
  "widgets": {
   "application/vnd.jupyter.widget-state+json": {
    "2b2daebc656d4da0b909f0edb7b688cb": {
     "model_module": "@jupyter-widgets/base",
     "model_module_version": "1.2.0",
     "model_name": "LayoutModel",
     "state": {
      "_model_module": "@jupyter-widgets/base",
      "_model_module_version": "1.2.0",
      "_model_name": "LayoutModel",
      "_view_count": null,
      "_view_module": "@jupyter-widgets/base",
      "_view_module_version": "1.2.0",
      "_view_name": "LayoutView",
      "align_content": null,
      "align_items": null,
      "align_self": null,
      "border": null,
      "bottom": null,
      "display": null,
      "flex": null,
      "flex_flow": null,
      "grid_area": null,
      "grid_auto_columns": null,
      "grid_auto_flow": null,
      "grid_auto_rows": null,
      "grid_column": null,
      "grid_gap": null,
      "grid_row": null,
      "grid_template_areas": null,
      "grid_template_columns": null,
      "grid_template_rows": null,
      "height": null,
      "justify_content": null,
      "justify_items": null,
      "left": null,
      "margin": null,
      "max_height": null,
      "max_width": null,
      "min_height": null,
      "min_width": null,
      "object_fit": null,
      "object_position": null,
      "order": null,
      "overflow": null,
      "overflow_x": null,
      "overflow_y": null,
      "padding": null,
      "right": null,
      "top": null,
      "visibility": null,
      "width": null
     }
    },
    "33a51003b9fd4afe81741d016ed0622a": {
     "model_module": "@jupyter-widgets/base",
     "model_module_version": "1.2.0",
     "model_name": "LayoutModel",
     "state": {
      "_model_module": "@jupyter-widgets/base",
      "_model_module_version": "1.2.0",
      "_model_name": "LayoutModel",
      "_view_count": null,
      "_view_module": "@jupyter-widgets/base",
      "_view_module_version": "1.2.0",
      "_view_name": "LayoutView",
      "align_content": null,
      "align_items": null,
      "align_self": null,
      "border": null,
      "bottom": null,
      "display": null,
      "flex": null,
      "flex_flow": null,
      "grid_area": null,
      "grid_auto_columns": null,
      "grid_auto_flow": null,
      "grid_auto_rows": null,
      "grid_column": null,
      "grid_gap": null,
      "grid_row": null,
      "grid_template_areas": null,
      "grid_template_columns": null,
      "grid_template_rows": null,
      "height": null,
      "justify_content": null,
      "justify_items": null,
      "left": null,
      "margin": null,
      "max_height": null,
      "max_width": null,
      "min_height": null,
      "min_width": null,
      "object_fit": null,
      "object_position": null,
      "order": null,
      "overflow": null,
      "overflow_x": null,
      "overflow_y": null,
      "padding": null,
      "right": null,
      "top": null,
      "visibility": null,
      "width": null
     }
    },
    "4463aed413aa480fb2096bca28dad7f6": {
     "model_module": "@jupyter-widgets/base",
     "model_module_version": "1.2.0",
     "model_name": "LayoutModel",
     "state": {
      "_model_module": "@jupyter-widgets/base",
      "_model_module_version": "1.2.0",
      "_model_name": "LayoutModel",
      "_view_count": null,
      "_view_module": "@jupyter-widgets/base",
      "_view_module_version": "1.2.0",
      "_view_name": "LayoutView",
      "align_content": null,
      "align_items": null,
      "align_self": null,
      "border": null,
      "bottom": null,
      "display": null,
      "flex": null,
      "flex_flow": null,
      "grid_area": null,
      "grid_auto_columns": null,
      "grid_auto_flow": null,
      "grid_auto_rows": null,
      "grid_column": null,
      "grid_gap": null,
      "grid_row": null,
      "grid_template_areas": null,
      "grid_template_columns": null,
      "grid_template_rows": null,
      "height": null,
      "justify_content": null,
      "justify_items": null,
      "left": null,
      "margin": null,
      "max_height": null,
      "max_width": null,
      "min_height": null,
      "min_width": null,
      "object_fit": null,
      "object_position": null,
      "order": null,
      "overflow": null,
      "overflow_x": null,
      "overflow_y": null,
      "padding": null,
      "right": null,
      "top": null,
      "visibility": null,
      "width": null
     }
    },
    "4baf270a91ca486b8aadfae4bb135c0a": {
     "model_module": "@jupyter-widgets/controls",
     "model_module_version": "1.5.0",
     "model_name": "FloatProgressModel",
     "state": {
      "_dom_classes": [],
      "_model_module": "@jupyter-widgets/controls",
      "_model_module_version": "1.5.0",
      "_model_name": "FloatProgressModel",
      "_view_count": null,
      "_view_module": "@jupyter-widgets/controls",
      "_view_module_version": "1.5.0",
      "_view_name": "ProgressView",
      "bar_style": "success",
      "description": "",
      "description_tooltip": null,
      "layout": "IPY_MODEL_33a51003b9fd4afe81741d016ed0622a",
      "max": 49,
      "min": 0,
      "orientation": "horizontal",
      "style": "IPY_MODEL_9a65b5b1cf2144f6ac07421c90d67cd1",
      "value": 49
     }
    },
    "5840f3ab7e7c4277896d0458c4cfd6c1": {
     "model_module": "@jupyter-widgets/controls",
     "model_module_version": "1.5.0",
     "model_name": "DescriptionStyleModel",
     "state": {
      "_model_module": "@jupyter-widgets/controls",
      "_model_module_version": "1.5.0",
      "_model_name": "DescriptionStyleModel",
      "_view_count": null,
      "_view_module": "@jupyter-widgets/base",
      "_view_module_version": "1.2.0",
      "_view_name": "StyleView",
      "description_width": ""
     }
    },
    "816d37b017c14785840c95c0779f0cfc": {
     "model_module": "@jupyter-widgets/controls",
     "model_module_version": "1.5.0",
     "model_name": "HTMLModel",
     "state": {
      "_dom_classes": [],
      "_model_module": "@jupyter-widgets/controls",
      "_model_module_version": "1.5.0",
      "_model_name": "HTMLModel",
      "_view_count": null,
      "_view_module": "@jupyter-widgets/controls",
      "_view_module_version": "1.5.0",
      "_view_name": "HTMLView",
      "description": "",
      "description_tooltip": null,
      "layout": "IPY_MODEL_4463aed413aa480fb2096bca28dad7f6",
      "placeholder": "​",
      "style": "IPY_MODEL_5840f3ab7e7c4277896d0458c4cfd6c1",
      "value": "100%"
     }
    },
    "9a65b5b1cf2144f6ac07421c90d67cd1": {
     "model_module": "@jupyter-widgets/controls",
     "model_module_version": "1.5.0",
     "model_name": "ProgressStyleModel",
     "state": {
      "_model_module": "@jupyter-widgets/controls",
      "_model_module_version": "1.5.0",
      "_model_name": "ProgressStyleModel",
      "_view_count": null,
      "_view_module": "@jupyter-widgets/base",
      "_view_module_version": "1.2.0",
      "_view_name": "StyleView",
      "bar_color": null,
      "description_width": ""
     }
    },
    "b165bab36c324c63b4353aa703986e1c": {
     "model_module": "@jupyter-widgets/controls",
     "model_module_version": "1.5.0",
     "model_name": "HTMLModel",
     "state": {
      "_dom_classes": [],
      "_model_module": "@jupyter-widgets/controls",
      "_model_module_version": "1.5.0",
      "_model_name": "HTMLModel",
      "_view_count": null,
      "_view_module": "@jupyter-widgets/controls",
      "_view_module_version": "1.5.0",
      "_view_name": "HTMLView",
      "description": "",
      "description_tooltip": null,
      "layout": "IPY_MODEL_f0582d6967c04fbfb1e95e1d827402ac",
      "placeholder": "​",
      "style": "IPY_MODEL_bbe756d302204695ac42f1c66a0f2b70",
      "value": " 49/49 [00:04&lt;00:00, 12.34it/s]"
     }
    },
    "bbe756d302204695ac42f1c66a0f2b70": {
     "model_module": "@jupyter-widgets/controls",
     "model_module_version": "1.5.0",
     "model_name": "DescriptionStyleModel",
     "state": {
      "_model_module": "@jupyter-widgets/controls",
      "_model_module_version": "1.5.0",
      "_model_name": "DescriptionStyleModel",
      "_view_count": null,
      "_view_module": "@jupyter-widgets/base",
      "_view_module_version": "1.2.0",
      "_view_name": "StyleView",
      "description_width": ""
     }
    },
    "e3bcfff5dbf042e29ec0b30e1a2ad444": {
     "model_module": "@jupyter-widgets/controls",
     "model_module_version": "1.5.0",
     "model_name": "HBoxModel",
     "state": {
      "_dom_classes": [],
      "_model_module": "@jupyter-widgets/controls",
      "_model_module_version": "1.5.0",
      "_model_name": "HBoxModel",
      "_view_count": null,
      "_view_module": "@jupyter-widgets/controls",
      "_view_module_version": "1.5.0",
      "_view_name": "HBoxView",
      "box_style": "",
      "children": [
       "IPY_MODEL_816d37b017c14785840c95c0779f0cfc",
       "IPY_MODEL_4baf270a91ca486b8aadfae4bb135c0a",
       "IPY_MODEL_b165bab36c324c63b4353aa703986e1c"
      ],
      "layout": "IPY_MODEL_2b2daebc656d4da0b909f0edb7b688cb"
     }
    },
    "f0582d6967c04fbfb1e95e1d827402ac": {
     "model_module": "@jupyter-widgets/base",
     "model_module_version": "1.2.0",
     "model_name": "LayoutModel",
     "state": {
      "_model_module": "@jupyter-widgets/base",
      "_model_module_version": "1.2.0",
      "_model_name": "LayoutModel",
      "_view_count": null,
      "_view_module": "@jupyter-widgets/base",
      "_view_module_version": "1.2.0",
      "_view_name": "LayoutView",
      "align_content": null,
      "align_items": null,
      "align_self": null,
      "border": null,
      "bottom": null,
      "display": null,
      "flex": null,
      "flex_flow": null,
      "grid_area": null,
      "grid_auto_columns": null,
      "grid_auto_flow": null,
      "grid_auto_rows": null,
      "grid_column": null,
      "grid_gap": null,
      "grid_row": null,
      "grid_template_areas": null,
      "grid_template_columns": null,
      "grid_template_rows": null,
      "height": null,
      "justify_content": null,
      "justify_items": null,
      "left": null,
      "margin": null,
      "max_height": null,
      "max_width": null,
      "min_height": null,
      "min_width": null,
      "object_fit": null,
      "object_position": null,
      "order": null,
      "overflow": null,
      "overflow_x": null,
      "overflow_y": null,
      "padding": null,
      "right": null,
      "top": null,
      "visibility": null,
      "width": null
     }
    }
   }
  }
 },
 "nbformat": 4,
 "nbformat_minor": 4
}
