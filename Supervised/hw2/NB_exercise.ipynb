{
 "cells": [
  {
   "cell_type": "markdown",
   "metadata": {
    "id": "Uq_3t_tluNmU"
   },
   "source": [
    "# Naive Bayes"
   ]
  },
  {
   "cell_type": "markdown",
   "metadata": {
    "id": "TQVMUZkQHlm2"
   },
   "source": [
    "## 1. Classifying Digits\n",
    "In this part we will test digits classification on the MNIST dataset, using Bernoulli Naive Bayes (a generative model).\n",
    "\n",
    "The MNIST dataset contains 28x28 grayscale images of handwritten digits between 0 and 9 (10 classes). For mathmatical analysis clarity, and for matching expected API, flatten each image to create a 1D array with 784 elements."
   ]
  },
  {
   "cell_type": "markdown",
   "metadata": {
    "id": "Cjwjk6pzLE-y"
   },
   "source": [
    "### Loading the MNIST dataset\n",
    "Load the MNIST data set. The digits dataset is one of datasets scikit-learn comes with that do not require the downloading of any file from some external website. Use \n",
    ">```\n",
    "mnist = sklearn.datasets.fetch_mldata('MNIST original')\n",
    "```\n",
    "\n",
    "to fetch the original data. You may set the `data_home` to where you wish to download your data for caching. Each image is already transformed into a 1D integer array $x\\in [0,255]^{784}$, and the corresponding label is an integer $y\\in [0,9]$.\n",
    "\n",
    "Plot a single sample of each digit as the original image, so you get a feeling how the data looks like.\n",
    "\n",
    "Finally, divide your data into train and test sets, using 1/7 of the data for testing.\n",
    "\n",
    "---\n",
    "**Note 1:** Using `digits = sklearn.datasets.load_digits()` will only fetch a very small sample of the original set, with images resized to 8x8. This preprocessing of the data reduces dimensionality and gives invariance to small distortions - however, we will use the original data in this exercise. Feel free to test the proformance of the algorithms below on the preprocessed data as well.\n",
    "\n",
    "**Note 2:**\n",
    "Since ML-Data is deprecated, you may wish to use something like this:\n",
    ">```\n",
    "from keras.datasets import mnist\n",
    "(x_train, y_train), (x_test, y_test) = mnist.load_data()\n",
    "x_train = x_train.reshape(x_train.shape[0], 784)\n",
    "x_test = x_test.reshape(x_test.shape[0], 784)\n",
    "  ```\n",
    "\n"
   ]
  },
  {
   "cell_type": "code",
   "execution_count": 205,
   "metadata": {
    "id": "05Om0QLxBvvT"
   },
   "outputs": [],
   "source": [
    "# your code\n",
    "from keras.datasets import mnist\n",
    "import numpy as np\n",
    "(x_train, y_train), (x_test, y_test) = mnist.load_data()\n",
    "x_train = x_train.reshape(x_train.shape[0], 784)\n",
    "x_test = x_test.reshape(x_test.shape[0], 784)\n"
   ]
  },
  {
   "cell_type": "markdown",
   "metadata": {
    "id": "WTGjjSKaFfE6"
   },
   "source": [
    "### Bernoulli Naive Bayes\n",
    "If we know how the digits are generated, then we know how to classify them (simply choose the digit class which will maximize the posterior probability) --- but which model should we use for describing the digits generation?\n",
    "\n",
    "In this part we will try a very simplified model of digits creation (which is obviously not the same as the \"real\" model), using a Naive Bayes over an underlying Bernoulli distribution --- that is, we will assume that given a digit class, the pixels of the images are the result of independent coin flips, each with its own \"head\" probability.\n",
    "\n",
    "Note that since we assume each pixl is either 0 (black) or 1 (white), we will need to adjust (preprocess) our data accrodingly (see below).\n",
    "\n",
    "So, the model is stated as follows:\n",
    "$$\n",
    "\\begin{align}\n",
    "\\text{Domain} && x \\in \\{0,1\\}^{784} \\\\\n",
    "\\text{Prior} && \\pi_j = \\Pr(y=j) \\\\\n",
    "\\text{Likelihood} && P_j(x) = \\Pr(x | y=j) \\\\\n",
    "\\end{align}\n",
    "$$\n",
    "\n",
    "Where for each $i\\in 0\\ldots 784$ it holds that\n",
    "$$\n",
    "P_{ji}(x_i) = \\Pr(x_i | y=j) =\n",
    "\\begin{cases}\n",
    "p_{ji} & \\text{if } x_i=1 \\\\\n",
    "1-p_{ji} & \\text{if } x_i=0 \\\\\n",
    "\\end{cases}\n",
    "$$"
   ]
  },
  {
   "cell_type": "markdown",
   "metadata": {
    "id": "WNjhD3IpL5bC"
   },
   "source": [
    "#### Question 1\n",
    "Write the classification rule based on this Naive Bayes model. \n",
    "How would you esitmate each of the parameters of the model based on the trainning data? \n",
    "\n",
    "\n",
    "**Bonus:** Think of edge cases which may effect your estimator in an undesired way."
   ]
  },
  {
   "cell_type": "markdown",
   "metadata": {
    "id": "0pN1prGcMqwZ"
   },
   "source": [
    "#### Answer 1\n",
    "The classification rule is in the code cell below.\n",
    "\n",
    "\\hat{y}=argmax_{x}\\begin{bmatrix}ln(p(y_{k})+\\sum_{i=1}^{D}ln(p)x_{i}y_{k}\\end{bmatrix}\n",
    "\n",
    "@ TO-DO:  parameters estimation"
   ]
  },
  {
   "cell_type": "code",
   "execution_count": 204,
   "metadata": {},
   "outputs": [
    {
     "data": {
      "text/latex": [
       "$\\displaystyle \\hat{y}=argmax_{x}\\begin{bmatrix}p(y_{k})\\end{bmatrix}\\prod_{i=1}^{D}p(x_{i}|y_{k})$"
      ],
      "text/plain": [
       "<IPython.core.display.Math object>"
      ]
     },
     "metadata": {},
     "output_type": "display_data"
    },
    {
     "data": {
      "text/latex": [
       "$\\displaystyle \\hat{y}=argmax_{x}\\begin{bmatrix}ln(p(y_{k})+\\sum_{i=1}^{D}ln(p)x_{i}y_{k}\\end{bmatrix}$"
      ],
      "text/plain": [
       "<IPython.core.display.Math object>"
      ]
     },
     "metadata": {},
     "output_type": "display_data"
    }
   ],
   "source": [
    "from IPython.display import Latex\n",
    "from IPython.display import Math\n",
    "\n",
    "display(Math(r'\\hat{y}=argmax_{x}\\begin{bmatrix}p(y_{k})\\end{bmatrix}\\prod_{i=1}^{D}p(x_{i}|y_{k})'))\n",
    "display(Math(r'\\hat{y}=argmax_{x}\\begin{bmatrix}ln(p(y_{k})+\\sum_{i=1}^{D}ln(p)x_{i}y_{k}\\end{bmatrix}'))"
   ]
  },
  {
   "cell_type": "markdown",
   "metadata": {
    "id": "nOnkgDIXTMCQ"
   },
   "source": [
    "#### Question 2\n",
    "Run a Naive Bayes classifier on the training data and apply predictions on the test data. Use the [sklearn.naive_bayes.BernoulliNB](http://scikit-learn.org/stable/modules/generated/sklearn.naive_bayes.BernoulliNB.html) implementation (see the [source code for sklearn.naive_bayes](https://github.com/scikit-learn/scikit-learn/blob/master/sklearn/naive_bayes.py) for details).\n",
    "\n",
    "Remember we need to preprocess the data in this case such that each pixel would become either black (0) or white (1). For this, use the `binarize` parameter of the implementation. Set this value to $0$ (this is the default), which in this case would mean every pixel with non-zero value will be set to 1.\n",
    "\n",
    "1. Plot the mean image of each class (estimated $\\hat{p}_{ji}$) and generate one sample of each class (remember, you can do this since this is a generative model). You will need to access the `feature_log_prob_` attribute of the trained model.\n",
    "\n",
    "2. Plot the confusion matrix of your classifier, as claculated on the test data (it is recommended to use [sklearn.metrics.confusion_matrix](http://scikit-learn.org/stable/modules/generated/sklearn.metrics.confusion_matrix.html)). Calculate the total accuracy (fraction of correctly classified images), and summarize the results in your own words.\n",
    "\n",
    "3. Think of a way you can find the optimal threshold of the binarization part. **There is no need to actually perform this task --- just describe what you would have done.**\n"
   ]
  },
  {
   "cell_type": "markdown",
   "metadata": {
    "id": "ZKdsdegDWaO_"
   },
   "source": [
    "#### Answer 2\n",
    "### 1) Plot is below\n",
    "### 2) Confusion matrix\n",
    "We have Accuracy value of 84% which means that identification of 1.6 of every 10 digits is incorrect, and 8.4 is correct.\n",
    "### 3) Optimize binarization threshold\n",
    "We can try to change the \"binarize\" argument to value higher than 0   and  check the accuracy value.  Run this test several times and select the optimal binarize value for highest accuracy - it will be out threshold."
   ]
  },
  {
   "cell_type": "code",
   "execution_count": 206,
   "metadata": {
    "id": "XalqjRWXWS-Y"
   },
   "outputs": [
    {
     "data": {
      "text/plain": [
       "array([7, 2, 1, ..., 9, 8, 6], dtype=uint8)"
      ]
     },
     "execution_count": 206,
     "metadata": {},
     "output_type": "execute_result"
    }
   ],
   "source": [
    "# code goes here\n",
    "from sklearn.naive_bayes import BernoulliNB\n",
    "import matplotlib.pyplot as plt\n",
    "clf = BernoulliNB(binarize = 0.0)\n",
    "clf.fit(x_train, y_train)\n",
    "pred = clf.predict(x_test)\n",
    "pred"
   ]
  },
  {
   "cell_type": "code",
   "execution_count": 186,
   "metadata": {},
   "outputs": [
    {
     "data": {
      "image/png": "[encoded data removed]",
      "text/plain": [
       "<Figure size 1728x864 with 10 Axes>"
      ]
     },
     "metadata": {},
     "output_type": "display_data"
    }
   ],
   "source": [
    "#mean image of each class\n",
    "def example_as_pixel_matrix(example):\n",
    "    return np.reshape(example, (-1, 28))\n",
    "\n",
    "def add_example_to_figure(example, \n",
    "                     figure, \n",
    "                     subplot_rows, \n",
    "                     subplot_cols, \n",
    "                     subplot_number):\n",
    "    matrix = example_as_pixel_matrix(example)\n",
    "\n",
    "    subplot = figure.add_subplot(subplot_rows, subplot_cols, subplot_number)\n",
    "    subplot.imshow(matrix, cmap='Greys', interpolation='Nearest')\n",
    "    # disable tick marks\n",
    "    subplot.set_xticks(np.array([]))\n",
    "    subplot.set_yticks(np.array([]))\n",
    "\n",
    "def generate_example(log_probabilities):\n",
    "    pixels = [\n",
    "        1.0 if np.random.rand() <= np.exp( log_probability ) else 0.0\n",
    "        for log_probability in log_probabilities\n",
    "    ]\n",
    "\n",
    "    return pixels\n",
    "\n",
    "def plot_examples(examples):\n",
    "    \n",
    "    figure = plt.figure(figsize=(24, 12))\n",
    "    \n",
    "    shape = np.shape(examples)\n",
    "    rows = shape[0]\n",
    "    columns = shape[1]\n",
    "    \n",
    "    subplot_index = 1\n",
    "    \n",
    "    for digit, examples_for_digit in enumerate(examples):\n",
    "        for example_index, example in enumerate(examples_for_digit):\n",
    "            add_example_to_figure(example, \n",
    "                                  figure, \n",
    "                                  rows, \n",
    "                                  columns, \n",
    "                                  subplot_index\n",
    "                                 )\n",
    "            subplot_index = subplot_index + 1\n",
    "    \n",
    "    figure.tight_layout()\n",
    "    plt.show()\n",
    "\n",
    "\n",
    "clf_NB = BernoulliNB().fit(x_train, y_train)\n",
    "\n",
    "per_digit_log_probabilities = clf_NB.feature_log_prob_\n",
    "\n",
    "examples = [\n",
    "    [ \n",
    "        generate_example(per_digit_log_probabilities[digit])\n",
    "    ]\n",
    "    for digit in range(10)\n",
    "]\n",
    "plot_examples(examples)\n"
   ]
  },
  {
   "cell_type": "code",
   "execution_count": 177,
   "metadata": {},
   "outputs": [
    {
     "name": "stdout",
     "output_type": "stream",
     "text": [
      "              precision    recall  f1-score   support\n",
      "\n",
      "           0       0.91      0.91      0.91       980\n",
      "           1       0.90      0.96      0.93      1135\n",
      "           2       0.89      0.83      0.86      1032\n",
      "           3       0.76      0.84      0.80      1010\n",
      "           4       0.83      0.81      0.82       982\n",
      "           5       0.82      0.70      0.76       892\n",
      "           6       0.89      0.89      0.89       958\n",
      "           7       0.93      0.85      0.89      1028\n",
      "           8       0.75      0.78      0.77       974\n",
      "           9       0.75      0.84      0.79      1009\n",
      "\n",
      "    accuracy                           0.84     10000\n",
      "   macro avg       0.84      0.84      0.84     10000\n",
      "weighted avg       0.84      0.84      0.84     10000\n",
      "\n"
     ]
    },
    {
     "data": {
      "image/png": "[encoded data removed]",
      "text/plain": [
       "<Figure size 864x432 with 2 Axes>"
      ]
     },
     "metadata": {
      "needs_background": "light"
     },
     "output_type": "display_data"
    }
   ],
   "source": [
    "#Confusion Matrix\n",
    "import seaborn as sns\n",
    "from sklearn.metrics import confusion_matrix\n",
    "\n",
    "cf_matrix = confusion_matrix(y_test, pred)\n",
    "\n",
    "# print(cf_matrix)\n",
    "\n",
    "print(metrics.classification_report(y_test, pred))\n",
    "\n",
    "plt.figure(figsize=(12, 6))\n",
    "ax = sns.heatmap(cf_matrix, annot=True, cmap='Blues')\n",
    "\n",
    "ax.set_title('Seaborn Confusion Matrix with labels\\n\\n');\n",
    "ax.set_xlabel('\\nPredicted Values')\n",
    "ax.set_ylabel('Actual Values ');\n",
    "\n",
    "plt.show()"
   ]
  },
  {
   "cell_type": "markdown",
   "metadata": {},
   "source": []
  },
  {
   "cell_type": "markdown",
   "metadata": {
    "id": "lKSgnectrTJ1"
   },
   "source": [
    "## 2. Classifing Text Documents using Multinomial Naive Bayes\n",
    "In this exercise you will classify the \"20 newsgroups\" data set using your own naive bayes classifier and compare to the scikit learn built in version.\n",
    "\n",
    "The 20 newsgroups dataset comprises around 18000 newsgroups posts on 20 topics split in two subsets: one for training (or development) and the other one for testing (or for performance evaluation). The split between the train and test set is based upon messages posted before and after a specific date.\n",
    "\n",
    "\n",
    "* Load the **train** data using `from sklearn.datasets import fetch_20newsgroups`. remove headers, footers and quotes (see documentation)\n",
    "* Use `sklearn.feature_extraction.text import CountVectorizer` to count words (stop_words='english')\n",
    "* Write a class `NaiveBayes(BaseEstimator, ClassifierMixin)` and implement its `fit`, `predict` and `predict_proba` methods.\n",
    "* use `sklearn.pipeline.make_pipeline` to chain the vectroizer and model.\n",
    "* note: limit the vocuabolary size if you suffer memory issues\n",
    "* compare the accuracy over the **test** data. You can use `accuracy_score, classification_report`\n",
    "* compare to the built in `sklearn.naive_bayes.MultinomialNB`. If there are differences try to think why\n",
    "* plot the learning curve - is the model in the bias or variance regime (you can use the built in model for doing the analysis)\n",
    "* optimize performance in respect to vectorizer hyper parameters (e.g. max_features, max_df etc.).\n",
    "\n",
    "### Optional: Model interpretability\n",
    "Find the most important features for a **specific** decision of a NB classifier.\n",
    "Because the model has learned the prior $p(x_i|c)$ during the training, the contribution of an individual feature value can be easily measured by the posterior, $p(c|x_i)=p(c)p(x_i|c)/p(x_i)$\n",
    "Implement a function which gets a scikit-learn NB model as input and returns $P(c|x_i)$:\n",
    "\n",
    "`def calc_p_c_given_xi(model)`\n",
    "\n",
    "Hint: Use the following model properties:\n",
    "\n",
    "* `model.class_log_prior_`\n",
    "* `model.feature_log_prob_`\n",
    "\n",
    "Note: remember these are logs and you need to use np.exp and normalize to get $P(c|x_i)$ \n",
    "Another hint: use numpy built-in broadcasting property.\n",
    "\n",
    "* Use the interpretation to examine errors of the classifier where $\\hat{c}\\ne c$. Which top words support the correct class and which support the wrong class? You can use the `print_txt` below to color words. \n",
    "\n",
    "Bonus: How can you correct the analyzed error? \n",
    "\n",
    "To read more about model interpretation, see the blogpost below and my tutorial:\n",
    "* https://lilianweng.github.io/lil-log/2017/08/01/how-to-explain-the-prediction-of-a-machine-learning-model.html\n",
    "* https://github.com/chanansh/right_but_why"
   ]
  },
  {
   "cell_type": "code",
   "execution_count": null,
   "metadata": {
    "colab": {
     "base_uri": "https://localhost:8080/",
     "height": 35
    },
    "id": "WrTOhkHV9msW",
    "outputId": "c69cb41c-5ed6-4e43-ef3f-6ccaa4980c1d"
   },
   "outputs": [],
   "source": [
    "import string\n",
    "def print_txt(txt, hot, cold):\n",
    "    \"\"\"\n",
    "    print the text, coloring hot and cold words with colors\n",
    "    \"\"\"\n",
    "    cold_color='\\x1b[41;37m{}\\x1b[0m'\n",
    "    hot_color='\\x1b[42;37m{}\\x1b[0m'\n",
    "    def color(token):\n",
    "        lower = str(token).lower()\n",
    "        lower = lower.replace('\\t','').replace('\\n','')\n",
    "        lower = lower.translate(string.punctuation)\n",
    "        if (lower in hot) and (lower in cold):\n",
    "            return mid_color.format(token)\n",
    "        elif lower in hot:\n",
    "            return hot_color.format(token)\n",
    "        elif lower in cold:\n",
    "            return cold_color.format(token)\n",
    "        else:\n",
    "            return token\n",
    "    colored_txt = \" \".join([color(token) for token in txt.split(' ')])\n",
    "    print(colored_txt)\n",
    "print_txt('This word support the first class but this the other', ['word'],['other'])"
   ]
  },
  {
   "cell_type": "code",
   "execution_count": 148,
   "metadata": {
    "id": "FEbVc4Ixxe6L"
   },
   "outputs": [],
   "source": [
    "from sklearn.base import BaseEstimator, ClassifierMixin\n",
    "\n",
    "class NaiveBayes(BaseEstimator, ClassifierMixin):\n",
    "    def fit(self, x, y):\n",
    "        self.N_docs = y.size\n",
    "        self.classes, self.class_sizes = np.unique(y, return_counts=True,)\n",
    "        self.class_priors = self.class_sizes/self.N_docs\n",
    "        self.class_log_prior_ = np.log(self.class_priors)\n",
    "        self.class_vectors = np.array([x[y == p] for p in self.classes])\n",
    "        self.term_freq_ = np.sum(x, axis=0) + x.shape[1] # sum of a word occurance for all articles + the total dict\n",
    "        self.class_term_freq_ = np.array([np.sum(class_vector.toarray(), axis=0) + 1 \n",
    "                                              for class_vector in self.class_vectors])\n",
    "        self.feature_term_prob_ = self.class_term_freq_/self.term_freq_\n",
    "        self.feature_log_prob_ = np.log(self.feature_term_prob_).copy()\n",
    "    def _predict_log_proba(self, x):\n",
    "        return self.class_log_prior_ + np.array(x * self.feature_log_prob.T)\n",
    "    def predict(self, x):\n",
    "        return np.argmax(self.class_log_prior_ + np.array(x * self.feature_log_prob_.T), axis=1)\n",
    "    \n",
    "    def predict_proba(self, X):\n",
    "        return np.exp(self._predict_log_proba(X))"
   ]
  },
  {
   "cell_type": "code",
   "execution_count": null,
   "metadata": {},
   "outputs": [],
   "source": [
    "from sklearn.datasets import fetch_20newsgroups\n",
    "from sklearn.naive_bayes import MultinomialNB\n",
    "\n",
    "# groups = fetch_20newsgroups(remove=('headers', 'footers', 'quotes'))\n",
    "train = fetch_20newsgroups(subset='train',remove=('headers', 'footers', 'quotes'))\n",
    "test = fetch_20newsgroups(subset='test',remove=('headers', 'footers', 'quotes'))\n",
    "\n"
   ]
  },
  {
   "cell_type": "code",
   "execution_count": 158,
   "metadata": {},
   "outputs": [],
   "source": [
    "# import nltk\n",
    "# nltk.download('stopwords')\n",
    "# nltk.download('wordnet')\n",
    "# nltk.download('punkt')\n",
    "# !pip install textblob\n",
    "from textblob import TextBlob\n",
    "\n",
    "# e1,e2=check_X_y(np.array(train.data), np.array(train.data))\n",
    "\n",
    "# type(np.array(train.data))\n",
    "\n",
    "# train.data\n",
    "# type(vectors_train)\n",
    "def split_into_lemmas(message):\n",
    "    message = message.encode('utf8').decode().lower()\n",
    "    words = TextBlob(message).words\n",
    "    # for each word, take its \"base form\" = lemma \n",
    "    return [word.lemma for word in words]\n"
   ]
  },
  {
   "cell_type": "code",
   "execution_count": 217,
   "metadata": {},
   "outputs": [
    {
     "name": "stdout",
     "output_type": "stream",
     "text": [
      "My Naive Bayes Accuracy score is 0.5367764206054169\n",
      "MNB Accuracy score is 0.6287838555496548\n"
     ]
    }
   ],
   "source": [
    "# from sklearn.feature_extraction.text import TfidfVectorizer\n",
    "from sklearn import metrics\n",
    "from sklearn.feature_extraction.text import CountVectorizer\n",
    "from sklearn.pipeline import make_pipeline\n",
    "from sklearn.metrics import accuracy_score\n",
    "from sklearn.metrics import classification_report\n",
    "from nltk.corpus import stopwords\n",
    "from sklearn.preprocessing import FunctionTransformer\n",
    "from sklearn.feature_extraction.text import TfidfTransformer\n",
    "\n",
    "\n",
    "stop = stopwords.words('english')\n",
    "\n",
    "count_vectorizer = CountVectorizer(stop_words=stop)\n",
    "# count_vectorizer = CountVectorizer(stop_words=stop, analyzer=split_into_lemmas)#, binary=False, max_df=0.7) # analyzer=\n",
    "\n",
    "# X_train_counts = count_vectorizer.fit_transform(train.data)\n",
    "# X_test_counts = count_vectorizer.fit_transform(test.data)\n",
    "# TF-IDF vectorize.\n",
    "# tfidf_transformer = TfidfTransformer()\n",
    "# X_train_tfidf = tfidf_transformer.fit_transform(X_train_counts)\n",
    "# X_test_tfidf = tfidf_transformer.fit_transform(X_test_counts)\n",
    "\n",
    "\n",
    "est_my_bayes=NaiveBayes()\n",
    "model_my_bayes = make_pipeline(count_vectorizer, est_my_bayes)\n",
    "model_my_bayes.fit(train.data, train.target)\n",
    "vectors_train = count_vectorizer.transform(train.data)\n",
    "pred_my_bayes = model_my_bayes.predict(test.data)\n",
    "print(\"My Naive Bayes Accuracy score is\", accuracy_score(test.target, pred_my_bayes))\n",
    "# print(\"My Naive Bayes Classification report: \\n\", metrics.classification_report(test.target, pred_my_bayes))\n",
    "\n",
    "\n",
    "est_MNB=MultinomialNB()\n",
    "model_MNB = make_pipeline(count_vectorizer, est_MNB)\n",
    "model_MNB.fit(train.data, train.target)\n",
    "pred_MNB = model_MNB.predict(test.data)\n",
    "print(\"MNB Accuracy score is\", accuracy_score(test.target, pred_MNB))\n",
    "# print(\"MNB Classification report: \\n\", metrics.classification_report(test.target, pred_MNB))"
   ]
  },
  {
   "cell_type": "code",
   "execution_count": null,
   "metadata": {},
   "outputs": [],
   "source": [
    "import matplotlib.pyplot as plt\n",
    "from sklearn.model_selection import learning_curve\n",
    "from sklearn.model_selection import ShuffleSplit\n",
    "import numpy as np\n",
    "\n",
    "def plot_learning_curve(estimator, title, X, y, ylim, cv, n_jobs=1, train_sizes=np.linspace(.1, 1.0, 8)):\n",
    "    plt.figure()\n",
    "    plt.title(title)\n",
    "    plt.xlabel(\"Training examples\")\n",
    "    plt.ylabel(\"Score\")\n",
    "    train_sizes, train_scores, test_scores = learning_curve( estimator, X, y, cv=cv, n_jobs=n_jobs, train_sizes=train_sizes)\n",
    "    train_scores_mean = np.mean(train_scores, axis=1)\n",
    "    train_scores_std = np.std(train_scores, axis=1)\n",
    "    test_scores_mean = np.mean(test_scores, axis=1)\n",
    "    test_scores_std = np.std(test_scores, axis=1)\n",
    "    plt.grid()\n",
    "    plt.fill_between(train_sizes, train_scores_mean - train_scores_std,\n",
    "                     train_scores_mean + train_scores_std, alpha=0.1,\n",
    "                     color=\"r\")\n",
    "    plt.fill_between(train_sizes, test_scores_mean - test_scores_std,\n",
    "                     test_scores_mean + test_scores_std, alpha=0.1, color=\"g\")\n",
    "    plt.plot(train_sizes, train_scores_mean, 'o-', color=\"r\",\n",
    "             label=\"Training score\")\n",
    "    plt.plot(train_sizes, test_scores_mean, 'o-', color=\"g\",\n",
    "             label=\"Cross-validation score\")\n",
    "    plt.legend(loc=\"best\")\n",
    "    return plt"
   ]
  },
  {
   "cell_type": "code",
   "execution_count": 152,
   "metadata": {},
   "outputs": [
    {
     "data": {
      "text/plain": [
       "<Figure size 432x288 with 0 Axes>"
      ]
     },
     "metadata": {},
     "output_type": "display_data"
    },
    {
     "data": {
      "image/png": "[encoded data removed]",
      "text/plain": [
       "<Figure size 432x288 with 1 Axes>"
      ]
     },
     "metadata": {
      "needs_background": "light"
     },
     "output_type": "display_data"
    },
    {
     "data": {
      "image/png": "[encoded data removed]",
      "text/plain": [
       "<Figure size 432x288 with 1 Axes>"
      ]
     },
     "metadata": {
      "needs_background": "light"
     },
     "output_type": "display_data"
    }
   ],
   "source": [
    "from sklearn.model_selection import cross_val_score\n",
    "\n",
    "fig = plt.figure()\n",
    "title = \"Learning Curves (My Naive Bayes)\"\n",
    "cv = ShuffleSplit(n_splits=5, test_size=0.2, random_state=0)\n",
    "plot_learning_curve(est_my_bayes, title, vectors_train, train.target, ylim=(0.7, 1.01), cv=cv, n_jobs=1)\n",
    "plt.show()\n",
    "\n",
    "title = \"Learning Curves (Multinomial Bayes)\"\n",
    "cv = ShuffleSplit(n_splits=5, test_size=0.2, random_state=0)\n",
    "plot_learning_curve(est_MNB, title, vectors_train, train.target, ylim=(0.7, 1.01), cv=cv, n_jobs=1)\n",
    "plt.show()"
   ]
  },
  {
   "cell_type": "markdown",
   "metadata": {},
   "source": [
    "### Answer:\n",
    "There is a large gap between training and validation score. Training score is larger than the validation score. Therefore our model suffers from high variance (overfitting).\n",
    "\n",
    "@ TO-DO:  parameters estimation - optimize performance"
   ]
  }
 ],
 "metadata": {
  "colab": {
   "collapsed_sections": [],
   "name": "NB exercise.ipynb",
   "provenance": []
  },
  "kernelspec": {
   "display_name": "Python 3 (ipykernel)",
   "language": "python",
   "name": "python3"
  },
  "language_info": {
   "codemirror_mode": {
    "name": "ipython",
    "version": 3
   },
   "file_extension": ".py",
   "mimetype": "text/x-python",
   "name": "python",
   "nbconvert_exporter": "python",
   "pygments_lexer": "ipython3",
   "version": "3.7.10"
  }
 },
 "nbformat": 4,
 "nbformat_minor": 4
}
