{
 "cells": [
  {
   "cell_type": "markdown",
   "metadata": {
    "id": "chEqqJbLzFew"
   },
   "source": [
    "# Yandex Data Science School\n",
    "## Linear Regression & Regularization Exercise.\n",
    "\n",
    "\n",
    "## Outline\n",
    "In this exercise you will learn the following topics:\n",
    "\n",
    "1. Refresher on how linear regression is solved in batch and in Gradient Descent \n",
    "2. Implementation of Ridge Regression\n",
    "3. Comparing Ridge, Lasso and vanila Linear Regression on a dataset"
   ]
  },
  {
   "cell_type": "markdown",
   "metadata": {
    "id": "mR9UFmk2greT"
   },
   "source": [
    "## Refresher on Ordinary Least Square (OLS) aka Linear Regeression\n",
    "\n",
    "### Lecture Note\n",
    "\n",
    "In Matrix notation, the matrix $X$ is of dimensions $n \\times p$ where each row is an example and each column is a feature dimension. \n",
    "\n",
    "Similarily, $y$ is of dimension $n \\times 1$ and $w$ is of dimensions $p \\times 1$.\n",
    "\n",
    "The model is $\\hat{y}=X\\cdot w$ where we assume for simplicity that $X$'s first columns equals to 1 (one padding), to account for the bias term.\n",
    "\n",
    "Our objective is to optimize the loss $L$ defines as resiudal sum of squares (RSS): \n",
    "\n",
    "$L_{RSS}=\\frac{1}{N}\\left\\Vert Xw-y \\right\\Vert^2$ (notice that in matrix notation this means summing over all examples, so $L$ is scalar.)\n",
    "\n",
    "To find the optimal $w$ one needs to derive the loss with respect to $w$.\n",
    "\n",
    "$\\frac{\\partial{L_{RSS}}}{\\partial{w}}=\\frac{2}{N}X^T(Xw-y)$ (to see why, read about [matrix derivatives](http://www.gatsby.ucl.ac.uk/teaching/courses/sntn/sntn-2017/resources/Matrix_derivatives_cribsheet.pdf) or see class notes )\n",
    "\n",
    "Thus, the gardient descent solution is $w'=w-\\alpha \\frac{2}{N}X^T(Xw-y)$.\n",
    "\n",
    "Solving $\\frac{\\partial{L_{RSS}}}{\\partial{w}}=0$ for $w$ one can also get analytical solution:\n",
    "\n",
    "$w_{OLS}=(X^TX)^{-1}X^Ty$\n",
    "\n",
    "The first term, $(X^TX)^{-1}X^T$ is also called the pseudo inverse of $X$.\n",
    "\n",
    "See [lecture note from Stanford](https://web.stanford.edu/~mrosenfe/soc_meth_proj3/matrix_OLS_NYU_notes.pdf) for more details.\n"
   ]
  },
  {
   "cell_type": "markdown",
   "metadata": {
    "id": "JA3MEKz80vdy"
   },
   "source": [
    "## Exercise 1 - Ordinary Least Square\n",
    "* Get the boston housing dataset by using the scikit-learn package. hint: [load_boston](http://scikit-learn.org/stable/modules/generated/sklearn.datasets.load_boston.html)\n",
    "\n",
    "* What is $p$? what is $n$ in the above notation? hint: [shape](https://docs.scipy.org/doc/numpy-1.15.0/reference/generated/numpy.ndarray.shape.html)\n",
    "\n",
    "* write a model `OrdinaryLinearRegression` which has a propoery $w$ and 3 methods: `fit`, `predict` and `score` (which returns the MSE on a given sample set). Hint: use [numpy.linalg.pinv](https://docs.scipy.org/doc/numpy-1.15.1/reference/generated/numpy.linalg.pinv.html) to be more efficient.\n",
    "\n",
    "* Fit the model. What is the training MSE?\n",
    "\n",
    "* Plot a scatter plot where on x-axis plot $Y$ and in the y-axis $\\hat{Y}_{OLS}$\n",
    "\n",
    "* Split the data to 75% train and 25% test 20 times. What is the average MSE now for train and test? Hint: use [train_test_split](http://scikit-learn.org/stable/modules/generated/sklearn.model_selection.train_test_split.html) or [ShuffleSplit](http://scikit-learn.org/stable/modules/generated/sklearn.model_selection.ShuffleSplit.html).\n",
    "\n",
    "* Use a t-test to proove that the MSE for training is significantly smaller than for testing. What is the p-value? Hint: use [scipy.stats.ttest_rel](https://docs.scipy.org/doc/scipy-0.14.0/reference/generated/scipy.stats.ttest_rel.html). \n",
    "\n",
    "* Write a new class `OrdinaryLinearRegressionGradientDescent` which inherits from `OrdinaryLinearRegression` and solves the problem using gradinet descent. The class should get as a parameter the learning rate and number of iteration. Plot the class convergance. What is the effect of learning rate? How would you find number of iteration automatically? Note: Gradient Descent does not work well when features are not scaled evenly (why?!). Be sure to normalize your features first.\n",
    "\n",
    "* The following parameters are optional (not mandatory to use):\n",
    "    * early_stop - True / False boolean to indicate to stop running when loss stops decaying and False to continue.\n",
    "    * reset - True / False boolean to reset starting w values, relevant in gradient descent OlsCd and OlsGd. Usually its reseted to 0's\n",
    "    * verbose- True/False boolean to turn on / off logging, e.g. print details like iteration number and loss (https://en.wikipedia.org/wiki/Verbose_mode)\n",
    "    * track_loss - True / False boolean when to save loss results to present later in learning curve graphs"
   ]
  },
  {
   "cell_type": "code",
   "execution_count": 1,
   "metadata": {
    "id": "ooMiy2F43iB1"
   },
   "outputs": [],
   "source": [
    "import pandas as pd\n",
    "import numpy as np\n",
    "import sklearn\n",
    "import matplotlib.pyplot as plt\n",
    "import seaborn as sns\n",
    "%matplotlib inline\n",
    "from sklearn.model_selection import train_test_split\n",
    "from scipy import stats\n",
    "\n",
    "#from sklearn.datasets import load_boston\n",
    "sns.set()\n",
    "\n",
    "data_url = \"http://lib.stat.cmu.edu/datasets/boston\"\n",
    "raw_df = pd.read_csv(data_url, sep=\"\\s+\", skiprows=22, header=None)\n",
    "data = np.hstack([raw_df.values[::2, :], raw_df.values[1::2, :2]])\n",
    "target = raw_df.values[1::2, 2]\n",
    "data.shape, target.shape\n",
    "X, y = data, target\n",
    "# 506 - number of samples, i.e. N\n",
    "# 13 - number of features, i.e. p\n",
    "\n",
    "#X_train, X_test, y_train, y_test = train_test_split(X, y, test_size=0.25, shuffle=True)\n",
    "#y_train.shape, y_test.shape, X_test.shape, X_train.shape\n"
   ]
  },
  {
   "cell_type": "code",
   "execution_count": 2,
   "metadata": {
    "id": "w3Y2nM4F3o9v"
   },
   "outputs": [],
   "source": [
    "# import warnings\n",
    "# from sklearn.datasets import load_boston\n",
    "# with warnings.catch_warnings():\n",
    "#      # You should probably not use this dataset.\n",
    "#   warnings.filterwarnings(\"ignore\")\n",
    "# X, y = load_boston(return_X_y=True)\n",
    "# print(X.shape)"
   ]
  },
  {
   "cell_type": "code",
   "execution_count": 3,
   "metadata": {
    "id": "ZuSS8LhcfZdn"
   },
   "outputs": [],
   "source": [
    "# * write a model `Ols` which has a propoery $w$ and 3 methods: `fit`, `predict` and `score`.? \n",
    "#hint: use [numpy.linalg.pinv](https://docs.scipy.org/doc/numpy-1.15.1/reference/generated/numpy.linalg.pinv.html) to be more efficient.\n",
    "\n",
    "class Ols(object):\n",
    "  def __init__(self):\n",
    "    self.w = None\n",
    "    #self.X = None\n",
    "   # self.y = None\n",
    "    \n",
    "  @staticmethod\n",
    "  def pad(X):\n",
    "    return np.c_[np.ones(X.shape[0]), X]\n",
    "  \n",
    "  def fit(self, X, y):\n",
    "    #remeber pad with 1 before fitting\n",
    "    X = self.pad(X)    \n",
    "    self.w = np.linalg.pinv(X) @ y\n",
    "    self._fit(X, y)\n",
    "    \n",
    "  \n",
    "  def _fit(self, X, y):\n",
    "    # optional to use this\n",
    "    pass\n",
    "    #np.linalg.inv(X.transpose().dot(X)).dot(X.transpose()).dot(y)\n",
    "    \n",
    "    \n",
    "  def predict(self, X):\n",
    "    #return wx \n",
    "    return self._predict(X)\n",
    "\n",
    "  def _predict(self, X):\n",
    "    if X.shape[1] != self.w.shape[0]:\n",
    "      X_pad = self.pad(X)\n",
    "    else:\n",
    "      X_pad = X\n",
    "    y_pred = X_pad.dot(self.w)\n",
    "    return y_pred\n",
    "\n",
    "  def score(self, X, y):\n",
    "    #return MSE\n",
    "    return self._score(X, y)\n",
    "\n",
    "  def _score(self, X, y):\n",
    "    y_predict = self.predict(X)\n",
    "    return (1 / X.shape[0]) * np.sum(np.power((y_predict - y), 2))\n"
   ]
  },
  {
   "cell_type": "code",
   "execution_count": 4,
   "metadata": {
    "colab": {
     "base_uri": "https://localhost:8080/",
     "height": 320
    },
    "id": "ANFKCTIgE-w4",
    "outputId": "eab14eae-a76e-44f3-986f-4a46195253f7"
   },
   "outputs": [
    {
     "name": "stdout",
     "output_type": "stream",
     "text": [
      "21.894831181729202\n"
     ]
    },
    {
     "data": {
      "text/plain": [
       "Text(0, 0.5, 'Predicted Y')"
      ]
     },
     "execution_count": 4,
     "metadata": {},
     "output_type": "execute_result"
    },
    {
     "data": {
      "image/png": "[encoded data removed]",
      "text/plain": [
       "<Figure size 432x288 with 1 Axes>"
      ]
     },
     "metadata": {},
     "output_type": "display_data"
    }
   ],
   "source": [
    "lr = Ols()\n",
    "lr.fit(X,y)\n",
    "\n",
    "y_pred = lr.predict(X)\n",
    "print(lr.score(X, y))\n",
    "plt.scatter(y,y_pred)\n",
    "plt.xlabel('Y')\n",
    "plt.ylabel('Predicted Y')"
   ]
  },
  {
   "cell_type": "code",
   "execution_count": 5,
   "metadata": {
    "colab": {
     "base_uri": "https://localhost:8080/"
    },
    "id": "IIUuyEbHfs2T",
    "outputId": "c1fd89f8-522c-4728-f04a-b5ccacbcd1d4"
   },
   "outputs": [
    {
     "data": {
      "text/plain": [
       "21.894831181729202"
      ]
     },
     "execution_count": 5,
     "metadata": {},
     "output_type": "execute_result"
    }
   ],
   "source": [
    "lr.score(X,y)"
   ]
  },
  {
   "cell_type": "code",
   "execution_count": 6,
   "metadata": {
    "colab": {
     "base_uri": "https://localhost:8080/"
    },
    "id": "Ol4Eno3TKUMK",
    "outputId": "22b1e9f4-02da-4d4f-c1ba-7b6d2d86dc03"
   },
   "outputs": [
    {
     "data": {
      "text/plain": [
       "21.894831181729202"
      ]
     },
     "execution_count": 6,
     "metadata": {},
     "output_type": "execute_result"
    }
   ],
   "source": [
    "np.power(y - y_pred, 2).sum()/506"
   ]
  },
  {
   "cell_type": "code",
   "execution_count": 7,
   "metadata": {
    "colab": {
     "base_uri": "https://localhost:8080/",
     "height": 302
    },
    "id": "u5E19Z18I_37",
    "outputId": "e8213314-e452-47b8-b1b2-a1797d40839a"
   },
   "outputs": [
    {
     "data": {
      "text/plain": [
       "Text(0, 0.5, 'Predicted Y')"
      ]
     },
     "execution_count": 7,
     "metadata": {},
     "output_type": "execute_result"
    },
    {
     "data": {
      "image/png": "[encoded data removed]",
      "text/plain": [
       "<Figure size 432x288 with 1 Axes>"
      ]
     },
     "metadata": {},
     "output_type": "display_data"
    }
   ],
   "source": [
    "from sklearn.linear_model import LinearRegression\n",
    "lr1 = LinearRegression()\n",
    "lr1.fit(X,y)\n",
    "lr1.coef_\n",
    "y_pred1 = lr.predict(X)\n",
    "\n",
    "plt.scatter(y,y_pred1)\n",
    "plt.xlabel('Y')\n",
    "plt.ylabel('Predicted Y')"
   ]
  },
  {
   "cell_type": "code",
   "execution_count": 8,
   "metadata": {
    "colab": {
     "base_uri": "https://localhost:8080/"
    },
    "id": "agOLuJlAGrqj",
    "outputId": "49163a9b-4aea-483e-ba3b-9117db5df262"
   },
   "outputs": [
    {
     "data": {
      "text/plain": [
       "(0.7406426641094095, 21.894831181729202)"
      ]
     },
     "execution_count": 8,
     "metadata": {},
     "output_type": "execute_result"
    }
   ],
   "source": [
    "lr1.coef_, lr.w\n",
    "lr1.score(X, y), lr.score(X,y)\n"
   ]
  },
  {
   "cell_type": "code",
   "execution_count": 9,
   "metadata": {
    "colab": {
     "base_uri": "https://localhost:8080/"
    },
    "id": "ryNy9uvqLljU",
    "outputId": "56f3efea-a15c-46b1-9dfb-bacdc1846ef8"
   },
   "outputs": [
    {
     "data": {
      "text/plain": [
       "21.894831181729202"
      ]
     },
     "execution_count": 9,
     "metadata": {},
     "output_type": "execute_result"
    }
   ],
   "source": [
    "np.power(y - y_pred1, 2).sum()/506"
   ]
  },
  {
   "cell_type": "code",
   "execution_count": 10,
   "metadata": {
    "colab": {
     "base_uri": "https://localhost:8080/",
     "height": 676
    },
    "id": "W6n8cnIoRaR2",
    "outputId": "d3bb7925-60d7-4152-a6d6-8d7ac2d47e40"
   },
   "outputs": [
    {
     "name": "stdout",
     "output_type": "stream",
     "text": [
      "Mean train error =  22.224972181663517 Mean test error =  21.850244539439146\n",
      "P-value: Ttest_relResult(statistic=0.3791836315089393, pvalue=0.7087559645892202)\n"
     ]
    },
    {
     "data": {
      "image/png": "[encoded data removed]",
      "text/plain": [
       "<Figure size 576x360 with 1 Axes>"
      ]
     },
     "metadata": {},
     "output_type": "display_data"
    },
    {
     "name": "stdout",
     "output_type": "stream",
     "text": [
      "Mean train error =  21.78178939842742 Mean test error =  23.339557627178735\n",
      "P-value: Ttest_relResult(statistic=-2.192289291340635, pvalue=0.03070169014708065)\n"
     ]
    },
    {
     "data": {
      "image/png": "[encoded data removed]",
      "text/plain": [
       "<Figure size 432x288 with 1 Axes>"
      ]
     },
     "metadata": {},
     "output_type": "display_data"
    }
   ],
   "source": [
    "from sklearn.model_selection import ShuffleSplit\n",
    "from sklearn.metrics import mean_squared_error\n",
    "from scipy import stats\n",
    "\n",
    "plt.figure(figsize=(8,5))\n",
    "\n",
    "def check_means(n_splits, X, y):\n",
    "\n",
    "  # First subplot\n",
    "  err_train = []\n",
    "  err_test = []\n",
    "\n",
    "    #ax1 = plt.subplot(1, 1, i)\n",
    "  # X_train, X_test, y_train, y_test = train_test_split(X, y, test_size=0.25, shuffle=True, random_state=142)\n",
    "  rs = ShuffleSplit(n_splits=n_splits, test_size=.25)\n",
    "  #, random_state=0\n",
    "\n",
    "  for train_index, test_index in rs.split(X, y):\n",
    "    X_train, X_test, y_train, y_test = X[train_index], X[test_index], y[train_index], y[test_index]\n",
    "    LR = Ols()\n",
    "    LR.fit(X_train, y_train)\n",
    "    y_train_pred = LR.predict(X_train)\n",
    "    y_test_pred = LR.predict(X_test)\n",
    "    err_train.append(LR.score(X_train, y_train))\n",
    "    #mean_train1.append(mean_squared_error(y_train, y_train_pred))\n",
    "    #mean_test1.append(mean_squared_error(y_test, y_test_pred))    \n",
    "    err_test.append(LR.score(X_test, y_test))\n",
    "  \n",
    "  return err_train, err_test, np.mean(err_train), np.mean(err_test)\n",
    "\n",
    "err_train20, err_test20, mean_train20, mean_test20  = check_means(20, X, y)\n",
    "\n",
    "plt.scatter(err_train20, err_test20)\n",
    "plt.xlabel('Train error')\n",
    "plt.ylabel('Test error')\n",
    "#print('Train errors=', mean_train20)\n",
    "#print('Test errors=', mean_test20)\n",
    "print('Mean train error = ', mean_train20, 'Mean test error = ', mean_test20)\n",
    "print('P-value:', stats.ttest_rel(err_train20, err_test20))\n",
    "plt.show()\n",
    "\n",
    "err_train100, err_test100, mean_train100, mean_test100  = check_means(100, X, y)\n",
    "plt.scatter(err_train100, err_test100)\n",
    "plt.xlabel('Train error')\n",
    "plt.ylabel('Test error')\n",
    "#print('Train errors=', mean_train100)\n",
    "#print('Test errors=', mean_test100)\n",
    "print('Mean train error = ', mean_train100, 'Mean test error = ', mean_test100)\n",
    "print('P-value:', stats.ttest_rel(err_train100, err_test100))\n",
    "plt.show()"
   ]
  },
  {
   "cell_type": "markdown",
   "metadata": {
    "id": "XF_BY3CjgqRm"
   },
   "source": [
    "The result shows that training error is lower than the test error. But on 20 loops it is significant only on 90% level. If we run the same test 100 times we will get significant difference."
   ]
  },
  {
   "cell_type": "code",
   "execution_count": 11,
   "metadata": {
    "id": "r4oJw6dwY6jf"
   },
   "outputs": [],
   "source": [
    "#X_train.shape, X_test.shape, y_train.shape, y_test.shape\n",
    "#y_test_pred.shape\n",
    "#LR.predict(X_test).shape"
   ]
  },
  {
   "cell_type": "code",
   "execution_count": 17,
   "metadata": {
    "id": "unGCBc0CIGJL"
   },
   "outputs": [],
   "source": [
    "# Write a new class OlsGd which solves the problem using gradinet descent. \n",
    "# The class should get as a parameter the learning rate and number of iteration. \n",
    "# Plot the loss convergance. for each alpha, learning rate plot the MSE with respect to number of iterations.\n",
    "# What is the effect of learning rate? \n",
    "# How would you find number of iteration automatically? \n",
    "# Note: Gradient Descent does not work well when features are not scaled evenly (why?!). Be sure to normalize your feature first.\n",
    "class Normalizer():\n",
    "  def __init__(self):\n",
    "    self.min = min\n",
    "    self.max = max\n",
    "\n",
    "  def fit(self, X):\n",
    "    self.X = X\n",
    "    self.max = np.max(self.X, axis=0)    \n",
    "    self.min = np.min(self.X, axis=0)\n",
    "    #print(self.min, '\\n', self.max)\n",
    "\n",
    "  def normalize(self, X):\n",
    "    #apply normalization\n",
    "    #mean = np.mean(self.X, axis=0)\n",
    "    #sigma = np.std(self.X, axis=0)\n",
    "    return (self.X - self.min) / (self.max - self.min)\n",
    "    \n",
    "class OlsGd(Ols):\n",
    "  \n",
    "  def __init__(self, learning_rate=.05, \n",
    "               num_iteration=1000, \n",
    "               normalize=True,\n",
    "               early_stop=True,\n",
    "               verbose=True,\n",
    "               epsilon = 0.01):\n",
    "    \n",
    "    super(OlsGd, self).__init__() # instantiating of parent class init()\n",
    "    self.learning_rate = learning_rate\n",
    "    self.num_iteration = num_iteration\n",
    "    self.early_stop = early_stop\n",
    "    self.normalize = normalize\n",
    "    self.normalizer = Normalizer()\n",
    "    self.verbose = verbose\n",
    "    self.epsilon = epsilon\n",
    "    \n",
    "    \n",
    "    \n",
    "  def _fit(self, X, Y, reset=True, track_loss=True):\n",
    "    self.mse = []\n",
    "    #remember to normalize the data before starting\n",
    "    # X = X [:, 1:]  this can be used with following pad again\n",
    "    if self.normalize:\n",
    "      self.normalizer.fit(X)\n",
    "      X = self.normalizer.normalize(X)\n",
    "      X[:, 0] = 1  #since X already initialized and padded with 1 in parent class we have to restore 1s instead of nan (division by 0)\n",
    "    # X = Ols.pad(X)  #this can be used if we delete nan rows after normalization\n",
    "    #print(X.shape, Y.shape, '\\n', X)\n",
    "    self.w = np.random.random(size=X.shape[1])      #np.linalg.pinv(X) @ Y\n",
    "    #print(self.w)\n",
    "    for i in range(self.num_iteration):\n",
    "      y_pred = X @ self.w\n",
    "      #self.predict(X)\n",
    "      #Calculating derivatives of Parameters\n",
    "      D_w = self._step(X, Y)\n",
    "      #D_w = 2 * np.dot(X.T, (y_pred - Y)) / X.shape[0]\n",
    "      #Updating Parameters\n",
    "      self.w = self.w - self.learning_rate * D_w\n",
    "      loss = self.score(X, Y)\n",
    "      #(1 / X.shape[0]) * np.sum(np.power((y_pred - Y), 2))\n",
    "      self.mse.append(loss)\n",
    "      # check fo early break:\n",
    "      if len(self.mse) > 1 and (self.mse[-2] - self.mse[-1]) < self.epsilon:\n",
    "        print(f'Fast convergence! Step {i}')\n",
    "        break\n",
    "\n",
    "\n",
    "  def _predict(self, X):\n",
    "    #remeber to normalize the data before starting\n",
    "    if self.normalize:\n",
    "      self.normalizer.fit(X)\n",
    "      X = self.normalizer.normalize(X)\n",
    "    if X.shape[1] != self.w.shape[0]:\n",
    "      X = self.pad(X)\n",
    "    else:\n",
    "      X[:, 0] = 1\n",
    "    y_pred = X.dot(self.w)\n",
    "    return y_pred    \n",
    "    #return X.dot(self.w)\n",
    "    #super().predict(X)\n",
    "    #return self.predict(X)\n",
    "      \n",
    "  def _step(self, X, Y):\n",
    "    # use w update for gradient descent\n",
    "    y_pred = self.predict(X)         \n",
    "    D_w = 2 * np.dot(X.T, (y_pred - Y)) / X.shape[0]\n",
    "    return D_w\n",
    "\n",
    "  def _score(self, X, Y):\n",
    "    return (1 / X.shape[0]) * np.sum(np.power((self.predict(X) - Y), 2))\n"
   ]
  },
  {
   "cell_type": "code",
   "execution_count": 18,
   "metadata": {
    "colab": {
     "base_uri": "https://localhost:8080/",
     "height": 951
    },
    "id": "Q1UXfB3U2htt",
    "outputId": "a0bcae99-3894-4ad5-8e78-fd0a895f6da8"
   },
   "outputs": [
    {
     "name": "stderr",
     "output_type": "stream",
     "text": [
      "C:\\Anaconda3\\envs\\py4dp\\lib\\site-packages\\ipykernel_launcher.py:22: RuntimeWarning: invalid value encountered in true_divide\n"
     ]
    },
    {
     "name": "stdout",
     "output_type": "stream",
     "text": [
      "Fast convergence! Step 511\n",
      "25.575102907500114\n",
      "Fast convergence! Step 488\n",
      "Predicted values  [23.52 19.94 28.85 12.32 20.15 19.01 17.32 20.82 15.2  14.89  5.53 10.85\n",
      " 16.32  6.35 38.56 32.73 19.27 37.48 27.3  20.87 23.43 22.34 18.58 27.39\n",
      " 20.52  3.98 18.14 18.74 33.6  20.02 16.6  17.55 22.4  24.27 26.43 19.41\n",
      " 12.44 21.78 11.69 12.91 23.6  19.48 22.08 12.88 25.51 24.77 20.   25.35\n",
      " 12.91 22.76 20.73 15.84 22.12 32.37 12.04 21.85 21.43 18.23  9.27 22.65\n",
      " 22.73 20.97 30.51 26.75 15.26 30.   18.38 22.93 14.95 20.09 20.79 21.54\n",
      " 29.79 29.54 22.64  6.29 34.53 22.28 24.98 18.43 27.71 18.59 15.65 34.94\n",
      " 36.69 22.77 22.76  8.58 27.21 15.68 19.   11.29 27.62 32.54 20.65 21.77\n",
      "  0.86 28.94 11.69 19.58 22.64 21.  ]\n",
      "Real values       [22.6 50.  23.   8.3 21.2 19.9 20.6 18.7 16.1 18.6  8.8 17.2 14.9 10.5\n",
      " 50.  29.  23.  33.3 29.4 21.  23.8 19.1 20.4 29.1 19.3 23.1 19.6 19.4\n",
      " 38.7 18.7 14.6 20.  20.5 20.1 23.6 16.8  5.6 50.  14.5 13.3 23.9 20.\n",
      " 19.8 13.8 16.5 21.6 20.3 17.  11.8 27.5 15.6 23.1 24.3 42.8 15.6 21.7\n",
      " 17.1 17.2 15.  21.7 18.6 21.  33.1 31.5 20.1 29.8 15.2 15.  27.5 22.6\n",
      " 20.  21.4 23.5 31.2 23.7  7.4 48.3 24.4 22.6 18.3 23.3 17.1 27.9 44.8\n",
      " 50.  23.  21.4 10.2 23.3 23.2 18.9 13.4 21.9 24.8 11.9 24.3 13.8 24.7\n",
      " 14.1 18.7 28.1 19.8]\n",
      "Trained W         [ 1.389e+01 -2.730e+00  4.230e+00 -1.390e+00  3.510e+00 -1.000e-02\n",
      "  2.032e+01  1.580e+00 -1.840e+00  1.740e+00 -2.910e+00 -7.690e+00\n",
      "  7.510e+00 -1.349e+01]\n"
     ]
    },
    {
     "data": {
      "image/png": "[encoded data removed]",
      "text/plain": [
       "<Figure size 432x288 with 1 Axes>"
      ]
     },
     "metadata": {},
     "output_type": "display_data"
    },
    {
     "data": {
      "image/png": "[encoded data removed]",
      "text/plain": [
       "<Figure size 432x288 with 1 Axes>"
      ]
     },
     "metadata": {},
     "output_type": "display_data"
    }
   ],
   "source": [
    "LR_G = OlsGd()\n",
    "#LR_G.num_iteration\n",
    "LR_G.fit(X, y)\n",
    "y_pr = LR_G.predict(X)\n",
    "print(LR_G.score(X,y))\n",
    " \n",
    "X_train, X_test, Y_train, Y_test = train_test_split(X, y, test_size = 0.2, random_state = 0 )      \n",
    "# Model training\n",
    "model = OlsGd()\n",
    "#num_iteration = 1000, learning_rate = 0.05 \n",
    "model.fit(X_train, Y_train)\n",
    "# Prediction on test set\n",
    "Y_pred = model.predict(X_test)\n",
    "print( \"Predicted values \", np.round(Y_pred, 2)) \n",
    "print( \"Real values      \", Y_test)\n",
    "print( \"Trained W        \", np.round(model.w, 2) )\n",
    "\n",
    "# Visualization on test set \n",
    "      \n",
    "#plt.scatter( X_test[:,0], Y_test, color = 'blue' )      \n",
    "#plt.plot( X_test[:, 0], Y_pred, color = 'orange' )\n",
    "plt.scatter( Y_pred, Y_test, color = 'blue' )      \n",
    "plt.show()\n",
    "\n",
    "plt.title('Cost Function')\n",
    "plt.xlabel('No. of iterations')\n",
    "plt.ylabel('Cost')\n",
    "plt.plot(model.mse)\n",
    "plt.show()\n"
   ]
  },
  {
   "cell_type": "code",
   "execution_count": 14,
   "metadata": {
    "colab": {
     "base_uri": "https://localhost:8080/"
    },
    "id": "0xZaqjEOmy-F",
    "outputId": "8629f3e4-c5b9-4d08-c9e9-4db2d5066781"
   },
   "outputs": [
    {
     "data": {
      "text/plain": [
       "[23.03060423351543,\n",
       " 23.020463281842733,\n",
       " 23.010369853985473,\n",
       " 23.000323660117225,\n",
       " 22.990324412508954]"
      ]
     },
     "execution_count": 14,
     "metadata": {},
     "output_type": "execute_result"
    }
   ],
   "source": [
    "#y_pr, y.shape, Y_train.shape\n",
    "#np.mean(LR_G.mse)\n",
    "model.mse[-5:]"
   ]
  },
  {
   "cell_type": "code",
   "execution_count": 15,
   "metadata": {
    "colab": {
     "base_uri": "https://localhost:8080/"
    },
    "id": "GwqtuZoaNXOL",
    "outputId": "f5686930-0e0e-4624-c6a9-09ab59f12941"
   },
   "outputs": [
    {
     "name": "stdout",
     "output_type": "stream",
     "text": [
      "25.525466827989494\n"
     ]
    }
   ],
   "source": [
    "normalizer = Normalizer()\n",
    "normalizer.fit(X)\n",
    "X1 = normalizer.normalize(X)\n",
    "print(LR_G.score(X1,y))"
   ]
  },
  {
   "cell_type": "markdown",
   "metadata": {
    "id": "sHsslmM1v8HS"
   },
   "source": [
    "As number of iterations grows the MSE decreases. Obviously after approximately 400 iterations there is no much improvement in MSE. Ler's try to compare this function depending on LR\n",
    "\n",
    "The above number of iterations is checked by fast convergence (with threshold equals to 0.01 the convergence was on 481 step."
   ]
  },
  {
   "cell_type": "code",
   "execution_count": 19,
   "metadata": {
    "colab": {
     "base_uri": "https://localhost:8080/",
     "height": 376
    },
    "id": "TTiWDgaj4ceR",
    "outputId": "5f208672-3ac5-4a5e-b94c-be32a0b9553c"
   },
   "outputs": [
    {
     "name": "stderr",
     "output_type": "stream",
     "text": [
      "C:\\Anaconda3\\envs\\py4dp\\lib\\site-packages\\ipykernel_launcher.py:22: RuntimeWarning: invalid value encountered in true_divide\n"
     ]
    },
    {
     "name": "stdout",
     "output_type": "stream",
     "text": [
      "Fast convergence! Step 486\n",
      "Fast convergence! Step 326\n",
      "Fast convergence! Step 192\n",
      "Fast convergence! Step 1\n"
     ]
    },
    {
     "ename": "ValueError",
     "evalue": "x and y must have same first dimension, but have shapes (1000,) and (487,)",
     "output_type": "error",
     "traceback": [
      "\u001b[1;31m---------------------------------------------------------------------------\u001b[0m",
      "\u001b[1;31mValueError\u001b[0m                                Traceback (most recent call last)",
      "\u001b[1;32m~\\AppData\\Local\\Temp/ipykernel_19860/2787130862.py\u001b[0m in \u001b[0;36m<module>\u001b[1;34m\u001b[0m\n\u001b[0;32m     20\u001b[0m \u001b[0mplt\u001b[0m\u001b[1;33m.\u001b[0m\u001b[0mylim\u001b[0m\u001b[1;33m(\u001b[0m\u001b[1;36m0\u001b[0m\u001b[1;33m,\u001b[0m \u001b[1;36m200\u001b[0m\u001b[1;33m)\u001b[0m\u001b[1;33m\u001b[0m\u001b[1;33m\u001b[0m\u001b[0m\n\u001b[0;32m     21\u001b[0m \u001b[0mplt\u001b[0m\u001b[1;33m.\u001b[0m\u001b[0mplot\u001b[0m\u001b[1;33m(\u001b[0m\u001b[0mnp\u001b[0m\u001b[1;33m.\u001b[0m\u001b[0marange\u001b[0m\u001b[1;33m(\u001b[0m\u001b[1;36m0\u001b[0m\u001b[1;33m,\u001b[0m \u001b[1;36m1000\u001b[0m\u001b[1;33m)\u001b[0m\u001b[1;33m,\u001b[0m \u001b[0mmse_rate\u001b[0m\u001b[1;33m[\u001b[0m\u001b[1;36m0.01\u001b[0m\u001b[1;33m]\u001b[0m\u001b[1;33m,\u001b[0m \u001b[1;34m'r-'\u001b[0m\u001b[1;33m)\u001b[0m\u001b[1;33m\u001b[0m\u001b[1;33m\u001b[0m\u001b[0m\n\u001b[1;32m---> 22\u001b[1;33m \u001b[0mplt\u001b[0m\u001b[1;33m.\u001b[0m\u001b[0mplot\u001b[0m\u001b[1;33m(\u001b[0m\u001b[0mnp\u001b[0m\u001b[1;33m.\u001b[0m\u001b[0marange\u001b[0m\u001b[1;33m(\u001b[0m\u001b[1;36m0\u001b[0m\u001b[1;33m,\u001b[0m \u001b[1;36m1000\u001b[0m\u001b[1;33m)\u001b[0m\u001b[1;33m,\u001b[0m \u001b[0mmse_rate\u001b[0m\u001b[1;33m[\u001b[0m\u001b[1;36m0.05\u001b[0m\u001b[1;33m]\u001b[0m\u001b[1;33m,\u001b[0m \u001b[1;34m'b-'\u001b[0m\u001b[1;33m)\u001b[0m\u001b[1;33m\u001b[0m\u001b[1;33m\u001b[0m\u001b[0m\n\u001b[0m\u001b[0;32m     23\u001b[0m \u001b[0mplt\u001b[0m\u001b[1;33m.\u001b[0m\u001b[0mplot\u001b[0m\u001b[1;33m(\u001b[0m\u001b[0mnp\u001b[0m\u001b[1;33m.\u001b[0m\u001b[0marange\u001b[0m\u001b[1;33m(\u001b[0m\u001b[1;36m0\u001b[0m\u001b[1;33m,\u001b[0m \u001b[1;36m1000\u001b[0m\u001b[1;33m)\u001b[0m\u001b[1;33m,\u001b[0m \u001b[0mmse_rate\u001b[0m\u001b[1;33m[\u001b[0m\u001b[1;36m0.1\u001b[0m\u001b[1;33m]\u001b[0m\u001b[1;33m,\u001b[0m \u001b[1;34m'y-'\u001b[0m\u001b[1;33m)\u001b[0m\u001b[1;33m\u001b[0m\u001b[1;33m\u001b[0m\u001b[0m\n\u001b[0;32m     24\u001b[0m \u001b[0mplt\u001b[0m\u001b[1;33m.\u001b[0m\u001b[0mplot\u001b[0m\u001b[1;33m(\u001b[0m\u001b[0mnp\u001b[0m\u001b[1;33m.\u001b[0m\u001b[0marange\u001b[0m\u001b[1;33m(\u001b[0m\u001b[1;36m0\u001b[0m\u001b[1;33m,\u001b[0m \u001b[1;36m1000\u001b[0m\u001b[1;33m)\u001b[0m\u001b[1;33m,\u001b[0m \u001b[0mmse_rate\u001b[0m\u001b[1;33m[\u001b[0m\u001b[1;36m0.25\u001b[0m\u001b[1;33m]\u001b[0m\u001b[1;33m,\u001b[0m \u001b[1;34m'g-'\u001b[0m\u001b[1;33m)\u001b[0m\u001b[1;33m\u001b[0m\u001b[1;33m\u001b[0m\u001b[0m\n",
      "\u001b[1;32mC:\\Anaconda3\\envs\\py4dp\\lib\\site-packages\\matplotlib\\pyplot.py\u001b[0m in \u001b[0;36mplot\u001b[1;34m(scalex, scaley, data, *args, **kwargs)\u001b[0m\n\u001b[0;32m   3019\u001b[0m     return gca().plot(\n\u001b[0;32m   3020\u001b[0m         \u001b[1;33m*\u001b[0m\u001b[0margs\u001b[0m\u001b[1;33m,\u001b[0m \u001b[0mscalex\u001b[0m\u001b[1;33m=\u001b[0m\u001b[0mscalex\u001b[0m\u001b[1;33m,\u001b[0m \u001b[0mscaley\u001b[0m\u001b[1;33m=\u001b[0m\u001b[0mscaley\u001b[0m\u001b[1;33m,\u001b[0m\u001b[1;33m\u001b[0m\u001b[1;33m\u001b[0m\u001b[0m\n\u001b[1;32m-> 3021\u001b[1;33m         **({\"data\": data} if data is not None else {}), **kwargs)\n\u001b[0m\u001b[0;32m   3022\u001b[0m \u001b[1;33m\u001b[0m\u001b[0m\n\u001b[0;32m   3023\u001b[0m \u001b[1;33m\u001b[0m\u001b[0m\n",
      "\u001b[1;32mC:\\Anaconda3\\envs\\py4dp\\lib\\site-packages\\matplotlib\\axes\\_axes.py\u001b[0m in \u001b[0;36mplot\u001b[1;34m(self, scalex, scaley, data, *args, **kwargs)\u001b[0m\n\u001b[0;32m   1603\u001b[0m         \"\"\"\n\u001b[0;32m   1604\u001b[0m         \u001b[0mkwargs\u001b[0m \u001b[1;33m=\u001b[0m \u001b[0mcbook\u001b[0m\u001b[1;33m.\u001b[0m\u001b[0mnormalize_kwargs\u001b[0m\u001b[1;33m(\u001b[0m\u001b[0mkwargs\u001b[0m\u001b[1;33m,\u001b[0m \u001b[0mmlines\u001b[0m\u001b[1;33m.\u001b[0m\u001b[0mLine2D\u001b[0m\u001b[1;33m)\u001b[0m\u001b[1;33m\u001b[0m\u001b[1;33m\u001b[0m\u001b[0m\n\u001b[1;32m-> 1605\u001b[1;33m         \u001b[0mlines\u001b[0m \u001b[1;33m=\u001b[0m \u001b[1;33m[\u001b[0m\u001b[1;33m*\u001b[0m\u001b[0mself\u001b[0m\u001b[1;33m.\u001b[0m\u001b[0m_get_lines\u001b[0m\u001b[1;33m(\u001b[0m\u001b[1;33m*\u001b[0m\u001b[0margs\u001b[0m\u001b[1;33m,\u001b[0m \u001b[0mdata\u001b[0m\u001b[1;33m=\u001b[0m\u001b[0mdata\u001b[0m\u001b[1;33m,\u001b[0m \u001b[1;33m**\u001b[0m\u001b[0mkwargs\u001b[0m\u001b[1;33m)\u001b[0m\u001b[1;33m]\u001b[0m\u001b[1;33m\u001b[0m\u001b[1;33m\u001b[0m\u001b[0m\n\u001b[0m\u001b[0;32m   1606\u001b[0m         \u001b[1;32mfor\u001b[0m \u001b[0mline\u001b[0m \u001b[1;32min\u001b[0m \u001b[0mlines\u001b[0m\u001b[1;33m:\u001b[0m\u001b[1;33m\u001b[0m\u001b[1;33m\u001b[0m\u001b[0m\n\u001b[0;32m   1607\u001b[0m             \u001b[0mself\u001b[0m\u001b[1;33m.\u001b[0m\u001b[0madd_line\u001b[0m\u001b[1;33m(\u001b[0m\u001b[0mline\u001b[0m\u001b[1;33m)\u001b[0m\u001b[1;33m\u001b[0m\u001b[1;33m\u001b[0m\u001b[0m\n",
      "\u001b[1;32mC:\\Anaconda3\\envs\\py4dp\\lib\\site-packages\\matplotlib\\axes\\_base.py\u001b[0m in \u001b[0;36m__call__\u001b[1;34m(self, data, *args, **kwargs)\u001b[0m\n\u001b[0;32m    313\u001b[0m                 \u001b[0mthis\u001b[0m \u001b[1;33m+=\u001b[0m \u001b[0margs\u001b[0m\u001b[1;33m[\u001b[0m\u001b[1;36m0\u001b[0m\u001b[1;33m]\u001b[0m\u001b[1;33m,\u001b[0m\u001b[1;33m\u001b[0m\u001b[1;33m\u001b[0m\u001b[0m\n\u001b[0;32m    314\u001b[0m                 \u001b[0margs\u001b[0m \u001b[1;33m=\u001b[0m \u001b[0margs\u001b[0m\u001b[1;33m[\u001b[0m\u001b[1;36m1\u001b[0m\u001b[1;33m:\u001b[0m\u001b[1;33m]\u001b[0m\u001b[1;33m\u001b[0m\u001b[1;33m\u001b[0m\u001b[0m\n\u001b[1;32m--> 315\u001b[1;33m             \u001b[1;32myield\u001b[0m \u001b[1;32mfrom\u001b[0m \u001b[0mself\u001b[0m\u001b[1;33m.\u001b[0m\u001b[0m_plot_args\u001b[0m\u001b[1;33m(\u001b[0m\u001b[0mthis\u001b[0m\u001b[1;33m,\u001b[0m \u001b[0mkwargs\u001b[0m\u001b[1;33m)\u001b[0m\u001b[1;33m\u001b[0m\u001b[1;33m\u001b[0m\u001b[0m\n\u001b[0m\u001b[0;32m    316\u001b[0m \u001b[1;33m\u001b[0m\u001b[0m\n\u001b[0;32m    317\u001b[0m     \u001b[1;32mdef\u001b[0m \u001b[0mget_next_color\u001b[0m\u001b[1;33m(\u001b[0m\u001b[0mself\u001b[0m\u001b[1;33m)\u001b[0m\u001b[1;33m:\u001b[0m\u001b[1;33m\u001b[0m\u001b[1;33m\u001b[0m\u001b[0m\n",
      "\u001b[1;32mC:\\Anaconda3\\envs\\py4dp\\lib\\site-packages\\matplotlib\\axes\\_base.py\u001b[0m in \u001b[0;36m_plot_args\u001b[1;34m(self, tup, kwargs, return_kwargs)\u001b[0m\n\u001b[0;32m    499\u001b[0m \u001b[1;33m\u001b[0m\u001b[0m\n\u001b[0;32m    500\u001b[0m         \u001b[1;32mif\u001b[0m \u001b[0mx\u001b[0m\u001b[1;33m.\u001b[0m\u001b[0mshape\u001b[0m\u001b[1;33m[\u001b[0m\u001b[1;36m0\u001b[0m\u001b[1;33m]\u001b[0m \u001b[1;33m!=\u001b[0m \u001b[0my\u001b[0m\u001b[1;33m.\u001b[0m\u001b[0mshape\u001b[0m\u001b[1;33m[\u001b[0m\u001b[1;36m0\u001b[0m\u001b[1;33m]\u001b[0m\u001b[1;33m:\u001b[0m\u001b[1;33m\u001b[0m\u001b[1;33m\u001b[0m\u001b[0m\n\u001b[1;32m--> 501\u001b[1;33m             raise ValueError(f\"x and y must have same first dimension, but \"\n\u001b[0m\u001b[0;32m    502\u001b[0m                              f\"have shapes {x.shape} and {y.shape}\")\n\u001b[0;32m    503\u001b[0m         \u001b[1;32mif\u001b[0m \u001b[0mx\u001b[0m\u001b[1;33m.\u001b[0m\u001b[0mndim\u001b[0m \u001b[1;33m>\u001b[0m \u001b[1;36m2\u001b[0m \u001b[1;32mor\u001b[0m \u001b[0my\u001b[0m\u001b[1;33m.\u001b[0m\u001b[0mndim\u001b[0m \u001b[1;33m>\u001b[0m \u001b[1;36m2\u001b[0m\u001b[1;33m:\u001b[0m\u001b[1;33m\u001b[0m\u001b[1;33m\u001b[0m\u001b[0m\n",
      "\u001b[1;31mValueError\u001b[0m: x and y must have same first dimension, but have shapes (1000,) and (487,)"
     ]
    },
    {
     "data": {
      "image/png": "[encoded data removed]",
      "text/plain": [
       "<Figure size 432x288 with 1 Axes>"
      ]
     },
     "metadata": {},
     "output_type": "display_data"
    }
   ],
   "source": [
    "#rs = ShuffleSplit(n_splits=10, test_size=.2)\n",
    "#, random_state=0\n",
    "#for train_index, test_index in rs.split(X, y):\n",
    "#X_train, X_test, y_train, y_test = X[train_index], X[test_index], y[train_index], y[test_index]\n",
    "  \n",
    "X_train, X_test, Y_train, Y_test = train_test_split(X, y, test_size = 0.2, random_state = 0 )\n",
    "mse_rate = {}\n",
    "for rate in [0.01, 0.05, 0.1, 0.25, 0.5]:\n",
    "  LR_GRID = OlsGd(learning_rate=rate)\n",
    "  LR_GRID.fit(X_train, Y_train)\n",
    "  y_train_pred = LR_GRID.predict(X_train)\n",
    "  y_test_pred = LR_GRID.predict(X_test)\n",
    "  mse_rate[rate] = LR_GRID.mse\n",
    "\n",
    "\n",
    "\n",
    "# Visualization on test set \n",
    "      \n",
    "#plt.scatter( X_test[:,0], Y_test, color = 'blue' )   \n",
    "plt.ylim(0, 200)\n",
    "plt.plot(np.arange(0, 1000), mse_rate[0.01], 'r-')\n",
    "plt.plot(np.arange(0, 1000), mse_rate[0.05], 'b-')\n",
    "plt.plot(np.arange(0, 1000), mse_rate[0.1], 'y-')\n",
    "plt.plot(np.arange(0, 1000), mse_rate[0.25], 'g-')\n",
    "plt.plot(np.arange(0, 1000), mse_rate[0.5], 'p')\n",
    "plt.legend(mse_rate.keys())\n",
    "plt.show()\n",
    "\n"
   ]
  },
  {
   "cell_type": "markdown",
   "metadata": {
    "id": "1ae2qJED33PK"
   },
   "source": [
    "The bigger the learning rate (out of our chosen samples) the faster gradient converges. The smaller it is the longer it takes to find the optima.\n",
    "\n",
    "We can found the number of iterations automatically by using epsilon as a threshold to stop the loop. If the difference between current_loss and old_loss is smaller than our epsilon we can stop the iteration (confirmed above with eps=0.01)"
   ]
  },
  {
   "cell_type": "code",
   "execution_count": null,
   "metadata": {
    "id": "OzMy3JDViFH7"
   },
   "outputs": [],
   "source": [
    "\n"
   ]
  },
  {
   "cell_type": "markdown",
   "metadata": {
    "id": "7HVfnXvZFi98"
   },
   "source": [
    "## Exercise 2 - Ridge Linear Regression\n",
    "\n",
    "Recall that ridge regression is identical to OLS but with a L2 penalty over the weights:\n",
    "\n",
    "$L(y,\\hat{y})=\\sum_{i=1}^{i=N}{(y^{(i)}-\\hat{y}^{(i)})^2} + \\lambda \\left\\Vert w \\right\\Vert_2^2$\n",
    "\n",
    "where $y^{(i)}$ is the **true** value and $\\hat{y}^{(i)}$ is the **predicted** value of the $i_{th}$ example, and $N$ is the number of examples\n",
    "\n",
    "* Show, by differentiating the above loss, that the analytical solution is $w_{Ridge}=(X^TX+\\lambda I)^{-1}X^Ty$\n",
    "* Change `OrdinaryLinearRegression` and `OrdinaryLinearRegressionGradientDescent` classes to work also for ridge regression (do not use the random noise analogy but use the analytical derivation). Either add a parameter, or use inheritance.\n",
    "* **Bonus: Noise as a regularizer**: Show that OLS (ordinary least square), if one adds multiplicative noise to the features the **average** solution for $W$ is equivalent to Ridge regression. In other words, if $X'= X*G$ where $G$ is an uncorrelated noise with variance $\\sigma$ and mean 1, then solving for $X'$ with OLS is like solving Ridge for $X$. What is the interpretation? \n",
    "\n"
   ]
  },
  {
   "cell_type": "code",
   "execution_count": 20,
   "metadata": {
    "id": "fsDxzAr8IGJO"
   },
   "outputs": [],
   "source": [
    "class RidgeLs(Ols):\n",
    "  def __init__(self, ridge_lambda, *wargs, **kwargs):\n",
    "    super(RidgeLs,self).__init__(*wargs, **kwargs)\n",
    "    self.ridge_lambda = ridge_lambda\n",
    "    \n",
    "  def _fit(self, X, Y):\n",
    "    #Closed form of ridge regression\n",
    "    m,n = X.shape\n",
    "    I = np.eye((n))\n",
    "    return (np.linalg.inv(X.T @ X + self.ridge_lambda * I) @ X.T @ Y)\n"
   ]
  },
  {
   "cell_type": "code",
   "execution_count": 21,
   "metadata": {
    "colab": {
     "base_uri": "https://localhost:8080/"
    },
    "id": "hU_UnG8YIGJP",
    "outputId": "9d2deed9-4ba2-4ea0-b59f-b48287202580"
   },
   "outputs": [
    {
     "name": "stdout",
     "output_type": "stream",
     "text": [
      "mse for Ridge linear regression = 21.894831181729202\n"
     ]
    }
   ],
   "source": [
    "ridge_Ols = RidgeLs(ridge_lambda = 10)\n",
    "ridge_Ols.fit(X,y)\n",
    "mse = ridge_Ols.score(X,y)\n",
    "# gradient_descent_model.predict(X)\n",
    "print('mse for Ridge linear regression = %s' %(mse))"
   ]
  },
  {
   "cell_type": "markdown",
   "metadata": {
    "id": "hdgllhvCAPkX"
   },
   "source": [
    "MSE is the same as for written class"
   ]
  },
  {
   "cell_type": "markdown",
   "metadata": {
    "id": "n3X2nhp_ALjh"
   },
   "source": [
    "### Answer\n",
    "First we'll rewrite the Ridge regression formula to matrix notation and further break it down: <br>\n",
    "$L=(y-Xw)^{T}(y-Xw)+\\lambda w^{T}w=y^{T}y-2w^{T}X^{T}y+w^{T}(X^{T}X+\\lambda I)w$ <br>\n",
    "Now we derive by w and use matrix differentiation rule $\\frac{\\partial x^{T}Ax}{\\partial x} =(A+A^{T})x=2Ax $   (assuming symetric matrix A): <br>\n",
    "$\\frac{\\partial L}{\\partial w} =-2X^{T}y+2(X^{T}X+\\lambda I)=0$ <br>\n",
    "$(X^{T}X+\\lambda I)w=X^{T}y$ <br>\n",
    "$\\Rightarrow w_{ridge}=(X^{T}X+\\lambda I)^{-1}X^{T}y$"
   ]
  },
  {
   "cell_type": "code",
   "execution_count": null,
   "metadata": {
    "id": "Zkp8oISZ_7F4"
   },
   "outputs": [],
   "source": []
  },
  {
   "cell_type": "code",
   "execution_count": null,
   "metadata": {
    "colab": {
     "base_uri": "https://localhost:8080/",
     "height": 476
    },
    "id": "dnB9a7L1Iyvz",
    "outputId": "1cf6bc27-85ad-45b0-bbd2-19fc0519ca5e"
   },
   "outputs": [],
   "source": [
    "#Use scikitlearn implementation for OLS, Ridge and Lasso\n",
    "from sklearn.linear_model import LinearRegression\n",
    "from sklearn.linear_model import ridge_regression\n",
    "lr1 = LinearRegression()\n",
    "lr1.fit(X,y)\n",
    "lr1.coef_\n",
    "y_pred1 = lr.predict(X)\n",
    "\n",
    "plt.scatter(y,y_pred1)\n",
    "plt.xlabel('Y')\n",
    "plt.ylabel('Predicted Y')\n",
    "\n",
    "\n",
    "lr_r = ridge_regression(X,y, alpha=0.01,  solver='lsqr')\n",
    "#return_intercept=True,\n",
    "print('Ridge Linear Regression coeff', lr_r)\n",
    "print('SKlearn Linear Regression coeff', lr1.coef_)\n",
    "print('Written Linear Regression coeff:', lr.w[1:])"
   ]
  },
  {
   "cell_type": "code",
   "execution_count": null,
   "metadata": {
    "colab": {
     "base_uri": "https://localhost:8080/"
    },
    "id": "bl9rcSn-BEyf",
    "outputId": "02e8953f-e5e2-4b0f-fe92-8eed963167e0"
   },
   "outputs": [],
   "source": [
    "\n",
    "lr_r\n"
   ]
  },
  {
   "cell_type": "code",
   "execution_count": null,
   "metadata": {
    "colab": {
     "base_uri": "https://localhost:8080/"
    },
    "id": "t8jekKZpBXba",
    "outputId": "0a2c9c3e-d98f-4b8a-8c01-2019643b849f"
   },
   "outputs": [],
   "source": [
    "lr1.coef_"
   ]
  },
  {
   "cell_type": "code",
   "execution_count": null,
   "metadata": {
    "id": "47epETxMAyS2"
   },
   "outputs": [],
   "source": []
  }
 ],
 "metadata": {
  "colab": {
   "collapsed_sections": [],
   "name": "Копия блокнота \"KN\"Regression_&_Regularization_Exercise.ipynb\"\"",
   "provenance": []
  },
  "kernelspec": {
   "display_name": "Python 3 (ipykernel)",
   "language": "python",
   "name": "python3"
  },
  "language_info": {
   "codemirror_mode": {
    "name": "ipython",
    "version": 3
   },
   "file_extension": ".py",
   "mimetype": "text/x-python",
   "name": "python",
   "nbconvert_exporter": "python",
   "pygments_lexer": "ipython3",
   "version": "3.7.12"
  }
 },
 "nbformat": 4,
 "nbformat_minor": 4
}
