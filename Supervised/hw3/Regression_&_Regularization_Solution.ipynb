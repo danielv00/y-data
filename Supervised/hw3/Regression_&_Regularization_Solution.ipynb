{
 "cells": [
  {
   "cell_type": "markdown",
   "metadata": {
    "id": "chEqqJbLzFew"
   },
   "source": [
    "# Yandex Data Science School\n",
    "## Linear Regression & Regularization Solution.\n",
    "### Written by Dr. Hanan Shteingart."
   ]
  },
  {
   "cell_type": "markdown",
   "metadata": {
    "id": "3OikKp6WFcvE"
   },
   "source": [
    "## Solution 1"
   ]
  },
  {
   "cell_type": "code",
   "execution_count": null,
   "metadata": {
    "colab": {
     "base_uri": "https://localhost:8080/",
     "height": 53
    },
    "id": "eUd3ZYocGx7N",
    "outputId": "00ad2357-5990-4ef4-f530-b272407167a8"
   },
   "outputs": [
    {
     "name": "stdout",
     "output_type": "stream",
     "text": [
      "Populating the interactive namespace from numpy and matplotlib\n",
      "n=506 samples, p=13 features\n"
     ]
    }
   ],
   "source": [
    "# * What is $p$? what is $n$ in the above notation? hint: [shape](https://docs.scipy.org/doc/numpy-1.15.0/reference/generated/numpy.ndarray.shape.html)\n",
    "\n",
    "from sklearn.datasets import load_boston\n",
    "import numpy as np\n",
    "%pylab inline\n",
    "#load data\n",
    "from sklearn.preprocessing import normalize\n",
    "\n",
    "X, Y = load_boston(True)\n",
    "X = normalize(X)\n",
    "n,p = X.shape\n",
    "print('n={} samples, p={} features'.format(n,p))"
   ]
  },
  {
   "cell_type": "code",
   "execution_count": null,
   "metadata": {
    "id": "J29vqdSNJWWK"
   },
   "outputs": [],
   "source": [
    "# * write a model `Ols` which has a propoery $w$ and 3 methods: `fit`, `predict` and `score`.? hint: use [numpy.linalg.pinv](https://docs.scipy.org/doc/numpy-1.15.1/reference/generated/numpy.linalg.pinv.html) to be more efficient.\n",
    "\n",
    "class Ols(object):\n",
    "  def __init__(self):\n",
    "    self.w = None\n",
    "    \n",
    "  @staticmethod\n",
    "  def pad(X):\n",
    "    return np.pad(X, ((0,0),(1,0)), 'constant', constant_values=1)\n",
    "  \n",
    "  def fit(self, X, Y):\n",
    "    if len(Y.shape)==1:\n",
    "      Y = Y.reshape(-1,1)\n",
    "    self._fit(self.pad(X), Y)\n",
    "    return self\n",
    "  \n",
    "  def _fit(self, X, Y):\n",
    "    Xpinv = np.linalg.pinv(X)\n",
    "    self.w = np.dot(Xpinv, Y)\n",
    "    \n",
    "  def predict(self, X):\n",
    "    if self.w is None:\n",
    "      raise ValueError('model was not fitted')\n",
    "    return self._predict(self.pad(X))\n",
    "    \n",
    "  def _predict(self, X):\n",
    "    Yest = np.dot(X, self.w)\n",
    "    return Yest\n",
    "  \n",
    "  def score(self, X, Y):\n",
    "    if len(Y.shape)==1:\n",
    "      Y = Y.reshape(-1,1)\n",
    "    Yest = self.predict(X)\n",
    "    MSE = np.square(Yest - Y).mean()\n",
    "    return MSE"
   ]
  },
  {
   "cell_type": "code",
   "execution_count": null,
   "metadata": {
    "colab": {
     "base_uri": "https://localhost:8080/",
     "height": 35
    },
    "id": "NeJpidSSJKp8",
    "outputId": "3a9cb61d-822c-4352-fa7e-9e96882384ae"
   },
   "outputs": [
    {
     "name": "stdout",
     "output_type": "stream",
     "text": [
      "Training MSE = 21.60\n"
     ]
    }
   ],
   "source": [
    "# * Fit the model. What is the training MSE?\n",
    "model = Ols()\n",
    "model.fit(X,Y)\n",
    "MSE = model.score(X,Y)\n",
    "print('Training MSE = {:3.2f}'.format(MSE))"
   ]
  },
  {
   "cell_type": "code",
   "execution_count": null,
   "metadata": {
    "colab": {
     "base_uri": "https://localhost:8080/",
     "height": 281
    },
    "id": "upNMSWAhJNsK",
    "outputId": "96d5c53e-d2dd-4d56-d985-fbd85cd9ea4d"
   },
   "outputs": [
    {
     "data": {
      "image/png": "[encoded data removed]",
      "text/plain": [
       "<matplotlib.figure.Figure at 0x7f5c84b4ad50>"
      ]
     },
     "metadata": {
      "tags": []
     },
     "output_type": "display_data"
    }
   ],
   "source": [
    "# * Plot a scatter plot where on x-axis plot $Y$ and in the y-axis $\\hat{Y}_{OLS}$\n",
    "Yest = model.predict(X)\n",
    "plt.plot(Y, Yest, '.', label='data')\n",
    "plt.xlabel('$Y$')\n",
    "plt.ylabel('$\\hat{Y}$')\n",
    "plt.xlim(0,60)\n",
    "plt.ylim(0,60)\n",
    "plt.plot(plt.xlim(), plt.xlim(), 'r:', label='equal')\n",
    "plt.legend()\n",
    "plt.axis('square');"
   ]
  },
  {
   "cell_type": "code",
   "execution_count": null,
   "metadata": {
    "colab": {
     "base_uri": "https://localhost:8080/",
     "height": 53
    },
    "id": "2UN7M0Q7JE2Q",
    "outputId": "ad19707a-9ffe-46e9-b2d4-024230d31773"
   },
   "outputs": [
    {
     "name": "stdout",
     "output_type": "stream",
     "text": [
      "(21.156239464725395, 23.955552890018005)\n"
     ]
    },
    {
     "data": {
      "text/plain": [
       "Ttest_relResult(statistic=-1.6287929846232896, pvalue=0.11982500515253404)"
      ]
     },
     "execution_count": 15,
     "metadata": {
      "tags": []
     },
     "output_type": "execute_result"
    }
   ],
   "source": [
    "# * Split the data to 75% train and 25% test 20 times. What is the average MSE now for train and test? hint: use [train_test_split](http://scikit-learn.org/stable/modules/generated/sklearn.model_selection.train_test_split.html) or [ShuffleSplit](http://scikit-learn.org/stable/modules/generated/sklearn.model_selection.ShuffleSplit.html).\n",
    "\n",
    "from sklearn.model_selection import train_test_split, ShuffleSplit\n",
    "from sklearn.metrics import mean_squared_error\n",
    "from scipy.stats import ttest_rel\n",
    "mse_train = []\n",
    "mse_test = []\n",
    "for trn, tst in ShuffleSplit(n_splits=20, test_size=0.25).split(X, Y):  \n",
    "  X_trn, Y_trn = X[trn], Y[trn]\n",
    "  X_tst, Y_tst = X[tst], Y[tst]\n",
    "  model.fit(X_trn, Y_trn)\n",
    "  mse_train.append(model.score(X_trn, Y_trn))\n",
    "  mse_test.append(model.score(X_tst, Y_tst))\n",
    "mmse_train = np.mean(mse_train)\n",
    "mmse_test = np.mean(mse_test)\n",
    "print(mmse_train, mmse_test)\n",
    "ttest_rel(mse_train, mse_test)"
   ]
  },
  {
   "cell_type": "code",
   "execution_count": null,
   "metadata": {
    "id": "Ls347TIhJIeA"
   },
   "outputs": [],
   "source": [
    "# Write a new class OlsGd which solves the problem using gradinet descent. \n",
    "# The class should get as a parameter the learning rate and number of iteration. \n",
    "# Plot the loss convergance. \n",
    "# What is the effect of learning rate? \n",
    "# How would you find number of iteration automatically? \n",
    "# Note: Gradient Descent does not work well when features are not scaled evenly (why?!). Be sure to normalize your feature first.\n",
    "class Normalizer():\n",
    "  def __init__(self):\n",
    "    self.mean = None\n",
    "    self.std = None\n",
    "  def fit(self, X):\n",
    "    self.mean = X.mean()\n",
    "    self.std = X.std()\n",
    "  def predict(self, X):\n",
    "    if (self.mean is None) or (self.std is None):\n",
    "      raise ValueError('you should call fit before predict')\n",
    "    return (X-self.mean)/self.std\n",
    "    \n",
    "class OlsGd(Ols):\n",
    "  \n",
    "  def __init__(self, learning_rate=.05, \n",
    "               num_iteration=1000, \n",
    "               normalize=True,\n",
    "               early_stop=True,\n",
    "               verbose=True):\n",
    "    \n",
    "    super(OlsGd, self).__init__()\n",
    "    self.learning_rate = learning_rate\n",
    "    self.num_iteration = num_iteration\n",
    "    self.early_stop = early_stop\n",
    "    self.normalize = normalize\n",
    "    self.normalizer = Normalizer()    \n",
    "    self.verbose = verbose\n",
    "    \n",
    "  def _fit(self, X, Y, reset=True, track_loss=True):\n",
    "    Xorig = X\n",
    "    if self.normalize:\n",
    "      self.normalizer.fit(X)\n",
    "      X = self.normalizer.predict(X)\n",
    "    if (self.w is None) or reset:\n",
    "      self.w = np.zeros((X.shape[1],1))\n",
    "    self.loss = []\n",
    "    for iter in range(self.num_iteration):\n",
    "      if self.verbose:\n",
    "        print('iter %d/%d'%(iter, self.num_iteration))\n",
    "      self._step(X,Y)\n",
    "      if track_loss:\n",
    "        loss = self.score(Xorig[:,1:],Y) # get rid of the padded 1, use Xorig otherwise it will be padded twice\n",
    "        if self.verbose:\n",
    "          print(loss)\n",
    "        self.loss.append(loss)\n",
    "        if self.early_stop and (len(self.loss)>=2) and (self.loss[-2] < self.loss[-1]):\n",
    "          if self.verbose:\n",
    "            print('loss is not decreasing')\n",
    "          break\n",
    "        \n",
    "  def _predict(self, X):\n",
    "    if self.normalize:\n",
    "      if self.verbose:\n",
    "        print('normalizing X')\n",
    "      X = self.normalizer.predict(X)\n",
    "    return super(OlsGd, self)._predict(X)\n",
    "  \n",
    "  def _step(self, X, Y):\n",
    "      n = X.shape[0]\n",
    "      Yhat = np.dot(X, self.w)\n",
    "      err =  Yhat - Y\n",
    "      grad = np.dot(X.T, err)/n\n",
    "      self.w = self.w - self.learning_rate * grad"
   ]
  },
  {
   "cell_type": "code",
   "execution_count": null,
   "metadata": {
    "colab": {
     "base_uri": "https://localhost:8080/",
     "height": 283
    },
    "id": "_sBE3L1qAHJG",
    "outputId": "f5af664b-5591-4c3b-f507-ef055990c096"
   },
   "outputs": [
    {
     "data": {
      "text/plain": [
       "<matplotlib.legend.Legend at 0x7f5c822bd650>"
      ]
     },
     "execution_count": 17,
     "metadata": {
      "tags": []
     },
     "output_type": "execute_result"
    },
    {
     "data": {
      "image/png": "[encoded data removed]",
      "text/plain": [
       "<matplotlib.figure.Figure at 0x7f5c84ae17d0>"
      ]
     },
     "metadata": {
      "tags": []
     },
     "output_type": "display_data"
    }
   ],
   "source": [
    "model = OlsGd(verbose=False)\n",
    "for learning_rate in [0.1, 0.05, 0.01]:\n",
    "  model.learning_rate = learning_rate\n",
    "  model.fit(X,Y)\n",
    "  plt.semilogy(model.loss, label='learning_rate={}'.format(model.learning_rate))\n",
    "plt.legend()"
   ]
  },
  {
   "cell_type": "code",
   "execution_count": null,
   "metadata": {
    "id": "zRk_pom3RdWE"
   },
   "outputs": [],
   "source": [
    "class OlsCd(Ols):\n",
    "  \"\"\"coordinate descent\"\"\"\n",
    "  \n",
    "  def __init__(self, \n",
    "               num_iteration=10, \n",
    "               verbose=True):\n",
    "    super(OlsCd, self).__init__()\n",
    "    self.num_iteration = num_iteration\n",
    "    self.verbose = verbose\n",
    "    self.loss = []\n",
    "    \n",
    "  def _fit(self, X, Y, reset=True, track_loss=True):\n",
    "    if (self.w is None) or reset:\n",
    "      self.w = np.zeros((X.shape[1],1))\n",
    "    for iter in range(self.num_iteration):\n",
    "      if track_loss:\n",
    "        loss = self.score(X[:,1:],Y) # get rid of the padded 1, use Xorig otherwise it will be padded twice\n",
    "        if self.verbose:\n",
    "          print(loss)\n",
    "        self.loss.append(loss)\n",
    "      if self.verbose:\n",
    "        print('iter %d/%d'%(iter, self.num_iteration))\n",
    "      self._step(X,Y)\n",
    "          \n",
    "  def _step(self, X, Y):\n",
    "    n, p = X.shape\n",
    "    for i in range(p):\n",
    "      X_not_i = np.delete(X, i, axis=1)\n",
    "      w_not_i = np.delete(self.w, i, axis=0)\n",
    "      Xi = X[:,i]\n",
    "      Yhat_i = np.dot(X_not_i, w_not_i) \n",
    "      wi = -np.dot(Xi.T, Yhat_i-Y)/np.dot(Xi.T, Xi)\n",
    "      self.w[i] = wi"
   ]
  },
  {
   "cell_type": "code",
   "execution_count": null,
   "metadata": {
    "colab": {
     "base_uri": "https://localhost:8080/",
     "height": 283
    },
    "id": "QzF4TA5_e987",
    "outputId": "880267d0-f2b6-4774-e630-b7f0c5dfb730"
   },
   "outputs": [
    {
     "data": {
      "text/plain": [
       "<matplotlib.legend.Legend at 0x7f5c82142290>"
      ]
     },
     "execution_count": 20,
     "metadata": {
      "tags": []
     },
     "output_type": "execute_result"
    },
    {
     "data": {
      "image/png": "[encoded data removed]",
      "text/plain": [
       "<matplotlib.figure.Figure at 0x7f5c822bdf50>"
      ]
     },
     "metadata": {
      "tags": []
     },
     "output_type": "display_data"
    }
   ],
   "source": [
    "from sklearn.preprocessing import normalize\n",
    "model = OlsCd(num_iteration=500, verbose=False)\n",
    "Xnormalized = normalize(X)\n",
    "model.fit(Xnormalized,Y)\n",
    "model.score(Xnormalized,Y)\n",
    "plt.plot(model.loss, label='coordinate descent')\n",
    "plt.hlines(MSE, *plt.xlim(), color='r', label='analytic solution')\n",
    "model = OlsGd(learning_rate=0.001, verbose=False, num_iteration=500)\n",
    "model.fit(X,Y)\n",
    "plt.plot(model.loss, label='gradient descent')\n",
    "plt.legend()"
   ]
  },
  {
   "cell_type": "markdown",
   "metadata": {
    "id": "38JKFitUmudi"
   },
   "source": [
    "## Solution 2"
   ]
  },
  {
   "cell_type": "code",
   "execution_count": null,
   "metadata": {
    "id": "hU5P-olWmyUS"
   },
   "outputs": [],
   "source": [
    "class RidgeLs(Ols):\n",
    "  def __init__(self, ridge_lambda, *wargs, **kwargs):\n",
    "    super(RidgeLs,self).__init__(*wargs, **kwargs)\n",
    "    self.ridge_lambda = ridge_lambda\n",
    "    \n",
    "  def _fit(self, X, Y):\n",
    "    C = np.dot(X.T,X)\n",
    "    L = self.ridge_lambda * np.eye(X.shape[1])\n",
    "    CLinv = np.linalg.inv(C+L)\n",
    "    Xpinv = np.dot(CLinv, X.T)\n",
    "    self.w = np.dot(Xpinv, Y)\n"
   ]
  },
  {
   "cell_type": "code",
   "execution_count": null,
   "metadata": {
    "colab": {
     "base_uri": "https://localhost:8080/",
     "height": 53
    },
    "id": "OKkh2OtkrfBI",
    "outputId": "b7e4e7d9-a889-463d-db5a-410e7c03d403"
   },
   "outputs": [
    {
     "name": "stdout",
     "output_type": "stream",
     "text": [
      "(21.282346263618162, 29.505302590421717)\n"
     ]
    },
    {
     "data": {
      "text/plain": [
       "Ttest_relResult(statistic=-0.5920195950624112, pvalue=0.5684095445536452)"
      ]
     },
     "execution_count": 32,
     "metadata": {
      "tags": []
     },
     "output_type": "execute_result"
    }
   ],
   "source": [
    "X, Y = load_boston(True)\n",
    "from sklearn.preprocessing import normalize\n",
    "X = normalize(X)\n",
    "from sklearn.model_selection import train_test_split, ShuffleSplit, KFold\n",
    "from sklearn.metrics import mean_squared_error\n",
    "from scipy.stats import ttest_rel\n",
    "mse_train = []\n",
    "mse_test = []\n",
    "#model = RidgeLs(ridge_lambda=0.001)\n",
    "model = Ols()\n",
    "for trn, tst in KFold(10).split(X, Y):  \n",
    "  X_trn, Y_trn = X[trn], Y[trn]\n",
    "  X_tst, Y_tst = X[tst], Y[tst]\n",
    "  model.fit(X_trn, Y_trn)\n",
    "  mse_train.append(model.score(X_trn, Y_trn))\n",
    "  mse_test.append(model.score(X_tst, Y_tst))\n",
    "mmse_train = np.mean(mse_train)\n",
    "mmse_test = np.mean(mse_test)\n",
    "print(mmse_train, mmse_test)\n",
    "ttest_rel(mse_train, mse_test)"
   ]
  },
  {
   "cell_type": "code",
   "execution_count": null,
   "metadata": {
    "colab": {
     "base_uri": "https://localhost:8080/",
     "height": 72
    },
    "id": "iAPnBtzhrfqj",
    "outputId": "2f7fda73-fbf7-454f-c40c-600b833db609"
   },
   "outputs": [
    {
     "name": "stdout",
     "output_type": "stream",
     "text": [
      "(3000.3810328390514, 'LinearRegression')\n",
      "(2999.5520825101544, 'RidgeCV')\n",
      "(3014.1809358291275, 'LassoCV')\n"
     ]
    }
   ],
   "source": [
    "from sklearn.datasets import load_diabetes\n",
    "X, Y = load_diabetes(True)\n",
    "from sklearn.linear_model import Ridge as Ridge, LinearRegression, RidgeCV, LassoCV\n",
    "from sklearn.metrics import mean_squared_error\n",
    "from sklearn.model_selection import cross_val_score\n",
    "for model in [LinearRegression(), RidgeCV(normalize=True), LassoCV(normalize=True)]:\n",
    "  score = cross_val_score(model, X,Y, scoring='neg_mean_squared_error',cv=10)\n",
    "  print(-score.mean(), model.__class__.__name__)"
   ]
  },
  {
   "cell_type": "code",
   "execution_count": null,
   "metadata": {
    "colab": {
     "base_uri": "https://localhost:8080/",
     "height": 35
    },
    "id": "uCdCVo8quAsz",
    "outputId": "4dc91bc3-60b5-4030-c557-f9fb15488cdd"
   },
   "outputs": [
    {
     "name": "stdout",
     "output_type": "stream",
     "text": [
      "22.044452243088195\n"
     ]
    }
   ],
   "source": [
    "model = Ridge()\n",
    "X, Y = load_boston(True)\n",
    "model.fit(X,Y)\n",
    "model.score(X,Y)\n",
    "print(mean_squared_error(Y, model.predict(X)))"
   ]
  },
  {
   "cell_type": "code",
   "execution_count": null,
   "metadata": {
    "id": "XlTir901uCSa"
   },
   "outputs": [],
   "source": [
    "from sklearn.model_selection import validation_curve"
   ]
  },
  {
   "cell_type": "markdown",
   "metadata": {
    "id": "863C9LE4OgnC",
    "pycharm": {
     "name": "#%% md\n"
    }
   },
   "source": [
    "## The noise equaivalent of ridge regression was suppose to be an analytical question. The solution is given in [this blogpost](http://madrury.github.io/jekyll/update/statistics/2017/08/12/noisy-regression.html)\n",
    "\n"
   ]
  }
 ],
 "metadata": {
  "colab": {
   "collapsed_sections": [],
   "name": "Regression & Regularization - Solution.ipynb",
   "provenance": []
  },
  "kernelspec": {
   "display_name": "Python 3 (ipykernel)",
   "language": "python",
   "name": "python3"
  },
  "language_info": {
   "codemirror_mode": {
    "name": "ipython",
    "version": 3
   },
   "file_extension": ".py",
   "mimetype": "text/x-python",
   "name": "python",
   "nbconvert_exporter": "python",
   "pygments_lexer": "ipython3",
   "version": "3.7.12"
  }
 },
 "nbformat": 4,
 "nbformat_minor": 4
}
