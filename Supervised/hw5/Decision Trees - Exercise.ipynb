{
 "cells": [
  {
   "cell_type": "markdown",
   "metadata": {
    "colab_type": "text",
    "id": "Cg047ujRBmtU"
   },
   "source": [
    "# Decision Trees Exercise\n",
    "In this exercise you will show that ID3 is sub-optimal. Implement a simple version of Decision Tree, and will then apply a Decision Tree classsifier on the MNIST hand written digits dataset that we already saw.\n"
   ]
  },
  {
   "cell_type": "markdown",
   "metadata": {
    "colab_type": "text",
    "id": "osXAmT5y4iM8"
   },
   "source": [
    "## Suboptimality of ID3\n",
    "Consider the following training set, where $\\mathcal{X} = \\{0, 1\\}^3$ and $\\mathcal{Y} =\\{0, 1\\}$:\n",
    "\n",
    "$$\n",
    "\\begin{aligned}\n",
    "((1, 1, 1), 1)\\\\\n",
    "((1, 0, 0), 1)\\\\\n",
    "((1, 1, 0), 0)\\\\\n",
    "((0, 0, 1), 0)\n",
    "\\end{aligned}\n",
    "$$\n",
    "\n",
    "Suppose we wish to use this training set in order to build a decision tree of depth 2 (i.e. for each\n",
    "input we are allowed to ask two questions of the form \"$x_i = 0$?\" before deciding on the label).\n",
    "\n",
    "1. Suppose we run the ID3 algorithm up to depth 2 (namely, we pick the root node and its\n",
    "children according to the algorithm, but instead of keeping on with the recursion, we stop\n",
    "and pick leaves according to the majority label in each subtree, once we reach depth 2). \n",
    "Assume that the subroutine used to measure the quality of each feature is based on the information gain, and that if two features get the same score, one of them is picked arbitrarily. \n",
    "Show that the training error of the resulting decision tree is at least 1/4.\n",
    "2. Find a decision tree of depth 2, which attains zero training error.\n"
   ]
  },
  {
   "cell_type": "markdown",
   "metadata": {
    "colab_type": "text",
    "id": "xC7Anlwu50XD"
   },
   "source": [
    "#### Answer\n",
    "#### 1)\n",
    "Let's calculate the information gains for each column (feature):\n",
    "\n",
    "feature 1:<br>\n",
    "$H(\\frac{1}{2})-((\\frac{3}{4})H(\\frac{2}{3})+\\frac{1}{4}H(0))\\approx 0.32$\n",
    "<br><br>"
   ]
  },
  {
   "cell_type": "code",
   "execution_count": 1,
   "metadata": {},
   "outputs": [
    {
     "data": {
      "text/plain": [
       "0.31127812445913283"
      ]
     },
     "execution_count": 1,
     "metadata": {},
     "output_type": "execute_result"
    }
   ],
   "source": [
    "import math\n",
    "-1*(1/2*math.log2(1/2)+1/2*math.log2(1/2))-(-3/4*(2/3*math.log2(2/3)+1/3*math.log2(1/3)) -1/4*(1*math.log2(1)))"
   ]
  },
  {
   "cell_type": "markdown",
   "metadata": {},
   "source": [
    "features 2 and 3:<br>\n",
    "$H(\\frac{1}{2})-((\\frac{1}{2})H(\\frac{1}{2})+\\frac{1}{2}H(\\frac{1}{2}))=0$\n",
    "<br><br>"
   ]
  },
  {
   "cell_type": "code",
   "execution_count": 2,
   "metadata": {},
   "outputs": [
    {
     "data": {
      "text/plain": [
       "0.0"
      ]
     },
     "execution_count": 2,
     "metadata": {},
     "output_type": "execute_result"
    }
   ],
   "source": [
    "-1*(1/2*math.log2(1/2)+1/2*math.log2(1/2))-(2/4*(-1/2*math.log2(1/2)-2/4*math.log2(1/2))+2/4*(-1/2*math.log2(1/2)-2/4*math.log2(1/2)))"
   ]
  },
  {
   "cell_type": "markdown",
   "metadata": {},
   "source": [
    "Since feature 1 has highest info gain the algorithm sets it as the root node. Which leaves us with 3 samples <br>\n",
    "((1, 1, 1), 1) , ((1, 0, 0), 1) , ((1, 1, 0), 0))  in one node. We won't be able to distinguish them by the remaining 3 features in one question. Therefore at least one sample  will be labeled wrong. We have 4 samples, so the training error is at least 1/4.\n",
    "#### 2)\n",
    "The answer is provided plot of the code below. It's an example tree of multiple possible answers. We can see that we have four leaves with one sample in each leafe using depth =2.  Since we have one sample per each leaf => we have determenistic solution for each sample using only two questions. Hence, no uncertainty => no error."
   ]
  },
  {
   "cell_type": "code",
   "execution_count": 3,
   "metadata": {},
   "outputs": [
    {
     "data": {
      "image/png": "[encoded data removed]",
      "text/plain": [
       "<Figure size 432x288 with 1 Axes>"
      ]
     },
     "metadata": {
      "needs_background": "light"
     },
     "output_type": "display_data"
    }
   ],
   "source": [
    "from sklearn.tree import DecisionTreeClassifier\n",
    "from sklearn import tree\n",
    "# import graphviz\n",
    "# !pip install graphviz\n",
    "dt = DecisionTreeClassifier(max_depth=2,random_state=None)\n",
    "X = [[1, 1, 1], [1, 0, 0], [1, 1, 0], [0, 0, 1]]\n",
    "Y= [1,1,0,0]\n",
    "# dt.fit(X,Y,sample_weight=[4,2,3,1])\n",
    "dt.fit(X,Y,sample_weight=[5,2,3,1])\n",
    "# dot_data = tree.export_graphviz(dt, out_file=None, max_depth=2)\n",
    "# graphviz.Source(dot_data)\n",
    "tree.plot_tree(dt);"
   ]
  },
  {
   "cell_type": "markdown",
   "metadata": {
    "colab_type": "text",
    "id": "tLXpoHg64HlD"
   },
   "source": [
    "## Implementing Decision Tree From Scratch\n",
    "In this exercise you will need to implement a simple version of Decision Tree from scratch. Your decision tree will handle **continuous input and output** (this should actually work also for binary input attributes).\n",
    "\n",
    "* Compelete the skeleton class below\n",
    "  - `X` is a matrix of data values (rows are samples, columns are attributes)\n",
    "  - `y` is a vector of corresponding target values\n",
    "  - `min_leaf` is the minimal number of samples in each leaf node\n",
    "  \n",
    "* For splitting criterion, use either **\"Train Squared Error Minimization (Reduction in Variance)\"** or **\"Train Absolute Error Minimization\"** (choose one). Whatever you choose, make sure you implement the splitting point decision efficiently (in $O(nlgn)$ time).\n",
    "\n",
    "* The `predict` function will use mean of the target values in the leaf node matching each row of the given `X`. The result is a vector of predictions matching the number of rows in `X`.\n",
    "\n",
    "* To check your decision tree implementation, use the boston dataset (`from sklearn.datasets import load_boston`) split the data set into train and test using (`from sklearn.model_selection import train_test_split`)\n",
    "\n",
    "  - Use the following to estimate what are the best hyper parameters to use for your model\n",
    "```\n",
    "    for min_leaf in [1,5,10,100]:\n",
    "      dt = DecisionTree(X, y, n, sz, min_leaf)\n",
    "      mse = # mean square error over test set\n",
    "      print(\"min_leaf:{0} --- oob mse: {1}\".format(min_leaf, mse))\n",
    "```\n",
    "  \n",
    "  - Using your chosen hyperparameters as a final model, plot the predictions vs. true values of all the samples in the training set . Use something like:\n",
    "  ```\n",
    "  y_hat = dt.predict(X_train)  # forest is the chosen model\n",
    "  plt.scatter(y_hat, y_test)\n",
    "  ```"
   ]
  },
  {
   "cell_type": "code",
   "execution_count": 4,
   "metadata": {},
   "outputs": [],
   "source": [
    "from sklearn.datasets import load_boston\n",
    "from sklearn.model_selection import train_test_split\n",
    "import pandas as pd\n",
    "import numpy as np\n",
    "import math\n",
    "import matplotlib.pyplot as plt\n",
    "import seaborn as sns\n",
    "%matplotlib inline\n",
    "\n",
    "# X, y = load_boston(return_X_y=True)\n",
    "# x_train,x_test,y_train,y_test=train_test_split(X,y,test_size=0.25)\n",
    "\n",
    "data_url = \"http://lib.stat.cmu.edu/datasets/boston\"\n",
    "raw_df = pd.read_csv(data_url, sep=\"\\s+\", skiprows=22, header=None)\n",
    "data = np.hstack([raw_df.values[::2, :], raw_df.values[1::2, :2]])\n",
    "target = raw_df.values[1::2, 2]\n",
    "x_train,x_test,y_train,y_test=train_test_split(data,target,test_size=0.25)"
   ]
  },
  {
   "cell_type": "code",
   "execution_count": 5,
   "metadata": {},
   "outputs": [
    {
     "data": {
      "text/plain": [
       "(379, 13)"
      ]
     },
     "execution_count": 5,
     "metadata": {},
     "output_type": "execute_result"
    }
   ],
   "source": [
    "x_train.shape[0],x_train.shape[1]"
   ]
  },
  {
   "cell_type": "code",
   "execution_count": null,
   "metadata": {},
   "outputs": [],
   "source": [
    "def std_agg(cnt, s1, s2): \n",
    "    return math.sqrt((s2/cnt) - (s1/cnt)**2)\n",
    "\n",
    "class DecisionTree():\n",
    "#     def __init__(self, X, y, n_trees, sample_sz, min_leaf):\n",
    "    def __init__(self, x, y, idxs,depth=10, min_leaf=5):\n",
    "        self.x, self.y, self.idxs, self.min_leaf= x, y, idxs, min_leaf\n",
    "        self.depth = depth\n",
    "        self.n, self.c = len(idxs), x.shape[1]\n",
    "        self.val = np.mean(y[idxs])\n",
    "        self.score = float('inf')\n",
    "        self.find_varsplit()\n",
    "\n",
    "    def predict(self, x):\n",
    "        return np.array([self.predict_row(xi) for xi in x])\n",
    "    \n",
    "    def predict_row(self, xi):\n",
    "        if self.is_leaf: \n",
    "            return self.val\n",
    "        t = self.lhs if xi[self.var_idx]<=self.split else self.rhs\n",
    "        return t.predict_row(xi)\n",
    "\n",
    "    def find_varsplit(self):\n",
    "            for i in range(self.x.shape[1]): \n",
    "                self.find_better_split(i)\n",
    "            if self.is_leaf: \n",
    "                return\n",
    "            x = self.split_col\n",
    "            lhs = np.nonzero(x<=self.split)[0]\n",
    "            rhs = np.nonzero(x>self.split)[0]\n",
    "            self.lhs = DecisionTree(self.x, self.y, self.idxs[lhs], depth=self.depth-1, min_leaf=self.min_leaf)\n",
    "            self.rhs = DecisionTree(self.x, self.y, self.idxs[rhs], depth=self.depth-1, min_leaf=self.min_leaf)\n",
    "\n",
    "    def find_better_split(self, var_idx):\n",
    "        x, y = self.x[self.idxs,var_idx], self.y[self.idxs]\n",
    "        sort_idx = np.argsort(x)\n",
    "        sort_y,sort_x = y[sort_idx], x[sort_idx]\n",
    "        rhs_cnt,rhs_sum,rhs_sum2 = self.n, sort_y.sum(), (sort_y**2).sum()\n",
    "        lhs_cnt,lhs_sum,lhs_sum2 = 0,0.,0.\n",
    "\n",
    "        for i in range(0,self.n-self.min_leaf-1):\n",
    "            xi,yi = sort_x[i],sort_y[i]\n",
    "            lhs_cnt += 1; rhs_cnt -= 1\n",
    "            lhs_sum += yi; rhs_sum -= yi\n",
    "            lhs_sum2 += yi**2; rhs_sum2 -= yi**2\n",
    "            if i<self.min_leaf or xi==sort_x[i+1]:\n",
    "                continue\n",
    "\n",
    "            lhs_std = std_agg(lhs_cnt, lhs_sum, lhs_sum2)\n",
    "            rhs_std = std_agg(rhs_cnt, rhs_sum, rhs_sum2)\n",
    "            curr_score = lhs_std*lhs_cnt + rhs_std*rhs_cnt\n",
    "            if curr_score<self.score: \n",
    "                self.var_idx,self.score,self.split = var_idx,curr_score,xi\n",
    "    \n",
    "\n",
    "\n",
    "    @property\n",
    "    def split_name(self): return self.x.columns[self.var_idx]\n",
    "\n",
    "    @property\n",
    "    def split_col(self): return self.x[self.idxs,self.var_idx]\n",
    "\n",
    "    @property\n",
    "    def is_leaf(self): return self.score == float('inf') or self.depth <= 0 "
   ]
  },
  {
   "cell_type": "code",
   "execution_count": 7,
   "metadata": {},
   "outputs": [
    {
     "name": "stdout",
     "output_type": "stream",
     "text": [
      "min_leaf:1 --- oob mse: 59.53819502735702\n",
      "min_leaf:5 --- oob mse: 24.388403529948658\n",
      "min_leaf:10 --- oob mse: 24.028467357850314\n",
      "min_leaf:100 --- oob mse: 24.028467357850314\n"
     ]
    }
   ],
   "source": [
    "from sklearn.metrics import mean_squared_error\n",
    "\n",
    "for min_leaf in [1,5,10,100]:\n",
    "    dt = DecisionTree(x_train, y_train, np.array(range(x_train.shape[0])), min_leaf)\n",
    "    y_pred = dt.predict(x_test)\n",
    "    mse = mean_squared_error(y_test, y_pred)\n",
    "    print(\"min_leaf:{0} --- oob mse: {1}\".format(min_leaf, mse))"
   ]
  },
  {
   "cell_type": "markdown",
   "metadata": {},
   "source": [
    "#### Answer\n",
    "We can see the minimal mse is for min_leaf = 5 "
   ]
  },
  {
   "cell_type": "code",
   "execution_count": 8,
   "metadata": {},
   "outputs": [
    {
     "data": {
      "text/plain": [
       "<matplotlib.collections.PathCollection at 0x2644d20c608>"
      ]
     },
     "execution_count": 8,
     "metadata": {},
     "output_type": "execute_result"
    },
    {
     "data": {
      "image/png": "[encoded data removed]",
      "text/plain": [
       "<Figure size 432x288 with 1 Axes>"
      ]
     },
     "metadata": {
      "needs_background": "light"
     },
     "output_type": "display_data"
    }
   ],
   "source": [
    "min_leaf = 5\n",
    "dt = DecisionTree(x_train, y_train,  np.array(range(x_train.shape[0])), min_leaf)\n",
    "y_hat = dt.predict(x_test)  \n",
    "plt.scatter(y_hat, y_test)"
   ]
  },
  {
   "cell_type": "markdown",
   "metadata": {
    "colab_type": "text",
    "id": "TF5TjNuvTKof"
   },
   "source": [
    "## Using Decision Tree for Digits Classification\n",
    "Remeber the MNIST dataset used - you will now test the power of decision trees on this problem.\n",
    "This time you are given a free hand in choosing the test and train set sizes, model parameters (such as gain function and constraints over the trees) and features (whether to use binary pixel values or the original continous gray value).\n",
    "- Choose which model parameters you wish to optimize, explain how would you do that, and find a model which you believe would have the minimal generalization error --- do this for both a single decision tree model, and a random forest.\n",
    "  - You can use `sklearn.tree.DecisionTreeClassifier`\n",
    "- Once you are satisfied with the model parameters, plot the importance of each of the pixels to the final decision.\n",
    "- Last, estimate the class assignment probabilities for all the correctly classified and misclassified examples in your test data.\n",
    "- Discuss your results."
   ]
  },
  {
   "cell_type": "code",
   "execution_count": 9,
   "metadata": {
    "colab": {},
    "colab_type": "code",
    "id": "8-k9WpIV_n7Y",
    "pycharm": {
     "name": "#%%\n"
    }
   },
   "outputs": [
    {
     "data": {
      "text/plain": [
       "dict_keys(['data', 'target', 'frame', 'feature_names', 'target_names', 'images', 'DESCR'])"
      ]
     },
     "execution_count": 9,
     "metadata": {},
     "output_type": "execute_result"
    }
   ],
   "source": [
    "# code and answer go here\n",
    "from sklearn.datasets import load_digits\n",
    "import pandas as pd\n",
    "import matplotlib.pyplot as plt\n",
    "from sklearn.datasets import fetch_openml\n",
    "from sklearn.model_selection import train_test_split\n",
    "import numpy as np\n",
    "\n",
    "%matplotlib inline\n",
    "mnist = load_digits()\n",
    "mnist.keys()"
   ]
  },
  {
   "cell_type": "code",
   "execution_count": 10,
   "metadata": {},
   "outputs": [],
   "source": [
    "# plt.imshow(mnist.images[0]);\n",
    "# mnist['data'].shape, mnist['feature_names'], mnist['target_names']"
   ]
  },
  {
   "cell_type": "code",
   "execution_count": 11,
   "metadata": {},
   "outputs": [
    {
     "data": {
      "image/png": "[encoded data removed]",
      "text/plain": [
       "<Figure size 1152x432 with 20 Axes>"
      ]
     },
     "metadata": {
      "needs_background": "light"
     },
     "output_type": "display_data"
    }
   ],
   "source": [
    "fig, axes = plt.subplots(2, 10, figsize=(16, 6))\n",
    "for i in range(20):\n",
    "    axes[i//10, i %10].imshow(mnist.images[i], cmap='gray');\n",
    "    axes[i//10, i %10].axis('off')\n",
    "    axes[i//10, i %10].set_title(f\"target: {mnist.target[i]}\")\n",
    "    \n",
    "plt.tight_layout()"
   ]
  },
  {
   "cell_type": "markdown",
   "metadata": {},
   "source": [
    "## RandomForestClassifier:"
   ]
  },
  {
   "cell_type": "code",
   "execution_count": 12,
   "metadata": {},
   "outputs": [
    {
     "name": "stdout",
     "output_type": "stream",
     "text": [
      "max_depth:1 --- mse: 4.680933852140078\n",
      "max_depth:5 --- mse: 2.124513618677043\n",
      "max_depth:10 --- mse: 0.5175097276264592\n",
      "max_depth:100 --- mse: 0.603112840466926\n"
     ]
    }
   ],
   "source": [
    "from sklearn.model_selection import train_test_split\n",
    "from sklearn.ensemble import RandomForestClassifier\n",
    "from sklearn import metrics\n",
    "from sklearn.metrics import confusion_matrix\n",
    "from sklearn.metrics import accuracy_score\n",
    "\n",
    "def acc(y_true : np.ndarray, y_pred : np.ndarray) -> float:\n",
    "    return round(accuracy_score(y_true, y_pred) * 100, 2)\n",
    "\n",
    "Xtrain, Xtest, ytrain, ytest = train_test_split(mnist.data, mnist.target, test_size=1/7)\n",
    "\n",
    "\n",
    "# print(metrics.classification_report(ypred, ytest))\n",
    "\n",
    "# mat = confusion_matrix(ytest, ypred)\n",
    "# sns.heatmap(mat.T, square=True, annot=True, fmt='d', cbar=False)\n",
    "# plt.xlabel('true label')\n",
    "# plt.ylabel('predicted label');\n",
    "\n",
    "for max_depth in [1,5,10,100]:\n",
    "    RF_model = RandomForestClassifier(max_depth = max_depth)\n",
    "    RF_model.fit(Xtrain, ytrain)\n",
    "    test_pred = RF_model.predict(Xtest)\n",
    "    mse = mean_squared_error(ytest, test_pred)\n",
    "    print(\"max_depth:{0} --- mse: {1}\".format(max_depth, mse))"
   ]
  },
  {
   "cell_type": "markdown",
   "metadata": {},
   "source": [
    "#### Answer\n",
    "After running the loop multiple times we can see the minimal mse is sometimes at max_depth = 10 and sometimes at max_depth = 100. But it's not significantly different. So we can take the lower value for depth => max_depth = 10 because it's less complex to build such tree. Therefore we'll use max_depth = 10 for the plots below."
   ]
  },
  {
   "cell_type": "code",
   "execution_count": 13,
   "metadata": {},
   "outputs": [
    {
     "name": "stdout",
     "output_type": "stream",
     "text": [
      "Training accuracy: 100.0%\n",
      "Validation accuracy: 97.28%\n",
      "RandomForest - Probability for correctly classified examples in test data: 0.9727626459143969\n",
      "RandomForest - Probability for  misClassified examples in test data: 0.027237354085603113\n"
     ]
    },
    {
     "data": {
      "image/png": "[encoded data removed]",
      "text/plain": [
       "<Figure size 432x288 with 1 Axes>"
      ]
     },
     "metadata": {
      "needs_background": "light"
     },
     "output_type": "display_data"
    },
    {
     "data": {
      "image/png": "[encoded data removed]",
      "text/plain": [
       "<Figure size 288x288 with 2 Axes>"
      ]
     },
     "metadata": {
      "needs_background": "light"
     },
     "output_type": "display_data"
    }
   ],
   "source": [
    "RF_model = RandomForestClassifier(max_depth = 10)\n",
    "RF_model.fit(Xtrain, ytrain)\n",
    "train_pred = RF_model.predict(Xtrain)\n",
    "test_pred = RF_model.predict(Xtest)\n",
    "\n",
    "acc_train = acc(train_pred, ytrain)\n",
    "acc_val = acc(test_pred, ytest)\n",
    "print(f'Training accuracy: {acc_train}%')\n",
    "print(f'Validation accuracy: {acc_val}%')\n",
    "\n",
    "feat_importances = pd.Series(RF_model.feature_importances_)\n",
    "feat_importances.nlargest(20).plot(kind='barh')\n",
    "# plt.show()\n",
    "\n",
    "img_shape = mnist.images[0].shape\n",
    "imp_reshaped = RF_model.feature_importances_.reshape(img_shape)\n",
    "plt.matshow(imp_reshaped, cmap=plt.cm.hot)\n",
    "plt.title(\"Pixel importances using impurity values\",size=16, y=1.2)\n",
    "plt.colorbar()\n",
    "# plt.show()\n",
    "\n",
    "prob_correct = Xtest[test_pred== ytest].shape[0]/Xtest.shape[0]\n",
    "prob_incorrect = Xtest[test_pred!= ytest].shape[0]/Xtest.shape[0]\n",
    "print(f'RandomForest - Probability for correctly classified examples in test data: {prob_correct}')\n",
    "print(f'RandomForest - Probability for  misClassified examples in test data: {prob_incorrect}')"
   ]
  },
  {
   "cell_type": "markdown",
   "metadata": {},
   "source": [
    "## DecisionTreeClassifier:"
   ]
  },
  {
   "cell_type": "code",
   "execution_count": 14,
   "metadata": {},
   "outputs": [
    {
     "name": "stdout",
     "output_type": "stream",
     "text": [
      "max_depth:1 --- mse: 7.891050583657588\n",
      "max_depth:5 --- mse: 10.284046692607005\n",
      "max_depth:10 --- mse: 3.9105058365758754\n",
      "max_depth:100 --- mse: 4.416342412451362\n"
     ]
    }
   ],
   "source": [
    "for max_depth in [1,5,10,100]:\n",
    "    DT_clf = DecisionTreeClassifier(max_depth = max_depth)\n",
    "    DT_clf.fit(Xtrain, ytrain)\n",
    "    test_pred = DT_clf.predict(Xtest)\n",
    "    mse = mean_squared_error(ytest, test_pred)\n",
    "    print(\"max_depth:{0} --- mse: {1}\".format(max_depth, mse))"
   ]
  },
  {
   "cell_type": "markdown",
   "metadata": {},
   "source": [
    "#### Answer\n",
    "After running the loop multiple times we can see the minimal mse is sometimes at max_depth = 10 and sometimes at max_depth = 100. But it's not significantly different. So we can take the lower value for depth => max_depth = 10 because it's less complex to build such tree. Therefore we'll use max_depth = 10 for the plots below."
   ]
  },
  {
   "cell_type": "code",
   "execution_count": 15,
   "metadata": {},
   "outputs": [
    {
     "name": "stdout",
     "output_type": "stream",
     "text": [
      "Training accuracy: 97.27%\n",
      "Validation accuracy: 82.1%\n"
     ]
    },
    {
     "data": {
      "image/png": "[encoded data removed]",
      "text/plain": [
       "<Figure size 432x288 with 1 Axes>"
      ]
     },
     "metadata": {
      "needs_background": "light"
     },
     "output_type": "display_data"
    },
    {
     "name": "stdout",
     "output_type": "stream",
     "text": [
      "DecisionTRee - Probability for correctly classified examples in test data: 0.8210116731517509\n",
      "DecisionTRee - Probability for  misClassified examples in test data: 0.17898832684824903\n"
     ]
    },
    {
     "data": {
      "image/png": "[encoded data removed]",
      "text/plain": [
       "<Figure size 288x288 with 2 Axes>"
      ]
     },
     "metadata": {
      "needs_background": "light"
     },
     "output_type": "display_data"
    }
   ],
   "source": [
    "DT_clf = DecisionTreeClassifier(max_depth=10)\n",
    "DT_clf.fit(Xtrain, ytrain)\n",
    "train_pred= DT_clf.predict(Xtrain)\n",
    "test_pred= DT_clf.predict(Xtest)\n",
    "acc_train = acc(train_pred, ytrain)\n",
    "acc_val = acc(test_pred, ytest)\n",
    "print(f'Training accuracy: {acc_train}%')\n",
    "print(f'Validation accuracy: {acc_val}%')\n",
    "\n",
    "# print(metrics.classification_report(test_pred, ytest))\n",
    "\n",
    "feat_importances = pd.Series(DT_clf.feature_importances_)\n",
    "feat_importances.nlargest(20).plot(kind='barh')\n",
    "plt.show()\n",
    "\n",
    "img_shape = mnist.images[0].shape\n",
    "imp_reshaped = DT_clf.feature_importances_.reshape(img_shape)\n",
    "plt.matshow(imp_reshaped, cmap=plt.cm.hot)\n",
    "plt.title(\"Pixel importances using impurity values\")\n",
    "plt.colorbar()\n",
    "# plt.show()\n",
    "\n",
    "prob_correct = Xtest[test_pred== ytest].shape[0]/Xtest.shape[0]\n",
    "prob_incorrect = Xtest[test_pred!= ytest].shape[0]/Xtest.shape[0]\n",
    "print(f'DecisionTRee - Probability for correctly classified examples in test data: {prob_correct}')\n",
    "print(f'DecisionTRee - Probability for  misClassified examples in test data: {prob_incorrect}')"
   ]
  },
  {
   "cell_type": "markdown",
   "metadata": {},
   "source": [
    "### Summary\n",
    "We see that RandomForestClassifier yields significantly more acurate results than DecisionTReeClassifier. It was expected because RF algorithm executes bootstraping, i.e., combining the results of multiple Decision Trees and optimizes them."
   ]
  }
 ],
 "metadata": {
  "colab": {
   "collapsed_sections": [],
   "name": "Decision Trees - Exercise.ipynb",
   "provenance": []
  },
  "kernelspec": {
   "display_name": "Python 3 (ipykernel)",
   "language": "python",
   "name": "python3"
  },
  "language_info": {
   "codemirror_mode": {
    "name": "ipython",
    "version": 3
   },
   "file_extension": ".py",
   "mimetype": "text/x-python",
   "name": "python",
   "nbconvert_exporter": "python",
   "pygments_lexer": "ipython3",
   "version": "3.7.12"
  }
 },
 "nbformat": 4,
 "nbformat_minor": 4
}
